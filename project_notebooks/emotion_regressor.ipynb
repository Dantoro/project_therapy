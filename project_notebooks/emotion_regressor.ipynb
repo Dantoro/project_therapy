{
 "cells": [
  {
   "cell_type": "markdown",
   "id": "a2a92543",
   "metadata": {},
   "source": [
    "# Setup"
   ]
  },
  {
   "cell_type": "code",
   "execution_count": 16,
   "id": "3d34d43b",
   "metadata": {},
   "outputs": [
    {
     "name": "stdout",
     "output_type": "stream",
     "text": [
      "Using device: mps\n"
     ]
    }
   ],
   "source": [
    "# Hardware-aware device selection\n",
    "import torch\n",
    "\n",
    "def get_device() -> str:\n",
    "    \"\"\"\n",
    "    Returns the optimal device string for running PyTorch models, prioritizing CUDA (NVIDIA GPUs),\n",
    "    Apple Silicon MPS (Metal), and falling back to CPU. Optionally checks for AMD ROCm/HIP.\n",
    "\n",
    "    Returns\n",
    "    ----------\n",
    "    - device: str\n",
    "        Name of the device to use: \"cuda\", \"mps\", \"cpu\", or \"hip\".\n",
    "\n",
    "    Notes\n",
    "    ----------\n",
    "    - On NVIDIA GPUs, \"cuda\" is used for hardware acceleration.\n",
    "    - On Apple Silicon, \"mps\" uses Metal Performance Shaders, providing hardware acceleration.\n",
    "    - On AMD, \"hip\" (ROCm) may be available, but this is uncommon.\n",
    "    - If no GPU is available, it defaults to \"cpu\".\n",
    "    Raises\n",
    "    ----------\n",
    "    - None\n",
    "    \"\"\"\n",
    "    # Check for CUDA (NVIDIA GPUs)\n",
    "    if torch.cuda.is_available():\n",
    "        return \"cuda\"\n",
    "    # or MPS (Apple Silicon)\n",
    "    if hasattr(torch.backends, \"mps\") and torch.backends.mps.is_available():\n",
    "        return \"mps\"\n",
    "    # or ROCm (AMD)\n",
    "    if hasattr(torch.version, \"hip\") and torch.version.hip is not None:\n",
    "        return \"hip\"\n",
    "    # Fallback to CPU\n",
    "    return \"cpu\"\n",
    "\n",
    "device = get_device()\n",
    "print(f\"Using device: {device}\")\n"
   ]
  },
  {
   "cell_type": "markdown",
   "id": "53fb9c56",
   "metadata": {},
   "source": [
    "# Building the emotionRegressor"
   ]
  },
  {
   "cell_type": "markdown",
   "id": "2560b320",
   "metadata": {},
   "source": [
    "This class loads both transformers, runs inference, and outputs the 35d mood vector for a single input string. Handles device placement and memory cleanup.\n"
   ]
  },
  {
   "cell_type": "code",
   "execution_count": 17,
   "id": "9b2457dd",
   "metadata": {},
   "outputs": [],
   "source": [
    "from transformers import AutoTokenizer, AutoModelForSequenceClassification\n",
    "import numpy as np\n",
    "\n",
    "class EmotionRegressor:\n",
    "    \"\"\"\n",
    "    Loads and manages two transformer models for emotional analysis, producing a 35-dimensional mood vector for a given text input.\n",
    "    \n",
    "    Models:\n",
    "    ----------\n",
    "    - SamLowe/roberta-base-go_emotions: Predicts confidence scores for 28 discrete emotions (GoEmotions).\n",
    "    - j-hartmann/emotion-english-roberta-large: Predicts confidence scores for 7 Ekman emotion categories.\n",
    "\n",
    "    Parameters\n",
    "    ----------\n",
    "    - individual_emotion_model_name: str\n",
    "        HuggingFace model name for the 28d emotion regressor (default: \"SamLowe/roberta-base-go_emotions\").\n",
    "    - ekman_category_model_name: str\n",
    "        HuggingFace model name for the 7d Ekman regressor (default: \"j-hartmann/emotion-english-roberta-large\").\n",
    "    - device: str or None\n",
    "        Device to use for inference (\"cuda\", \"mps\", \"cpu\", etc). If None, selects best available.\n",
    "\n",
    "    Methods\n",
    "    -------\n",
    "    - predict(text: str) -> np.ndarray\n",
    "        Returns a 35d mood vector for a given text.\n",
    "    - cleanup() -> None\n",
    "        Frees model memory for safe re-initialization.\n",
    "    \"\"\"\n",
    "    def __init__(self,\n",
    "                 individual_emotion_model_name: str = \"SamLowe/roberta-base-go_emotions\",\n",
    "                 ekman_category_model_name: str = \"j-hartmann/emotion-english-roberta-large\",\n",
    "                 device: str = None):\n",
    "        \"\"\"\n",
    "        Initialize the EmotionRegressor and load both models on the appropriate device.\n",
    "\n",
    "        Parameters\n",
    "        ----------\n",
    "        - individual_emotion_model_name: str\n",
    "            Name or path for the 28-emotion model.\n",
    "        - ekman_category_model_name: str\n",
    "            Name or path for the 7-Ekman-category model.\n",
    "        - device: str or None\n",
    "            Device for inference.\n",
    "\n",
    "        Returns\n",
    "        -------\n",
    "        - None\n",
    "\n",
    "        Raises\n",
    "        -------\n",
    "        - RuntimeError: if model loading fails or device is invalid.\n",
    "        \"\"\"\n",
    "        # Load SamLowe model for individual emotions\n",
    "        self.device = device or get_device()\n",
    "        self.individual_emotion_tokenizer = AutoTokenizer.from_pretrained(individual_emotion_model_name)\n",
    "        self.individual_emotion_model = AutoModelForSequenceClassification.from_pretrained(individual_emotion_model_name).to(self.device)\n",
    "        self.individual_emotion_model.eval()\n",
    "        \n",
    "        # Load hartmann model for Ekman categories\n",
    "        self.ekman_category_tokenizer = AutoTokenizer.from_pretrained(ekman_category_model_name)\n",
    "        self.ekman_category_model = AutoModelForSequenceClassification.from_pretrained(ekman_category_model_name).to(self.device)\n",
    "        self.ekman_category_model.eval()\n",
    "\n",
    "    def predict(self, text: str) -> np.ndarray:\n",
    "        \"\"\"\n",
    "        Generates a 35-dimensional mood vector for the given input text.\n",
    "\n",
    "        Parameters\n",
    "        ----------\n",
    "        - text: str\n",
    "            The text to analyze for emotion content.\n",
    "\n",
    "        Returns\n",
    "        -------\n",
    "        - mood_vector: np.ndarray, shape (35,)\n",
    "            Concatenated vector: [28d GoEmotions scores] + [7d Ekman scores]\n",
    "\n",
    "        Raises\n",
    "        -------\n",
    "        - ValueError: if the text input is empty or not a string.\n",
    "        - RuntimeError: if inference fails due to hardware or model issues.\n",
    "        \"\"\"\n",
    "        # Validate input\n",
    "        if not isinstance(text, str) or not text.strip():\n",
    "            raise ValueError(\"Input text must be a non-empty string.\")\n",
    "        \n",
    "        # Lowe model output (28d)\n",
    "        inputs = self.individual_emotion_tokenizer(text, return_tensors='pt', truncation=True, padding=True).to(self.device)\n",
    "        with torch.no_grad():\n",
    "            individual_emotion_logits = self.individual_emotion_model(**inputs).logits\n",
    "            individual_emotion_probs = torch.sigmoid(individual_emotion_logits).cpu().numpy().flatten()  # (28,)\n",
    "            \n",
    "        # Hartmann model output (7d)\n",
    "        inputs = self.ekman_category_tokenizer(text, return_tensors='pt', truncation=True, padding=True).to(self.device)\n",
    "        with torch.no_grad():\n",
    "            ekman_category_logits = self.ekman_category_model(**inputs).logits\n",
    "            ekman_category_probs = torch.sigmoid(ekman_category_logits).cpu().numpy().flatten()  # (7,)\n",
    "            \n",
    "        # Combine into 35d vector\n",
    "        mood_vector = np.concatenate([individual_emotion_probs, ekman_category_probs])\n",
    "        return mood_vector\n",
    "\n",
    "    def cleanup(self) -> None:\n",
    "        \"\"\"\n",
    "        Releases GPU/CPU memory by deleting model weights.\n",
    "\n",
    "        Returns\n",
    "        -------\n",
    "        - None\n",
    "        \"\"\"\n",
    "        # Delete models to free memory\n",
    "        del self.individual_emotion_model, self.ekman_category_model\n",
    "        import gc\n",
    "        # Run garbage collection to free up memory\n",
    "        gc.collect()\n",
    "        # Clear CUDA cache if using GPU\n",
    "        if self.device == \"cuda\":\n",
    "            import torch\n",
    "            torch.cuda.empty_cache()\n"
   ]
  },
  {
   "cell_type": "markdown",
   "id": "74268e84",
   "metadata": {},
   "source": [
    "# Demo of 35-dimensional mood_vector"
   ]
  },
  {
   "cell_type": "markdown",
   "id": "0520cad1",
   "metadata": {},
   "source": [
    "## Hard-coded example"
   ]
  },
  {
   "cell_type": "code",
   "execution_count": 18,
   "id": "7c65ef4f",
   "metadata": {},
   "outputs": [
    {
     "name": "stdout",
     "output_type": "stream",
     "text": [
      "35d mood_vector: [0.00326003 0.00309266 0.00642972 0.06645694 0.01301785 0.00869486\n",
      " 0.00228629 0.00404051 0.56660634 0.2125662  0.02513171 0.01049308\n",
      " 0.00295363 0.00560903 0.00179183 0.00208721 0.00450544 0.01198612\n",
      " 0.00578792 0.00637367 0.0129275  0.00123158 0.01425911 0.00374252\n",
      " 0.00773545 0.18360835 0.00220227 0.07846191 0.4080965  0.24985977\n",
      " 0.27866238 0.210173   0.69552344 0.973397   0.29766074]\n",
      "Shape: (35,)\n"
     ]
    }
   ],
   "source": [
    "# Initialize and demo\n",
    "emotion_regressor = EmotionRegressor(device=device)\n",
    "sample_text = \"I'm exhausted and nothing feels worth it. I just want to sleep and not think about school.\"\n",
    "mood_vector = emotion_regressor.predict(sample_text)\n",
    "print(\"35d mood_vector:\", mood_vector)\n",
    "print(\"Shape:\", mood_vector.shape)\n",
    "emotion_regressor.cleanup()\n"
   ]
  },
  {
   "cell_type": "markdown",
   "id": "52c60a54",
   "metadata": {},
   "source": [
    "## Live-user example (doesn't work)"
   ]
  },
  {
   "cell_type": "code",
   "execution_count": 19,
   "id": "b098937c",
   "metadata": {},
   "outputs": [],
   "source": [
    "# while True:\n",
    "#     user_input = input(\"Enter text (or 'quit'): \")\n",
    "#     if user_input.lower() == \"quit\":\n",
    "#         break\n",
    "#     mood_vector = emotion_regressor.predict(user_input)\n",
    "#     print(\"35d mood_vector:\", mood_vector)\n"
   ]
  },
  {
   "cell_type": "markdown",
   "id": "284bb5f1",
   "metadata": {},
   "source": [
    "## Tinkering with output display format"
   ]
  },
  {
   "cell_type": "code",
   "execution_count": 20,
   "id": "83dfc1bf",
   "metadata": {},
   "outputs": [
    {
     "name": "stdout",
     "output_type": "stream",
     "text": [
      "                confidence\n",
      "admiration        0.003260\n",
      "amusement         0.003093\n",
      "anger             0.006430\n",
      "annoyance         0.066457\n",
      "approval          0.013018\n",
      "caring            0.008695\n",
      "confusion         0.002286\n",
      "curiosity         0.004041\n",
      "desire            0.566606\n",
      "disappointment    0.212566\n",
      "disapproval       0.025132\n",
      "disgust           0.010493\n",
      "embarrassment     0.002954\n",
      "excitement        0.005609\n",
      "fear              0.001792\n",
      "gratitude         0.002087\n",
      "grief             0.004505\n",
      "joy               0.011986\n",
      "love              0.005788\n",
      "nervousness       0.006374\n",
      "optimism          0.012927\n",
      "pride             0.001232\n",
      "realization       0.014259\n",
      "relief            0.003743\n",
      "remorse           0.007735\n",
      "sadness           0.183608\n",
      "surprise          0.002202\n",
      "neutral           0.078462\n",
      "ekman_anger       0.408096\n",
      "ekman_disgust     0.249860\n",
      "ekman_fear        0.278662\n",
      "ekman_joy         0.210173\n",
      "ekman_neutral     0.695523\n",
      "ekman_sadness     0.973397\n",
      "ekman_surprise    0.297661\n"
     ]
    }
   ],
   "source": [
    "import pandas as pd\n",
    "\n",
    "# These should be the order of the GoEmotions and Ekman categories used by your models\n",
    "GOEMOTIONS_LABELS = [\n",
    "    'admiration', 'amusement', 'anger', 'annoyance', 'approval', 'caring', 'confusion', 'curiosity', 'desire', 'disappointment',\n",
    "    'disapproval', 'disgust', 'embarrassment', 'excitement', 'fear', 'gratitude', 'grief', 'joy', 'love', 'nervousness',\n",
    "    'optimism', 'pride', 'realization', 'relief', 'remorse', 'sadness', 'surprise', 'neutral'\n",
    "]\n",
    "EKMAN_LABELS = ['anger', 'disgust', 'fear', 'joy', 'neutral', 'sadness', 'surprise']\n",
    "\n",
    "def pretty_print_mood_vector(mood_vector):\n",
    "    \"\"\"\n",
    "    Prints the 35d mood vector in a readable format using pandas DataFrame.\n",
    "    \"\"\"\n",
    "    if len(mood_vector) != 35:\n",
    "        raise ValueError(\"Mood vector must be length 35\")\n",
    "    data = {**{f\"{e}\": v for e, v in zip(GOEMOTIONS_LABELS, mood_vector[:28])},\n",
    "            **{f\"ekman_{e}\": v for e, v in zip(EKMAN_LABELS, mood_vector[28:])}}\n",
    "    df = pd.DataFrame([data])\n",
    "    print(df.T.rename(columns={0: 'confidence'}))  # .T to flip to (label, value) per row\n",
    "\n",
    "# Usage\n",
    "pretty_print_mood_vector(mood_vector)\n"
   ]
  },
  {
   "cell_type": "markdown",
   "id": "ce8b10c0",
   "metadata": {},
   "source": [
    "# attempt 2 at live-use"
   ]
  },
  {
   "cell_type": "code",
   "execution_count": 21,
   "id": "30b7dc80",
   "metadata": {},
   "outputs": [],
   "source": [
    "# # Prompt user for input\n",
    "# user_text = input(\"Enter a sentence to analyze emotion: \")\n",
    "\n",
    "# # Preprocess and run the emotion regressor as you would in your pipeline\n",
    "# # For example:\n",
    "# # processed = preprocess(user_text)\n",
    "# # pred = model(processed)\n",
    "# # But this will depend on your actual pipeline code\n",
    "\n",
    "# # Replace 'predict_emotion' with whatever function or method you use to predict\n",
    "# result = predict_emotion(user_text)  # <- your existing function\n",
    "# print(\"Emotion scores:\", result)\n"
   ]
  },
  {
   "cell_type": "markdown",
   "id": "e7bca9fa",
   "metadata": {},
   "source": [
    "# attempt 3 at live use (single-input)"
   ]
  },
  {
   "cell_type": "code",
   "execution_count": null,
   "id": "63038381",
   "metadata": {},
   "outputs": [],
   "source": [
    "emotion_regressor = EmotionRegressor(device=device)\n",
    "user_input = input(\"Enter text: \")\n",
    "mood_vector = emotion_regressor.predict(user_input)\n"
   ]
  },
  {
   "cell_type": "code",
   "execution_count": 26,
   "id": "68e72c9d",
   "metadata": {},
   "outputs": [
    {
     "name": "stdout",
     "output_type": "stream",
     "text": [
      "i MAY have finally figured this out. it probably isn't going to work, it never does. but maybe, just maybe we might make some progress\n"
     ]
    }
   ],
   "source": [
    "\n",
    "print(user_input)"
   ]
  },
  {
   "cell_type": "code",
   "execution_count": 24,
   "id": "010f1a09",
   "metadata": {},
   "outputs": [
    {
     "name": "stdout",
     "output_type": "stream",
     "text": [
      "                confidence\n",
      "admiration        0.005581\n",
      "amusement         0.001743\n",
      "anger             0.001476\n",
      "annoyance         0.016229\n",
      "approval          0.055112\n",
      "caring            0.005649\n",
      "confusion         0.078777\n",
      "curiosity         0.005919\n",
      "desire            0.075906\n",
      "disappointment    0.093595\n",
      "disapproval       0.030504\n",
      "disgust           0.001945\n",
      "embarrassment     0.001855\n",
      "excitement        0.003814\n",
      "fear              0.003635\n",
      "gratitude         0.001750\n",
      "grief             0.000980\n",
      "joy               0.005191\n",
      "love              0.002745\n",
      "nervousness       0.004616\n",
      "optimism          0.670809\n",
      "pride             0.001413\n",
      "realization       0.086809\n",
      "relief            0.002804\n",
      "remorse           0.003152\n",
      "sadness           0.005043\n",
      "surprise          0.004132\n",
      "neutral           0.147067\n",
      "ekman_anger       0.220323\n",
      "ekman_disgust     0.026956\n",
      "ekman_fear        0.315277\n",
      "ekman_joy         0.665933\n",
      "ekman_neutral     0.892251\n",
      "ekman_sadness     0.710420\n",
      "ekman_surprise    0.876877\n"
     ]
    }
   ],
   "source": [
    "pretty_print_mood_vector(mood_vector)\n"
   ]
  },
  {
   "cell_type": "code",
   "execution_count": 27,
   "id": "8d3af861",
   "metadata": {},
   "outputs": [
    {
     "name": "stdout",
     "output_type": "stream",
     "text": [
      "[0.00558061 0.00174305 0.00147633 0.01622912 0.05511187 0.00564944\n",
      " 0.07877744 0.00591917 0.07590605 0.09359536 0.03050382 0.0019449\n",
      " 0.00185502 0.00381371 0.00363517 0.00175045 0.00098024 0.00519138\n",
      " 0.0027446  0.00461625 0.6708089  0.0014134  0.08680949 0.00280388\n",
      " 0.00315243 0.00504341 0.00413214 0.14706708 0.22032277 0.02695568\n",
      " 0.31527734 0.66593313 0.89225143 0.71041965 0.8768775 ]\n"
     ]
    }
   ],
   "source": [
    "print(mood_vector)"
   ]
  },
  {
   "cell_type": "markdown",
   "id": "a1015108",
   "metadata": {},
   "source": [
    "# attempt 4 at live use (multi-input)"
   ]
  },
  {
   "cell_type": "code",
   "execution_count": 28,
   "id": "561866c1",
   "metadata": {},
   "outputs": [
    {
     "name": "stdout",
     "output_type": "stream",
     "text": [
      "                confidence\n",
      "admiration        0.002158\n",
      "amusement         0.002357\n",
      "anger             0.023674\n",
      "annoyance         0.101695\n",
      "approval          0.011748\n",
      "caring            0.004046\n",
      "confusion         0.004121\n",
      "curiosity         0.001329\n",
      "desire            0.001750\n",
      "disappointment    0.045169\n",
      "disapproval       0.829912\n",
      "disgust           0.007823\n",
      "embarrassment     0.002682\n",
      "excitement        0.001749\n",
      "fear              0.001828\n",
      "gratitude         0.002869\n",
      "grief             0.000682\n",
      "joy               0.002302\n",
      "love              0.001580\n",
      "nervousness       0.000829\n",
      "optimism          0.005230\n",
      "pride             0.000443\n",
      "realization       0.011552\n",
      "relief            0.001137\n",
      "remorse           0.001295\n",
      "sadness           0.008254\n",
      "surprise          0.004164\n",
      "neutral           0.100760\n",
      "ekman_anger       0.653954\n",
      "ekman_disgust     0.552545\n",
      "ekman_fear        0.312908\n",
      "ekman_joy         0.076213\n",
      "ekman_neutral     0.410780\n",
      "ekman_sadness     0.827198\n",
      "ekman_surprise    0.494735\n",
      "                confidence\n",
      "admiration        0.020947\n",
      "amusement         0.006161\n",
      "anger             0.001165\n",
      "annoyance         0.004915\n",
      "approval          0.300861\n",
      "caring            0.001419\n",
      "confusion         0.003668\n",
      "curiosity         0.004300\n",
      "desire            0.002380\n",
      "disappointment    0.001882\n",
      "disapproval       0.001960\n",
      "disgust           0.001171\n",
      "embarrassment     0.001220\n",
      "excitement        0.216354\n",
      "fear              0.002020\n",
      "gratitude         0.003241\n",
      "grief             0.000621\n",
      "joy               0.047830\n",
      "love              0.001394\n",
      "nervousness       0.001921\n",
      "optimism          0.009541\n",
      "pride             0.006470\n",
      "realization       0.060362\n",
      "relief            0.008309\n",
      "remorse           0.000304\n",
      "sadness           0.000876\n",
      "surprise          0.030018\n",
      "neutral           0.285802\n",
      "ekman_anger       0.385147\n",
      "ekman_disgust     0.075198\n",
      "ekman_fear        0.201213\n",
      "ekman_joy         0.358287\n",
      "ekman_neutral     0.856263\n",
      "ekman_sadness     0.296847\n",
      "ekman_surprise    0.950734\n",
      "                confidence\n",
      "admiration        0.002168\n",
      "amusement         0.002125\n",
      "anger             0.008979\n",
      "annoyance         0.074910\n",
      "approval          0.027061\n",
      "caring            0.003342\n",
      "confusion         0.007719\n",
      "curiosity         0.001790\n",
      "desire            0.001719\n",
      "disappointment    0.064571\n",
      "disapproval       0.829347\n",
      "disgust           0.003926\n",
      "embarrassment     0.002239\n",
      "excitement        0.001752\n",
      "fear              0.000938\n",
      "gratitude         0.001926\n",
      "grief             0.000607\n",
      "joy               0.002943\n",
      "love              0.001565\n",
      "nervousness       0.000910\n",
      "optimism          0.004130\n",
      "pride             0.000417\n",
      "realization       0.013687\n",
      "relief            0.001493\n",
      "remorse           0.001144\n",
      "sadness           0.009109\n",
      "surprise          0.002292\n",
      "neutral           0.130546\n",
      "ekman_anger       0.424179\n",
      "ekman_disgust     0.594402\n",
      "ekman_fear        0.214969\n",
      "ekman_joy         0.086480\n",
      "ekman_neutral     0.687441\n",
      "ekman_sadness     0.937093\n",
      "ekman_surprise    0.276793\n",
      "                confidence\n",
      "admiration        0.008171\n",
      "amusement         0.011434\n",
      "anger             0.720585\n",
      "annoyance         0.159924\n",
      "approval          0.003104\n",
      "caring            0.001080\n",
      "confusion         0.003534\n",
      "curiosity         0.005064\n",
      "desire            0.001947\n",
      "disappointment    0.012198\n",
      "disapproval       0.008628\n",
      "disgust           0.023779\n",
      "embarrassment     0.003327\n",
      "excitement        0.012342\n",
      "fear              0.004717\n",
      "gratitude         0.001243\n",
      "grief             0.001411\n",
      "joy               0.007401\n",
      "love              0.006600\n",
      "nervousness       0.001077\n",
      "optimism          0.002052\n",
      "pride             0.001205\n",
      "realization       0.004981\n",
      "relief            0.000510\n",
      "remorse           0.000440\n",
      "sadness           0.005412\n",
      "surprise          0.041645\n",
      "neutral           0.067463\n",
      "ekman_anger       0.580918\n",
      "ekman_disgust     0.496069\n",
      "ekman_fear        0.160591\n",
      "ekman_joy         0.258772\n",
      "ekman_neutral     0.387054\n",
      "ekman_sadness     0.148847\n",
      "ekman_surprise    0.965595\n"
     ]
    }
   ],
   "source": [
    "# Only run this once per session! (Don't re-instantiate every input)\n",
    "# emotion_regressor = EmotionRegressor(device=device)   # Already instantiated above\n",
    "\n",
    "while True:\n",
    "    user_input = input(\"Enter text (or 'quit'): \")\n",
    "    if user_input.lower() == \"quit\":\n",
    "        break\n",
    "    try:\n",
    "        mood_vector = emotion_regressor.predict(user_input)\n",
    "        pretty_print_mood_vector(mood_vector)\n",
    "    except Exception as e:\n",
    "        print(\"Error:\", e)\n",
    "\n",
    "# Optional: Clean up when done\n",
    "emotion_regressor.cleanup()\n"
   ]
  },
  {
   "cell_type": "code",
   "execution_count": 29,
   "id": "a0a12b72",
   "metadata": {},
   "outputs": [
    {
     "name": "stdout",
     "output_type": "stream",
     "text": [
      "[8.1711598e-03 1.1433792e-02 7.2058481e-01 1.5992422e-01 3.1038092e-03\n",
      " 1.0797601e-03 3.5342218e-03 5.0635021e-03 1.9469517e-03 1.2198194e-02\n",
      " 8.6276485e-03 2.3778711e-02 3.3267050e-03 1.2342469e-02 4.7174064e-03\n",
      " 1.2431062e-03 1.4114623e-03 7.4007832e-03 6.6001620e-03 1.0772758e-03\n",
      " 2.0519628e-03 1.2049049e-03 4.9806908e-03 5.1028928e-04 4.3956586e-04\n",
      " 5.4115616e-03 4.1645490e-02 6.7463093e-02 5.8091789e-01 4.9606922e-01\n",
      " 1.6059119e-01 2.5877160e-01 3.8705432e-01 1.4884725e-01 9.6559459e-01]\n"
     ]
    }
   ],
   "source": [
    "print(mood_vector)"
   ]
  },
  {
   "cell_type": "code",
   "execution_count": null,
   "id": "af790d10",
   "metadata": {},
   "outputs": [],
   "source": []
  }
 ],
 "metadata": {
  "kernelspec": {
   "display_name": "Python 3",
   "language": "python",
   "name": "python3"
  },
  "language_info": {
   "codemirror_mode": {
    "name": "ipython",
    "version": 3
   },
   "file_extension": ".py",
   "mimetype": "text/x-python",
   "name": "python",
   "nbconvert_exporter": "python",
   "pygments_lexer": "ipython3",
   "version": "3.9.9"
  }
 },
 "nbformat": 4,
 "nbformat_minor": 5
}
