{
 "cells": [
  {
   "cell_type": "markdown",
   "id": "3f48aa14",
   "metadata": {},
   "source": [
    "# biomedical pipeline setup:"
   ]
  },
  {
   "cell_type": "code",
   "execution_count": 1,
   "id": "84737768",
   "metadata": {},
   "outputs": [
    {
     "data": {
      "application/vnd.jupyter.widget-view+json": {
       "model_id": "837a0ea704644e9397da52cb274d471d",
       "version_major": 2,
       "version_minor": 0
      },
      "text/plain": [
       "Downloading https://raw.githubusercontent.com/stanfordnlp/stanza-resources/main/resources_1.10.0.json:   0%|  …"
      ]
     },
     "metadata": {},
     "output_type": "display_data"
    },
    {
     "name": "stderr",
     "output_type": "stream",
     "text": [
      "2025-07-17 15:36:02 INFO: Downloaded file to /Users/dansantoro/stanza_resources/resources.json\n",
      "2025-07-17 15:36:02 INFO: Downloading these customized packages for language: en (English)...\n",
      "====================================\n",
      "| Processor       | Package        |\n",
      "------------------------------------\n",
      "| tokenize        | mimic          |\n",
      "| pos             | mimic_charlm   |\n",
      "| lemma           | mimic_nocharlm |\n",
      "| depparse        | mimic_charlm   |\n",
      "| forward_charlm  | mimic          |\n",
      "| pretrain        | mimic          |\n",
      "| backward_charlm | mimic          |\n",
      "====================================\n",
      "\n"
     ]
    },
    {
     "data": {
      "application/vnd.jupyter.widget-view+json": {
       "model_id": "fc24f809126849159022c1281d6f75bd",
       "version_major": 2,
       "version_minor": 0
      },
      "text/plain": [
       "Downloading https://huggingface.co/stanfordnlp/stanza-en/resolve/v1.10.0/models/tokenize/mimic.pt:   0%|      …"
      ]
     },
     "metadata": {},
     "output_type": "display_data"
    },
    {
     "name": "stderr",
     "output_type": "stream",
     "text": [
      "2025-07-17 15:36:03 INFO: Downloaded file to /Users/dansantoro/stanza_resources/en/tokenize/mimic.pt\n"
     ]
    },
    {
     "data": {
      "application/vnd.jupyter.widget-view+json": {
       "model_id": "70a868c8c0ca4dfbbf0303e4b4c948b0",
       "version_major": 2,
       "version_minor": 0
      },
      "text/plain": [
       "Downloading https://huggingface.co/stanfordnlp/stanza-en/resolve/v1.10.0/models/pos/mimic_charlm.pt:   0%|    …"
      ]
     },
     "metadata": {},
     "output_type": "display_data"
    },
    {
     "name": "stderr",
     "output_type": "stream",
     "text": [
      "2025-07-17 15:36:06 INFO: Downloaded file to /Users/dansantoro/stanza_resources/en/pos/mimic_charlm.pt\n"
     ]
    },
    {
     "data": {
      "application/vnd.jupyter.widget-view+json": {
       "model_id": "ab60050183be40878b6968b5f550da5e",
       "version_major": 2,
       "version_minor": 0
      },
      "text/plain": [
       "Downloading https://huggingface.co/stanfordnlp/stanza-en/resolve/v1.10.0/models/lemma/mimic_nocharlm.pt:   0%|…"
      ]
     },
     "metadata": {},
     "output_type": "display_data"
    },
    {
     "name": "stderr",
     "output_type": "stream",
     "text": [
      "2025-07-17 15:36:06 INFO: Downloaded file to /Users/dansantoro/stanza_resources/en/lemma/mimic_nocharlm.pt\n"
     ]
    },
    {
     "data": {
      "application/vnd.jupyter.widget-view+json": {
       "model_id": "d8722d39b139468b92959b51f74aa067",
       "version_major": 2,
       "version_minor": 0
      },
      "text/plain": [
       "Downloading https://huggingface.co/stanfordnlp/stanza-en/resolve/v1.10.0/models/depparse/mimic_charlm.pt:   0%…"
      ]
     },
     "metadata": {},
     "output_type": "display_data"
    },
    {
     "name": "stderr",
     "output_type": "stream",
     "text": [
      "2025-07-17 15:36:18 INFO: Downloaded file to /Users/dansantoro/stanza_resources/en/depparse/mimic_charlm.pt\n"
     ]
    },
    {
     "data": {
      "application/vnd.jupyter.widget-view+json": {
       "model_id": "bd70b589337a4a5d847f99bfbadf19ed",
       "version_major": 2,
       "version_minor": 0
      },
      "text/plain": [
       "Downloading https://huggingface.co/stanfordnlp/stanza-en/resolve/v1.10.0/models/forward_charlm/mimic.pt:   0%|…"
      ]
     },
     "metadata": {},
     "output_type": "display_data"
    },
    {
     "name": "stderr",
     "output_type": "stream",
     "text": [
      "2025-07-17 15:36:19 INFO: Downloaded file to /Users/dansantoro/stanza_resources/en/forward_charlm/mimic.pt\n"
     ]
    },
    {
     "data": {
      "application/vnd.jupyter.widget-view+json": {
       "model_id": "5d5fc34706c746638102d77b126e9fbf",
       "version_major": 2,
       "version_minor": 0
      },
      "text/plain": [
       "Downloading https://huggingface.co/stanfordnlp/stanza-en/resolve/v1.10.0/models/pretrain/mimic.pt:   0%|      …"
      ]
     },
     "metadata": {},
     "output_type": "display_data"
    },
    {
     "name": "stderr",
     "output_type": "stream",
     "text": [
      "2025-07-17 15:36:25 INFO: Downloaded file to /Users/dansantoro/stanza_resources/en/pretrain/mimic.pt\n"
     ]
    },
    {
     "data": {
      "application/vnd.jupyter.widget-view+json": {
       "model_id": "9a08e1644da940109fa62d6b86836d0d",
       "version_major": 2,
       "version_minor": 0
      },
      "text/plain": [
       "Downloading https://huggingface.co/stanfordnlp/stanza-en/resolve/v1.10.0/models/backward_charlm/mimic.pt:   0%…"
      ]
     },
     "metadata": {},
     "output_type": "display_data"
    },
    {
     "name": "stderr",
     "output_type": "stream",
     "text": [
      "2025-07-17 15:36:27 INFO: Downloaded file to /Users/dansantoro/stanza_resources/en/backward_charlm/mimic.pt\n",
      "2025-07-17 15:36:27 INFO: Finished downloading models and saved to /Users/dansantoro/stanza_resources\n"
     ]
    },
    {
     "data": {
      "application/vnd.jupyter.widget-view+json": {
       "model_id": "f632cb74b7e7418ea1cb55390fbfba26",
       "version_major": 2,
       "version_minor": 0
      },
      "text/plain": [
       "Downloading https://raw.githubusercontent.com/stanfordnlp/stanza-resources/main/resources_1.10.0.json:   0%|  …"
      ]
     },
     "metadata": {},
     "output_type": "display_data"
    },
    {
     "name": "stderr",
     "output_type": "stream",
     "text": [
      "2025-07-17 15:36:27 INFO: Downloaded file to /Users/dansantoro/stanza_resources/resources.json\n",
      "2025-07-17 15:36:27 INFO: Downloading these customized packages for language: en (English)...\n",
      "==============================\n",
      "| Processor | Package        |\n",
      "------------------------------\n",
      "| tokenize  | craft          |\n",
      "| pos       | craft_nocharlm |\n",
      "| lemma     | craft_nocharlm |\n",
      "| depparse  | craft_nocharlm |\n",
      "| pretrain  | biomed         |\n",
      "==============================\n",
      "\n"
     ]
    },
    {
     "data": {
      "application/vnd.jupyter.widget-view+json": {
       "model_id": "8552b53e19994e12b910b72a26ed9048",
       "version_major": 2,
       "version_minor": 0
      },
      "text/plain": [
       "Downloading https://huggingface.co/stanfordnlp/stanza-en/resolve/v1.10.0/models/tokenize/craft.pt:   0%|      …"
      ]
     },
     "metadata": {},
     "output_type": "display_data"
    },
    {
     "name": "stderr",
     "output_type": "stream",
     "text": [
      "2025-07-17 15:36:27 INFO: Downloaded file to /Users/dansantoro/stanza_resources/en/tokenize/craft.pt\n"
     ]
    },
    {
     "data": {
      "application/vnd.jupyter.widget-view+json": {
       "model_id": "c9304859d06c4fa89236fcbdfe07e904",
       "version_major": 2,
       "version_minor": 0
      },
      "text/plain": [
       "Downloading https://huggingface.co/stanfordnlp/stanza-en/resolve/v1.10.0/models/pos/craft_nocharlm.pt:   0%|  …"
      ]
     },
     "metadata": {},
     "output_type": "display_data"
    },
    {
     "name": "stderr",
     "output_type": "stream",
     "text": [
      "2025-07-17 15:36:29 INFO: Downloaded file to /Users/dansantoro/stanza_resources/en/pos/craft_nocharlm.pt\n"
     ]
    },
    {
     "data": {
      "application/vnd.jupyter.widget-view+json": {
       "model_id": "28d5611a34204942a5aa70068b55985a",
       "version_major": 2,
       "version_minor": 0
      },
      "text/plain": [
       "Downloading https://huggingface.co/stanfordnlp/stanza-en/resolve/v1.10.0/models/lemma/craft_nocharlm.pt:   0%|…"
      ]
     },
     "metadata": {},
     "output_type": "display_data"
    },
    {
     "name": "stderr",
     "output_type": "stream",
     "text": [
      "2025-07-17 15:36:30 INFO: Downloaded file to /Users/dansantoro/stanza_resources/en/lemma/craft_nocharlm.pt\n"
     ]
    },
    {
     "data": {
      "application/vnd.jupyter.widget-view+json": {
       "model_id": "6ca71377da5141ea9682665ca55517b4",
       "version_major": 2,
       "version_minor": 0
      },
      "text/plain": [
       "Downloading https://huggingface.co/stanfordnlp/stanza-en/resolve/v1.10.0/models/depparse/craft_nocharlm.pt:   …"
      ]
     },
     "metadata": {},
     "output_type": "display_data"
    },
    {
     "name": "stderr",
     "output_type": "stream",
     "text": [
      "2025-07-17 15:36:38 INFO: Downloaded file to /Users/dansantoro/stanza_resources/en/depparse/craft_nocharlm.pt\n"
     ]
    },
    {
     "data": {
      "application/vnd.jupyter.widget-view+json": {
       "model_id": "bb4535bb31e9419894376c6d93b2f19e",
       "version_major": 2,
       "version_minor": 0
      },
      "text/plain": [
       "Downloading https://huggingface.co/stanfordnlp/stanza-en/resolve/v1.10.0/models/pretrain/biomed.pt:   0%|     …"
      ]
     },
     "metadata": {},
     "output_type": "display_data"
    },
    {
     "name": "stderr",
     "output_type": "stream",
     "text": [
      "2025-07-17 15:36:45 INFO: Downloaded file to /Users/dansantoro/stanza_resources/en/pretrain/biomed.pt\n",
      "2025-07-17 15:36:45 INFO: Finished downloading models and saved to /Users/dansantoro/stanza_resources\n",
      "2025-07-17 15:36:45 INFO: Checking for updates to resources.json in case models have been updated.  Note: this behavior can be turned off with download_method=None or download_method=DownloadMethod.REUSE_RESOURCES\n"
     ]
    },
    {
     "data": {
      "application/vnd.jupyter.widget-view+json": {
       "model_id": "55d47d5876ef4635b424920abebc7f12",
       "version_major": 2,
       "version_minor": 0
      },
      "text/plain": [
       "Downloading https://raw.githubusercontent.com/stanfordnlp/stanza-resources/main/resources_1.10.0.json:   0%|  …"
      ]
     },
     "metadata": {},
     "output_type": "display_data"
    },
    {
     "name": "stderr",
     "output_type": "stream",
     "text": [
      "2025-07-17 15:36:45 INFO: Downloaded file to /Users/dansantoro/stanza_resources/resources.json\n",
      "2025-07-17 15:36:45 WARNING: Can not find ner: mimic from official model list. Ignoring it.\n",
      "2025-07-17 15:36:45 INFO: Loading these models for language: en (English):\n",
      "==============================\n",
      "| Processor | Package        |\n",
      "------------------------------\n",
      "| tokenize  | mimic          |\n",
      "| pos       | mimic_charlm   |\n",
      "| lemma     | mimic_nocharlm |\n",
      "| depparse  | mimic_charlm   |\n",
      "==============================\n",
      "\n",
      "2025-07-17 15:36:45 INFO: Using device: cpu\n",
      "2025-07-17 15:36:45 INFO: Loading: tokenize\n",
      "/Library/Frameworks/Python.framework/Versions/3.9/lib/python3.9/site-packages/torch/_utils.py:776: UserWarning: TypedStorage is deprecated. It will be removed in the future and UntypedStorage will be the only storage class. This should only matter to you if you are using storages directly.  To access UntypedStorage directly, use tensor.untyped_storage() instead of tensor.storage()\n",
      "  return self.fget.__get__(instance, owner)()\n",
      "2025-07-17 15:36:45 INFO: Loading: pos\n",
      "2025-07-17 15:36:46 INFO: Loading: lemma\n",
      "2025-07-17 15:36:47 INFO: Loading: depparse\n",
      "2025-07-17 15:36:47 INFO: Done loading processors!\n"
     ]
    },
    {
     "name": "stdout",
     "output_type": "stream",
     "text": [
      "Patient\tpatient\tnsubj:pass\t4\n",
      "has\thave\taux\t4\n",
      "been\tbe\taux:pass\t4\n",
      "prescribed\tprescribe\troot\t0\n",
      "Zoloft\tZoloft\tobj\t4\n",
      "due\tdue\tcase\t8\n",
      "to\tto\tfixed\t6\n",
      "anxiety\tanxiety\tobl\t4\n",
      "and\tand\tcc\t10\n",
      "reported\treport\tconj\t4\n",
      "mild\tmild\tamod\t12\n",
      "headaches\theadach\tobj\t10\n",
      ".\t.\tpunct\t4\n"
     ]
    }
   ],
   "source": [
    "import stanza\n",
    "\n",
    "# Download biomedical and clinical models\n",
    "stanza.download('en', package='mimic')  # Clinical notes\n",
    "stanza.download('en', package='craft')  # Biomedical literature\n",
    "\n",
    "# Clinical pipeline example\n",
    "nlp = stanza.Pipeline('en', package='mimic', processors='tokenize,pos,lemma,depparse,ner')\n",
    "\n",
    "text = \"Patient has been prescribed Zoloft due to anxiety and reported mild headaches.\"\n",
    "\n",
    "doc = nlp(text)\n",
    "\n",
    "for ent in doc.ents:\n",
    "    print(f\"{ent.text} ({ent.type})\")\n",
    "\n",
    "for sentence in doc.sentences:\n",
    "    for word in sentence.words:\n",
    "        print(f\"{word.text}\\t{word.lemma}\\t{word.deprel}\\t{word.head}\")\n"
   ]
  }
 ],
 "metadata": {
  "kernelspec": {
   "display_name": "Python 3",
   "language": "python",
   "name": "python3"
  },
  "language_info": {
   "codemirror_mode": {
    "name": "ipython",
    "version": 3
   },
   "file_extension": ".py",
   "mimetype": "text/x-python",
   "name": "python",
   "nbconvert_exporter": "python",
   "pygments_lexer": "ipython3",
   "version": "3.9.9"
  }
 },
 "nbformat": 4,
 "nbformat_minor": 5
}
