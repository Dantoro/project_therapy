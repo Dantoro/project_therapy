{
 "cells": [
  {
   "cell_type": "markdown",
   "id": "69daef2c",
   "metadata": {},
   "source": [
    "# Read in the datasets"
   ]
  },
  {
   "cell_type": "code",
   "execution_count": 1,
   "id": "3cebe590",
   "metadata": {},
   "outputs": [
    {
     "name": "stdout",
     "output_type": "stream",
     "text": [
      "NLP Mental Health Convos: (3512, 2)\n",
      "Interview 6k: (6310, 3)\n",
      "CounselChat: (1482, 9)\n"
     ]
    }
   ],
   "source": [
    "import pandas as pd\n",
    "\n",
    "# Load NLP Mental Health Conversations\n",
    "nlp_convos_df = pd.read_csv(\n",
    "    \"../datasets/custom_corpus/chatbot_sets/mental_health_sets/NLP_mental_health_convos/nlp_convos.csv\"\n",
    ")\n",
    "\n",
    "# Load Mental Chat 16k (Interview 6k subset)\n",
    "interview_df = pd.read_csv(\n",
    "    \"../datasets/custom_corpus/chatbot_sets/mental_health_sets/mental_chat16k/interview_data_6k.csv\"\n",
    ")\n",
    "\n",
    "# Load CounselChat (clean version)\n",
    "counselchat_df = pd.read_csv(\n",
    "    \"../datasets/custom_corpus/chatbot_sets/mental_health_sets/counsel_chat/counsel_chat-data.csv\"\n",
    ")\n",
    "\n",
    "print(f\"NLP Mental Health Convos: {nlp_convos_df.shape}\")\n",
    "print(f\"Interview 6k: {interview_df.shape}\")\n",
    "print(f\"CounselChat: {counselchat_df.shape}\")\n"
   ]
  },
  {
   "cell_type": "code",
   "execution_count": null,
   "id": "43a9a3b7",
   "metadata": {},
   "outputs": [],
   "source": []
  },
  {
   "cell_type": "code",
   "execution_count": null,
   "id": "f6d86e1a",
   "metadata": {},
   "outputs": [],
   "source": []
  }
 ],
 "metadata": {
  "kernelspec": {
   "display_name": "Python 3",
   "language": "python",
   "name": "python3"
  },
  "language_info": {
   "codemirror_mode": {
    "name": "ipython",
    "version": 3
   },
   "file_extension": ".py",
   "mimetype": "text/x-python",
   "name": "python",
   "nbconvert_exporter": "python",
   "pygments_lexer": "ipython3",
   "version": "3.9.9"
  }
 },
 "nbformat": 4,
 "nbformat_minor": 5
}
