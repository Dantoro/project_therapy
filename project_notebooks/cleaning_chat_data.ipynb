{
 "cells": [
  {
   "cell_type": "markdown",
   "id": "69daef2c",
   "metadata": {},
   "source": [
    "# Read in the datasets"
   ]
  },
  {
   "cell_type": "code",
   "execution_count": 202,
   "id": "3cebe590",
   "metadata": {},
   "outputs": [
    {
     "name": "stdout",
     "output_type": "stream",
     "text": [
      "NLP Mental Health Convos: (3512, 2)\n",
      "Interview 6k: (6310, 3)\n",
      "Counsel Chat: (1482, 9)\n"
     ]
    }
   ],
   "source": [
    "import pandas as pd\n",
    "\n",
    "# Load NLP Mental Health Conversations\n",
    "nlp_convos_df = pd.read_csv(\n",
    "    \"../datasets/custom_corpus/chatbot_sets/mental_health_sets/NLP_mental_health_convos/nlp_convos.csv\"\n",
    ")\n",
    "\n",
    "# Load Mental Chat 16k (Interview 6k subset)\n",
    "interview_df = pd.read_csv(\n",
    "    \"../datasets/custom_corpus/chatbot_sets/mental_health_sets/mental_chat16k/interview_data_6k.csv\"\n",
    ")\n",
    "\n",
    "# Load counsel_chat (clean version)\n",
    "counsel_chat_df = pd.read_csv(\n",
    "    \"../datasets/custom_corpus/chatbot_sets/mental_health_sets/counsel_chat/counsel_chat-data.csv\"\n",
    ")\n",
    "\n",
    "print(f\"NLP Mental Health Convos: {nlp_convos_df.shape}\")\n",
    "print(f\"Interview 6k: {interview_df.shape}\")\n",
    "print(f\"Counsel Chat: {counsel_chat_df.shape}\")\n"
   ]
  },
  {
   "cell_type": "markdown",
   "id": "28b2db5f",
   "metadata": {},
   "source": [
    "## Explore NLP Mental Health Convos"
   ]
  },
  {
   "cell_type": "markdown",
   "id": "9c908dcf",
   "metadata": {},
   "source": [
    "### Intro to NLP Convos"
   ]
  },
  {
   "cell_type": "code",
   "execution_count": 203,
   "id": "43a9a3b7",
   "metadata": {},
   "outputs": [
    {
     "data": {
      "application/vnd.microsoft.datawrangler.viewer.v0+json": {
       "columns": [
        {
         "name": "index",
         "rawType": "int64",
         "type": "integer"
        },
        {
         "name": "Context",
         "rawType": "object",
         "type": "string"
        },
        {
         "name": "Response",
         "rawType": "object",
         "type": "string"
        }
       ],
       "ref": "32733abf-a24f-4b7c-9ca8-912c2aec8650",
       "rows": [
        [
         "0",
         "I'm going through some things with my feelings and myself. I barely sleep and I do nothing but think about how I'm worthless and how I shouldn't be here.\n   I've never tried or contemplated suicide. I've always wanted to fix my issues, but I never get around to it.\n   How can I change my feeling of being worthless to everyone?",
         "If everyone thinks you're worthless, then maybe you need to find new people to hang out with.Seriously, the social context in which a person lives is a big influence in self-esteem.Otherwise, you can go round and round trying to understand why you're not worthless, then go back to the same crowd and be knocked down again.There are many inspirational messages you can find in social media.  Maybe read some of the ones which state that no person is worthless, and that everyone has a good purpose to their life.Also, since our culture is so saturated with the belief that if someone doesn't feel good about themselves that this is somehow terrible.Bad feelings are part of living.  They are the motivation to remove ourselves from situations and relationships which do us more harm than good.Bad feelings do feel terrible.   Your feeling of worthlessness may be good in the sense of motivating you to find out that you are much better than your feelings today."
        ],
        [
         "1",
         "I'm going through some things with my feelings and myself. I barely sleep and I do nothing but think about how I'm worthless and how I shouldn't be here.\n   I've never tried or contemplated suicide. I've always wanted to fix my issues, but I never get around to it.\n   How can I change my feeling of being worthless to everyone?",
         "Hello, and thank you for your question and seeking advice on this. Feelings of worthlessness is unfortunately common. In fact, most people, if not all, have felt this to some degree at some point in their life. You are not alone. Changing our feelings is like changing our thoughts - it's hard to do. Our minds are so amazing that the minute you change your thought another one can be right there to take it's place. Without your permission, another thought can just pop in there. The new thought may feel worse than the last one! My guess is that you have tried several things to improve this on your own even before reaching out on here. People often try thinking positive thoughts, debating with their thoughts, or simply telling themselves that they need to \"snap out of it\" - which is also a thought that carries some self-criticism. Some people try a different approach, and there are counselors out there that can help you with this. The idea is that instead of trying to change the thoughts, you change how you respond to them. You learn skills that allow you to manage difficult thoughts and feelings differently so they don't have the same impact on you that they do right now. For some people, they actually DO begin to experience less hurtful thoughts once they learn how to manage the ones they have differently. Acceptance and Commitment Therapy may be a good choice for you. There is information online and even self-help books that you can use to teach you the skills that I mentioned. Because they are skills, they require practice, but many people have found great relief and an enriched life by learning them. As for suicidal thoughts, I am very glad to read that this has not happened to you. Still, you should watch out for this because it can be a sign of a worsening depression. If you begin to think about this, it is important to reach out to a support system right away. The National Suicide Prevention Lifeline is 1-800-273-8255. The text line is #741741. I hope some other colleagues will provide you more suggestions. Be well...Robin Landwehr, DBH, LPCC"
        ],
        [
         "2",
         "I'm going through some things with my feelings and myself. I barely sleep and I do nothing but think about how I'm worthless and how I shouldn't be here.\n   I've never tried or contemplated suicide. I've always wanted to fix my issues, but I never get around to it.\n   How can I change my feeling of being worthless to everyone?",
         "First thing I'd suggest is getting the sleep you need or it will impact how you think and feel. I'd look at finding what is going well in your life and what you can be grateful for. I believe everyone has talents and wants to find their purpose in life. I think you can figure it out with some help."
        ],
        [
         "3",
         "I'm going through some things with my feelings and myself. I barely sleep and I do nothing but think about how I'm worthless and how I shouldn't be here.\n   I've never tried or contemplated suicide. I've always wanted to fix my issues, but I never get around to it.\n   How can I change my feeling of being worthless to everyone?",
         "Therapy is essential for those that are feeling depressed and worthless. When I work with those that are experiencing concerns related to feeling of depression and issues with self esteem. I generally work with my client to help build coping skills to reduce level of depression and to assist with strengthening  self esteem, by guiding my client with CBT practices. CBT helps with gaining a better awareness of how your thought process influences your belief system, and how your beliefs impact your actions and the outcome of your behaviors.  This process isn’t easy but it helps teach an individual that we don’t always have control over what happens in our lives but we can control how we interpret, feel, and behave. CBT is good for individuals dealing with depression, anxiety, toxic relationships, stress, self esteem, codependency, etc."
        ],
        [
         "4",
         "I'm going through some things with my feelings and myself. I barely sleep and I do nothing but think about how I'm worthless and how I shouldn't be here.\n   I've never tried or contemplated suicide. I've always wanted to fix my issues, but I never get around to it.\n   How can I change my feeling of being worthless to everyone?",
         "I first want to let you know that you are not alone in your feelings and there is always someone there to help. You can always change your feelings and change your way of thinking by being open to trying to change. You can always make yourself available to learning new things or volunteering so that you can make a purpose for yourself."
        ]
       ],
       "shape": {
        "columns": 2,
        "rows": 5
       }
      },
      "text/html": [
       "<div>\n",
       "<style scoped>\n",
       "    .dataframe tbody tr th:only-of-type {\n",
       "        vertical-align: middle;\n",
       "    }\n",
       "\n",
       "    .dataframe tbody tr th {\n",
       "        vertical-align: top;\n",
       "    }\n",
       "\n",
       "    .dataframe thead th {\n",
       "        text-align: right;\n",
       "    }\n",
       "</style>\n",
       "<table border=\"1\" class=\"dataframe\">\n",
       "  <thead>\n",
       "    <tr style=\"text-align: right;\">\n",
       "      <th></th>\n",
       "      <th>Context</th>\n",
       "      <th>Response</th>\n",
       "    </tr>\n",
       "  </thead>\n",
       "  <tbody>\n",
       "    <tr>\n",
       "      <th>0</th>\n",
       "      <td>I'm going through some things with my feelings...</td>\n",
       "      <td>If everyone thinks you're worthless, then mayb...</td>\n",
       "    </tr>\n",
       "    <tr>\n",
       "      <th>1</th>\n",
       "      <td>I'm going through some things with my feelings...</td>\n",
       "      <td>Hello, and thank you for your question and see...</td>\n",
       "    </tr>\n",
       "    <tr>\n",
       "      <th>2</th>\n",
       "      <td>I'm going through some things with my feelings...</td>\n",
       "      <td>First thing I'd suggest is getting the sleep y...</td>\n",
       "    </tr>\n",
       "    <tr>\n",
       "      <th>3</th>\n",
       "      <td>I'm going through some things with my feelings...</td>\n",
       "      <td>Therapy is essential for those that are feelin...</td>\n",
       "    </tr>\n",
       "    <tr>\n",
       "      <th>4</th>\n",
       "      <td>I'm going through some things with my feelings...</td>\n",
       "      <td>I first want to let you know that you are not ...</td>\n",
       "    </tr>\n",
       "  </tbody>\n",
       "</table>\n",
       "</div>"
      ],
      "text/plain": [
       "                                             Context  \\\n",
       "0  I'm going through some things with my feelings...   \n",
       "1  I'm going through some things with my feelings...   \n",
       "2  I'm going through some things with my feelings...   \n",
       "3  I'm going through some things with my feelings...   \n",
       "4  I'm going through some things with my feelings...   \n",
       "\n",
       "                                            Response  \n",
       "0  If everyone thinks you're worthless, then mayb...  \n",
       "1  Hello, and thank you for your question and see...  \n",
       "2  First thing I'd suggest is getting the sleep y...  \n",
       "3  Therapy is essential for those that are feelin...  \n",
       "4  I first want to let you know that you are not ...  "
      ]
     },
     "metadata": {},
     "output_type": "display_data"
    },
    {
     "data": {
      "application/vnd.microsoft.datawrangler.viewer.v0+json": {
       "columns": [
        {
         "name": "index",
         "rawType": "int64",
         "type": "integer"
        },
        {
         "name": "Context",
         "rawType": "object",
         "type": "string"
        },
        {
         "name": "Response",
         "rawType": "object",
         "type": "string"
        }
       ],
       "ref": "8ec2557e-bdfc-47ab-8269-3860267b688e",
       "rows": [
        [
         "3507",
         "My grandson's step-mother sends him to school with a pink Barbie backpack as a form of punishment.",
         "Absolutely not! It is never in a child's best interest to use humiliation as punishment. This can lead to issues in the relationship between parent and child as well as the child's social relationships. Kids have a hard enough time. To then go and cause them embarrassment is unconscionable. The entire job of a parent is to prepare their child to become a successful, healthy adult. You do this by using healthy ways to teach a child when they make a mistake. Discipline shouldn't be seen as punishment. It should be seen as a way to teach a lesson. What lesson could this possibility be teaching him? Absolutely nothing. Meanwhile, she is most likely damaging her relationship with him and causing great distress in his school day and peer interactions. She should be one of the people he can come to when he's hurting; not someone who causes him pain."
        ],
        [
         "3508",
         "My boyfriend is in recovery from drug addiction. We recently got into a fight and he has become very distant.  I don't know what to do to fix the relationship.",
         "I'm sorry you have tension between you and your bf.A relationship means two people who relate, right?!   If only one person does all the work to change their approach, what they expect, what they offer the other, then this becomes the new problem to solve.If you've already done a significant amount of reflection and change in the way you relate to him, then the next step may be to be patient as long as possible while he decides what to change about his part in the relationship toward you.Substance abuse recovery requires profound effort and reflection.  If it is successful then the result will show very different qualities in your bf than the ones you know currently.He may be so absorbed in the recovery that he can only concentrate on this.   Of course if the fights persist and you have been patient for what feels too long, then there are different questions to address."
        ],
        [
         "3509",
         "The birth mother attempted suicide several times while pregnant. The adopted mother was terminally ill upon adopting the baby and died when  the child was just over one year old.  The adopted father then remarried to a physically, psychologically, and emotionally abusive woman.  The child was placed in foster care at 11 years old. \n\nWhat might be the long term effects on an adult with this childhood history?",
         "The true answer is, \"no one can really say with certainty\".The variables are the way this child absorbs and adjusts to these significant changes in their life.  All anyone can do is guess at this point and there's no good reason to guess.The only general certainty is that the adult whom this child becomes will have had a profound encounter with the biggest types of human losses a child can go through.Some people become great teachers, therapists and philosophers who have this background.  Some give up on life and hide away from others.The best anyone could do who knows this child is to offer love bc this is the greatest guarantee to show there are good people on this earth."
        ],
        [
         "3510",
         "I think adult life is making him depressed and we often sleep in on weekends untill 1 or 2 pm. We just eat, smoke weed, watch movies, and he'll go on his phone all day. He doesn't seem motivated to do much and he's often angry.\n\n I have no clue how to help him take his mind off the negative, or to distract him into a different light. How do I help him?",
         "How do you help yourself to believe you require more than what he offers to you?What do you get from this relationship which feels satisfying?To answer this question may in the longterm be the best way to help your bf."
        ],
        [
         "3511",
         "I just took a job that requires me to travel far away from home. My family and I really need this job.\n\nPeople keep telling me I have \"anxiety\" and I'm terrified of having an anxiety attack on the road. This is all new to me. What can I do?",
         "hmm this is a tough one!"
        ]
       ],
       "shape": {
        "columns": 2,
        "rows": 5
       }
      },
      "text/html": [
       "<div>\n",
       "<style scoped>\n",
       "    .dataframe tbody tr th:only-of-type {\n",
       "        vertical-align: middle;\n",
       "    }\n",
       "\n",
       "    .dataframe tbody tr th {\n",
       "        vertical-align: top;\n",
       "    }\n",
       "\n",
       "    .dataframe thead th {\n",
       "        text-align: right;\n",
       "    }\n",
       "</style>\n",
       "<table border=\"1\" class=\"dataframe\">\n",
       "  <thead>\n",
       "    <tr style=\"text-align: right;\">\n",
       "      <th></th>\n",
       "      <th>Context</th>\n",
       "      <th>Response</th>\n",
       "    </tr>\n",
       "  </thead>\n",
       "  <tbody>\n",
       "    <tr>\n",
       "      <th>3507</th>\n",
       "      <td>My grandson's step-mother sends him to school ...</td>\n",
       "      <td>Absolutely not! It is never in a child's best ...</td>\n",
       "    </tr>\n",
       "    <tr>\n",
       "      <th>3508</th>\n",
       "      <td>My boyfriend is in recovery from drug addictio...</td>\n",
       "      <td>I'm sorry you have tension between you and you...</td>\n",
       "    </tr>\n",
       "    <tr>\n",
       "      <th>3509</th>\n",
       "      <td>The birth mother attempted suicide several tim...</td>\n",
       "      <td>The true answer is, \"no one can really say wit...</td>\n",
       "    </tr>\n",
       "    <tr>\n",
       "      <th>3510</th>\n",
       "      <td>I think adult life is making him depressed and...</td>\n",
       "      <td>How do you help yourself to believe you requir...</td>\n",
       "    </tr>\n",
       "    <tr>\n",
       "      <th>3511</th>\n",
       "      <td>I just took a job that requires me to travel f...</td>\n",
       "      <td>hmm this is a tough one!</td>\n",
       "    </tr>\n",
       "  </tbody>\n",
       "</table>\n",
       "</div>"
      ],
      "text/plain": [
       "                                                Context  \\\n",
       "3507  My grandson's step-mother sends him to school ...   \n",
       "3508  My boyfriend is in recovery from drug addictio...   \n",
       "3509  The birth mother attempted suicide several tim...   \n",
       "3510  I think adult life is making him depressed and...   \n",
       "3511  I just took a job that requires me to travel f...   \n",
       "\n",
       "                                               Response  \n",
       "3507  Absolutely not! It is never in a child's best ...  \n",
       "3508  I'm sorry you have tension between you and you...  \n",
       "3509  The true answer is, \"no one can really say wit...  \n",
       "3510  How do you help yourself to believe you requir...  \n",
       "3511                           hmm this is a tough one!  "
      ]
     },
     "metadata": {},
     "output_type": "display_data"
    }
   ],
   "source": [
    "display(nlp_convos_df.head())\n",
    "display(nlp_convos_df.tail())"
   ]
  },
  {
   "cell_type": "code",
   "execution_count": 204,
   "id": "68b1e6da",
   "metadata": {},
   "outputs": [
    {
     "name": "stdout",
     "output_type": "stream",
     "text": [
      "<class 'pandas.core.frame.DataFrame'>\n",
      "RangeIndex: 3512 entries, 0 to 3511\n",
      "Data columns (total 2 columns):\n",
      " #   Column    Non-Null Count  Dtype \n",
      "---  ------    --------------  ----- \n",
      " 0   Context   3512 non-null   object\n",
      " 1   Response  3508 non-null   object\n",
      "dtypes: object(2)\n",
      "memory usage: 55.0+ KB\n"
     ]
    }
   ],
   "source": [
    "nlp_convos_df.info()"
   ]
  },
  {
   "cell_type": "code",
   "execution_count": 205,
   "id": "9076d9f1",
   "metadata": {},
   "outputs": [
    {
     "data": {
      "application/vnd.microsoft.datawrangler.viewer.v0+json": {
       "columns": [
        {
         "name": "index",
         "rawType": "object",
         "type": "string"
        },
        {
         "name": "Context",
         "rawType": "object",
         "type": "unknown"
        },
        {
         "name": "Response",
         "rawType": "object",
         "type": "unknown"
        }
       ],
       "ref": "6b4bc47f-477b-41a7-849e-cc8fe6b1cd38",
       "rows": [
        [
         "count",
         "3512",
         "3508"
        ],
        [
         "unique",
         "995",
         "2471"
        ],
        [
         "top",
         "I have so many issues to address. I have a history of sexual abuse, I’m a breast cancer survivor and I am a lifetime insomniac.    I have a long history of depression and I’m beginning to have anxiety. I have low self esteem but I’ve been happily married for almost 35 years.\n   I’ve never had counseling about any of this. Do I have too many issues to address in counseling?",
         "Counseling ends when the client has received the maximum benefit from the therapist. Even if the therapist believes the client is not making progress, the client may feel they are improving and receiving a benefit. And the therapist may see a benefit and the client does not. It is best to have ongoing dialogue with the client to determine when termination is appropriate."
        ],
        [
         "freq",
         "94",
         "3"
        ]
       ],
       "shape": {
        "columns": 2,
        "rows": 4
       }
      },
      "text/html": [
       "<div>\n",
       "<style scoped>\n",
       "    .dataframe tbody tr th:only-of-type {\n",
       "        vertical-align: middle;\n",
       "    }\n",
       "\n",
       "    .dataframe tbody tr th {\n",
       "        vertical-align: top;\n",
       "    }\n",
       "\n",
       "    .dataframe thead th {\n",
       "        text-align: right;\n",
       "    }\n",
       "</style>\n",
       "<table border=\"1\" class=\"dataframe\">\n",
       "  <thead>\n",
       "    <tr style=\"text-align: right;\">\n",
       "      <th></th>\n",
       "      <th>Context</th>\n",
       "      <th>Response</th>\n",
       "    </tr>\n",
       "  </thead>\n",
       "  <tbody>\n",
       "    <tr>\n",
       "      <th>count</th>\n",
       "      <td>3512</td>\n",
       "      <td>3508</td>\n",
       "    </tr>\n",
       "    <tr>\n",
       "      <th>unique</th>\n",
       "      <td>995</td>\n",
       "      <td>2471</td>\n",
       "    </tr>\n",
       "    <tr>\n",
       "      <th>top</th>\n",
       "      <td>I have so many issues to address. I have a his...</td>\n",
       "      <td>Counseling ends when the client has received t...</td>\n",
       "    </tr>\n",
       "    <tr>\n",
       "      <th>freq</th>\n",
       "      <td>94</td>\n",
       "      <td>3</td>\n",
       "    </tr>\n",
       "  </tbody>\n",
       "</table>\n",
       "</div>"
      ],
      "text/plain": [
       "                                                  Context  \\\n",
       "count                                                3512   \n",
       "unique                                                995   \n",
       "top     I have so many issues to address. I have a his...   \n",
       "freq                                                   94   \n",
       "\n",
       "                                                 Response  \n",
       "count                                                3508  \n",
       "unique                                               2471  \n",
       "top     Counseling ends when the client has received t...  \n",
       "freq                                                    3  "
      ]
     },
     "execution_count": 205,
     "metadata": {},
     "output_type": "execute_result"
    }
   ],
   "source": [
    "nlp_convos_df.describe()"
   ]
  },
  {
   "cell_type": "markdown",
   "id": "1da4959b",
   "metadata": {},
   "source": [
    "## Cleaning NLP Convos"
   ]
  },
  {
   "cell_type": "markdown",
   "id": "55f5aa44",
   "metadata": {},
   "source": [
    "### Remove rows with missing values"
   ]
  },
  {
   "cell_type": "code",
   "execution_count": 206,
   "id": "852db07e",
   "metadata": {},
   "outputs": [],
   "source": [
    "# Remove rows where 'Response' is null or empty\n",
    "nlp_convos_df = nlp_convos_df.dropna(subset=[\"Response\"])\n",
    "nlp_convos_df = nlp_convos_df[nlp_convos_df[\"Response\"].str.strip().astype(bool)]\n"
   ]
  },
  {
   "cell_type": "code",
   "execution_count": 207,
   "id": "6d362550",
   "metadata": {},
   "outputs": [
    {
     "name": "stdout",
     "output_type": "stream",
     "text": [
      "<class 'pandas.core.frame.DataFrame'>\n",
      "Index: 3508 entries, 0 to 3511\n",
      "Data columns (total 2 columns):\n",
      " #   Column    Non-Null Count  Dtype \n",
      "---  ------    --------------  ----- \n",
      " 0   Context   3508 non-null   object\n",
      " 1   Response  3508 non-null   object\n",
      "dtypes: object(2)\n",
      "memory usage: 82.2+ KB\n"
     ]
    }
   ],
   "source": [
    "nlp_convos_df.info()"
   ]
  },
  {
   "cell_type": "code",
   "execution_count": 208,
   "id": "58031c96",
   "metadata": {},
   "outputs": [
    {
     "data": {
      "application/vnd.microsoft.datawrangler.viewer.v0+json": {
       "columns": [
        {
         "name": "index",
         "rawType": "object",
         "type": "string"
        },
        {
         "name": "Context",
         "rawType": "object",
         "type": "unknown"
        },
        {
         "name": "Response",
         "rawType": "object",
         "type": "unknown"
        }
       ],
       "ref": "4742f088-98d2-43e8-903a-ea3e6c483f23",
       "rows": [
        [
         "count",
         "3508",
         "3508"
        ],
        [
         "unique",
         "995",
         "2471"
        ],
        [
         "top",
         "I have so many issues to address. I have a history of sexual abuse, I’m a breast cancer survivor and I am a lifetime insomniac.    I have a long history of depression and I’m beginning to have anxiety. I have low self esteem but I’ve been happily married for almost 35 years.\n   I’ve never had counseling about any of this. Do I have too many issues to address in counseling?",
         "Counseling ends when the client has received the maximum benefit from the therapist. Even if the therapist believes the client is not making progress, the client may feel they are improving and receiving a benefit. And the therapist may see a benefit and the client does not. It is best to have ongoing dialogue with the client to determine when termination is appropriate."
        ],
        [
         "freq",
         "94",
         "3"
        ]
       ],
       "shape": {
        "columns": 2,
        "rows": 4
       }
      },
      "text/html": [
       "<div>\n",
       "<style scoped>\n",
       "    .dataframe tbody tr th:only-of-type {\n",
       "        vertical-align: middle;\n",
       "    }\n",
       "\n",
       "    .dataframe tbody tr th {\n",
       "        vertical-align: top;\n",
       "    }\n",
       "\n",
       "    .dataframe thead th {\n",
       "        text-align: right;\n",
       "    }\n",
       "</style>\n",
       "<table border=\"1\" class=\"dataframe\">\n",
       "  <thead>\n",
       "    <tr style=\"text-align: right;\">\n",
       "      <th></th>\n",
       "      <th>Context</th>\n",
       "      <th>Response</th>\n",
       "    </tr>\n",
       "  </thead>\n",
       "  <tbody>\n",
       "    <tr>\n",
       "      <th>count</th>\n",
       "      <td>3508</td>\n",
       "      <td>3508</td>\n",
       "    </tr>\n",
       "    <tr>\n",
       "      <th>unique</th>\n",
       "      <td>995</td>\n",
       "      <td>2471</td>\n",
       "    </tr>\n",
       "    <tr>\n",
       "      <th>top</th>\n",
       "      <td>I have so many issues to address. I have a his...</td>\n",
       "      <td>Counseling ends when the client has received t...</td>\n",
       "    </tr>\n",
       "    <tr>\n",
       "      <th>freq</th>\n",
       "      <td>94</td>\n",
       "      <td>3</td>\n",
       "    </tr>\n",
       "  </tbody>\n",
       "</table>\n",
       "</div>"
      ],
      "text/plain": [
       "                                                  Context  \\\n",
       "count                                                3508   \n",
       "unique                                                995   \n",
       "top     I have so many issues to address. I have a his...   \n",
       "freq                                                   94   \n",
       "\n",
       "                                                 Response  \n",
       "count                                                3508  \n",
       "unique                                               2471  \n",
       "top     Counseling ends when the client has received t...  \n",
       "freq                                                    3  "
      ]
     },
     "execution_count": 208,
     "metadata": {},
     "output_type": "execute_result"
    }
   ],
   "source": [
    "nlp_convos_df.describe()"
   ]
  },
  {
   "cell_type": "markdown",
   "id": "340e311a",
   "metadata": {},
   "source": [
    "### Remove Complete Duplicates (rows where both Context AND Response are repeats)"
   ]
  },
  {
   "cell_type": "code",
   "execution_count": 209,
   "id": "1f073774",
   "metadata": {},
   "outputs": [],
   "source": [
    "# Remove exact duplicate prompt/response pairs\n",
    "nlp_convos_df = nlp_convos_df.drop_duplicates(subset=[\"Context\", \"Response\"])\n"
   ]
  },
  {
   "cell_type": "code",
   "execution_count": 210,
   "id": "9a0f9344",
   "metadata": {},
   "outputs": [
    {
     "name": "stdout",
     "output_type": "stream",
     "text": [
      "<class 'pandas.core.frame.DataFrame'>\n",
      "Index: 2740 entries, 0 to 3511\n",
      "Data columns (total 2 columns):\n",
      " #   Column    Non-Null Count  Dtype \n",
      "---  ------    --------------  ----- \n",
      " 0   Context   2740 non-null   object\n",
      " 1   Response  2740 non-null   object\n",
      "dtypes: object(2)\n",
      "memory usage: 64.2+ KB\n"
     ]
    }
   ],
   "source": [
    "nlp_convos_df.info()"
   ]
  },
  {
   "cell_type": "code",
   "execution_count": 211,
   "id": "a3e9d057",
   "metadata": {},
   "outputs": [
    {
     "data": {
      "application/vnd.microsoft.datawrangler.viewer.v0+json": {
       "columns": [
        {
         "name": "index",
         "rawType": "object",
         "type": "string"
        },
        {
         "name": "Context",
         "rawType": "object",
         "type": "unknown"
        },
        {
         "name": "Response",
         "rawType": "object",
         "type": "unknown"
        }
       ],
       "ref": "0ab5b023-0b74-437f-95d6-699de0f43cfb",
       "rows": [
        [
         "count",
         "2740",
         "2740"
        ],
        [
         "unique",
         "995",
         "2471"
        ],
        [
         "top",
         "I have so many issues to address. I have a history of sexual abuse, I’m a breast cancer survivor and I am a lifetime insomniac.    I have a long history of depression and I’m beginning to have anxiety. I have low self esteem but I’ve been happily married for almost 35 years.\n   I’ve never had counseling about any of this. Do I have too many issues to address in counseling?",
         "I'm sorry to hear that your brother has been having such a rough time. He's lucky to have you on his side (although he may not always see it that way).As far as whether you can sign him in, that depends on a lot of different things.I would suggest that you Google the state and county that you live in as well as some phrase similar to \"crisis hotline.\" They can tell you how it works in that county. My guess is that you could sign him in as long as he met the criteria for admission at that moment, but I can't  be entirely sure. You could also ask the person on the phone about financial responsibility. I have not heard of that being a problem, but I guess it would depend on insurance.If you have trouble finding a local  hotline, consider calling the national crisis number (800-273-8255) and ask them to help you find someone local."
        ],
        [
         "freq",
         "47",
         "2"
        ]
       ],
       "shape": {
        "columns": 2,
        "rows": 4
       }
      },
      "text/html": [
       "<div>\n",
       "<style scoped>\n",
       "    .dataframe tbody tr th:only-of-type {\n",
       "        vertical-align: middle;\n",
       "    }\n",
       "\n",
       "    .dataframe tbody tr th {\n",
       "        vertical-align: top;\n",
       "    }\n",
       "\n",
       "    .dataframe thead th {\n",
       "        text-align: right;\n",
       "    }\n",
       "</style>\n",
       "<table border=\"1\" class=\"dataframe\">\n",
       "  <thead>\n",
       "    <tr style=\"text-align: right;\">\n",
       "      <th></th>\n",
       "      <th>Context</th>\n",
       "      <th>Response</th>\n",
       "    </tr>\n",
       "  </thead>\n",
       "  <tbody>\n",
       "    <tr>\n",
       "      <th>count</th>\n",
       "      <td>2740</td>\n",
       "      <td>2740</td>\n",
       "    </tr>\n",
       "    <tr>\n",
       "      <th>unique</th>\n",
       "      <td>995</td>\n",
       "      <td>2471</td>\n",
       "    </tr>\n",
       "    <tr>\n",
       "      <th>top</th>\n",
       "      <td>I have so many issues to address. I have a his...</td>\n",
       "      <td>I'm sorry to hear that your brother has been h...</td>\n",
       "    </tr>\n",
       "    <tr>\n",
       "      <th>freq</th>\n",
       "      <td>47</td>\n",
       "      <td>2</td>\n",
       "    </tr>\n",
       "  </tbody>\n",
       "</table>\n",
       "</div>"
      ],
      "text/plain": [
       "                                                  Context  \\\n",
       "count                                                2740   \n",
       "unique                                                995   \n",
       "top     I have so many issues to address. I have a his...   \n",
       "freq                                                   47   \n",
       "\n",
       "                                                 Response  \n",
       "count                                                2740  \n",
       "unique                                               2471  \n",
       "top     I'm sorry to hear that your brother has been h...  \n",
       "freq                                                    2  "
      ]
     },
     "execution_count": 211,
     "metadata": {},
     "output_type": "execute_result"
    }
   ],
   "source": [
    "nlp_convos_df.describe()"
   ]
  },
  {
   "cell_type": "markdown",
   "id": "f5c9ee8b",
   "metadata": {},
   "source": [
    "## Final NLP Convo set"
   ]
  },
  {
   "cell_type": "code",
   "execution_count": 212,
   "id": "0538456a",
   "metadata": {},
   "outputs": [
    {
     "name": "stdout",
     "output_type": "stream",
     "text": [
      "NLP Mental Health Convos: (2740, 2)\n"
     ]
    }
   ],
   "source": [
    "nlp_convos_df = nlp_convos_df.reset_index(drop=True)\n",
    "\n",
    "print(f\"NLP Mental Health Convos: {nlp_convos_df.shape}\")\n"
   ]
  },
  {
   "cell_type": "code",
   "execution_count": 213,
   "id": "8f8ed89d",
   "metadata": {},
   "outputs": [
    {
     "data": {
      "application/vnd.microsoft.datawrangler.viewer.v0+json": {
       "columns": [
        {
         "name": "index",
         "rawType": "int64",
         "type": "integer"
        },
        {
         "name": "Context",
         "rawType": "object",
         "type": "string"
        },
        {
         "name": "Response",
         "rawType": "object",
         "type": "string"
        }
       ],
       "ref": "4237293d-8561-49f6-a621-9c631e5f84e3",
       "rows": [
        [
         "1577",
         "We’ve been together almost three years. We argue and he ends it by telling me he doesn’t love me. It's hurtful because I am all about resolving the problem, and he dwells on the issue even if I drop what he's done and just swallow my pride and say I am sorry. How can this be resolved? We have kids, and I don't want a broken family because we can't communicate.",
         "You can't fix this by yourself, but I applaud you for trying. One person working hard in a relationship can make things better for a while., but in the long haul you need two people giving some effort. I'm reading between your lines here and I wonder if your need to keep the family together is getting you to apologize when you've done nothing wrong and ignore things you've felt hurt by. I sense that you're doing all the work...that it's not balanced. I have worked with many couples and I've learned never to underestimate what kind of change is possible; anything is possible. But in order for change in a couple to occur, you need two people who are both willing to own their choices and behaviours, and who have empathy. Your boyfriend doesn't appear to have these components; he pushes you away and blames you when he's done something hurtful.Can you be honest with yourself about what's happening? I encourage you to sit down with a trusted friend or therapist and look at what you have here and what your options are. I wish you well."
        ],
        [
         "1959",
         "What are some difficulties that a counselor can encounter when dealing with a client?",
         "Each counselor will have their own list of \"difficulties\" in doing therapy work with a client.  Even if clinically trained similarly, since counselors are human then their response to your question will reflect their unique differences as humans.On my list is when the emotional pain I feel for someone describing some type of injustice or unfair treatment by another, feels very deep.Sometimes I feel like avoiding the pain I feel by asking questions which will steer the conversation away from the painful areas the client talks about.What in fact is necessary to clear out their pain, is to step further into so as to realize their emotional pain isn't greater than who they are."
        ],
        [
         "1934",
         "Is it normal for people to cry during therapy, or is it just me?",
         "Crying during a therapy session is not unusual. When we are in a safe environment, such as a therapists office, it allows us to disarm our defenses. By disarming our defenses we are able to feel and express our emotions. Oftentimes, these emotions result in tears.  I personally feel that crying in a therapy session is the one of the most beautiful parts of the healing process."
        ],
        [
         "669",
         "I am in my 30s with 2 kids and no job and I'm behind on the bills. I've been trying everything with no results. I feel like everyone else puts their needs in front on mine. I give intil it hurts and I'm afraid that I'm going to fail my babies    I've been struggling for 5 yrs in a relationship with no communication and no alone time. How can I get some support?",
         "I would want to know where do you put your needs? Often times we show people how to treat us based on how we treat ourselves. First identify how to practice good self care which can only happen when you are authentic and real about your needs and desires. You cannot pour from an empty cup and must take find the time to explore your purpose in life. It may be helpful to seek out additional support to work on your intrapersonal relationship."
        ],
        [
         "1466",
         "I'm always listening to my husband, but it feels like he never listens to me.    How do I get my husband to listen to me instead of me listening to him all the time?",
         "Does your husband want to listen to you?Find this out by asking him the question!This way you know whether the goal you'd like to reach is even possible.Some partners prefer that one person is the rule maker or the only one who is entitled to talk about themselves.If your husband tells you he wants to listen to you, or even that he does listen to you, then you can explain in detail the way you define \"listening\", which may be very different than his definition.Basically, no one can directly change someone into being more openminded.What is possible is to tell him your wishes, your willingness to be patient while he develops the habit of listening to you and point out that a relationship is more fulfilling when both partners feel they are receiving from the other one."
        ],
        [
         "2297",
         "I was the one who ended it, and I'm so glad I did. It was the best decision I made in my life. But how do I stop the nightmares and flashbacks? It is creating a wall in my current relationship.",
         "EMDR therapy has shown great results for work with PTSD symptoms which are similar to what you described. If you are unable to find a local EMDR specialist then I would suggest some meditation and journaling in addition to talk therapy to process your trauma. Your anxiety response centers int he brain are in hyper vigilance mode and retraining to turn down that response could be helpful for you. "
        ],
        [
         "1600",
         "Ever since I was little, I loved the idea of loving someone and spending my whole life with them. I treated everyone nice. For girls I liked, I would spend every second with them. It always ends the same way: “I like you as a friend,” or “I love your attention but not you.”",
         "Attention is often something that is both wanted and sometimes not wanted all the time. Maybe when you're in a relationship with someone you can discuss the amount of attention that you are both comfortable with and/or what you are both looking for as far as amount of connection."
        ],
        [
         "1207",
         "I'm feeling rejected and frustrated. This is not new. The first month we were together, sex was about every day. Then it slowed down to once a month right away. I love my husband, but I am struggling with this.",
         "Every area in a relationship, including intimacy,\nexperiences a decline after the initial honeymoon period.  Couples have to work to maintain the spark.  Find a moment to talk to your husband about\nyour concerns, and suggest ways to rekindle your sexual life, be open to listen\nto his concerns and demands as well.  But\ndon’t forget that sex the fun part of being with someone, play, flirt, joke and\nkeep looking for ways to continue falling for each other.  Mi esposo solo tiene relaciones\nconmigo una vez al mes o menos.  Me\nsiento rechazada y frustrada.  Esto no es\nnuevo.  El primer mes que estuvimos\njuntos, teníamos sexo casi todos los días. \nLuego se redujo a una vez por semana. \nAmo a mi esposo, pero esto me causa dificultad.Todas las áreas\nde una relación, incluyendo la intimidad, sufren altas y bajas luego del\nperiodo de la luna de miel.  Las parejas tienen\nque trabajar para mantener la chispa.  Encuentra\nun momento para hablar con tu esposo sobre tu preocupación, y sugiere maneras\nde reencender su vida sexual, está atenta a escuchar sus preocupaciones y\nsugerencias al igual.  No olvides que el\nsexo es una de las partes más divertidas de una relación, jueguen, coqueteen,\nbromeen y continúen buscando maneras de enamorarse otra vez."
        ],
        [
         "1974",
         "Does counseling really do anything that can help people?",
         "I love this question! Some people shy away from counseling because they think since they already talk about how they feel to their relatives or friends they shouldn't need a counselor. However, if you are having a difficult time, counseling can be beneficial in helping you move forward and get your life back on track. Counseling is not like the kind of talking we do to people we know. For one, your counselor does not have a history with you and has no expectations of how you will act and what you will do. In that way, counselors come to a session without judgement and expectation. This gives you the platform to truly explore your thoughts and feelings. A counselor can also help you understand your motivation and help you integrate your past experiences and recommend coping skills that can help you if you are feeling overwhelmed by your emotions. Over time, as you work with a counselor you will get feedback and also be able to share new insights. The work you do is based on you and where you are at. Oftentimes, when we talk to friends they bring their own agenda to a conversation, and while they mean well they may offer solutions that work for them and not you. A counselor will help you uncover the solutions that work best for you and help you find the motivation to follow through with your plan.Best of luck to you!"
        ],
        [
         "1128",
         "She's busy because her mom makes her clean all the time and go out places with her family. We don't talk much because of it. Also, we have little fights. We want to work it out but we don't know how.",
         "Maybe your girlfriend feels torn in her emotions between loyalty toward her family and toward investing herself in a relationship.There are so many \"maybes\", that the best way to strengthen your relationship is to ask your girlfriend if she feels any pressure from her family to avoid involving herself with you.If the answer is \"no\", then continue to talk with each other as to what would make you each feel more secure with one another.Also, more simply, are the  two of you able to resolve the \"little fights\"?Differences of opinion are normal between two people, even to the point of each person feeling they are the only one who knows the correct answer.As long as each one of you has the goodwill to give a little, then the fights are a healthy way to respect and care about each other.If the fights are about the same topic which repeats itself, then there are strong differences between the two of you, including the possibility that her family places and she is willing to accept, some obstacle to this relationship."
        ]
       ],
       "shape": {
        "columns": 2,
        "rows": 10
       }
      },
      "text/html": [
       "<div>\n",
       "<style scoped>\n",
       "    .dataframe tbody tr th:only-of-type {\n",
       "        vertical-align: middle;\n",
       "    }\n",
       "\n",
       "    .dataframe tbody tr th {\n",
       "        vertical-align: top;\n",
       "    }\n",
       "\n",
       "    .dataframe thead th {\n",
       "        text-align: right;\n",
       "    }\n",
       "</style>\n",
       "<table border=\"1\" class=\"dataframe\">\n",
       "  <thead>\n",
       "    <tr style=\"text-align: right;\">\n",
       "      <th></th>\n",
       "      <th>Context</th>\n",
       "      <th>Response</th>\n",
       "    </tr>\n",
       "  </thead>\n",
       "  <tbody>\n",
       "    <tr>\n",
       "      <th>1577</th>\n",
       "      <td>We’ve been together almost three years. We arg...</td>\n",
       "      <td>You can't fix this by yourself, but I applaud ...</td>\n",
       "    </tr>\n",
       "    <tr>\n",
       "      <th>1959</th>\n",
       "      <td>What are some difficulties that a counselor ca...</td>\n",
       "      <td>Each counselor will have their own list of \"di...</td>\n",
       "    </tr>\n",
       "    <tr>\n",
       "      <th>1934</th>\n",
       "      <td>Is it normal for people to cry during therapy,...</td>\n",
       "      <td>Crying during a therapy session is not unusual...</td>\n",
       "    </tr>\n",
       "    <tr>\n",
       "      <th>669</th>\n",
       "      <td>I am in my 30s with 2 kids and no job and I'm ...</td>\n",
       "      <td>I would want to know where do you put your nee...</td>\n",
       "    </tr>\n",
       "    <tr>\n",
       "      <th>1466</th>\n",
       "      <td>I'm always listening to my husband, but it fee...</td>\n",
       "      <td>Does your husband want to listen to you?Find t...</td>\n",
       "    </tr>\n",
       "    <tr>\n",
       "      <th>2297</th>\n",
       "      <td>I was the one who ended it, and I'm so glad I ...</td>\n",
       "      <td>EMDR therapy has shown great results for work ...</td>\n",
       "    </tr>\n",
       "    <tr>\n",
       "      <th>1600</th>\n",
       "      <td>Ever since I was little, I loved the idea of l...</td>\n",
       "      <td>Attention is often something that is both want...</td>\n",
       "    </tr>\n",
       "    <tr>\n",
       "      <th>1207</th>\n",
       "      <td>I'm feeling rejected and frustrated. This is n...</td>\n",
       "      <td>Every area in a relationship, including intima...</td>\n",
       "    </tr>\n",
       "    <tr>\n",
       "      <th>1974</th>\n",
       "      <td>Does counseling really do anything that can he...</td>\n",
       "      <td>I love this question! Some people shy away fro...</td>\n",
       "    </tr>\n",
       "    <tr>\n",
       "      <th>1128</th>\n",
       "      <td>She's busy because her mom makes her clean all...</td>\n",
       "      <td>Maybe your girlfriend feels torn in her emotio...</td>\n",
       "    </tr>\n",
       "  </tbody>\n",
       "</table>\n",
       "</div>"
      ],
      "text/plain": [
       "                                                Context  \\\n",
       "1577  We’ve been together almost three years. We arg...   \n",
       "1959  What are some difficulties that a counselor ca...   \n",
       "1934  Is it normal for people to cry during therapy,...   \n",
       "669   I am in my 30s with 2 kids and no job and I'm ...   \n",
       "1466  I'm always listening to my husband, but it fee...   \n",
       "2297  I was the one who ended it, and I'm so glad I ...   \n",
       "1600  Ever since I was little, I loved the idea of l...   \n",
       "1207  I'm feeling rejected and frustrated. This is n...   \n",
       "1974  Does counseling really do anything that can he...   \n",
       "1128  She's busy because her mom makes her clean all...   \n",
       "\n",
       "                                               Response  \n",
       "1577  You can't fix this by yourself, but I applaud ...  \n",
       "1959  Each counselor will have their own list of \"di...  \n",
       "1934  Crying during a therapy session is not unusual...  \n",
       "669   I would want to know where do you put your nee...  \n",
       "1466  Does your husband want to listen to you?Find t...  \n",
       "2297  EMDR therapy has shown great results for work ...  \n",
       "1600  Attention is often something that is both want...  \n",
       "1207  Every area in a relationship, including intima...  \n",
       "1974  I love this question! Some people shy away fro...  \n",
       "1128  Maybe your girlfriend feels torn in her emotio...  "
      ]
     },
     "execution_count": 213,
     "metadata": {},
     "output_type": "execute_result"
    }
   ],
   "source": [
    "nlp_convos_df.sample(10)"
   ]
  },
  {
   "cell_type": "markdown",
   "id": "cdab659d",
   "metadata": {},
   "source": [
    "## Explore Interview 6K"
   ]
  },
  {
   "cell_type": "markdown",
   "id": "c07c4258",
   "metadata": {},
   "source": [
    "## Intro to Interview 6k"
   ]
  },
  {
   "cell_type": "code",
   "execution_count": 214,
   "id": "f6d86e1a",
   "metadata": {},
   "outputs": [
    {
     "data": {
      "application/vnd.microsoft.datawrangler.viewer.v0+json": {
       "columns": [
        {
         "name": "index",
         "rawType": "int64",
         "type": "integer"
        },
        {
         "name": "instruction",
         "rawType": "object",
         "type": "string"
        },
        {
         "name": "input",
         "rawType": "object",
         "type": "string"
        },
        {
         "name": "output",
         "rawType": "object",
         "type": "string"
        }
       ],
       "ref": "5b17a8b0-54da-4f71-b2b8-6bded60c3d0c",
       "rows": [
        [
         "0",
         "You are a helpful mental health counselling assistant, please answer the mental health questions based on the patient's description. \nThe assistant gives helpful, comprehensive, and appropriate answers to the user's questions. ",
         "I've been struggling with my mental health for a while now, and I can't seem to find a way to cope with it. I've tried visualization, positive thinking, and even medication, but nothing seems to work. I've been feeling lost and helpless, and I don't know what to do next. My mind is a whirlwind of thoughts and emotions, and I can't seem to make sense of it all. I feel like I'm drowning in a sea of confusion, and I can't seem to find my way out.",
         "I understand that you've been dealing with a sense of confusion and chaos in your thoughts and emotions for some time now. It's been a challenging journey, and it's commendable that you've tried various approaches like visualization, positive thinking, and medication to manage your symptoms. However, it's clear that these methods haven't been effective for you. It's essential to acknowledge that mental health issues can be complex and multifaceted, and what works for one person might not work for another. Today, we're going to approach this differently. We're going to identify a specific concern related to your mental health that you'd like to work on, and we'll break it down into manageable steps. We'll define the problem as a feeling of being overwhelmed by your thoughts and emotions, and we'll set realistic goals for managing this feeling. We'll explore the root causes of this confusion, such as past traumas, current stressors, and any underlying psychological conditions. We'll also examine your thought patterns and emotional responses to these triggers, and we'll develop strategies to challenge and reframe negative thoughts. This process is called Cognitive Behavioral Therapy (CBT), and it's designed to help you face your challenges more effectively by changing the way you think and feel about them. Let's begin by discussing the specific incidents or concerns that have been contributing to your feelings of confusion and chaos. We can explore these further and come up with strategies to help you manage them."
        ],
        [
         "1",
         "You are a helpful mental health counselling assistant, please answer the mental health questions based on the patient's description. \nThe assistant gives helpful, comprehensive, and appropriate answers to the user's questions. ",
         "I've been feeling overwhelmed with my caregiving responsibilities, and it's been a struggle to balance these duties with my personal relationships. I've tried to communicate my limitations to my friends and church members, but they don't seem to understand or respect my boundaries. I've been dealing with high anxiety levels, which makes it even harder for me to focus on my own needs. I've tried to take care of myself, but it feels like an insurmountable task.",
         "Your situation is complex, and it's important to acknowledge the challenges you're facing. Balancing caregiving responsibilities with personal relationships can be a delicate dance, and it's common to encounter resistance when setting boundaries. I want to help you explore strategies for communicating your needs more effectively and setting clearer boundaries. Additionally, I see that your anxiety levels are significantly impacting your ability to focus on self-care. We can work together to identify the root causes of your anxiety and develop a plan to manage it more effectively. Let's begin by exploring the specific challenges you've encountered when setting boundaries and communicating your needs. We'll also discuss potential strategies for managing your anxiety and prioritizing self-care in your life.\n\nCounselor (continued):\n"
        ],
        [
         "2",
         "You are a helpful mental health counselling assistant, please answer the mental health questions based on the patient's description. \nThe assistant gives helpful, comprehensive, and appropriate answers to the user's questions. ",
         "I've been feeling constantly anxious and unable to focus on anything for more than a few minutes at a time. I can't seem to get anything done, and I'm starting to feel like I'm failing everyone who's relying on me.",
         "I can see that you're dealing with a great deal of anxiety and that it's impacting your ability to focus and be productive. It's important to remember that anxiety is a normal response to stress, but when it becomes chronic and interferes with your daily life, it can be debilitating.\n\nOne approach to managing anxiety is through cognitive-behavioral techniques. This involves identifying and challenging negative thought patterns, or cognitive distortions, that contribute to your anxiety. For example, you might be thinking things like \"I can't do this,\" or \"I'll never be able to handle this situation.\" These thoughts can create a cycle of anxiety and make it even harder to focus and be productive.\n\nAnother approach is through relaxation techniques, such as deep breathing, progressive muscle relaxation, or mindfulness meditation. These techniques can help you manage your physical symptoms of anxiety, such as a racing heart or tense muscles, and can help you feel more calm and focused.\n\nIt's also important to prioritize self-care and make time for activities that bring you joy and help you relax. This might include things like reading, taking a walk, or practicing a hobby. By taking care of yourself, you'll be better equipped to manage your anxiety and be more effective in your role as a helper to others.\n\nLastly, it's crucial to set realistic and attainable goals for yourself. This means identifying what you can realistically accomplish, given the resources and constraints you have. And remember, it's essential to distinguish between facts and assumptions when setting these goals. For example, instead of assuming that you can't do anything about the situation, focus on what you can do and set goals based on that.\n\nIt's also important to acknowledge and address any obstacles that might be preventing you from achieving these goals. By identifying and addressing these obstacles, you'll be better equipped to make progress and feel more in control of the situation."
        ],
        [
         "3",
         "You are a helpful mental health counselling assistant, please answer the mental health questions based on the patient's description. \nThe assistant gives helpful, comprehensive, and appropriate answers to the user's questions. ",
         "My mom has Alzheimer's, and I've been her primary caregiver for the past few years. I've been trying to maintain a routine for her, but my siblings keep calling me for favors or emergencies, which disrupts my schedule and leaves me feeling drained. I've tried setting boundaries, but they don't seem to respect my time or my mom's needs.",
         "I'm sorry to hear that your siblings' demands are causing you such distress. It's not uncommon for caregivers to face these challenges, and it's essential to establish clear communication with your family members about your responsibilities and limitations. You might consider setting specific times for responding to their requests or delegating tasks to others. It's also essential to remember that you're not alone in this situation and that seeking additional support, such as respite care or community resources, can be beneficial for both you and your mom.\n\nResponse:"
        ],
        [
         "4",
         "You are a helpful mental health counselling assistant, please answer the mental health questions based on the patient's description. \nThe assistant gives helpful, comprehensive, and appropriate answers to the user's questions. ",
         "I've tried setting boundaries, but it feels like I'm constantly being pulled in different directions. I feel guilty for not being able to help my siblings, but I also know that I can't continue to neglect my mom's needs. I'm worried that if I don't find a way to manage these demands, I'll burn out and won't be able to care for her effectively.",
         "Your concerns are valid, and it's crucial to prioritize your mom's care while also addressing your own well-being. One approach that might be helpful is practicing self-care and stress management techniques, such as mindfulness meditation, deep breathing exercises, or engaging in enjoyable activities. Additionally, you could consider reaching out to local support groups or organizations that offer resources and guidance for caregivers in similar situations. Remember, it's essential to advocate for yourself and your mom's needs, and to seek help when needed. The goal is to create a sustainable caregiving situation that benefits everyone involved.\n\nResponse:"
        ]
       ],
       "shape": {
        "columns": 3,
        "rows": 5
       }
      },
      "text/html": [
       "<div>\n",
       "<style scoped>\n",
       "    .dataframe tbody tr th:only-of-type {\n",
       "        vertical-align: middle;\n",
       "    }\n",
       "\n",
       "    .dataframe tbody tr th {\n",
       "        vertical-align: top;\n",
       "    }\n",
       "\n",
       "    .dataframe thead th {\n",
       "        text-align: right;\n",
       "    }\n",
       "</style>\n",
       "<table border=\"1\" class=\"dataframe\">\n",
       "  <thead>\n",
       "    <tr style=\"text-align: right;\">\n",
       "      <th></th>\n",
       "      <th>instruction</th>\n",
       "      <th>input</th>\n",
       "      <th>output</th>\n",
       "    </tr>\n",
       "  </thead>\n",
       "  <tbody>\n",
       "    <tr>\n",
       "      <th>0</th>\n",
       "      <td>You are a helpful mental health counselling as...</td>\n",
       "      <td>I've been struggling with my mental health for...</td>\n",
       "      <td>I understand that you've been dealing with a s...</td>\n",
       "    </tr>\n",
       "    <tr>\n",
       "      <th>1</th>\n",
       "      <td>You are a helpful mental health counselling as...</td>\n",
       "      <td>I've been feeling overwhelmed with my caregivi...</td>\n",
       "      <td>Your situation is complex, and it's important ...</td>\n",
       "    </tr>\n",
       "    <tr>\n",
       "      <th>2</th>\n",
       "      <td>You are a helpful mental health counselling as...</td>\n",
       "      <td>I've been feeling constantly anxious and unabl...</td>\n",
       "      <td>I can see that you're dealing with a great dea...</td>\n",
       "    </tr>\n",
       "    <tr>\n",
       "      <th>3</th>\n",
       "      <td>You are a helpful mental health counselling as...</td>\n",
       "      <td>My mom has Alzheimer's, and I've been her prim...</td>\n",
       "      <td>I'm sorry to hear that your siblings' demands ...</td>\n",
       "    </tr>\n",
       "    <tr>\n",
       "      <th>4</th>\n",
       "      <td>You are a helpful mental health counselling as...</td>\n",
       "      <td>I've tried setting boundaries, but it feels li...</td>\n",
       "      <td>Your concerns are valid, and it's crucial to p...</td>\n",
       "    </tr>\n",
       "  </tbody>\n",
       "</table>\n",
       "</div>"
      ],
      "text/plain": [
       "                                         instruction  \\\n",
       "0  You are a helpful mental health counselling as...   \n",
       "1  You are a helpful mental health counselling as...   \n",
       "2  You are a helpful mental health counselling as...   \n",
       "3  You are a helpful mental health counselling as...   \n",
       "4  You are a helpful mental health counselling as...   \n",
       "\n",
       "                                               input  \\\n",
       "0  I've been struggling with my mental health for...   \n",
       "1  I've been feeling overwhelmed with my caregivi...   \n",
       "2  I've been feeling constantly anxious and unabl...   \n",
       "3  My mom has Alzheimer's, and I've been her prim...   \n",
       "4  I've tried setting boundaries, but it feels li...   \n",
       "\n",
       "                                              output  \n",
       "0  I understand that you've been dealing with a s...  \n",
       "1  Your situation is complex, and it's important ...  \n",
       "2  I can see that you're dealing with a great dea...  \n",
       "3  I'm sorry to hear that your siblings' demands ...  \n",
       "4  Your concerns are valid, and it's crucial to p...  "
      ]
     },
     "metadata": {},
     "output_type": "display_data"
    },
    {
     "data": {
      "application/vnd.microsoft.datawrangler.viewer.v0+json": {
       "columns": [
        {
         "name": "index",
         "rawType": "int64",
         "type": "integer"
        },
        {
         "name": "instruction",
         "rawType": "object",
         "type": "string"
        },
        {
         "name": "input",
         "rawType": "object",
         "type": "string"
        },
        {
         "name": "output",
         "rawType": "object",
         "type": "string"
        }
       ],
       "ref": "49009d62-1b53-43f9-9107-09fa114969c0",
       "rows": [
        [
         "6305",
         "You are a helpful mental health counselling assistant, please answer the mental health questions based on the patient's description. \nThe assistant gives helpful, comprehensive, and appropriate answers to the user's questions. ",
         "I'm feeling overwhelmed and guilty about my uncle's death. I feel like I should have been able to do more for him, even though I was there with him when he passed. I'm also worried about the financial burden of his care and the potential impact on my own finances. I've been trying to process these feelings, but I can't seem to shake them.",
         "It's understandable that you're feeling a range of emotions, including guilt and worry, in the aftermath of your uncle's passing. Grief is a complex and multifaceted experience, and it's common to feel a sense of responsibility or regret when a loved one passes away. Your concern about the financial burden of your uncle's care is also a valid one, as caregiving can be a significant financial strain. It's important to acknowledge and validate these feelings, while also exploring ways to manage them effectively.\n\nOne approach we could consider is mindfulness meditation, which can help you become more aware of your thoughts and emotions without judgment. This can help you develop a greater sense of self-compassion and acceptance, which can be beneficial in managing feelings of guilt and regret. Additionally, we could explore strategies for managing the financial burden of your uncle's care, such as researching available resources, creating a budget, and seeking out financial assistance programs.\n\nAnother approach we could consider is cognitive-behavioral therapy, which can help you challenge and reframe negative thoughts and beliefs that contribute to feelings of guilt and worry. For example, you might be able to reframe your thoughts about your role in your uncle's care to focus on the things you were able to do for him, rather than the things you couldn't. We could also explore ways to challenge the belief that you're solely responsible for your uncle's financial care, and explore alternative sources of support and resources.\n\nUltimately, the goal of our sessions would be to help you develop a more comprehensive understanding of your emotions and experiences, and to explore strategies for managing them effectively. This would involve a collaborative and empathetic approach, grounded in professional ethical standards and informed by key concepts in counseling psychology, such as mindfulness, cognitive-behavioral therapy, and self-compassion. I'm here to support you in any way I can, and I believe that with a thoughtful and compassionate approach, we can help you navigate this challenging time."
        ],
        [
         "6306",
         "You are a helpful mental health counselling assistant, please answer the mental health questions based on the patient's description. \nThe assistant gives helpful, comprehensive, and appropriate answers to the user's questions. ",
         "I've been feeling overwhelmed lately, and I've been turning to [Name] and gambling as a way to cope. I know it's not healthy, but it's become a comforting distraction from my stressors. I've been struggling with anxiety and depression for years, and it feels like I'm back at square one. I've tried therapy before, but it didn't seem to help. I don't know if I can handle all of this again.",
         "I understand that you've been feeling overwhelmed and that you've been turning to [Name] and gambling as a way to cope. It's important to acknowledge that these behaviors might provide temporary relief, but they can ultimately contribute to increased stress and negative emotions. It's essential to recognize that these patterns are not sustainable and that they can negatively impact your overall well-being. I want to assure you that you're not alone in feeling this way, and that seeking help is a courageous step towards healing.\n\nYour history of anxiety and depression is significant, and it's essential to address these underlying issues to prevent a relapse. In the past, you've tried therapy, and it didn't seem to help. However, it's essential to remember that every person's therapeutic journey is unique, and what worked for others might not work for you. It's crucial to find a therapeutic approach that resonates with you and that addresses your specific needs.\n\nOne approach that might be helpful is Cognitive Behavioral Therapy (CBT), which focuses on identifying and challenging negative thought patterns and behaviors. Another approach is Mindfulness-Based Stress Reduction (MBSR), which can help you develop skills to manage stress and anxiety through mindfulness practices. It's essential to work with a mental health professional to determine which approach is best for you and to develop a personalized treatment plan.\n\nRemember, healing is a process, and it's essential to be patient and compassionate with yourself. It's okay to ask for help, and it's essential to prioritize your mental and emotional well-being. Together, we can explore the root causes of your anxiety and depression and develop strategies to manage your symptoms and improve your overall quality of life."
        ],
        [
         "6307",
         "You are a helpful mental health counselling assistant, please answer the mental health questions based on the patient's description. \nThe assistant gives helpful, comprehensive, and appropriate answers to the user's questions. ",
         "I understand what you're saying, but I can't shake off this feeling that I've failed her in some way. I was so consumed by my own grief that I couldn't be there for her as I should have. I feel like I've let her down, and it's been eating away at me ever since.",
         "Your feelings of guilt and neglect are understandable given the circumstances. It's common for individuals to experience complex emotions during times of loss, especially when it comes to our relationships with loved ones. However, it's essential to recognize that these feelings don't define your role as a parent. Instead, let's explore ways to reconnect with your daughter and repair any perceived damage.\n\nFirst, we can practice self-compassion and acknowledge that everyone experiences grief differently. It's essential to recognize that your focus on your own feelings doesn't diminish the importance of your role as a parent. Second, we can work on open and honest communication with your daughter, expressing your feelings and concerns while also listening to hers. This can help you both better understand each other's perspectives and begin the healing process.\n\nLastly, consider engaging in activities that strengthen your bond with your daughter. This can be as simple as sharing a meal, watching a movie, or even just having a heart-to-heart conversation. By focusing on the positive aspects of your relationship and taking steps to repair any perceived damage, you can begin to move past these feelings of guilt and neglect.\n\nIn this therapeutic approach, the counselor acknowledges the patient's feelings while also offering practical steps to address the underlying issues. The counselor's response is grounded in the principles of counseling psychology, including self-compassion, open communication, and the importance of repairing relationships. By offering a compassionate yet strategic response, the counselor helps the patient begin the process of healing and moving forward."
        ],
        [
         "6308",
         "You are a helpful mental health counselling assistant, please answer the mental health questions based on the patient's description. \nThe assistant gives helpful, comprehensive, and appropriate answers to the user's questions. ",
         "I've been thinking about my relationship with my dad. I've always felt like I had to be the one to keep things together. He was never there for me emotionally, and I felt like I had to fill that void. I've been carrying this burden for years, and it's starting to feel unbearable.",
         "It's important to acknowledge the emotional labor you've been carrying for your father. It's not uncommon for children to take on this role, especially when they don't receive the emotional support they need from their parents. This can lead to feelings of resentment and exhaustion. In our sessions, we can explore how this dynamic has impacted your life and relationships. We can also work on developing healthier communication skills and setting boundaries to help you manage your emotional energy more effectively. Additionally, we can explore the concept of forgiveness and how it might apply to your relationship with your father. This doesn't mean excusing his past behavior, but rather finding a way to release the emotional burden that comes with carrying these feelings. This process can be challenging, but it's an essential part of healing and moving forward."
        ],
        [
         "6309",
         "You are a helpful mental health counselling assistant, please answer the mental health questions based on the patient's description. \nThe assistant gives helpful, comprehensive, and appropriate answers to the user's questions. ",
         "I've been feeling stressed out lately because my mother, who lives with me during the summer, has been under a lot of stress due to various reasons. Last time she stayed with me, it was a much nicer experience as there were fewer stressors. But this time, with the death of my grandpa and other changes, she's been more stressed and it's affecting me negatively. I'm finding it hard to enjoy her company and I just want some space.",
         "Your words paint a vivid picture of the complex emotional landscape you're navigating right now. The stress that your mother is experiencing is palpable, and it's understandable that her distress is spilling over into your living space and affecting your relationship with her. It's important to recognize that the circumstances surrounding her stress are beyond her control, but it's also crucial to acknowledge the impact it's having on you. The memory of a more peaceful time when she stayed with you serves as a poignant contrast to the present situation. It's natural to crave that sense of tranquility and to feel frustrated when it's elusive.\n\nIn response to your concerns, I'd like to propose a few potential strategies for managing the current situation. First, let's explore the possibility of creating routines and structures that can help reduce stressors for both you and your mother. This might involve setting aside specific times for quiet activities, establishing clear boundaries around communication and personal space, and prioritizing self-care practices like exercise, meditation, or hobbies.\n\nAnother approach could be to focus on effective communication. It's essential to express your feelings to your mother in a compassionate and understanding way, while also being open to her perspective and needs. This might involve having a heartfelt conversation about the impact of her stress on your relationship and finding ways to support each other through this difficult time.\n\nLastly, it's worth considering the possibility of seeking external support for your mother. The loss of a loved one and other life changes can be incredibly challenging, and professional counseling or therapy can provide valuable tools and resources for managing stress and grief. By offering your support in this way, you might find that the overall living arrangement becomes more enjoyable and beneficial for both of you.\n\nUltimately, it's important to remember that everyone deserves compassion and understanding, especially during difficult times. Let's work together to find ways to navigate this complex emotional terrain and create a more peaceful and supportive living environment for both of you."
        ]
       ],
       "shape": {
        "columns": 3,
        "rows": 5
       }
      },
      "text/html": [
       "<div>\n",
       "<style scoped>\n",
       "    .dataframe tbody tr th:only-of-type {\n",
       "        vertical-align: middle;\n",
       "    }\n",
       "\n",
       "    .dataframe tbody tr th {\n",
       "        vertical-align: top;\n",
       "    }\n",
       "\n",
       "    .dataframe thead th {\n",
       "        text-align: right;\n",
       "    }\n",
       "</style>\n",
       "<table border=\"1\" class=\"dataframe\">\n",
       "  <thead>\n",
       "    <tr style=\"text-align: right;\">\n",
       "      <th></th>\n",
       "      <th>instruction</th>\n",
       "      <th>input</th>\n",
       "      <th>output</th>\n",
       "    </tr>\n",
       "  </thead>\n",
       "  <tbody>\n",
       "    <tr>\n",
       "      <th>6305</th>\n",
       "      <td>You are a helpful mental health counselling as...</td>\n",
       "      <td>I'm feeling overwhelmed and guilty about my un...</td>\n",
       "      <td>It's understandable that you're feeling a rang...</td>\n",
       "    </tr>\n",
       "    <tr>\n",
       "      <th>6306</th>\n",
       "      <td>You are a helpful mental health counselling as...</td>\n",
       "      <td>I've been feeling overwhelmed lately, and I've...</td>\n",
       "      <td>I understand that you've been feeling overwhel...</td>\n",
       "    </tr>\n",
       "    <tr>\n",
       "      <th>6307</th>\n",
       "      <td>You are a helpful mental health counselling as...</td>\n",
       "      <td>I understand what you're saying, but I can't s...</td>\n",
       "      <td>Your feelings of guilt and neglect are underst...</td>\n",
       "    </tr>\n",
       "    <tr>\n",
       "      <th>6308</th>\n",
       "      <td>You are a helpful mental health counselling as...</td>\n",
       "      <td>I've been thinking about my relationship with ...</td>\n",
       "      <td>It's important to acknowledge the emotional la...</td>\n",
       "    </tr>\n",
       "    <tr>\n",
       "      <th>6309</th>\n",
       "      <td>You are a helpful mental health counselling as...</td>\n",
       "      <td>I've been feeling stressed out lately because ...</td>\n",
       "      <td>Your words paint a vivid picture of the comple...</td>\n",
       "    </tr>\n",
       "  </tbody>\n",
       "</table>\n",
       "</div>"
      ],
      "text/plain": [
       "                                            instruction  \\\n",
       "6305  You are a helpful mental health counselling as...   \n",
       "6306  You are a helpful mental health counselling as...   \n",
       "6307  You are a helpful mental health counselling as...   \n",
       "6308  You are a helpful mental health counselling as...   \n",
       "6309  You are a helpful mental health counselling as...   \n",
       "\n",
       "                                                  input  \\\n",
       "6305  I'm feeling overwhelmed and guilty about my un...   \n",
       "6306  I've been feeling overwhelmed lately, and I've...   \n",
       "6307  I understand what you're saying, but I can't s...   \n",
       "6308  I've been thinking about my relationship with ...   \n",
       "6309  I've been feeling stressed out lately because ...   \n",
       "\n",
       "                                                 output  \n",
       "6305  It's understandable that you're feeling a rang...  \n",
       "6306  I understand that you've been feeling overwhel...  \n",
       "6307  Your feelings of guilt and neglect are underst...  \n",
       "6308  It's important to acknowledge the emotional la...  \n",
       "6309  Your words paint a vivid picture of the comple...  "
      ]
     },
     "metadata": {},
     "output_type": "display_data"
    }
   ],
   "source": [
    "display(interview_df.head())\n",
    "display(interview_df.tail())"
   ]
  },
  {
   "cell_type": "code",
   "execution_count": 215,
   "id": "629645e0",
   "metadata": {},
   "outputs": [
    {
     "name": "stdout",
     "output_type": "stream",
     "text": [
      "<class 'pandas.core.frame.DataFrame'>\n",
      "RangeIndex: 6310 entries, 0 to 6309\n",
      "Data columns (total 3 columns):\n",
      " #   Column       Non-Null Count  Dtype \n",
      "---  ------       --------------  ----- \n",
      " 0   instruction  6310 non-null   object\n",
      " 1   input        6310 non-null   object\n",
      " 2   output       6310 non-null   object\n",
      "dtypes: object(3)\n",
      "memory usage: 148.0+ KB\n"
     ]
    }
   ],
   "source": [
    "interview_df.info()"
   ]
  },
  {
   "cell_type": "code",
   "execution_count": 216,
   "id": "c5509cb4",
   "metadata": {},
   "outputs": [
    {
     "data": {
      "application/vnd.microsoft.datawrangler.viewer.v0+json": {
       "columns": [
        {
         "name": "index",
         "rawType": "object",
         "type": "string"
        },
        {
         "name": "instruction",
         "rawType": "object",
         "type": "unknown"
        },
        {
         "name": "input",
         "rawType": "object",
         "type": "unknown"
        },
        {
         "name": "output",
         "rawType": "object",
         "type": "unknown"
        }
       ],
       "ref": "fa1ed7ce-38cf-4030-9539-34a05e9b2a77",
       "rows": [
        [
         "count",
         "6310",
         "6310",
         "6310"
        ],
        [
         "unique",
         "1",
         "6111",
         "6210"
        ],
        [
         "top",
         "You are a helpful mental health counselling assistant, please answer the mental health questions based on the patient's description. \nThe assistant gives helpful, comprehensive, and appropriate answers to the user's questions. ",
         "I've been dealing with a lot of logistical tasks since my wife passed away. I've had to fill out paperwork for her memorial service, manage her financial affairs, and even help arrange for her grave. It's all been very overwhelming.",
         "It's essential to recognize that caring for a loved one can be emotionally and physically demanding. Your current situation might be a result of a combination of factors, including your emotional state, your problem-solving style, and the demands of caregiving. Let's explore how your problem-solving style, specifically your attitude towards problems, might be contributing to your current situation. We'll also examine your emotional state and the potential impact it has on your ability to effectively manage your caregiving responsibilities."
        ],
        [
         "freq",
         "6310",
         "16",
         "9"
        ]
       ],
       "shape": {
        "columns": 3,
        "rows": 4
       }
      },
      "text/html": [
       "<div>\n",
       "<style scoped>\n",
       "    .dataframe tbody tr th:only-of-type {\n",
       "        vertical-align: middle;\n",
       "    }\n",
       "\n",
       "    .dataframe tbody tr th {\n",
       "        vertical-align: top;\n",
       "    }\n",
       "\n",
       "    .dataframe thead th {\n",
       "        text-align: right;\n",
       "    }\n",
       "</style>\n",
       "<table border=\"1\" class=\"dataframe\">\n",
       "  <thead>\n",
       "    <tr style=\"text-align: right;\">\n",
       "      <th></th>\n",
       "      <th>instruction</th>\n",
       "      <th>input</th>\n",
       "      <th>output</th>\n",
       "    </tr>\n",
       "  </thead>\n",
       "  <tbody>\n",
       "    <tr>\n",
       "      <th>count</th>\n",
       "      <td>6310</td>\n",
       "      <td>6310</td>\n",
       "      <td>6310</td>\n",
       "    </tr>\n",
       "    <tr>\n",
       "      <th>unique</th>\n",
       "      <td>1</td>\n",
       "      <td>6111</td>\n",
       "      <td>6210</td>\n",
       "    </tr>\n",
       "    <tr>\n",
       "      <th>top</th>\n",
       "      <td>You are a helpful mental health counselling as...</td>\n",
       "      <td>I've been dealing with a lot of logistical tas...</td>\n",
       "      <td>It's essential to recognize that caring for a ...</td>\n",
       "    </tr>\n",
       "    <tr>\n",
       "      <th>freq</th>\n",
       "      <td>6310</td>\n",
       "      <td>16</td>\n",
       "      <td>9</td>\n",
       "    </tr>\n",
       "  </tbody>\n",
       "</table>\n",
       "</div>"
      ],
      "text/plain": [
       "                                              instruction  \\\n",
       "count                                                6310   \n",
       "unique                                                  1   \n",
       "top     You are a helpful mental health counselling as...   \n",
       "freq                                                 6310   \n",
       "\n",
       "                                                    input  \\\n",
       "count                                                6310   \n",
       "unique                                               6111   \n",
       "top     I've been dealing with a lot of logistical tas...   \n",
       "freq                                                   16   \n",
       "\n",
       "                                                   output  \n",
       "count                                                6310  \n",
       "unique                                               6210  \n",
       "top     It's essential to recognize that caring for a ...  \n",
       "freq                                                    9  "
      ]
     },
     "execution_count": 216,
     "metadata": {},
     "output_type": "execute_result"
    }
   ],
   "source": [
    "interview_df.describe()"
   ]
  },
  {
   "cell_type": "markdown",
   "id": "33f9da48",
   "metadata": {},
   "source": [
    "## Cleaning Interview Data"
   ]
  },
  {
   "cell_type": "code",
   "execution_count": 217,
   "id": "9ef25080",
   "metadata": {},
   "outputs": [],
   "source": [
    "# Remove \"Instruction\" column\n",
    "interview_df = interview_df.drop(columns=['instruction'])\n",
    "\n",
    "# Remove exact duplicate prompt/response pairs\n",
    "interview_df = interview_df.drop_duplicates(subset=['input', 'output'])\n",
    "\n"
   ]
  },
  {
   "cell_type": "code",
   "execution_count": 218,
   "id": "5d7b66a4",
   "metadata": {},
   "outputs": [
    {
     "name": "stdout",
     "output_type": "stream",
     "text": [
      "<class 'pandas.core.frame.DataFrame'>\n",
      "Index: 6233 entries, 0 to 6309\n",
      "Data columns (total 2 columns):\n",
      " #   Column  Non-Null Count  Dtype \n",
      "---  ------  --------------  ----- \n",
      " 0   input   6233 non-null   object\n",
      " 1   output  6233 non-null   object\n",
      "dtypes: object(2)\n",
      "memory usage: 146.1+ KB\n"
     ]
    }
   ],
   "source": [
    "interview_df.info()\n"
   ]
  },
  {
   "cell_type": "code",
   "execution_count": 219,
   "id": "e1a12d8d",
   "metadata": {},
   "outputs": [
    {
     "data": {
      "application/vnd.microsoft.datawrangler.viewer.v0+json": {
       "columns": [
        {
         "name": "index",
         "rawType": "object",
         "type": "string"
        },
        {
         "name": "input",
         "rawType": "object",
         "type": "unknown"
        },
        {
         "name": "output",
         "rawType": "object",
         "type": "unknown"
        }
       ],
       "ref": "4961b7be-eb6e-4a09-b12c-4c0d34fdf6da",
       "rows": [
        [
         "count",
         "6233",
         "6233"
        ],
        [
         "unique",
         "6111",
         "6210"
        ],
        [
         "top",
         "I've been feeling hopeless and suicidal lately, and the thought of spiritual support from the hospital chaplain makes me uneasy. I'm an agnostic, and I don't believe in God or the soul. I find their visits awkward and feel obligated to be polite.",
         "Your concern for your mother's wellbeing is a natural response to her current situation. It's understandable that you'd want to ensure she's receiving the best possible care given the high-risk environment of the hospital. However, it's essential to remember that healthcare professionals, including nurses, often face immense stress and emotional burden in their work. Their reactions, such as laughter, might not always be a reflection of their feelings towards your concerns but rather a coping mechanism to manage their emotions. I encourage you to continue advocating for your mother's care while keeping an open mind about the nurse's intentions. It might also be helpful to gather more information about the hospital's policies and resources regarding patient care and infection control. This will not only help you feel more informed and empowered but also provide you with valuable knowledge to share with the nurse. Remember, clear and respectful communication is key to ensuring your mother receives the best possible care."
        ],
        [
         "freq",
         "8",
         "6"
        ]
       ],
       "shape": {
        "columns": 2,
        "rows": 4
       }
      },
      "text/html": [
       "<div>\n",
       "<style scoped>\n",
       "    .dataframe tbody tr th:only-of-type {\n",
       "        vertical-align: middle;\n",
       "    }\n",
       "\n",
       "    .dataframe tbody tr th {\n",
       "        vertical-align: top;\n",
       "    }\n",
       "\n",
       "    .dataframe thead th {\n",
       "        text-align: right;\n",
       "    }\n",
       "</style>\n",
       "<table border=\"1\" class=\"dataframe\">\n",
       "  <thead>\n",
       "    <tr style=\"text-align: right;\">\n",
       "      <th></th>\n",
       "      <th>input</th>\n",
       "      <th>output</th>\n",
       "    </tr>\n",
       "  </thead>\n",
       "  <tbody>\n",
       "    <tr>\n",
       "      <th>count</th>\n",
       "      <td>6233</td>\n",
       "      <td>6233</td>\n",
       "    </tr>\n",
       "    <tr>\n",
       "      <th>unique</th>\n",
       "      <td>6111</td>\n",
       "      <td>6210</td>\n",
       "    </tr>\n",
       "    <tr>\n",
       "      <th>top</th>\n",
       "      <td>I've been feeling hopeless and suicidal lately...</td>\n",
       "      <td>Your concern for your mother's wellbeing is a ...</td>\n",
       "    </tr>\n",
       "    <tr>\n",
       "      <th>freq</th>\n",
       "      <td>8</td>\n",
       "      <td>6</td>\n",
       "    </tr>\n",
       "  </tbody>\n",
       "</table>\n",
       "</div>"
      ],
      "text/plain": [
       "                                                    input  \\\n",
       "count                                                6233   \n",
       "unique                                               6111   \n",
       "top     I've been feeling hopeless and suicidal lately...   \n",
       "freq                                                    8   \n",
       "\n",
       "                                                   output  \n",
       "count                                                6233  \n",
       "unique                                               6210  \n",
       "top     Your concern for your mother's wellbeing is a ...  \n",
       "freq                                                    6  "
      ]
     },
     "execution_count": 219,
     "metadata": {},
     "output_type": "execute_result"
    }
   ],
   "source": [
    "interview_df.describe()\n"
   ]
  },
  {
   "cell_type": "markdown",
   "id": "ab704680",
   "metadata": {},
   "source": [
    "## Final Interview 6k"
   ]
  },
  {
   "cell_type": "code",
   "execution_count": 220,
   "id": "954de83e",
   "metadata": {},
   "outputs": [
    {
     "name": "stdout",
     "output_type": "stream",
     "text": [
      "Interview 6k: (6233, 2)\n"
     ]
    }
   ],
   "source": [
    "interview_df = interview_df.reset_index(drop=True)\n",
    "print(f\"Interview 6k: {interview_df.shape}\")\n"
   ]
  },
  {
   "cell_type": "code",
   "execution_count": 221,
   "id": "4a9020e2",
   "metadata": {},
   "outputs": [
    {
     "data": {
      "application/vnd.microsoft.datawrangler.viewer.v0+json": {
       "columns": [
        {
         "name": "index",
         "rawType": "int64",
         "type": "integer"
        },
        {
         "name": "input",
         "rawType": "object",
         "type": "string"
        },
        {
         "name": "output",
         "rawType": "object",
         "type": "string"
        }
       ],
       "ref": "803f934e-3135-4065-8fb3-c2dbc385f287",
       "rows": [
        [
         "3681",
         "I've been feeling quite isolated lately, as I've only recently moved to this new place and don't have many acquaintances here yet. The unfamiliar surroundings and lack of social connections have left me feeling disconnected and disoriented. However, there's one neighbor, an elderly lady named [Name], whom I've grown fond of. We often chat over the fence, and she's been a source of comfort and support for me during these trying times. Her kind words and understanding demeanor have helped me feel less alone in this new place.",
         "Your connection with [Name] is a beacon of hope in your current situation. Her presence and support have been invaluable in helping you cope with the feelings of isolation that come with a new environment. Maintaining this relationship is essential for your emotional well-being, as it provides a sense of stability and familiarity in the midst of change. I encourage you to continue nurturing this bond and to explore other opportunities for social interaction as you become more familiar with your new community. Remember, it takes time to build relationships, but the effort is worth it in the long run.\n\nAs a counselor, I understand that moving to a new place can be a challenging experience, especially when it comes to building social connections. The sense of isolation and disorientation that often accompanies such transitions can be overwhelming, leading to feelings of sadness, anxiety, and even depression. However, it's important to remember that these feelings are normal and that they will pass with time and effort.\n\nIn the meantime, focusing on the relationships that do exist can help alleviate some of the pain and discomfort associated with the move. [Name]'s support and understanding are crucial in helping you navigate this new phase of your life. Building on this connection and exploring other opportunities for social interaction, such as joining local clubs or attending community events, can help you expand your social network and foster new relationships.\n\nIt's also essential to practice self-care during this time. Engaging in activities that bring you joy and relaxation, such as reading, painting, or taking long walks, can help you manage stress and maintain a positive outlook. Remember, the process of adjusting to a new environment takes time, but with patience, persistence, and the support of others, you will eventually find a sense of belonging and connection in your new community."
        ],
        [
         "2922",
         "I've been struggling with the idea of starting a small business, but I've been diagnosed with bipolar disorder, and my doctors have given conflicting advice about whether it's a good idea or not. I've been feeling anxious and uncertain about what to do, and I'm worried that taking on a new project could negatively impact my mental health.",
         "Your concerns about the potential impact of starting a business on your mental health are valid. Given your bipolar disorder diagnosis, it's crucial to consider the unique challenges and demands that entrepreneurship might present. It's essential to explore the potential risks and benefits of this endeavor, taking into account your personal circumstances, strengths, and limitations.\n\nFirst, let's examine the potential risks. Starting a business can be a stressful and time-consuming process, which could exacerbate symptoms of anxiety or mania associated with bipolar disorder. Additionally, the financial instability that often accompanies new businesses could add to your existing financial pressures, potentially leading to increased stress and worry.\n\nOn the other hand, there are potential benefits to consider. Entrepreneurship can provide a sense of purpose, autonomy, and control over your work, which can be valuable for individuals with mental health conditions. Furthermore, the skills and experiences gained through starting a business could contribute to personal growth and resilience.\n\nTo make an informed decision, it's essential to weigh these risks and benefits against one another, considering your unique circumstances and personal goals. Additionally, it might be helpful to explore alternative options, such as starting small or seeking support from a business mentor or mental health professional.\n\nUltimately, the decision to start a business is a complex one, and it's essential to prioritize your well-being and make a decision that aligns with your values and goals. This may involve seeking guidance from a mental health professional, as well as carefully considering the potential risks and benefits of entrepreneurship in your specific context."
        ],
        [
         "2593",
         "I'm worried about my wife, [Name]. She's not eating properly, even when being spoon-fed by the health aides. The nurses assure me that it's a sign her body is shutting down, but I can't help but feel desperate and hopeful that she'll eat something. I used to try to change her circumstances to suit me, but in the last ten years, I've learned to accept what I can't change. I've stopped nagging her about eating and even stopped threatening her with a feeding tube in a nursing home. But I'm not sure what would be helpful for me today.",
         "Your concern for your wife, [Name], and her eating habits is understandable, given the gravity of her health situation. It's clear that you've made significant progress in accepting circumstances beyond your control, as evidenced by your decision to stop nagging and threatening her. However, it's essential to recognize that your emotional well-being is also crucial in this situation. The feelings of desperation and hope you're experiencing can impact your interactions with [Name] and potentially hinder her progress.\n\nIn our session today, we could explore various strategies to support [Name]'s eating habits without resorting to controlling behaviors. One approach might be to make meals more appealing by incorporating her favorite foods or adding seasonings that enhance the taste. We could also create a comfortable eating environment by ensuring the table is set appropriately, the lighting is pleasant, and the temperature is comfortable. Additionally, involving [Name] in meal planning and preparation could help her feel more invested in the process and potentially increase her appetite.\n\nAnother crucial aspect of our work together would be to help you manage your emotions and feelings of desperation and hope. We might employ cognitive-behavioral techniques to challenge your thoughts and emotions, helping you reframe your perspective on the situation and find ways to cope effectively. By focusing on both your needs and [Name]'s well-being, we can work towards finding a balanced approach to this complex situation.\n\nIn summary, we'll explore ways to support [Name]'s eating habits without resorting to controlling behaviors, while also addressing your emotional needs to ensure a healthy and effective approach to this challenging situation."
        ],
        [
         "3071",
         "I've been feeling a deep sense of sadness and longing lately, especially when I think about the old days. It's not just about the place itself, but also about the memories and the sense of belonging I had there. I feel like I've lost a part of myself, and I can't seem to find joy in the present.",
         "I hear you, and I want to validate your feelings. It's understandable that you're grieving the loss of a place that held significant meaning for you. This sense of loss can be a complex emotional experience, often intertwined with feelings of identity, self-worth, and a sense of belonging. It's important to acknowledge these feelings and give yourself permission to feel them fully. At the same time, it's crucial to remember that change is a natural part of life, and it's essential to find ways to adapt and grow.\n\nOne approach we could explore is to focus on the present moment and find ways to cultivate joy and meaning in your current life. This might involve engaging in activities that bring you pleasure, connecting with people in your community, or pursuing new interests. Another approach could be to explore the underlying emotions driving your attachment to the past and how they relate to your current sense of identity and self-worth.\n\nIt's also essential to consider any potential triggers or psychological factors that might be contributing to your feelings of sadness and longing. For example, you mentioned feeling like you've lost a part of yourself. This could be a sign of an identity crisis, which is a common issue for many people as they navigate life transitions. Alternatively, it could be related to feelings of inadequacy or a sense of not measuring up to societal expectations.\n\nAs we explore these issues, it's essential to maintain a compassionate and non-judgmental approach. Remember that healing is a process, and it's essential to be patient with yourself as you work through these feelings. I'm here to support you in any way I can, and together we can develop a therapeutic approach that addresses your specific needs and concerns."
        ],
        [
         "314",
         "I've been feeling increasingly isolated and disconnected from my friends and family since my father's diagnosis. I've tried reaching out to them, but I feel like they don't truly understand what I'm going through. I've also been struggling with feelings of guilt and shame about my father's condition, as I can't help but feel like I've failed him in some way.",
         "It's understandable that you've been feeling isolated and disconnected from your friends and family since your father's diagnosis. Caring for a loved one with a serious illness can be an incredibly challenging and emotionally taxing experience, and it's natural to feel like others might not fully understand the depth of your feelings and experiences.\n\nHowever, it's essential to remember that reaching out for support and connection is an important part of the healing process. Consider joining a support group for caregivers or seeking out individual counseling to help you process your emotions and develop effective coping strategies. These resources can provide a safe and understanding space for you to connect with others who are going through similar experiences.\n\nMoreover, it's crucial to challenge any feelings of guilt or shame that might be contributing to your isolation and disconnection. It's essential to remember that caring for a loved one with a serious illness is a complex and multifaceted experience, and there's no one \"right\" way to do it. By focusing on self-compassion and self-care, you can develop a more positive and compassionate perspective towards yourself and your role in your father's care.\n\nAdditionally, we can explore the use of cognitive-behavioral interventions to help you challenge any negative thoughts or beliefs that might be contributing to your feelings of isolation and disconnection. By learning to identify and reframe these thoughts, you can develop a more positive and compassionate perspective towards yourself and your situation."
        ],
        [
         "1",
         "I've been feeling overwhelmed with my caregiving responsibilities, and it's been a struggle to balance these duties with my personal relationships. I've tried to communicate my limitations to my friends and church members, but they don't seem to understand or respect my boundaries. I've been dealing with high anxiety levels, which makes it even harder for me to focus on my own needs. I've tried to take care of myself, but it feels like an insurmountable task.",
         "Your situation is complex, and it's important to acknowledge the challenges you're facing. Balancing caregiving responsibilities with personal relationships can be a delicate dance, and it's common to encounter resistance when setting boundaries. I want to help you explore strategies for communicating your needs more effectively and setting clearer boundaries. Additionally, I see that your anxiety levels are significantly impacting your ability to focus on self-care. We can work together to identify the root causes of your anxiety and develop a plan to manage it more effectively. Let's begin by exploring the specific challenges you've encountered when setting boundaries and communicating your needs. We'll also discuss potential strategies for managing your anxiety and prioritizing self-care in your life.\n\nCounselor (continued):\n"
        ],
        [
         "5350",
         "I've been given a list of lawyers to contact regarding my mother's care, but I feel uneasy about the prospect of paying my sister for taking care of our mother. It's not that I don't think she deserves compensation; it's just that I can't help but feel that my mother, who devoted her entire life to caring for me and my siblings, should be the one receiving financial support instead.",
         "Your feelings are understandable, and it's essential to recognize the emotional weight of your mother's role in your life. Her selfless dedication to your upbringing has left a profound impact on you, and it's natural to feel conflicted about the financial aspects of her care now. However, it's crucial to remember that the current situation requires a different approach. Your mother's care now falls under the purview of legal and financial frameworks, and it's essential to navigate these systems with compassion and understanding.\n\nYour sister's role in caring for your mother is an important one, and her dedication and time deserve recognition. It's essential to consider the emotional and practical implications of your decision, as well as the potential consequences for your relationship with your sister. I recommend that you take some time to process your feelings and consider the following steps:\n\n1. Contact the lawyers to ask questions and gain a better understanding of the situation.\n2. Discuss your feelings with your sister and explore potential solutions that work for both of you.\n3. Seek support from friends, family, or a mental health professional to help you navigate this complex emotional landscape.\n\nRemember, it's essential to approach this situation with empathy and understanding, both for yourself and for your sister. The legal and financial aspects of your mother's care are just one piece of the puzzle; the emotional connections and relationships between family members are equally important. By taking a compassionate and thoughtful approach, you can honor your mother's legacy while ensuring that your sister is fairly compensated for her time and dedication.\n\nIn this counseling session, the counselor acknowledges the patient's emotional attachment to their mother and the complex feelings that arise from the situation. They offer a strategic and empathetic approach, encouraging the patient to explore their feelings, communicate with their sister, and seek support from various resources. The counselor's guidance is grounded in ethical standards and professional knowledge, providing the patient with a framework for healing and moving forward."
        ],
        [
         "6144",
         "I've been dealing with feelings of sadness and hopelessness for quite some time now. I've lost interest in things I used to enjoy, and I find myself withdrawing from my friends and family. I've even considered ending my own life on several occasions. I'm afraid I might not be able to get through this on my own.",
         "I'm here to support you, and I want you to know that you're not alone in feeling this way. Depression is a complex condition, and it's important to remember that seeking help is a sign of strength, not weakness. I understand that it may be difficult to take the first step, but I encourage you to reach out to trusted friends, family members, or healthcare professionals for support. Together, we can explore various treatment options, such as therapy, medication, or lifestyle changes, to help you manage your symptoms and improve your overall well-being. Remember, it's okay to ask for help, and there are resources available to support you on your journey towards healing."
        ],
        [
         "4688",
         "I've been putting off visiting my mother-in-law due to concerns about potential elder abuse liability. The thought of confronting her caregiver about their living conditions and her well-being feels overwhelming and daunting. I've always had a strained relationship with my mother-in-law, and I fear that bringing up these issues might worsen our already tense dynamic. Moreover, I've heard horror stories about elder abuse cases, and the thought of being involved in such a situation leaves me feeling anxious and helpless.",
         "Your concerns are valid, and it's natural to feel anxious about a situation that involves the well-being of a loved one. However, it's essential to remember that your primary responsibility is to ensure your mother-in-law's safety and well-being. The first step in addressing this issue is to gather as much information as possible. You can start by having an open and honest conversation with her caregiver about her current health status and care. This approach allows you to address any potential issues while also maintaining open lines of communication.\n\nIt's also important to remember that your relationship with your mother-in-law doesn't have to be strained for you to take action. Your role as a concerned family member and potential advocate for her well-being takes precedence over any personal feelings or past conflicts. Furthermore, it's crucial to prioritize your loved one's well-being and not let fear of potential legal consequences prevent you from taking action.\n\nIn this situation, it may be helpful to seek guidance from professionals, such as an elder law attorney or an adult protective services agency, to better understand your options and responsibilities. Remember, taking action to ensure your mother-in-law's safety and well-being is an act of love and compassion, not a burden or a source of anxiety.\n\nKey concepts: Responsibility, communication, advocacy, fear, anxiety, love, compassion."
        ],
        [
         "4022",
         "I've never really thought about it that way. I've always seen my need for alone time as a personal failing, rather than a necessary aspect of my personality. I'll try to explore alternative ways to connect with my loved ones and set clearer boundaries with my colleagues. I'll also try to challenge my beliefs about my need for alone time and consider it as a positive aspect of my personality.",
         "I'm glad to hear that you're open to exploring new ways of thinking about your need for alone time. Remember, it's essential to prioritize self-care and maintain a healthy work-life balance. By setting clearer boundaries and exploring alternative ways to connect with your loved ones, you'll be able to honor your personal needs while still maintaining healthy relationships.\n\nIt's also essential to remember that challenging deeply held beliefs can be a challenging process. Be patient with yourself and allow yourself the time and space to explore these thoughts fully. Remember, it's okay to ask for support from your counselor or other trusted individuals during this process.\n\nIn summary, the key themes in this counseling session revolve around the patient's need for alone time, their feelings of guilt, and their struggles with balancing personal needs and social obligations. The counselor's response addresses these issues by encouraging the patient to explore alternative ways to connect with loved ones, set clearer boundaries, and challenge deeply held beliefs about their need for alone time. The counselor's guidance is grounded in professional ethical standards, emphasizing the importance of self-care, healthy work-life balance, and maintaining healthy relationships."
        ]
       ],
       "shape": {
        "columns": 2,
        "rows": 10
       }
      },
      "text/html": [
       "<div>\n",
       "<style scoped>\n",
       "    .dataframe tbody tr th:only-of-type {\n",
       "        vertical-align: middle;\n",
       "    }\n",
       "\n",
       "    .dataframe tbody tr th {\n",
       "        vertical-align: top;\n",
       "    }\n",
       "\n",
       "    .dataframe thead th {\n",
       "        text-align: right;\n",
       "    }\n",
       "</style>\n",
       "<table border=\"1\" class=\"dataframe\">\n",
       "  <thead>\n",
       "    <tr style=\"text-align: right;\">\n",
       "      <th></th>\n",
       "      <th>input</th>\n",
       "      <th>output</th>\n",
       "    </tr>\n",
       "  </thead>\n",
       "  <tbody>\n",
       "    <tr>\n",
       "      <th>3681</th>\n",
       "      <td>I've been feeling quite isolated lately, as I'...</td>\n",
       "      <td>Your connection with [Name] is a beacon of hop...</td>\n",
       "    </tr>\n",
       "    <tr>\n",
       "      <th>2922</th>\n",
       "      <td>I've been struggling with the idea of starting...</td>\n",
       "      <td>Your concerns about the potential impact of st...</td>\n",
       "    </tr>\n",
       "    <tr>\n",
       "      <th>2593</th>\n",
       "      <td>I'm worried about my wife, [Name]. She's not e...</td>\n",
       "      <td>Your concern for your wife, [Name], and her ea...</td>\n",
       "    </tr>\n",
       "    <tr>\n",
       "      <th>3071</th>\n",
       "      <td>I've been feeling a deep sense of sadness and ...</td>\n",
       "      <td>I hear you, and I want to validate your feelin...</td>\n",
       "    </tr>\n",
       "    <tr>\n",
       "      <th>314</th>\n",
       "      <td>I've been feeling increasingly isolated and di...</td>\n",
       "      <td>It's understandable that you've been feeling i...</td>\n",
       "    </tr>\n",
       "    <tr>\n",
       "      <th>1</th>\n",
       "      <td>I've been feeling overwhelmed with my caregivi...</td>\n",
       "      <td>Your situation is complex, and it's important ...</td>\n",
       "    </tr>\n",
       "    <tr>\n",
       "      <th>5350</th>\n",
       "      <td>I've been given a list of lawyers to contact r...</td>\n",
       "      <td>Your feelings are understandable, and it's ess...</td>\n",
       "    </tr>\n",
       "    <tr>\n",
       "      <th>6144</th>\n",
       "      <td>I've been dealing with feelings of sadness and...</td>\n",
       "      <td>I'm here to support you, and I want you to kno...</td>\n",
       "    </tr>\n",
       "    <tr>\n",
       "      <th>4688</th>\n",
       "      <td>I've been putting off visiting my mother-in-la...</td>\n",
       "      <td>Your concerns are valid, and it's natural to f...</td>\n",
       "    </tr>\n",
       "    <tr>\n",
       "      <th>4022</th>\n",
       "      <td>I've never really thought about it that way. I...</td>\n",
       "      <td>I'm glad to hear that you're open to exploring...</td>\n",
       "    </tr>\n",
       "  </tbody>\n",
       "</table>\n",
       "</div>"
      ],
      "text/plain": [
       "                                                  input  \\\n",
       "3681  I've been feeling quite isolated lately, as I'...   \n",
       "2922  I've been struggling with the idea of starting...   \n",
       "2593  I'm worried about my wife, [Name]. She's not e...   \n",
       "3071  I've been feeling a deep sense of sadness and ...   \n",
       "314   I've been feeling increasingly isolated and di...   \n",
       "1     I've been feeling overwhelmed with my caregivi...   \n",
       "5350  I've been given a list of lawyers to contact r...   \n",
       "6144  I've been dealing with feelings of sadness and...   \n",
       "4688  I've been putting off visiting my mother-in-la...   \n",
       "4022  I've never really thought about it that way. I...   \n",
       "\n",
       "                                                 output  \n",
       "3681  Your connection with [Name] is a beacon of hop...  \n",
       "2922  Your concerns about the potential impact of st...  \n",
       "2593  Your concern for your wife, [Name], and her ea...  \n",
       "3071  I hear you, and I want to validate your feelin...  \n",
       "314   It's understandable that you've been feeling i...  \n",
       "1     Your situation is complex, and it's important ...  \n",
       "5350  Your feelings are understandable, and it's ess...  \n",
       "6144  I'm here to support you, and I want you to kno...  \n",
       "4688  Your concerns are valid, and it's natural to f...  \n",
       "4022  I'm glad to hear that you're open to exploring...  "
      ]
     },
     "execution_count": 221,
     "metadata": {},
     "output_type": "execute_result"
    }
   ],
   "source": [
    "interview_df.sample(10)"
   ]
  },
  {
   "cell_type": "markdown",
   "id": "b17bdeec",
   "metadata": {},
   "source": [
    "### Explore Counsel Chat"
   ]
  },
  {
   "cell_type": "markdown",
   "id": "e3f42316",
   "metadata": {},
   "source": [
    "### Intro to Counsel Chat"
   ]
  },
  {
   "cell_type": "code",
   "execution_count": 222,
   "id": "9151e354",
   "metadata": {},
   "outputs": [
    {
     "data": {
      "application/vnd.microsoft.datawrangler.viewer.v0+json": {
       "columns": [
        {
         "name": "index",
         "rawType": "int64",
         "type": "integer"
        },
        {
         "name": "questionID",
         "rawType": "object",
         "type": "string"
        },
        {
         "name": "questionTitle",
         "rawType": "object",
         "type": "string"
        },
        {
         "name": "questionText",
         "rawType": "object",
         "type": "string"
        },
        {
         "name": "questionUrl",
         "rawType": "object",
         "type": "string"
        },
        {
         "name": "topics",
         "rawType": "object",
         "type": "string"
        },
        {
         "name": "therapistName",
         "rawType": "object",
         "type": "string"
        },
        {
         "name": "therapistUrl",
         "rawType": "object",
         "type": "string"
        },
        {
         "name": "answerText",
         "rawType": "object",
         "type": "string"
        },
        {
         "name": "upvotes",
         "rawType": "int64",
         "type": "integer"
        }
       ],
       "ref": "8ab7493c-3ffb-41e9-84ac-2196c1e751bf",
       "rows": [
        [
         "0",
         "5566fab2a64752d71ec3ca69",
         "Escalating disagreements between mother and wife",
         "My wife and mother are having tense disagreements. In the past, they’ve had minor differences. For example, my wife would complain to me my mother is too overbearing; my mother would complain my wife is lazy.\r\nHowever, it’s intensified lately. I think the cause is my wife talked back to her once. Now, any little disagreement is magnified, leading to major disagreements. What can I do?",
         "https://counselchat.com/questions/escalating-disagreements-between-mother-and-wife",
         "Family Conflict",
         "Kristi King-Morgan, LMSW",
         "https://counselchat.com/therapists/kristi-king-morgan-lmsw",
         "<p>What you are describing is something psychologists have termed &#34;triangulation&#34; which is what happens when one family member will not talk to the one they have a problem with and goes to a third member of the family to complain instead. You have been &#34;triangulated&#34; by your wife and mother.</p><p>This is often seen in families. It's seen everywhere. How many times have you had a problem with someone but you didn't go to them to tell them, you went to someone else to complain? It is usually difficult for a person to confront another, especially in relationships where there is a power differential. For example, I bet it's easier to complain to a coworker about your boss rather than go to the boss with your complaint.</p><p>I'm not saying triangulation is always a bad thing. Sometimes a third party mediator is needed to help solve problems between two people who disagree. That's what therapists do every day! Sometimes just getting someone else's perspective can help you see the issue clearer. However, in your situation it sounds like this is becoming a problem. You are stuck in the middle between two people that love you and that you love.</p><p>If you want to put a stop to this triangulation, you will need to encourage the two of them to talk to each other and work out their differences. Perhaps it was a simple misunderstanding that some open communication can clear up. Even if they really don't like each other and can't get along, your relationship with the both of them is going to continue to deteriorate the longer you are stuck in the middle. </p><p>Try to understand what might be the feelings behind their behavior. It is possible that they may both feel threatened by the other. These are the two most important women in your life and they both know it. Your mother may be afraid that she will lose you if she confronts your wife. I heard one mother-in-law describe her son's wife as the gateway to her son. The wife has the power to dictate when and how often the mother gets to see her son. The wife also is the gateway to the grandchildren. If your wife doesn't like her mother-in-law she can severely hamper or damage her mother-in-law's relationship with you and any children you two may have. From your wife's viewpoint, this is the woman that she may feel like she can never live up to. If you regularly praise your mom's cooking, her housework, gardening, or anything else your wife may feel that you are putting down her own efforts in these areas and can feel unappreciated. This can be especially difficult if your wife and mother are nothing alike. I am not saying that this is the case with your family's situation. These are just a few examples from other families in a similar situation as yours. </p><p>Regardless of what the cause is, if this dysfunctional pattern is allowed to continue, your mom and your wife will begin to get upset with you when you don't agree with them. They will get upset if you don't align yourself with them against the other. They will be offended when it seems like you are choosing the other one's side or that you are not standing up for them like they think you should. In worst cases, if it continues to escalate you may even find yourself in the impossible position of having to choose between your wife and your mother which may mean cutting off contact with the other, ending that relationship. Change the dynamics before it spirals even further.</p>",
         "0"
        ],
        [
         "1",
         "5566f94fa64752d71ec3ca64",
         "I'm addicted to smoking. How can I stop?",
         "I'm planning to have baby, so I have to quit smoking - but it's hard. Sometimes it's not a physical need, it's mental.\r\n\r\nI cannot help myself from thinking about smoking. What can I do to get rid of this addiction?",
         "https://counselchat.com/questions/i-m-addicted-to-smoking-how-can-i-stop",
         "Substance Abuse,Addiction",
         "Rebecca Duellman",
         "https://counselchat.com/therapists/rebecca-duellman",
         "<p>Hi. Good for you in planning ahead to do what's healthiest for your baby (and yourself). That's a great first step! It's also good that you are able to identify that it's not always a physical need that's driving the addiction.</p><p>For the next steps, I would suggest trying to figure out when the psychological cravings for a cigarette occur. The psychological (or mental) cravings are usually based out of habit, such as having a cigarette after a meal. And if you're consciously trying to quit, you'll find the craving starts with simply thinking about having a cigarette, then usually moves on to thinking about how good it made you feel, etc., etc. Well, if I'm on a diet and I continue to let myself think about the ice cream sitting in the freezer, eventually I'll give in and eat it.</p><p>You're going to have thoughts about smoking a cigarette. That's normal and, for the most part, out of your control. But you choose whether or not to CONTINUE thinking and dwelling about it after that initial thought. That's what you would have to work on changing. When you have that initial thought, acknowledge it (&#34;Ok, I kind of want a cigarette now.&#34;), but then change the thoughts that typically follow. Distract yourself, think about something else, do something else, whatever it takes to get your mind off of that cigarette.</p><p>I've suggested to clients before that they should plan these scenarios out ahead of time so they already know what they're going to do when the time comes. Write down when you usually have the craving for a cigarette and then write down new thoughts or things to do to get your mind off of it. Eventually, it will become easier and easier to brush off that initial thought until you no longer have it.</p><p>Best of luck, and you have a really great motivator to quit - your baby!</p>",
         "0"
        ],
        [
         "2",
         "5567d26887a1cc0c3f3d8f46",
         "Keeping secrets from my family",
         "I have secrets in my mind, and I don't know what to do with them. I don't want to tell my wife and mom because I don't want to hurt them. But I'm not sure how long that I can keep the secret to myself.\n\nWhat should I do? It's becoming annoying and making me anxious. Help me out",
         "https://counselchat.com/questions/keeping-secrets-from-my-family",
         "Family Conflict",
         "Jeevna Bajaj",
         "https://counselchat.com/therapists/jeevna-bajaj",
         "<p>It sounds like keeping the secrets has become a problem for you now. There are several things to consider before you make a decision.</p><p>- You mentioned that you don't want your wife and mom to know because you don't want to hurt them – why would it hurt them? </p><p>- Is it necessary for them to know this information?</p><p>- What are the consequences of either telling them the truth or not telling them? (for you and for your wife and mom).</p><p>- Once you have considered these, think of what you would tell your friend if they were in your exact situation?</p><p>- Also, if your wife or mom were in your situation right now, what do you think they would do themselves?</p><p>- If your wife and mom were in this situation, how would you feel? Would you want to know the secrets?</p><p>- How has keeping these secrets affected your own mental and physical health?</p><p>Once you have looked at the problem from all angles, you will be able to better make a decision on whether it is right to tell them or not.</p>",
         "0"
        ],
        [
         "3",
         "556bed15c969ba5861709df5",
         "The Underlying Causes of Being Possessive",
         "I am extremely possessive in my relationships and this is hurting my friendships. How can I fix my underlying issues?",
         "https://counselchat.com/questions/the-underlying-causes-of-being-possessive",
         "Behavioral Change,Social Relationships",
         "Rebecca Duellman",
         "https://counselchat.com/therapists/rebecca-duellman",
         "<p>Hi there. It's great you are able to realize there are other issues going on with someone who feels possessive. At the root of it is fear. Fear of losing someone, fear of being alone, fear of not being good enough. All those fears can lead to low self-esteem and feeling like you have to control other people so you don't lose them. The thing is, controlling other people only pushes them away. Vicious circle, right? </p><p>What I would suggest is some cognitive therapy to change those underlying ways of thinking. You can start with this assignment. Write down all the things you think about yourself, positive and not-so-positive. Then rewrite those not-so-positive things so they are positive. For example, thinking something like, &#34;I'm too pushy&#34;, can be rewritten as, &#34;I'm assertive and I go after what I want.&#34; It can be hard to do since we tend to get &#34;stuck&#34; in our negative ways of thinking about ourselves. If you have someone you trust, you can ask for their help as well since most likely they see you differently than you see yourself.</p><p>Finding a good cognitive therapist can help you further, but if that's not an option for you right now, there are lots of self-help books and websites that are out there. You've already taken the first step, so keep moving forward.</p>",
         "0"
        ],
        [
         "4",
         "556ba115c969ba5861709de6",
         "Can I control anxiety without medication?",
         "I had a head injury a few years ago and my mind races all the time. I have trouble sleeping and have a lot of anxiety. Every medicine I have been on my body rejects; I get sick to my stomach and get blisters in my mouth. How can I calm my self down? I'm a wreck.",
         "https://counselchat.com/questions/can-i-control-anxiety-without-medication",
         "Anxiety",
         "Rebecca Duellman",
         "https://counselchat.com/therapists/rebecca-duellman",
         "<p>You didn't say what or how many medications you've tried. Certain anxiety medications can make you feel nauseous, but I haven't heard of any that cause mouth blisters, so there may be some other underlying medical issue there. I would definitely talk to your primary care physician and whoever has prescribed the medication as well as a neurologist if you've suffered a severe head injury. There are so many medications available for anxiety or insomnia or even depression that there may be others with lesser side effects.</p><p>But beyond that, have you tried any other treatments such as deep breathing or meditation? Meditation can be very effective, but it takes practice and you don't have to sit cross-legged for hours chanting &#34;Ohm&#34; to meditate. It's about focusing on your breath, rather than all the thoughts that are racing through your head. And when they do take your mind off your breath, simply refocus (and refocus and refocus). Like I said, it takes practice, so don't give up. You can find many sites offering different ways to meditate, so look around and see what works best for you. Like medication, you just have to find the one that works best and that might take some experimentation.</p><p>I hope this helps and best of luck to you.</p>",
         "0"
        ]
       ],
       "shape": {
        "columns": 9,
        "rows": 5
       }
      },
      "text/html": [
       "<div>\n",
       "<style scoped>\n",
       "    .dataframe tbody tr th:only-of-type {\n",
       "        vertical-align: middle;\n",
       "    }\n",
       "\n",
       "    .dataframe tbody tr th {\n",
       "        vertical-align: top;\n",
       "    }\n",
       "\n",
       "    .dataframe thead th {\n",
       "        text-align: right;\n",
       "    }\n",
       "</style>\n",
       "<table border=\"1\" class=\"dataframe\">\n",
       "  <thead>\n",
       "    <tr style=\"text-align: right;\">\n",
       "      <th></th>\n",
       "      <th>questionID</th>\n",
       "      <th>questionTitle</th>\n",
       "      <th>questionText</th>\n",
       "      <th>questionUrl</th>\n",
       "      <th>topics</th>\n",
       "      <th>therapistName</th>\n",
       "      <th>therapistUrl</th>\n",
       "      <th>answerText</th>\n",
       "      <th>upvotes</th>\n",
       "    </tr>\n",
       "  </thead>\n",
       "  <tbody>\n",
       "    <tr>\n",
       "      <th>0</th>\n",
       "      <td>5566fab2a64752d71ec3ca69</td>\n",
       "      <td>Escalating disagreements between mother and wife</td>\n",
       "      <td>My wife and mother are having tense disagreeme...</td>\n",
       "      <td>https://counselchat.com/questions/escalating-d...</td>\n",
       "      <td>Family Conflict</td>\n",
       "      <td>Kristi King-Morgan, LMSW</td>\n",
       "      <td>https://counselchat.com/therapists/kristi-king...</td>\n",
       "      <td>&lt;p&gt;What you are describing is something psycho...</td>\n",
       "      <td>0</td>\n",
       "    </tr>\n",
       "    <tr>\n",
       "      <th>1</th>\n",
       "      <td>5566f94fa64752d71ec3ca64</td>\n",
       "      <td>I'm addicted to smoking. How can I stop?</td>\n",
       "      <td>I'm planning to have baby, so I have to quit s...</td>\n",
       "      <td>https://counselchat.com/questions/i-m-addicted...</td>\n",
       "      <td>Substance Abuse,Addiction</td>\n",
       "      <td>Rebecca Duellman</td>\n",
       "      <td>https://counselchat.com/therapists/rebecca-due...</td>\n",
       "      <td>&lt;p&gt;Hi. Good for you in planning ahead to do wh...</td>\n",
       "      <td>0</td>\n",
       "    </tr>\n",
       "    <tr>\n",
       "      <th>2</th>\n",
       "      <td>5567d26887a1cc0c3f3d8f46</td>\n",
       "      <td>Keeping secrets from my family</td>\n",
       "      <td>I have secrets in my mind, and I don't know wh...</td>\n",
       "      <td>https://counselchat.com/questions/keeping-secr...</td>\n",
       "      <td>Family Conflict</td>\n",
       "      <td>Jeevna Bajaj</td>\n",
       "      <td>https://counselchat.com/therapists/jeevna-bajaj</td>\n",
       "      <td>&lt;p&gt;It sounds like keeping the secrets has beco...</td>\n",
       "      <td>0</td>\n",
       "    </tr>\n",
       "    <tr>\n",
       "      <th>3</th>\n",
       "      <td>556bed15c969ba5861709df5</td>\n",
       "      <td>The Underlying Causes of Being Possessive</td>\n",
       "      <td>I am extremely possessive in my relationships ...</td>\n",
       "      <td>https://counselchat.com/questions/the-underlyi...</td>\n",
       "      <td>Behavioral Change,Social Relationships</td>\n",
       "      <td>Rebecca Duellman</td>\n",
       "      <td>https://counselchat.com/therapists/rebecca-due...</td>\n",
       "      <td>&lt;p&gt;Hi there. It's great you are able to realiz...</td>\n",
       "      <td>0</td>\n",
       "    </tr>\n",
       "    <tr>\n",
       "      <th>4</th>\n",
       "      <td>556ba115c969ba5861709de6</td>\n",
       "      <td>Can I control anxiety without medication?</td>\n",
       "      <td>I had a head injury a few years ago and my min...</td>\n",
       "      <td>https://counselchat.com/questions/can-i-contro...</td>\n",
       "      <td>Anxiety</td>\n",
       "      <td>Rebecca Duellman</td>\n",
       "      <td>https://counselchat.com/therapists/rebecca-due...</td>\n",
       "      <td>&lt;p&gt;You didn't say what or how many medications...</td>\n",
       "      <td>0</td>\n",
       "    </tr>\n",
       "  </tbody>\n",
       "</table>\n",
       "</div>"
      ],
      "text/plain": [
       "                 questionID                                     questionTitle  \\\n",
       "0  5566fab2a64752d71ec3ca69  Escalating disagreements between mother and wife   \n",
       "1  5566f94fa64752d71ec3ca64          I'm addicted to smoking. How can I stop?   \n",
       "2  5567d26887a1cc0c3f3d8f46                    Keeping secrets from my family   \n",
       "3  556bed15c969ba5861709df5         The Underlying Causes of Being Possessive   \n",
       "4  556ba115c969ba5861709de6         Can I control anxiety without medication?   \n",
       "\n",
       "                                        questionText  \\\n",
       "0  My wife and mother are having tense disagreeme...   \n",
       "1  I'm planning to have baby, so I have to quit s...   \n",
       "2  I have secrets in my mind, and I don't know wh...   \n",
       "3  I am extremely possessive in my relationships ...   \n",
       "4  I had a head injury a few years ago and my min...   \n",
       "\n",
       "                                         questionUrl  \\\n",
       "0  https://counselchat.com/questions/escalating-d...   \n",
       "1  https://counselchat.com/questions/i-m-addicted...   \n",
       "2  https://counselchat.com/questions/keeping-secr...   \n",
       "3  https://counselchat.com/questions/the-underlyi...   \n",
       "4  https://counselchat.com/questions/can-i-contro...   \n",
       "\n",
       "                                   topics             therapistName  \\\n",
       "0                         Family Conflict  Kristi King-Morgan, LMSW   \n",
       "1               Substance Abuse,Addiction          Rebecca Duellman   \n",
       "2                         Family Conflict              Jeevna Bajaj   \n",
       "3  Behavioral Change,Social Relationships          Rebecca Duellman   \n",
       "4                                 Anxiety          Rebecca Duellman   \n",
       "\n",
       "                                        therapistUrl  \\\n",
       "0  https://counselchat.com/therapists/kristi-king...   \n",
       "1  https://counselchat.com/therapists/rebecca-due...   \n",
       "2    https://counselchat.com/therapists/jeevna-bajaj   \n",
       "3  https://counselchat.com/therapists/rebecca-due...   \n",
       "4  https://counselchat.com/therapists/rebecca-due...   \n",
       "\n",
       "                                          answerText  upvotes  \n",
       "0  <p>What you are describing is something psycho...        0  \n",
       "1  <p>Hi. Good for you in planning ahead to do wh...        0  \n",
       "2  <p>It sounds like keeping the secrets has beco...        0  \n",
       "3  <p>Hi there. It's great you are able to realiz...        0  \n",
       "4  <p>You didn't say what or how many medications...        0  "
      ]
     },
     "metadata": {},
     "output_type": "display_data"
    },
    {
     "data": {
      "application/vnd.microsoft.datawrangler.viewer.v0+json": {
       "columns": [
        {
         "name": "index",
         "rawType": "int64",
         "type": "integer"
        },
        {
         "name": "questionID",
         "rawType": "object",
         "type": "string"
        },
        {
         "name": "questionTitle",
         "rawType": "object",
         "type": "string"
        },
        {
         "name": "questionText",
         "rawType": "object",
         "type": "string"
        },
        {
         "name": "questionUrl",
         "rawType": "object",
         "type": "string"
        },
        {
         "name": "topics",
         "rawType": "object",
         "type": "string"
        },
        {
         "name": "therapistName",
         "rawType": "object",
         "type": "string"
        },
        {
         "name": "therapistUrl",
         "rawType": "object",
         "type": "string"
        },
        {
         "name": "answerText",
         "rawType": "object",
         "type": "string"
        },
        {
         "name": "upvotes",
         "rawType": "int64",
         "type": "integer"
        }
       ],
       "ref": "e6a47d9f-0f0d-4a6e-83e1-59fbb735daad",
       "rows": [
        [
         "1477",
         "56d2f2aa9471b0b41ec68e4d",
         "Is it healthy to embarrass a child as punishment?",
         "My grandson's step-mother sends him to school with a pink Barbie backpack as a form of punishment.",
         "https://counselchat.com/questions/is-it-healthy-to-embarrass-a-child-as-punishment",
         "Parenting,Family Conflict",
         "Candice Lawhorn",
         "https://counselchat.com/therapists/candice-lawhorn",
         "<p>Absolutely not!&nbsp;</p><p>It is never in a child's best interest to use humiliation as punishment. This can lead to issues in the relationship between parent and child as well as the child's social relationships. Kids have a hard enough time. To then go and cause them embarrassment is unconscionable.&nbsp;</p><p>The entire job of a parent is to prepare their child to become a successful, healthy adult. You do this by using healthy ways to teach a child when they make a mistake. Discipline shouldn't be seen as punishment. It should be seen as a way to teach a lesson. What lesson could this possibility be teaching him? Absolutely nothing.&nbsp;</p><p>Meanwhile, she is most likely damaging her relationship with him and causing great distress in his school day and peer interactions.&nbsp;</p><p>She should be one of the people he can come to when he's hurting; not someone who causes him pain.</p>",
         "0"
        ],
        [
         "1478",
         "5797a411b43cd7825e26e246",
         "How do I fix my relationship?",
         "My boyfriend is in recovery from drug addiction. We recently got into a fight and he has become very distant.  I don't know what to do to fix the relationship.",
         "https://counselchat.com/questions/how-do-i-fix-my-relationship-3",
         "Relationships,Addiction",
         "Sherry Katz, LCSW",
         "https://counselchat.com/therapists/sherry-katz-lcsw",
         "<p>I'm sorry you have tension between you and your bf.</p><p>A relationship means two people who relate, right?! &nbsp; If only one person does all the work to change their approach, what they expect, what they offer the other, then this becomes the new problem to solve.</p><p>If you've already done a significant amount of reflection and change in the way you relate to him, then the next step may be to be patient as long as possible while he decides what to change about his part in the relationship toward you.</p><p>Substance abuse recovery requires profound effort and reflection. &nbsp;If it is successful then the result will show very different qualities in your bf than the ones you know currently.</p><p>He may be so absorbed in the recovery that he can only concentrate on this. &nbsp;&nbsp;</p><p>Of course if the fights persist and you have been patient for what feels too long, then there are different questions to address.</p>",
         "0"
        ],
        [
         "1479",
         "5796a111bc069dff6a5339ca",
         "What are the long term effects of losing one's adopted mother?",
         "The birth mother attempted suicide several times while pregnant. The adopted mother was terminally ill upon adopting the baby and died when  the child was just over one year old.  The adopted father then remarried to a physically, psychologically, and emotionally abusive woman.  The child was placed in foster care at 11 years old. \r\n\r\nWhat might be the long term effects on an adult with this childhood history?",
         "https://counselchat.com/questions/what-are-the-long-term-effects-of-losing-one-s-adopted-mother",
         "Family Conflict,Parenting,Children & Adolescents",
         "Sherry Katz, LCSW",
         "https://counselchat.com/therapists/sherry-katz-lcsw",
         "<p>The true answer is, \"no one can really say with certainty\".</p><p>The variables are the way this child absorbs and adjusts to these significant changes in their life. &nbsp;All anyone can do is guess at this point and there's no good reason to guess.</p><p>The only general certainty is that the adult whom this child becomes will have had a profound encounter with the biggest types of human losses a child can go through.</p><p>Some people become great teachers, therapists and philosophers who have this background. &nbsp;Some give up on life and hide away from others.</p><p>The best anyone could do who knows this child is to offer love bc this is the greatest guarantee to show there are good people on this earth.</p>",
         "0"
        ],
        [
         "1480",
         "5795952cbc069dff6a5339aa",
         "How do I help my 20 year old boyfriend who says he hates his life?",
         "I think adult life is making him depressed and we often sleep in on weekends untill 1 or 2 pm. We just eat, smoke weed, watch movies, and he'll go on his phone all day. He doesn't seem motivated to do much and he's often angry.\r\n\r\n I have no clue how to help him take his mind off the negative, or to distract him into a different light. How do I help him?",
         "https://counselchat.com/questions/how-do-i-help-my-20-year-old-boyfriend-who-says-he-hates-his-life",
         "Relationships,Depression,Substance Abuse",
         "Sherry Katz, LCSW",
         "https://counselchat.com/therapists/sherry-katz-lcsw",
         "<p>How do you help yourself to believe you require more than what he offers to you?</p><p>What do you get from this relationship which feels satisfying?</p><p>To answer this question may in the longterm be the best way to help your bf.</p>",
         "0"
        ],
        [
         "1481",
         "5773e438b9ff751f196e8df0",
         "I'm worried about my new job.",
         "I just took a job that requires me to travel far away from home. My family and I really need this job.\r\n\r\nPeople keep telling me I have \"anxiety\" and I'm terrified of having an anxiety attack on the road. This is all new to me. What can I do?",
         "https://counselchat.com/questions/i-m-worried-about-my-new-job",
         "Anxiety,Career Counseling",
         "Philip Kolba",
         "https://counselchat.com/therapists/philip-kolba",
         "<p>hmm this is a tough one!</p>",
         "0"
        ]
       ],
       "shape": {
        "columns": 9,
        "rows": 5
       }
      },
      "text/html": [
       "<div>\n",
       "<style scoped>\n",
       "    .dataframe tbody tr th:only-of-type {\n",
       "        vertical-align: middle;\n",
       "    }\n",
       "\n",
       "    .dataframe tbody tr th {\n",
       "        vertical-align: top;\n",
       "    }\n",
       "\n",
       "    .dataframe thead th {\n",
       "        text-align: right;\n",
       "    }\n",
       "</style>\n",
       "<table border=\"1\" class=\"dataframe\">\n",
       "  <thead>\n",
       "    <tr style=\"text-align: right;\">\n",
       "      <th></th>\n",
       "      <th>questionID</th>\n",
       "      <th>questionTitle</th>\n",
       "      <th>questionText</th>\n",
       "      <th>questionUrl</th>\n",
       "      <th>topics</th>\n",
       "      <th>therapistName</th>\n",
       "      <th>therapistUrl</th>\n",
       "      <th>answerText</th>\n",
       "      <th>upvotes</th>\n",
       "    </tr>\n",
       "  </thead>\n",
       "  <tbody>\n",
       "    <tr>\n",
       "      <th>1477</th>\n",
       "      <td>56d2f2aa9471b0b41ec68e4d</td>\n",
       "      <td>Is it healthy to embarrass a child as punishment?</td>\n",
       "      <td>My grandson's step-mother sends him to school ...</td>\n",
       "      <td>https://counselchat.com/questions/is-it-health...</td>\n",
       "      <td>Parenting,Family Conflict</td>\n",
       "      <td>Candice Lawhorn</td>\n",
       "      <td>https://counselchat.com/therapists/candice-law...</td>\n",
       "      <td>&lt;p&gt;Absolutely not!&amp;nbsp;&lt;/p&gt;&lt;p&gt;It is never in ...</td>\n",
       "      <td>0</td>\n",
       "    </tr>\n",
       "    <tr>\n",
       "      <th>1478</th>\n",
       "      <td>5797a411b43cd7825e26e246</td>\n",
       "      <td>How do I fix my relationship?</td>\n",
       "      <td>My boyfriend is in recovery from drug addictio...</td>\n",
       "      <td>https://counselchat.com/questions/how-do-i-fix...</td>\n",
       "      <td>Relationships,Addiction</td>\n",
       "      <td>Sherry Katz, LCSW</td>\n",
       "      <td>https://counselchat.com/therapists/sherry-katz...</td>\n",
       "      <td>&lt;p&gt;I'm sorry you have tension between you and ...</td>\n",
       "      <td>0</td>\n",
       "    </tr>\n",
       "    <tr>\n",
       "      <th>1479</th>\n",
       "      <td>5796a111bc069dff6a5339ca</td>\n",
       "      <td>What are the long term effects of losing one's...</td>\n",
       "      <td>The birth mother attempted suicide several tim...</td>\n",
       "      <td>https://counselchat.com/questions/what-are-the...</td>\n",
       "      <td>Family Conflict,Parenting,Children &amp; Adolescents</td>\n",
       "      <td>Sherry Katz, LCSW</td>\n",
       "      <td>https://counselchat.com/therapists/sherry-katz...</td>\n",
       "      <td>&lt;p&gt;The true answer is, \"no one can really say ...</td>\n",
       "      <td>0</td>\n",
       "    </tr>\n",
       "    <tr>\n",
       "      <th>1480</th>\n",
       "      <td>5795952cbc069dff6a5339aa</td>\n",
       "      <td>How do I help my 20 year old boyfriend who say...</td>\n",
       "      <td>I think adult life is making him depressed and...</td>\n",
       "      <td>https://counselchat.com/questions/how-do-i-hel...</td>\n",
       "      <td>Relationships,Depression,Substance Abuse</td>\n",
       "      <td>Sherry Katz, LCSW</td>\n",
       "      <td>https://counselchat.com/therapists/sherry-katz...</td>\n",
       "      <td>&lt;p&gt;How do you help yourself to believe you req...</td>\n",
       "      <td>0</td>\n",
       "    </tr>\n",
       "    <tr>\n",
       "      <th>1481</th>\n",
       "      <td>5773e438b9ff751f196e8df0</td>\n",
       "      <td>I'm worried about my new job.</td>\n",
       "      <td>I just took a job that requires me to travel f...</td>\n",
       "      <td>https://counselchat.com/questions/i-m-worried-...</td>\n",
       "      <td>Anxiety,Career Counseling</td>\n",
       "      <td>Philip Kolba</td>\n",
       "      <td>https://counselchat.com/therapists/philip-kolba</td>\n",
       "      <td>&lt;p&gt;hmm this is a tough one!&lt;/p&gt;</td>\n",
       "      <td>0</td>\n",
       "    </tr>\n",
       "  </tbody>\n",
       "</table>\n",
       "</div>"
      ],
      "text/plain": [
       "                    questionID  \\\n",
       "1477  56d2f2aa9471b0b41ec68e4d   \n",
       "1478  5797a411b43cd7825e26e246   \n",
       "1479  5796a111bc069dff6a5339ca   \n",
       "1480  5795952cbc069dff6a5339aa   \n",
       "1481  5773e438b9ff751f196e8df0   \n",
       "\n",
       "                                          questionTitle  \\\n",
       "1477  Is it healthy to embarrass a child as punishment?   \n",
       "1478                      How do I fix my relationship?   \n",
       "1479  What are the long term effects of losing one's...   \n",
       "1480  How do I help my 20 year old boyfriend who say...   \n",
       "1481                      I'm worried about my new job.   \n",
       "\n",
       "                                           questionText  \\\n",
       "1477  My grandson's step-mother sends him to school ...   \n",
       "1478  My boyfriend is in recovery from drug addictio...   \n",
       "1479  The birth mother attempted suicide several tim...   \n",
       "1480  I think adult life is making him depressed and...   \n",
       "1481  I just took a job that requires me to travel f...   \n",
       "\n",
       "                                            questionUrl  \\\n",
       "1477  https://counselchat.com/questions/is-it-health...   \n",
       "1478  https://counselchat.com/questions/how-do-i-fix...   \n",
       "1479  https://counselchat.com/questions/what-are-the...   \n",
       "1480  https://counselchat.com/questions/how-do-i-hel...   \n",
       "1481  https://counselchat.com/questions/i-m-worried-...   \n",
       "\n",
       "                                                topics      therapistName  \\\n",
       "1477                         Parenting,Family Conflict    Candice Lawhorn   \n",
       "1478                           Relationships,Addiction  Sherry Katz, LCSW   \n",
       "1479  Family Conflict,Parenting,Children & Adolescents  Sherry Katz, LCSW   \n",
       "1480          Relationships,Depression,Substance Abuse  Sherry Katz, LCSW   \n",
       "1481                         Anxiety,Career Counseling       Philip Kolba   \n",
       "\n",
       "                                           therapistUrl  \\\n",
       "1477  https://counselchat.com/therapists/candice-law...   \n",
       "1478  https://counselchat.com/therapists/sherry-katz...   \n",
       "1479  https://counselchat.com/therapists/sherry-katz...   \n",
       "1480  https://counselchat.com/therapists/sherry-katz...   \n",
       "1481    https://counselchat.com/therapists/philip-kolba   \n",
       "\n",
       "                                             answerText  upvotes  \n",
       "1477  <p>Absolutely not!&nbsp;</p><p>It is never in ...        0  \n",
       "1478  <p>I'm sorry you have tension between you and ...        0  \n",
       "1479  <p>The true answer is, \"no one can really say ...        0  \n",
       "1480  <p>How do you help yourself to believe you req...        0  \n",
       "1481                    <p>hmm this is a tough one!</p>        0  "
      ]
     },
     "metadata": {},
     "output_type": "display_data"
    }
   ],
   "source": [
    "display(counsel_chat_df.head())\n",
    "display(counsel_chat_df.tail())"
   ]
  },
  {
   "cell_type": "code",
   "execution_count": 223,
   "id": "3248c363",
   "metadata": {},
   "outputs": [
    {
     "name": "stdout",
     "output_type": "stream",
     "text": [
      "<class 'pandas.core.frame.DataFrame'>\n",
      "RangeIndex: 1482 entries, 0 to 1481\n",
      "Data columns (total 9 columns):\n",
      " #   Column         Non-Null Count  Dtype \n",
      "---  ------         --------------  ----- \n",
      " 0   questionID     1482 non-null   object\n",
      " 1   questionTitle  1480 non-null   object\n",
      " 2   questionText   1383 non-null   object\n",
      " 3   questionUrl    1482 non-null   object\n",
      " 4   topics         1472 non-null   object\n",
      " 5   therapistName  1482 non-null   object\n",
      " 6   therapistUrl   1482 non-null   object\n",
      " 7   answerText     1482 non-null   object\n",
      " 8   upvotes        1482 non-null   int64 \n",
      "dtypes: int64(1), object(8)\n",
      "memory usage: 104.3+ KB\n"
     ]
    }
   ],
   "source": [
    "counsel_chat_df.info()"
   ]
  },
  {
   "cell_type": "code",
   "execution_count": 224,
   "id": "97350058",
   "metadata": {},
   "outputs": [
    {
     "data": {
      "application/vnd.microsoft.datawrangler.viewer.v0+json": {
       "columns": [
        {
         "name": "index",
         "rawType": "object",
         "type": "string"
        },
        {
         "name": "upvotes",
         "rawType": "float64",
         "type": "float"
        }
       ],
       "ref": "f44b2a52-a5f7-4533-8dea-888b199456c1",
       "rows": [
        [
         "count",
         "1482.0"
        ],
        [
         "mean",
         "0.0"
        ],
        [
         "std",
         "0.0"
        ],
        [
         "min",
         "0.0"
        ],
        [
         "25%",
         "0.0"
        ],
        [
         "50%",
         "0.0"
        ],
        [
         "75%",
         "0.0"
        ],
        [
         "max",
         "0.0"
        ]
       ],
       "shape": {
        "columns": 1,
        "rows": 8
       }
      },
      "text/html": [
       "<div>\n",
       "<style scoped>\n",
       "    .dataframe tbody tr th:only-of-type {\n",
       "        vertical-align: middle;\n",
       "    }\n",
       "\n",
       "    .dataframe tbody tr th {\n",
       "        vertical-align: top;\n",
       "    }\n",
       "\n",
       "    .dataframe thead th {\n",
       "        text-align: right;\n",
       "    }\n",
       "</style>\n",
       "<table border=\"1\" class=\"dataframe\">\n",
       "  <thead>\n",
       "    <tr style=\"text-align: right;\">\n",
       "      <th></th>\n",
       "      <th>upvotes</th>\n",
       "    </tr>\n",
       "  </thead>\n",
       "  <tbody>\n",
       "    <tr>\n",
       "      <th>count</th>\n",
       "      <td>1482.0</td>\n",
       "    </tr>\n",
       "    <tr>\n",
       "      <th>mean</th>\n",
       "      <td>0.0</td>\n",
       "    </tr>\n",
       "    <tr>\n",
       "      <th>std</th>\n",
       "      <td>0.0</td>\n",
       "    </tr>\n",
       "    <tr>\n",
       "      <th>min</th>\n",
       "      <td>0.0</td>\n",
       "    </tr>\n",
       "    <tr>\n",
       "      <th>25%</th>\n",
       "      <td>0.0</td>\n",
       "    </tr>\n",
       "    <tr>\n",
       "      <th>50%</th>\n",
       "      <td>0.0</td>\n",
       "    </tr>\n",
       "    <tr>\n",
       "      <th>75%</th>\n",
       "      <td>0.0</td>\n",
       "    </tr>\n",
       "    <tr>\n",
       "      <th>max</th>\n",
       "      <td>0.0</td>\n",
       "    </tr>\n",
       "  </tbody>\n",
       "</table>\n",
       "</div>"
      ],
      "text/plain": [
       "       upvotes\n",
       "count   1482.0\n",
       "mean       0.0\n",
       "std        0.0\n",
       "min        0.0\n",
       "25%        0.0\n",
       "50%        0.0\n",
       "75%        0.0\n",
       "max        0.0"
      ]
     },
     "execution_count": 224,
     "metadata": {},
     "output_type": "execute_result"
    }
   ],
   "source": [
    "counsel_chat_df.describe()"
   ]
  },
  {
   "cell_type": "markdown",
   "id": "6a82fdaa",
   "metadata": {},
   "source": [
    "### Cleaning Counsel Chat Data"
   ]
  },
  {
   "cell_type": "code",
   "execution_count": 225,
   "id": "682e3844",
   "metadata": {},
   "outputs": [],
   "source": [
    "counsel_chat_df = counsel_chat_df.drop(columns=['questionID', 'questionTitle', 'questionUrl', 'topics', 'therapistName', 'therapistUrl', 'upvotes'])\n"
   ]
  },
  {
   "cell_type": "code",
   "execution_count": 226,
   "id": "21c2c486",
   "metadata": {},
   "outputs": [
    {
     "name": "stdout",
     "output_type": "stream",
     "text": [
      "<class 'pandas.core.frame.DataFrame'>\n",
      "RangeIndex: 1482 entries, 0 to 1481\n",
      "Data columns (total 2 columns):\n",
      " #   Column        Non-Null Count  Dtype \n",
      "---  ------        --------------  ----- \n",
      " 0   questionText  1383 non-null   object\n",
      " 1   answerText    1482 non-null   object\n",
      "dtypes: object(2)\n",
      "memory usage: 23.3+ KB\n"
     ]
    }
   ],
   "source": [
    "counsel_chat_df.info()"
   ]
  },
  {
   "cell_type": "code",
   "execution_count": 227,
   "id": "210c0ac9",
   "metadata": {},
   "outputs": [
    {
     "data": {
      "application/vnd.microsoft.datawrangler.viewer.v0+json": {
       "columns": [
        {
         "name": "index",
         "rawType": "object",
         "type": "string"
        },
        {
         "name": "questionText",
         "rawType": "object",
         "type": "unknown"
        },
        {
         "name": "answerText",
         "rawType": "object",
         "type": "unknown"
        }
       ],
       "ref": "5d3b28dc-d967-4ecc-bc9a-2a012ee86e6e",
       "rows": [
        [
         "count",
         "1383",
         "1482"
        ],
        [
         "unique",
         "718",
         "1478"
        ],
        [
         "top",
         "I've gone to a couple therapy sessions so far and still everytime I walk in I get nervous and shaky.  Is this normal? Should I still be feeling like this?",
         "<p><br></p>"
        ],
        [
         "freq",
         "22",
         "5"
        ]
       ],
       "shape": {
        "columns": 2,
        "rows": 4
       }
      },
      "text/html": [
       "<div>\n",
       "<style scoped>\n",
       "    .dataframe tbody tr th:only-of-type {\n",
       "        vertical-align: middle;\n",
       "    }\n",
       "\n",
       "    .dataframe tbody tr th {\n",
       "        vertical-align: top;\n",
       "    }\n",
       "\n",
       "    .dataframe thead th {\n",
       "        text-align: right;\n",
       "    }\n",
       "</style>\n",
       "<table border=\"1\" class=\"dataframe\">\n",
       "  <thead>\n",
       "    <tr style=\"text-align: right;\">\n",
       "      <th></th>\n",
       "      <th>questionText</th>\n",
       "      <th>answerText</th>\n",
       "    </tr>\n",
       "  </thead>\n",
       "  <tbody>\n",
       "    <tr>\n",
       "      <th>count</th>\n",
       "      <td>1383</td>\n",
       "      <td>1482</td>\n",
       "    </tr>\n",
       "    <tr>\n",
       "      <th>unique</th>\n",
       "      <td>718</td>\n",
       "      <td>1478</td>\n",
       "    </tr>\n",
       "    <tr>\n",
       "      <th>top</th>\n",
       "      <td>I've gone to a couple therapy sessions so far ...</td>\n",
       "      <td>&lt;p&gt;&lt;br&gt;&lt;/p&gt;</td>\n",
       "    </tr>\n",
       "    <tr>\n",
       "      <th>freq</th>\n",
       "      <td>22</td>\n",
       "      <td>5</td>\n",
       "    </tr>\n",
       "  </tbody>\n",
       "</table>\n",
       "</div>"
      ],
      "text/plain": [
       "                                             questionText   answerText\n",
       "count                                                1383         1482\n",
       "unique                                                718         1478\n",
       "top     I've gone to a couple therapy sessions so far ...  <p><br></p>\n",
       "freq                                                   22            5"
      ]
     },
     "execution_count": 227,
     "metadata": {},
     "output_type": "execute_result"
    }
   ],
   "source": [
    "(counsel_chat_df.describe())"
   ]
  },
  {
   "cell_type": "code",
   "execution_count": 228,
   "id": "cb96965d",
   "metadata": {},
   "outputs": [
    {
     "data": {
      "application/vnd.microsoft.datawrangler.viewer.v0+json": {
       "columns": [
        {
         "name": "index",
         "rawType": "int64",
         "type": "integer"
        },
        {
         "name": "questionText",
         "rawType": "object",
         "type": "string"
        },
        {
         "name": "answerText",
         "rawType": "object",
         "type": "string"
        }
       ],
       "ref": "137ad4df-8f87-4e75-8283-b236803cd04d",
       "rows": [
        [
         "2",
         "I have secrets in my mind, and I don't know what to do with them. I don't want to tell my wife and mom because I don't want to hurt them. But I'm not sure how long that I can keep the secret to myself.\n\nWhat should I do? It's becoming annoying and making me anxious. Help me out",
         "<p>It sounds like keeping the secrets has become a problem for you now. There are several things to consider before you make a decision.</p><p>- You mentioned that you don't want your wife and mom to know because you don't want to hurt them – why would it hurt them? </p><p>- Is it necessary for them to know this information?</p><p>- What are the consequences of either telling them the truth or not telling them? (for you and for your wife and mom).</p><p>- Once you have considered these, think of what you would tell your friend if they were in your exact situation?</p><p>- Also, if your wife or mom were in your situation right now, what do you think they would do themselves?</p><p>- If your wife and mom were in this situation, how would you feel? Would you want to know the secrets?</p><p>- How has keeping these secrets affected your own mental and physical health?</p><p>Once you have looked at the problem from all angles, you will be able to better make a decision on whether it is right to tell them or not.</p>"
        ],
        [
         "915",
         "I've been with a man for four years. For the last year, he has said he is done, but he still talks, texts, visits, and has not moved on with anyone else. His words do not match his actions. I love this man, but it's hurting so much.",
         "<p>That does sound very confusing...and hurtful.&nbsp; You do not have to tolerate someone treating you in a way that hurts you.&nbsp; It may be helpful to decide where the boundaries are for you and to stay true to them in your interactions with him.&nbsp; You teach other people how they are allowed to treat you.</p><p><br></p>"
        ],
        [
         "1462",
         "My dad makes me feel like shit and like I'm worthless.  He calls me names and makes me feel depressed.  I want to move out because I swear if I stay here, I'm going to lose it. What can I do?",
         "<p>If you're actually able to afford to move out and support your own life, then this is a reasonable choice.</p><p>If you're not in such a position and must continue for a while to live w your dad, then emotionally protect yourself from him.</p><p>Doing so is much more difficult than maybe it sounds.</p><p>Do you have privacy in your house and can you spend more time in a self-created safe space than around your dad?</p><p>Also, limit the amount of dialogue you have with him so you don't offer him a chance to feel invited to criticize you.</p><p>Are there other people who live in the household w you and dad?</p><p>If yes, then are they similarly called names or are you singled out by him?&nbsp;</p><p>What do the other family members do when they hear your dad calling you names?</p><p>Is it possible the other family members don't realize how hurt and upset you are by your dad's behavior?</p><p>If yes, then make a project for yourself to tell the other family members that you suffer from your dad's name calling.</p><p>It is possible the other family members will step in and tell your dad to stop.</p><p>Not necessarily that he will stop. &nbsp;Knowing the others support you emotionally and find you credible is helpful on its own.</p>"
        ],
        [
         "59",
         "About 3 years ago or so I was skinny, but I was still ugly. I really do want to change that but I've tried 3 times. Now can I try but don't stop. At school I get bullied about my weight and my ugliness and I have been bullied my whole life that I believe them.\nHow can I stop thinking about them and don't let it get in my head? My parents said I don't weight that much but, they do think I am fat but, they tell me I am not. I told my parents that I need to go to a therapist, but they think I am fine and I think they don't want to deal with it.",
         "<p>Hey!  I am so impressed with your efforts to ask questions, to figure out how to change the messages that you hear (and say to yourself), and to get support!  And it sounds like you want to make some changes in your life!  Take a walk over to the counseling office at school, the school nurse or consider reaching out to your Pediatrician’s office. You don’t have to have your parent’s permission to seek support for yourself!  And maybe taking control of your support network will give you the strength to make even bigger decisions about your health!  I am rooting for you!  Be Wise!</p>"
        ],
        [
         "1443",
         "My fiancé and I come from a strong Christian background but both went off the \"straight and narrow\" once before. He is having a hard time accepting my past, especially  that I'm not a virgin. He has a hard time in general accepting himself and others. \r\n\r\nHis insecurities are hurting our relationship. How can I help him let go of my past and decide to live in the present?",
         "<p>You are right that his insecurities are at the root of the issue. &nbsp;You cannot change that for him. &nbsp;He will have to do the work to handle those emotions on his own. &nbsp;</p><p>What you can do is reassure him in whatever ways possible, but always recognizing that you can't \"fix\" this for him. &nbsp;</p><p>When I work with people who struggle with their partner's past experiences, I always frame it like this: &nbsp;Everything that you've experienced has resulted in you being the person you are today. &nbsp;The person they claim to love. &nbsp;If you had not gone through some of those experiences, you would not be in the position you're in now, ready to commit to him and know that you're satisfied with that. &nbsp;</p><p>Just as when bad things happen to us, we have to find a way to appreciate the lessons learned your fiance has to accept that you're the person you are today because of what you have gone through. &nbsp;Celebrate that you have moved through that and have landed in this perfect position with him!</p><p>Hope that helps,&nbsp;</p><p>Allison&nbsp;</p>"
        ],
        [
         "1054",
         "My girlfriend was abused as a child. Now, if I hug or touch her in any kind of way she says she feels as if she is being abused as a child. What might be going on?",
         "Thank you for your question. &nbsp;I think it's wonderful that you are approaching this with openness and curiosity. &nbsp;<div><br></div><div>The reaction you are describing is extremely common in survivors of abuse. &nbsp;<span style=\"line-height: 1.42857;\">What you said is insightful...when you touch her \"she feels as if she is being abused as a child.\" &nbsp;From your description, I would agree that in those moments she is re-experiencing something that happened in the past as if it is happening right now. &nbsp;Re-experiencing or&nbsp;</span><span style=\"line-height: 20px;\">reliving</span><span style=\"line-height: 1.42857;\">&nbsp;traumatic experiences is a key symptom of PTSD.</span><div><br></div><div>If you are seeking to better understand what is going on for her, I would highly recommend Bessel van der Kolk's book&nbsp;<span style=\"font-style: italic;\">the Body Keeps the Score. &nbsp;</span>This book also discusses effective treatments for overcoming trauma. &nbsp;</div></div><div><br></div><div>Best of luck to both of you,</div><div>Sarah</div>"
        ],
        [
         "699",
         "I believe my partner has a masturbation and porn problem. He masturbates daily, even when I am lying in bed sleeping beside him. We have sex once a week. He is rough and worries about his needs. He never touches me, and treats me like a porn star, wanting to finish on my face or chest.",
         "<p>There is a lot of information out there right now about how porn is harmful...to a person's brain chemistry, to a relationship and one's ability to love, and to how men see women and sex in general. Your partner demonstrates a clear disregard for your needs. There is evidence, as you suggest, that there is addiction here. I recommend seeing a therapist who can help you sort out where to go from here.&nbsp;</p>"
        ],
        [
         "1467",
         "I am in a high stress position for a tech company. I am being overworked and underpaid for my contributions and it is not only giving me anxiety, but also demoralizing.\r\n\r\nWhat can I do to manage my stress?",
         "<p>Being in this position is tough. If seeking another career opportunity isn't viable, there are a couple of things you can do to manage stress on the job.&nbsp;</p><p>&nbsp;1. Have a ritual to begin the day: &nbsp;Consider setting a one sentence intention and plan tasks for the day</p><p>2. Take the breaks you are offered. I know it can be difficult to step away from your desk to eat lunch or take 10-minute&nbsp;breaks during the day, but prioritize this if you can. Sometimes 30 minutes of downtime and fresh air can help you feel better.&nbsp;</p><p>3. &nbsp;Have a ritual to end the day: &nbsp;If you commute by car consider an end of the day playlist. &nbsp;Take a walk. Light a candle. &nbsp;Clear your desk and write tasks for the next day. Whatever it is, send a signal to your brain that it is time to end the day.</p><p>4. If you do work from home or are expected to be available&nbsp;after hours, set boundaries where you can. &nbsp;Set a timer for answering emails and stick to that. &nbsp;Have phone free meals. &nbsp; &nbsp;Try to engage in activities that are rejuvenating like spending time the friends and family. &nbsp;</p><p>5. Try to limit alcohol/ drugs. &nbsp;Move as much as you can. &nbsp;Get outside in natural sunlight. &nbsp;</p><p>These are just ideas/ suggestions. &nbsp;Even doing one of these things could be a step in the right direction. &nbsp;Best of luck!&nbsp;</p>"
        ],
        [
         "277",
         "I feel that I am struggling with undiagnosed bipolar disorder, and it is making my day-to-day life extremely difficult.",
         "It sounds like you are experiencing a great deal of distress and you're wondering if it may meet a diagnosis of Bipolar disorder. There are a few different types of Bipolar diagnoses in the DSM (diagnositc and statistical manual) and the best way to find out if your experiences would meet that diagnosis would be to meet with a mental health professional. You can also look up the diagnosis online and see if what you are going through meets the criteria.<br><br>One question that I would have for you is, what would it mean for you to find out that you meet the criteria for such a diagnosis? It sounds like whether or not you do, you are suffering and working with a therapist may help you get into a better place.<br>"
        ],
        [
         "1331",
         "Does counseling really do anything that can help people?",
         "I love this question! Some people shy away from counseling because they think since they already talk about how they feel to their relatives or friends they shouldn't need a counselor. However, if you are having a difficult time, counseling can be beneficial in helping you move forward and get your life back on track.&nbsp;<div><br></div><div>Counseling is not like the kind of talking we do to people we know. For one, your counselor does not have a history with you and has no expectations of how you will act and what you will do. In that way, counselors come to a session without judgement and expectation. This gives you the platform to truly explore your thoughts and feelings. A counselor can also help you understand your motivation and help you integrate your past experiences and recommend coping skills that can help you if you are feeling overwhelmed by your emotions.&nbsp;</div><div><br></div><div>Over time, as you work with a counselor you will get feedback and also be able to share new insights. The work you do is based on you and where you are at. Oftentimes, when we talk to friends they bring their own agenda to a conversation, and while they mean well they may offer solutions that work for them and not you. A counselor will help you uncover the solutions that work best for you and help you find the motivation to follow through with your plan.</div><div><br></div><div>Best of luck to you!</div>"
        ]
       ],
       "shape": {
        "columns": 2,
        "rows": 10
       }
      },
      "text/html": [
       "<div>\n",
       "<style scoped>\n",
       "    .dataframe tbody tr th:only-of-type {\n",
       "        vertical-align: middle;\n",
       "    }\n",
       "\n",
       "    .dataframe tbody tr th {\n",
       "        vertical-align: top;\n",
       "    }\n",
       "\n",
       "    .dataframe thead th {\n",
       "        text-align: right;\n",
       "    }\n",
       "</style>\n",
       "<table border=\"1\" class=\"dataframe\">\n",
       "  <thead>\n",
       "    <tr style=\"text-align: right;\">\n",
       "      <th></th>\n",
       "      <th>questionText</th>\n",
       "      <th>answerText</th>\n",
       "    </tr>\n",
       "  </thead>\n",
       "  <tbody>\n",
       "    <tr>\n",
       "      <th>2</th>\n",
       "      <td>I have secrets in my mind, and I don't know wh...</td>\n",
       "      <td>&lt;p&gt;It sounds like keeping the secrets has beco...</td>\n",
       "    </tr>\n",
       "    <tr>\n",
       "      <th>915</th>\n",
       "      <td>I've been with a man for four years. For the l...</td>\n",
       "      <td>&lt;p&gt;That does sound very confusing...and hurtfu...</td>\n",
       "    </tr>\n",
       "    <tr>\n",
       "      <th>1462</th>\n",
       "      <td>My dad makes me feel like shit and like I'm wo...</td>\n",
       "      <td>&lt;p&gt;If you're actually able to afford to move o...</td>\n",
       "    </tr>\n",
       "    <tr>\n",
       "      <th>59</th>\n",
       "      <td>About 3 years ago or so I was skinny, but I wa...</td>\n",
       "      <td>&lt;p&gt;Hey!  I am so impressed with your efforts t...</td>\n",
       "    </tr>\n",
       "    <tr>\n",
       "      <th>1443</th>\n",
       "      <td>My fiancé and I come from a strong Christian b...</td>\n",
       "      <td>&lt;p&gt;You are right that his insecurities are at ...</td>\n",
       "    </tr>\n",
       "    <tr>\n",
       "      <th>1054</th>\n",
       "      <td>My girlfriend was abused as a child. Now, if I...</td>\n",
       "      <td>Thank you for your question. &amp;nbsp;I think it'...</td>\n",
       "    </tr>\n",
       "    <tr>\n",
       "      <th>699</th>\n",
       "      <td>I believe my partner has a masturbation and po...</td>\n",
       "      <td>&lt;p&gt;There is a lot of information out there rig...</td>\n",
       "    </tr>\n",
       "    <tr>\n",
       "      <th>1467</th>\n",
       "      <td>I am in a high stress position for a tech comp...</td>\n",
       "      <td>&lt;p&gt;Being in this position is tough. If seeking...</td>\n",
       "    </tr>\n",
       "    <tr>\n",
       "      <th>277</th>\n",
       "      <td>I feel that I am struggling with undiagnosed b...</td>\n",
       "      <td>It sounds like you are experiencing a great de...</td>\n",
       "    </tr>\n",
       "    <tr>\n",
       "      <th>1331</th>\n",
       "      <td>Does counseling really do anything that can he...</td>\n",
       "      <td>I love this question! Some people shy away fro...</td>\n",
       "    </tr>\n",
       "  </tbody>\n",
       "</table>\n",
       "</div>"
      ],
      "text/plain": [
       "                                           questionText  \\\n",
       "2     I have secrets in my mind, and I don't know wh...   \n",
       "915   I've been with a man for four years. For the l...   \n",
       "1462  My dad makes me feel like shit and like I'm wo...   \n",
       "59    About 3 years ago or so I was skinny, but I wa...   \n",
       "1443  My fiancé and I come from a strong Christian b...   \n",
       "1054  My girlfriend was abused as a child. Now, if I...   \n",
       "699   I believe my partner has a masturbation and po...   \n",
       "1467  I am in a high stress position for a tech comp...   \n",
       "277   I feel that I am struggling with undiagnosed b...   \n",
       "1331  Does counseling really do anything that can he...   \n",
       "\n",
       "                                             answerText  \n",
       "2     <p>It sounds like keeping the secrets has beco...  \n",
       "915   <p>That does sound very confusing...and hurtfu...  \n",
       "1462  <p>If you're actually able to afford to move o...  \n",
       "59    <p>Hey!  I am so impressed with your efforts t...  \n",
       "1443  <p>You are right that his insecurities are at ...  \n",
       "1054  Thank you for your question. &nbsp;I think it'...  \n",
       "699   <p>There is a lot of information out there rig...  \n",
       "1467  <p>Being in this position is tough. If seeking...  \n",
       "277   It sounds like you are experiencing a great de...  \n",
       "1331  I love this question! Some people shy away fro...  "
      ]
     },
     "metadata": {},
     "output_type": "display_data"
    }
   ],
   "source": [
    "display(counsel_chat_df.sample(10))"
   ]
  },
  {
   "cell_type": "markdown",
   "id": "d9b3941e",
   "metadata": {},
   "source": [
    "### Drop Empty Rows"
   ]
  },
  {
   "cell_type": "code",
   "execution_count": 229,
   "id": "b33661bf",
   "metadata": {},
   "outputs": [],
   "source": [
    "# Drop rows with missing (NaN) question or answer, in place\n",
    "counsel_chat_df.dropna(subset=[\"questionText\", \"answerText\"], inplace=True)\n",
    "\n",
    "# Remove rows where either column is empty, whitespace, or answer is just <p><br></p>\n",
    "counsel_chat_df = counsel_chat_df[\n",
    "    (counsel_chat_df[\"questionText\"].str.strip() != \"\") &\n",
    "    (counsel_chat_df[\"answerText\"].str.strip() != \"\") &\n",
    "    (counsel_chat_df[\"answerText\"].str.strip() != \"<p><br></p>\")\n",
    "]"
   ]
  },
  {
   "cell_type": "code",
   "execution_count": 230,
   "id": "712c4000",
   "metadata": {},
   "outputs": [
    {
     "name": "stdout",
     "output_type": "stream",
     "text": [
      "<class 'pandas.core.frame.DataFrame'>\n",
      "Index: 1379 entries, 0 to 1481\n",
      "Data columns (total 2 columns):\n",
      " #   Column        Non-Null Count  Dtype \n",
      "---  ------        --------------  ----- \n",
      " 0   questionText  1379 non-null   object\n",
      " 1   answerText    1379 non-null   object\n",
      "dtypes: object(2)\n",
      "memory usage: 32.3+ KB\n"
     ]
    }
   ],
   "source": [
    "\n",
    "counsel_chat_df.info()\n"
   ]
  },
  {
   "cell_type": "code",
   "execution_count": 231,
   "id": "bf8b872e",
   "metadata": {},
   "outputs": [
    {
     "data": {
      "application/vnd.microsoft.datawrangler.viewer.v0+json": {
       "columns": [
        {
         "name": "index",
         "rawType": "object",
         "type": "string"
        },
        {
         "name": "questionText",
         "rawType": "object",
         "type": "unknown"
        },
        {
         "name": "answerText",
         "rawType": "object",
         "type": "unknown"
        }
       ],
       "ref": "33d8a054-baf5-4576-bc15-d8452065775c",
       "rows": [
        [
         "count",
         "1379",
         "1379"
        ],
        [
         "unique",
         "718",
         "1379"
        ],
        [
         "top",
         "I've gone to a couple therapy sessions so far and still everytime I walk in I get nervous and shaky.  Is this normal? Should I still be feeling like this?",
         "<p>What you are describing is something psychologists have termed &#34;triangulation&#34; which is what happens when one family member will not talk to the one they have a problem with and goes to a third member of the family to complain instead. You have been &#34;triangulated&#34; by your wife and mother.</p><p>This is often seen in families. It's seen everywhere. How many times have you had a problem with someone but you didn't go to them to tell them, you went to someone else to complain? It is usually difficult for a person to confront another, especially in relationships where there is a power differential. For example, I bet it's easier to complain to a coworker about your boss rather than go to the boss with your complaint.</p><p>I'm not saying triangulation is always a bad thing. Sometimes a third party mediator is needed to help solve problems between two people who disagree. That's what therapists do every day! Sometimes just getting someone else's perspective can help you see the issue clearer. However, in your situation it sounds like this is becoming a problem. You are stuck in the middle between two people that love you and that you love.</p><p>If you want to put a stop to this triangulation, you will need to encourage the two of them to talk to each other and work out their differences. Perhaps it was a simple misunderstanding that some open communication can clear up. Even if they really don't like each other and can't get along, your relationship with the both of them is going to continue to deteriorate the longer you are stuck in the middle. </p><p>Try to understand what might be the feelings behind their behavior. It is possible that they may both feel threatened by the other. These are the two most important women in your life and they both know it. Your mother may be afraid that she will lose you if she confronts your wife. I heard one mother-in-law describe her son's wife as the gateway to her son. The wife has the power to dictate when and how often the mother gets to see her son. The wife also is the gateway to the grandchildren. If your wife doesn't like her mother-in-law she can severely hamper or damage her mother-in-law's relationship with you and any children you two may have. From your wife's viewpoint, this is the woman that she may feel like she can never live up to. If you regularly praise your mom's cooking, her housework, gardening, or anything else your wife may feel that you are putting down her own efforts in these areas and can feel unappreciated. This can be especially difficult if your wife and mother are nothing alike. I am not saying that this is the case with your family's situation. These are just a few examples from other families in a similar situation as yours. </p><p>Regardless of what the cause is, if this dysfunctional pattern is allowed to continue, your mom and your wife will begin to get upset with you when you don't agree with them. They will get upset if you don't align yourself with them against the other. They will be offended when it seems like you are choosing the other one's side or that you are not standing up for them like they think you should. In worst cases, if it continues to escalate you may even find yourself in the impossible position of having to choose between your wife and your mother which may mean cutting off contact with the other, ending that relationship. Change the dynamics before it spirals even further.</p>"
        ],
        [
         "freq",
         "22",
         "1"
        ]
       ],
       "shape": {
        "columns": 2,
        "rows": 4
       }
      },
      "text/html": [
       "<div>\n",
       "<style scoped>\n",
       "    .dataframe tbody tr th:only-of-type {\n",
       "        vertical-align: middle;\n",
       "    }\n",
       "\n",
       "    .dataframe tbody tr th {\n",
       "        vertical-align: top;\n",
       "    }\n",
       "\n",
       "    .dataframe thead th {\n",
       "        text-align: right;\n",
       "    }\n",
       "</style>\n",
       "<table border=\"1\" class=\"dataframe\">\n",
       "  <thead>\n",
       "    <tr style=\"text-align: right;\">\n",
       "      <th></th>\n",
       "      <th>questionText</th>\n",
       "      <th>answerText</th>\n",
       "    </tr>\n",
       "  </thead>\n",
       "  <tbody>\n",
       "    <tr>\n",
       "      <th>count</th>\n",
       "      <td>1379</td>\n",
       "      <td>1379</td>\n",
       "    </tr>\n",
       "    <tr>\n",
       "      <th>unique</th>\n",
       "      <td>718</td>\n",
       "      <td>1379</td>\n",
       "    </tr>\n",
       "    <tr>\n",
       "      <th>top</th>\n",
       "      <td>I've gone to a couple therapy sessions so far ...</td>\n",
       "      <td>&lt;p&gt;What you are describing is something psycho...</td>\n",
       "    </tr>\n",
       "    <tr>\n",
       "      <th>freq</th>\n",
       "      <td>22</td>\n",
       "      <td>1</td>\n",
       "    </tr>\n",
       "  </tbody>\n",
       "</table>\n",
       "</div>"
      ],
      "text/plain": [
       "                                             questionText  \\\n",
       "count                                                1379   \n",
       "unique                                                718   \n",
       "top     I've gone to a couple therapy sessions so far ...   \n",
       "freq                                                   22   \n",
       "\n",
       "                                               answerText  \n",
       "count                                                1379  \n",
       "unique                                               1379  \n",
       "top     <p>What you are describing is something psycho...  \n",
       "freq                                                    1  "
      ]
     },
     "execution_count": 231,
     "metadata": {},
     "output_type": "execute_result"
    }
   ],
   "source": [
    "counsel_chat_df.describe()\n"
   ]
  },
  {
   "cell_type": "markdown",
   "id": "5acfd5e6",
   "metadata": {},
   "source": [
    "### Clean HTML"
   ]
  },
  {
   "cell_type": "code",
   "execution_count": 232,
   "id": "dd06a8b1",
   "metadata": {},
   "outputs": [],
   "source": [
    "import re\n",
    "import html\n",
    "\n",
    "def clean_html(text):\n",
    "    \"\"\"\n",
    "    Cleans HTML tags and entities from the input, then fixes spacing between sentences.\n",
    "\n",
    "    Parameters\n",
    "    ----------\n",
    "    - text: str or None\n",
    "        Raw string possibly containing HTML and HTML entities.\n",
    "\n",
    "    Returns\n",
    "    -------\n",
    "    - cleaned_text: str\n",
    "        Cleaned string, with HTML removed and sentence spacing fixed.\n",
    "    \"\"\"\n",
    "    if pd.isna(text):\n",
    "        return \"\"\n",
    "    # Remove HTML tags\n",
    "    text = re.sub(r'<.*?>', '', text)\n",
    "    # Convert HTML entities to unicode\n",
    "    text = html.unescape(text)\n",
    "    # Fix missing space between sentences (e.g., \"word.Something\" → \"word. Something\")\n",
    "    text = re.sub(r'([.!?])([A-Z0-9])', r'\\1 \\2', text)\n",
    "    # Strip leading/trailing whitespace\n",
    "    return text.strip()\n",
    "\n",
    "# Clean answerText column in-place\n",
    "counsel_chat_df['answerText'] = counsel_chat_df['answerText'].apply(clean_html)\n"
   ]
  },
  {
   "cell_type": "code",
   "execution_count": 233,
   "id": "5969d684",
   "metadata": {},
   "outputs": [
    {
     "name": "stdout",
     "output_type": "stream",
     "text": [
      "<class 'pandas.core.frame.DataFrame'>\n",
      "Index: 1379 entries, 0 to 1481\n",
      "Data columns (total 2 columns):\n",
      " #   Column        Non-Null Count  Dtype \n",
      "---  ------        --------------  ----- \n",
      " 0   questionText  1379 non-null   object\n",
      " 1   answerText    1379 non-null   object\n",
      "dtypes: object(2)\n",
      "memory usage: 32.3+ KB\n"
     ]
    }
   ],
   "source": [
    "counsel_chat_df.info()"
   ]
  },
  {
   "cell_type": "code",
   "execution_count": 234,
   "id": "a58be1b1",
   "metadata": {},
   "outputs": [
    {
     "data": {
      "application/vnd.microsoft.datawrangler.viewer.v0+json": {
       "columns": [
        {
         "name": "index",
         "rawType": "object",
         "type": "string"
        },
        {
         "name": "questionText",
         "rawType": "object",
         "type": "unknown"
        },
        {
         "name": "answerText",
         "rawType": "object",
         "type": "unknown"
        }
       ],
       "ref": "9835a4b8-e86d-4f67-80d7-a9af27ceed61",
       "rows": [
        [
         "count",
         "1379",
         "1379"
        ],
        [
         "unique",
         "718",
         "1379"
        ],
        [
         "top",
         "I've gone to a couple therapy sessions so far and still everytime I walk in I get nervous and shaky.  Is this normal? Should I still be feeling like this?",
         "What you are describing is something psychologists have termed \"triangulation\" which is what happens when one family member will not talk to the one they have a problem with and goes to a third member of the family to complain instead. You have been \"triangulated\" by your wife and mother. This is often seen in families. It's seen everywhere. How many times have you had a problem with someone but you didn't go to them to tell them, you went to someone else to complain? It is usually difficult for a person to confront another, especially in relationships where there is a power differential. For example, I bet it's easier to complain to a coworker about your boss rather than go to the boss with your complaint. I'm not saying triangulation is always a bad thing. Sometimes a third party mediator is needed to help solve problems between two people who disagree. That's what therapists do every day! Sometimes just getting someone else's perspective can help you see the issue clearer. However, in your situation it sounds like this is becoming a problem. You are stuck in the middle between two people that love you and that you love. If you want to put a stop to this triangulation, you will need to encourage the two of them to talk to each other and work out their differences. Perhaps it was a simple misunderstanding that some open communication can clear up. Even if they really don't like each other and can't get along, your relationship with the both of them is going to continue to deteriorate the longer you are stuck in the middle. Try to understand what might be the feelings behind their behavior. It is possible that they may both feel threatened by the other. These are the two most important women in your life and they both know it. Your mother may be afraid that she will lose you if she confronts your wife. I heard one mother-in-law describe her son's wife as the gateway to her son. The wife has the power to dictate when and how often the mother gets to see her son. The wife also is the gateway to the grandchildren. If your wife doesn't like her mother-in-law she can severely hamper or damage her mother-in-law's relationship with you and any children you two may have. From your wife's viewpoint, this is the woman that she may feel like she can never live up to. If you regularly praise your mom's cooking, her housework, gardening, or anything else your wife may feel that you are putting down her own efforts in these areas and can feel unappreciated. This can be especially difficult if your wife and mother are nothing alike. I am not saying that this is the case with your family's situation. These are just a few examples from other families in a similar situation as yours. Regardless of what the cause is, if this dysfunctional pattern is allowed to continue, your mom and your wife will begin to get upset with you when you don't agree with them. They will get upset if you don't align yourself with them against the other. They will be offended when it seems like you are choosing the other one's side or that you are not standing up for them like they think you should. In worst cases, if it continues to escalate you may even find yourself in the impossible position of having to choose between your wife and your mother which may mean cutting off contact with the other, ending that relationship. Change the dynamics before it spirals even further."
        ],
        [
         "freq",
         "22",
         "1"
        ]
       ],
       "shape": {
        "columns": 2,
        "rows": 4
       }
      },
      "text/html": [
       "<div>\n",
       "<style scoped>\n",
       "    .dataframe tbody tr th:only-of-type {\n",
       "        vertical-align: middle;\n",
       "    }\n",
       "\n",
       "    .dataframe tbody tr th {\n",
       "        vertical-align: top;\n",
       "    }\n",
       "\n",
       "    .dataframe thead th {\n",
       "        text-align: right;\n",
       "    }\n",
       "</style>\n",
       "<table border=\"1\" class=\"dataframe\">\n",
       "  <thead>\n",
       "    <tr style=\"text-align: right;\">\n",
       "      <th></th>\n",
       "      <th>questionText</th>\n",
       "      <th>answerText</th>\n",
       "    </tr>\n",
       "  </thead>\n",
       "  <tbody>\n",
       "    <tr>\n",
       "      <th>count</th>\n",
       "      <td>1379</td>\n",
       "      <td>1379</td>\n",
       "    </tr>\n",
       "    <tr>\n",
       "      <th>unique</th>\n",
       "      <td>718</td>\n",
       "      <td>1379</td>\n",
       "    </tr>\n",
       "    <tr>\n",
       "      <th>top</th>\n",
       "      <td>I've gone to a couple therapy sessions so far ...</td>\n",
       "      <td>What you are describing is something psycholog...</td>\n",
       "    </tr>\n",
       "    <tr>\n",
       "      <th>freq</th>\n",
       "      <td>22</td>\n",
       "      <td>1</td>\n",
       "    </tr>\n",
       "  </tbody>\n",
       "</table>\n",
       "</div>"
      ],
      "text/plain": [
       "                                             questionText  \\\n",
       "count                                                1379   \n",
       "unique                                                718   \n",
       "top     I've gone to a couple therapy sessions so far ...   \n",
       "freq                                                   22   \n",
       "\n",
       "                                               answerText  \n",
       "count                                                1379  \n",
       "unique                                               1379  \n",
       "top     What you are describing is something psycholog...  \n",
       "freq                                                    1  "
      ]
     },
     "execution_count": 234,
     "metadata": {},
     "output_type": "execute_result"
    }
   ],
   "source": [
    "counsel_chat_df.describe()"
   ]
  },
  {
   "cell_type": "markdown",
   "id": "3743f30b",
   "metadata": {},
   "source": [
    "## Final Counsel Chat"
   ]
  },
  {
   "cell_type": "code",
   "execution_count": 235,
   "id": "39f7f4d1",
   "metadata": {},
   "outputs": [
    {
     "name": "stdout",
     "output_type": "stream",
     "text": [
      "Counsel Chat: (1379, 2)\n"
     ]
    }
   ],
   "source": [
    "# Reset index in place (overwrite the DataFrame with the re-indexed one)\n",
    "counsel_chat_df.reset_index(drop=True, inplace=True)\n",
    "\n",
    "print(f\"Counsel Chat: {counsel_chat_df.shape}\")"
   ]
  },
  {
   "cell_type": "code",
   "execution_count": 236,
   "id": "1f8a5617",
   "metadata": {},
   "outputs": [
    {
     "data": {
      "application/vnd.microsoft.datawrangler.viewer.v0+json": {
       "columns": [
        {
         "name": "index",
         "rawType": "int64",
         "type": "integer"
        },
        {
         "name": "questionText",
         "rawType": "object",
         "type": "string"
        },
        {
         "name": "answerText",
         "rawType": "object",
         "type": "string"
        }
       ],
       "ref": "17f38cfd-0a4a-434c-8892-ed2080c6d35d",
       "rows": [
        [
         "139",
         "Tonight, my husband seemed to put our son down through an incorrect approach. His approach was perfectly wrong. I found myself defending my son. I told him that what he did was not the way to encourage our son.\r\nInstead of watching my husband’s harsh behavior I decided to sit beside my son and, together, we worked on his science assignment in order to encourage him to study. My husband got upset and he was swearing at me. He threatened me. I knew that he was not joking. His words scared me a lot!",
         "I have had these many cases, but in situations like this.... If it does get out of hand, the police do need to be involved. Sit down and talk to your husband when he is calm and collective."
        ],
        [
         "1071",
         "We've been in a long distance relationship for two and a half years. I recently saw his phone and saw the people he texts the most and one of them was a  female coworker. I don't know how to approach this situation. How do I ask him about it?.",
         "The best way to get an answer is to just ask. I would defintely let him know you are asking out of concern and not to judge or criticize. Allow him to explain his answer and see how you feel about it. Try to ask him when you both are already discussing other topics and just say, \"Can I ask you something?\" Earl Lewiswww. RelationshipsGoneRight.com"
        ],
        [
         "59",
         "When having sex I think of other men and want other men all day long. Been married 3 years, together 14. What do you think?",
         "Sustaining passion in marriage is tough stuff. It's a relatively modern dilemma you are facing with perhaps unrealistic expectations of what marriage \"should\" be. It sounds like your definitions of love and sexual passion have merged together, that's both common and confusing! Intimacy and sexuality within your marriage are bound to ebb and flow. Resparking your passion will involve growing. Using your sexual drama and fantasies as windows into discovering your needs (security) and wants (desires). Marriage is a people growing process; you mature into one another and to achieve fulfillment your continued development will be required."
        ],
        [
         "535",
         "I feel like every time I do something someone asks me to, I never fully meet what they want. I feel that when I finish it, they always think that they should have picked someone else to do it. I feel like  they just want nothing to do with me.",
         "It sounds like you have the perception that people are frequently disappointed in you, wish you were different or someone else, and ultimately reject you. One question I would have for you is what is your evidence that people feel this way? Is there anything in people's words or behaviors that gives you this impression? If your not sure, it may be useful for you to try to notice what people say and do in response to you, even though you perceive these attitudes within them. Additionally, working with a competent therapist may be a great way to get an answer to your question as well as developing ways to move forward with that answer and gain a sense of self-esteem and security in your relationships. One possibility that comes to mind, of which there may be more, is that as we grow up, we often develop relational templates, or sets of expectations about how people are and will relate to us, which influence our experiences and behavior in relationships. Sometimes the templates that we develop to stay connected growing up are not particularly adaptive for adult life and can hamper our self-esteem and capacity for comfortable intimacy as an adult. You ask a great question here, and one that can be very hard to see through, given the difficulty of feeling that people think of you in this way, and I hope that you will stay curious about this and consider working with a therapist who is trained to help you discover the answer."
        ],
        [
         "557",
         "I am currently suffering from erectile dysfunction and have tried Viagra, Cialis, etc.  Nothing seemed to work.  My girlfriend of 3 years is very sexually frustrated.  I told her that it is okay for her to have sex with other men.  Is that really okay?",
         "Hello, and thank you for your question. I completely agree with Dr. Zehner. Many couples are in open-type or polyamorous relationships where one or both partners engage in sexual relationships with others. The key thing about this is that it really does have to be something that both people are okay with. Now, as Dr. Zehner indicated, what may be okay today may not feel okay tomorrow, so good communication is essential. The truth is, even in polyamorous relationships where partners are in agreement, jealousy does sometimes happen. Here is a good article about polyamorous relationships and the issue of jealousy: http://everydayfeminism.com/2016/02/polyamorous-dealing-jealousy/This site has many other articles about polyamory. If you type in \"polyamory\" in their search box, you will find some good information. I wish you well,Robin J. Landwehr, DBH, LPC, NCC"
        ],
        [
         "759",
         "For the past four weeks, I've been having nightmares and hearing voices telling me of horrible things. They're not random voices, but rather, the voices of those I care about.",
         "Write down your nightmares and discuss them with an analyst or psychotherapist who specializes in dreams, as I do. If you are hearing voices while awake, see a doctor right away.  If the voices are strictly in your dreams, do call for therapy and talk to your caring others about what's happening."
        ],
        [
         "1060",
         "My fiancé and I have been together for 3 years and our relationship has always been good. The only issue we had was that he felt like he wasn't getting enough sexual attention from me. \r\n\r\nI recently found out he cheated on me with another women.  He says he wants his family back but I'm confused on what to do.  Is it possible for us to get past the cheating, or should I just move on?",
         "It's possible but challenging. Both partners need to be feel motivated enough to repair the relationship and dedicated to the work needed to address whatever underlying issues led to the serious breach of trust. For some people, cheating is an absolute deal breaker—for others, the context of the cheating allows them to see it as a mistake that they can forgive their partner for. So it depends on how you feel about the relationship and whether you want to put in the work to repair it. If you're not sure how you feel, counseling can help you resolve the ambiguity, either individually or with your partner. Then, depending on what you decide, a counselor can help you either repair the relationship or decouple from your former partner."
        ],
        [
         "623",
         "It was over 20 years ago, but the pain has resurfaced again now because I have started seeing her Facebook posts about how great her life is. I feel so angry. How can I handle this?",
         "A mediated safe talk session between. You and your sister. Then, you and your husband have a mediated safe talk.  So both hear what you feel in the respective relationships. Possibly the last step is a mediated  safe talk with sister, husband and youcoversation, in the future."
        ],
        [
         "576",
         "I have PTSD from childhood events and other traumas as an adult. I have panic attacks, nightmares, anger, and at times depression. I feel like I'm always on the edge or just apathetic.  Can I fix this by myself?",
         "When it comes to trauma, especially in the event that it has caused you to develop PTSD, there can be a lot of difficulty in attempting to resolve these issues on your own simply because of how strong your urge to avoid it whenever thoughts of the traumatic experience come up. PTSD is best treated with the help of a mental health professional and if using the Cognitive Processing Approach can be treated in as few as 17 weeks. As for your other concerns, many of these can be treated independently if you have the motivation to manage your way through. Panic attacks and depression, specifically, often respond well to self-help treatment manuals. The Centre for Clinical Interventions is a great online resource for workbooks to help you learn to manage the depression and panic attacks. Whether you decide to work through these concerns on your own or in professional therapy, just know that your panic attacks must be managed prior to addressing your trauma. Hope this is helpful and if you have any other questions don't hesitate to ask."
        ],
        [
         "264",
         "My mom and I have been fighting a lot now, and I just want a good relationship with her.",
         "The best way to work on a relationship is for both people to engage with the problem and start communicating with each other more effectively.  One of the hardest things about this, however, is getting both people within the relationship to recognize that they are both responsible for the successes and failures within the relationship and remove all the all-or-nothing blame. The best style of communication is open and asking for clarification; why not try asking your mother why this particular fight/situation is eliciting such an angry response.  Often, the simple act of expressing that we don't understand the other person's point of view can open the doors to better levels of communication. The hardest part is trying to remain humble as we seek out that clarification and avoid the blaming language we are so used to using in such times."
        ]
       ],
       "shape": {
        "columns": 2,
        "rows": 10
       }
      },
      "text/html": [
       "<div>\n",
       "<style scoped>\n",
       "    .dataframe tbody tr th:only-of-type {\n",
       "        vertical-align: middle;\n",
       "    }\n",
       "\n",
       "    .dataframe tbody tr th {\n",
       "        vertical-align: top;\n",
       "    }\n",
       "\n",
       "    .dataframe thead th {\n",
       "        text-align: right;\n",
       "    }\n",
       "</style>\n",
       "<table border=\"1\" class=\"dataframe\">\n",
       "  <thead>\n",
       "    <tr style=\"text-align: right;\">\n",
       "      <th></th>\n",
       "      <th>questionText</th>\n",
       "      <th>answerText</th>\n",
       "    </tr>\n",
       "  </thead>\n",
       "  <tbody>\n",
       "    <tr>\n",
       "      <th>139</th>\n",
       "      <td>Tonight, my husband seemed to put our son down...</td>\n",
       "      <td>I have had these many cases, but in situations...</td>\n",
       "    </tr>\n",
       "    <tr>\n",
       "      <th>1071</th>\n",
       "      <td>We've been in a long distance relationship for...</td>\n",
       "      <td>The best way to get an answer is to just ask. ...</td>\n",
       "    </tr>\n",
       "    <tr>\n",
       "      <th>59</th>\n",
       "      <td>When having sex I think of other men and want ...</td>\n",
       "      <td>Sustaining passion in marriage is tough stuff....</td>\n",
       "    </tr>\n",
       "    <tr>\n",
       "      <th>535</th>\n",
       "      <td>I feel like every time I do something someone ...</td>\n",
       "      <td>It sounds like you have the perception that pe...</td>\n",
       "    </tr>\n",
       "    <tr>\n",
       "      <th>557</th>\n",
       "      <td>I am currently suffering from erectile dysfunc...</td>\n",
       "      <td>Hello, and thank you for your question. I comp...</td>\n",
       "    </tr>\n",
       "    <tr>\n",
       "      <th>759</th>\n",
       "      <td>For the past four weeks, I've been having nigh...</td>\n",
       "      <td>Write down your nightmares and discuss them wi...</td>\n",
       "    </tr>\n",
       "    <tr>\n",
       "      <th>1060</th>\n",
       "      <td>My fiancé and I have been together for 3 years...</td>\n",
       "      <td>It's possible but challenging. Both partners n...</td>\n",
       "    </tr>\n",
       "    <tr>\n",
       "      <th>623</th>\n",
       "      <td>It was over 20 years ago, but the pain has res...</td>\n",
       "      <td>A mediated safe talk session between. You and ...</td>\n",
       "    </tr>\n",
       "    <tr>\n",
       "      <th>576</th>\n",
       "      <td>I have PTSD from childhood events and other tr...</td>\n",
       "      <td>When it comes to trauma, especially in the eve...</td>\n",
       "    </tr>\n",
       "    <tr>\n",
       "      <th>264</th>\n",
       "      <td>My mom and I have been fighting a lot now, and...</td>\n",
       "      <td>The best way to work on a relationship is for ...</td>\n",
       "    </tr>\n",
       "  </tbody>\n",
       "</table>\n",
       "</div>"
      ],
      "text/plain": [
       "                                           questionText  \\\n",
       "139   Tonight, my husband seemed to put our son down...   \n",
       "1071  We've been in a long distance relationship for...   \n",
       "59    When having sex I think of other men and want ...   \n",
       "535   I feel like every time I do something someone ...   \n",
       "557   I am currently suffering from erectile dysfunc...   \n",
       "759   For the past four weeks, I've been having nigh...   \n",
       "1060  My fiancé and I have been together for 3 years...   \n",
       "623   It was over 20 years ago, but the pain has res...   \n",
       "576   I have PTSD from childhood events and other tr...   \n",
       "264   My mom and I have been fighting a lot now, and...   \n",
       "\n",
       "                                             answerText  \n",
       "139   I have had these many cases, but in situations...  \n",
       "1071  The best way to get an answer is to just ask. ...  \n",
       "59    Sustaining passion in marriage is tough stuff....  \n",
       "535   It sounds like you have the perception that pe...  \n",
       "557   Hello, and thank you for your question. I comp...  \n",
       "759   Write down your nightmares and discuss them wi...  \n",
       "1060  It's possible but challenging. Both partners n...  \n",
       "623   A mediated safe talk session between. You and ...  \n",
       "576   When it comes to trauma, especially in the eve...  \n",
       "264   The best way to work on a relationship is for ...  "
      ]
     },
     "execution_count": 236,
     "metadata": {},
     "output_type": "execute_result"
    }
   ],
   "source": [
    "counsel_chat_df.sample(10)"
   ]
  },
  {
   "cell_type": "markdown",
   "id": "5c857794",
   "metadata": {},
   "source": [
    "# Normalize Column Names Across All 3 Mental Health Datasets"
   ]
  },
  {
   "cell_type": "code",
   "execution_count": 237,
   "id": "471ebf44",
   "metadata": {},
   "outputs": [],
   "source": [
    "# Normalize column names across all datasets for consistency\n",
    "interview_df.rename(columns={'input': 'Context', 'output': 'Response'}, inplace=True)\n",
    "counsel_chat_df.rename(columns={'questionText': 'Context', 'answerText': 'Response'}, inplace=True)\n"
   ]
  },
  {
   "cell_type": "code",
   "execution_count": 238,
   "id": "d9bf0da7",
   "metadata": {},
   "outputs": [
    {
     "name": "stdout",
     "output_type": "stream",
     "text": [
      "<class 'pandas.core.frame.DataFrame'>\n",
      "RangeIndex: 2740 entries, 0 to 2739\n",
      "Data columns (total 2 columns):\n",
      " #   Column    Non-Null Count  Dtype \n",
      "---  ------    --------------  ----- \n",
      " 0   Context   2740 non-null   object\n",
      " 1   Response  2740 non-null   object\n",
      "dtypes: object(2)\n",
      "memory usage: 42.9+ KB\n"
     ]
    },
    {
     "data": {
      "text/plain": [
       "None"
      ]
     },
     "metadata": {},
     "output_type": "display_data"
    },
    {
     "name": "stdout",
     "output_type": "stream",
     "text": [
      "<class 'pandas.core.frame.DataFrame'>\n",
      "RangeIndex: 6233 entries, 0 to 6232\n",
      "Data columns (total 2 columns):\n",
      " #   Column    Non-Null Count  Dtype \n",
      "---  ------    --------------  ----- \n",
      " 0   Context   6233 non-null   object\n",
      " 1   Response  6233 non-null   object\n",
      "dtypes: object(2)\n",
      "memory usage: 97.5+ KB\n"
     ]
    },
    {
     "data": {
      "text/plain": [
       "None"
      ]
     },
     "metadata": {},
     "output_type": "display_data"
    },
    {
     "name": "stdout",
     "output_type": "stream",
     "text": [
      "<class 'pandas.core.frame.DataFrame'>\n",
      "RangeIndex: 1379 entries, 0 to 1378\n",
      "Data columns (total 2 columns):\n",
      " #   Column    Non-Null Count  Dtype \n",
      "---  ------    --------------  ----- \n",
      " 0   Context   1379 non-null   object\n",
      " 1   Response  1379 non-null   object\n",
      "dtypes: object(2)\n",
      "memory usage: 21.7+ KB\n"
     ]
    },
    {
     "data": {
      "text/plain": [
       "None"
      ]
     },
     "metadata": {},
     "output_type": "display_data"
    }
   ],
   "source": [
    "display(nlp_convos_df.info())\n",
    "display(interview_df.info())\n",
    "display(counsel_chat_df.info())"
   ]
  },
  {
   "cell_type": "code",
   "execution_count": 239,
   "id": "0d649136",
   "metadata": {},
   "outputs": [
    {
     "name": "stdout",
     "output_type": "stream",
     "text": [
      "Currently have 10352 out of the desired 17500.\n",
      "We still need 7148 more conversations to reach our goal.\n"
     ]
    }
   ],
   "source": [
    "total = len(nlp_convos_df) + len(interview_df) + len(counsel_chat_df)\n",
    "goal = 17500\n",
    "print(f\"Currently have {total} out of the desired {goal}.\\nWe still need {goal - total} more conversations to reach our goal.\")"
   ]
  },
  {
   "cell_type": "markdown",
   "id": "6530063b",
   "metadata": {},
   "source": [
    "# Reading in the Pair Dataset"
   ]
  },
  {
   "cell_type": "markdown",
   "id": "a11fb7c6",
   "metadata": {},
   "source": [
    "## exploring pair_df"
   ]
  },
  {
   "cell_type": "code",
   "execution_count": 240,
   "id": "7f30a857",
   "metadata": {},
   "outputs": [
    {
     "data": {
      "application/vnd.microsoft.datawrangler.viewer.v0+json": {
       "columns": [
        {
         "name": "index",
         "rawType": "int64",
         "type": "integer"
        },
        {
         "name": "prompt",
         "rawType": "object",
         "type": "string"
        },
        {
         "name": "hq1",
         "rawType": "object",
         "type": "string"
        },
        {
         "name": "hq2",
         "rawType": "object",
         "type": "string"
        },
        {
         "name": "mq1",
         "rawType": "object",
         "type": "string"
        },
        {
         "name": "lq1",
         "rawType": "object",
         "type": "string"
        },
        {
         "name": "lq2",
         "rawType": "object",
         "type": "string"
        },
        {
         "name": "lq3",
         "rawType": "object",
         "type": "string"
        },
        {
         "name": "lq4",
         "rawType": "object",
         "type": "string"
        },
        {
         "name": "lq5",
         "rawType": "object",
         "type": "string"
        }
       ],
       "ref": "c47b7f45-4948-4ba5-8a46-4ed4b9d94636",
       "rows": [
        [
         "215",
         "I don’t have a drinking problem. I drink less than a lot of my friends. My dad is an alcoholic and I know what an alcoholic looks like.",
         "At this point you’re not concerned about the amount of alcohol that you’re drinking. It feels minimal compared to your friends and your dad.",
         "Growing up with an alcoholic as a father has had a significant impact on your life.",
         "You're not convinced you have a problem with alcohol.",
         "You're convinced you're not an alcoholic. You should try not drinking for a month and decide if you're like you're dad or not.",
         "How do you know you're seeing yourself clearly?",
         "If your friends are alcoholics, then why would you want to compare yourself to them?",
         "That's great that you aren't drinking as much as some others, but that doesn't mean you don't have a drinking problem. Do you have problems stopping drinking or feel like you \"have to have it?\"",
         "Are there any instances where you can think of where your drinking has caused any problem?"
        ],
        [
         "49",
         "I smoked throughout my previous pregnancy, and it was fine – both me and the baby were fine. I don’t feel it is a problem I should focus on.",
         "Since you smoked during your last pregnancy and your first baby was born healthy, you feel like smoking during this pregnancy isn’t an issue.",
         "There's absolutely no reason for you to quit smoking right now.",
         "You smoked during your last pregnancy so smoking during this pregnancy doesn't feel like a problem.",
         "Your child is still too young to know what the long-term effects are of you choosing to smoke during your previous pregnancy. Let me tell you why it's bad for you and your babies health.",
         "Do you know the long-term impacts your child may experience from having a mom who smokes?",
         "Wrong and you know very well what you did was wrong, don't repeat that, your life is also your child's and no longer yours.",
         "Saying \"I did it and was fine\" is no excuse. There is ample research out there that it is harmful. I'm sure your doctor can help you find a way to cut back or quit that is safe for both you and the baby.",
         "I'm sure it was fine but you don't realize the underlying impacts it might have for the future. Maybe to you everything was okay but what will happen down the line. Most people only see what's on the surface but the most damaging effects happen on the inside, physically and emotionally."
        ],
        [
         "68",
         "I tried to quit smoking several times, however, each time I started smoking again. But after I found out I was pregnant, I never thought of smoking again. The baby is the greatest motivation. There are no temptations to smoke. Now I am focusing on raising the baby. The baby is my life.  That should keep me from smoking.",
         "You weren't successful with quitting in the past. It wasn't until you got pregnant and had this new future for yourself that you were finally able to see yourself as a non-smoker.",
         "Getting pregnant gave you all the motivation you need to stay smoke-free.",
         "You've tried many times to quit smoking, but right now you're focused on the baby.",
         "People who stop smoking for someone else, end up relapsing. You need to be focused on yourself.",
         "What are some better reasons besides the baby to quit?",
         "That's great to hear. You will not regret making that decision.",
         "That's right, do it for your child, good things happen.",
         "Im really glad to hear that"
        ],
        [
         "100",
         "I don’t have to worry, the breast cancer is on my Dad’s side.",
         "If the history of breast cancer was on your mom's side of the family, you might feel differently. ",
         "You don't think you can inherit breast cancer gene mutations from your dad side of the family.",
         "Since your family’s history of breast cancer is on your dad’s side, at this point you don’t see a reason to worry.",
         "You don't understand how breast cancer Gene mutations are inherited. Let me tell you how genes are inherited.",
         "Did you know you can also inherit breast cancer from your dad's side?",
         "Don't think like that and that's wrong, always take the exams.",
         "Actually, breast cancer can be caused by a number of genes, and also by environmental factors. I would advise getting a mammogram.",
         "I think you should speak to a doctor about this"
        ],
        [
         "216",
         "What I like to do for fun is hang out with my friends and party. Nothing bad has happened except a car accident and everyone was ok.",
         "You’d only be concerned about your partying if an accident happened where everyone wasn’t ok.",
         "Having a good time with your friends is important to you.",
         "You like to hang out with your friends and party to have fun.",
         "Next time the consequences could be worse. There's no reason to have a next time. Let's make a plan for how to get home more safely when you go out.",
         "Have you considered that something bad did happen, because there was an accident? ",
         "That is something bad happened and this time you were safe, but other times you might not be lucky. Even if you are see if you could hurt someone else in another vehicle.",
         "If the accident was through no fault of yours, it's a factor, if someone was intoxicated, the responsibility is total of you and with other people on the road.",
         "That sounds pretty bad, and expensive. I'm glad everyone was OK, though. While partying is fun, there are risks and you should never drink and drive."
        ]
       ],
       "shape": {
        "columns": 9,
        "rows": 5
       }
      },
      "text/html": [
       "<div>\n",
       "<style scoped>\n",
       "    .dataframe tbody tr th:only-of-type {\n",
       "        vertical-align: middle;\n",
       "    }\n",
       "\n",
       "    .dataframe tbody tr th {\n",
       "        vertical-align: top;\n",
       "    }\n",
       "\n",
       "    .dataframe thead th {\n",
       "        text-align: right;\n",
       "    }\n",
       "</style>\n",
       "<table border=\"1\" class=\"dataframe\">\n",
       "  <thead>\n",
       "    <tr style=\"text-align: right;\">\n",
       "      <th></th>\n",
       "      <th>prompt</th>\n",
       "      <th>hq1</th>\n",
       "      <th>hq2</th>\n",
       "      <th>mq1</th>\n",
       "      <th>lq1</th>\n",
       "      <th>lq2</th>\n",
       "      <th>lq3</th>\n",
       "      <th>lq4</th>\n",
       "      <th>lq5</th>\n",
       "    </tr>\n",
       "  </thead>\n",
       "  <tbody>\n",
       "    <tr>\n",
       "      <th>215</th>\n",
       "      <td>I don’t have a drinking problem. I drink less ...</td>\n",
       "      <td>At this point you’re not concerned about the a...</td>\n",
       "      <td>Growing up with an alcoholic as a father has h...</td>\n",
       "      <td>You're not convinced you have a problem with a...</td>\n",
       "      <td>You're convinced you're not an alcoholic. You ...</td>\n",
       "      <td>How do you know you're seeing yourself clearly?</td>\n",
       "      <td>If your friends are alcoholics, then why would...</td>\n",
       "      <td>That's great that you aren't drinking as much ...</td>\n",
       "      <td>Are there any instances where you can think of...</td>\n",
       "    </tr>\n",
       "    <tr>\n",
       "      <th>49</th>\n",
       "      <td>I smoked throughout my previous pregnancy, and...</td>\n",
       "      <td>Since you smoked during your last pregnancy an...</td>\n",
       "      <td>There's absolutely no reason for you to quit s...</td>\n",
       "      <td>You smoked during your last pregnancy so smoki...</td>\n",
       "      <td>Your child is still too young to know what the...</td>\n",
       "      <td>Do you know the long-term impacts your child m...</td>\n",
       "      <td>Wrong and you know very well what you did was ...</td>\n",
       "      <td>Saying \"I did it and was fine\" is no excuse. T...</td>\n",
       "      <td>I'm sure it was fine but you don't realize the...</td>\n",
       "    </tr>\n",
       "    <tr>\n",
       "      <th>68</th>\n",
       "      <td>I tried to quit smoking several times, however...</td>\n",
       "      <td>You weren't successful with quitting in the pa...</td>\n",
       "      <td>Getting pregnant gave you all the motivation y...</td>\n",
       "      <td>You've tried many times to quit smoking, but r...</td>\n",
       "      <td>People who stop smoking for someone else, end ...</td>\n",
       "      <td>What are some better reasons besides the baby ...</td>\n",
       "      <td>That's great to hear. You will not regret maki...</td>\n",
       "      <td>That's right, do it for your child, good thing...</td>\n",
       "      <td>Im really glad to hear that</td>\n",
       "    </tr>\n",
       "    <tr>\n",
       "      <th>100</th>\n",
       "      <td>I don’t have to worry, the breast cancer is on...</td>\n",
       "      <td>If the history of breast cancer was on your mo...</td>\n",
       "      <td>You don't think you can inherit breast cancer ...</td>\n",
       "      <td>Since your family’s history of breast cancer i...</td>\n",
       "      <td>You don't understand how breast cancer Gene mu...</td>\n",
       "      <td>Did you know you can also inherit breast cance...</td>\n",
       "      <td>Don't think like that and that's wrong, always...</td>\n",
       "      <td>Actually, breast cancer can be caused by a num...</td>\n",
       "      <td>I think you should speak to a doctor about this</td>\n",
       "    </tr>\n",
       "    <tr>\n",
       "      <th>216</th>\n",
       "      <td>What I like to do for fun is hang out with my ...</td>\n",
       "      <td>You’d only be concerned about your partying if...</td>\n",
       "      <td>Having a good time with your friends is import...</td>\n",
       "      <td>You like to hang out with your friends and par...</td>\n",
       "      <td>Next time the consequences could be worse. The...</td>\n",
       "      <td>Have you considered that something bad did hap...</td>\n",
       "      <td>That is something bad happened and this time y...</td>\n",
       "      <td>If the accident was through no fault of yours,...</td>\n",
       "      <td>That sounds pretty bad, and expensive. I'm gla...</td>\n",
       "    </tr>\n",
       "  </tbody>\n",
       "</table>\n",
       "</div>"
      ],
      "text/plain": [
       "                                                prompt  \\\n",
       "215  I don’t have a drinking problem. I drink less ...   \n",
       "49   I smoked throughout my previous pregnancy, and...   \n",
       "68   I tried to quit smoking several times, however...   \n",
       "100  I don’t have to worry, the breast cancer is on...   \n",
       "216  What I like to do for fun is hang out with my ...   \n",
       "\n",
       "                                                   hq1  \\\n",
       "215  At this point you’re not concerned about the a...   \n",
       "49   Since you smoked during your last pregnancy an...   \n",
       "68   You weren't successful with quitting in the pa...   \n",
       "100  If the history of breast cancer was on your mo...   \n",
       "216  You’d only be concerned about your partying if...   \n",
       "\n",
       "                                                   hq2  \\\n",
       "215  Growing up with an alcoholic as a father has h...   \n",
       "49   There's absolutely no reason for you to quit s...   \n",
       "68   Getting pregnant gave you all the motivation y...   \n",
       "100  You don't think you can inherit breast cancer ...   \n",
       "216  Having a good time with your friends is import...   \n",
       "\n",
       "                                                   mq1  \\\n",
       "215  You're not convinced you have a problem with a...   \n",
       "49   You smoked during your last pregnancy so smoki...   \n",
       "68   You've tried many times to quit smoking, but r...   \n",
       "100  Since your family’s history of breast cancer i...   \n",
       "216  You like to hang out with your friends and par...   \n",
       "\n",
       "                                                   lq1  \\\n",
       "215  You're convinced you're not an alcoholic. You ...   \n",
       "49   Your child is still too young to know what the...   \n",
       "68   People who stop smoking for someone else, end ...   \n",
       "100  You don't understand how breast cancer Gene mu...   \n",
       "216  Next time the consequences could be worse. The...   \n",
       "\n",
       "                                                   lq2  \\\n",
       "215    How do you know you're seeing yourself clearly?   \n",
       "49   Do you know the long-term impacts your child m...   \n",
       "68   What are some better reasons besides the baby ...   \n",
       "100  Did you know you can also inherit breast cance...   \n",
       "216  Have you considered that something bad did hap...   \n",
       "\n",
       "                                                   lq3  \\\n",
       "215  If your friends are alcoholics, then why would...   \n",
       "49   Wrong and you know very well what you did was ...   \n",
       "68   That's great to hear. You will not regret maki...   \n",
       "100  Don't think like that and that's wrong, always...   \n",
       "216  That is something bad happened and this time y...   \n",
       "\n",
       "                                                   lq4  \\\n",
       "215  That's great that you aren't drinking as much ...   \n",
       "49   Saying \"I did it and was fine\" is no excuse. T...   \n",
       "68   That's right, do it for your child, good thing...   \n",
       "100  Actually, breast cancer can be caused by a num...   \n",
       "216  If the accident was through no fault of yours,...   \n",
       "\n",
       "                                                   lq5  \n",
       "215  Are there any instances where you can think of...  \n",
       "49   I'm sure it was fine but you don't realize the...  \n",
       "68                         Im really glad to hear that  \n",
       "100    I think you should speak to a doctor about this  \n",
       "216  That sounds pretty bad, and expensive. I'm gla...  "
      ]
     },
     "metadata": {},
     "output_type": "display_data"
    }
   ],
   "source": [
    "import pandas as pd\n",
    "\n",
    "# Read CSV\n",
    "pair_path = '../datasets/custom_corpus/chatbot_sets/mental_health_sets/pair_dataset/pair_data.csv'\n",
    "pair_df = pd.read_csv(pair_path)\n",
    "\n",
    "# Quick check\n",
    "display(pair_df.sample(5))"
   ]
  },
  {
   "cell_type": "code",
   "execution_count": 241,
   "id": "5ae4e9b0",
   "metadata": {},
   "outputs": [
    {
     "name": "stdout",
     "output_type": "stream",
     "text": [
      "<class 'pandas.core.frame.DataFrame'>\n",
      "RangeIndex: 318 entries, 0 to 317\n",
      "Data columns (total 9 columns):\n",
      " #   Column  Non-Null Count  Dtype \n",
      "---  ------  --------------  ----- \n",
      " 0   prompt  318 non-null    object\n",
      " 1   hq1     318 non-null    object\n",
      " 2   hq2     318 non-null    object\n",
      " 3   mq1     318 non-null    object\n",
      " 4   lq1     318 non-null    object\n",
      " 5   lq2     318 non-null    object\n",
      " 6   lq3     318 non-null    object\n",
      " 7   lq4     318 non-null    object\n",
      " 8   lq5     318 non-null    object\n",
      "dtypes: object(9)\n",
      "memory usage: 22.5+ KB\n"
     ]
    }
   ],
   "source": [
    "pair_df.info()"
   ]
  },
  {
   "cell_type": "code",
   "execution_count": 242,
   "id": "ccaa8c51",
   "metadata": {},
   "outputs": [],
   "source": [
    "# Drop unwanted columns in-place\n",
    "pair_df.drop(columns=['mq1', 'lq1', 'lq2', 'lq3', 'lq4', 'lq5'], inplace=True)"
   ]
  },
  {
   "cell_type": "code",
   "execution_count": 243,
   "id": "786ed4d4",
   "metadata": {},
   "outputs": [
    {
     "data": {
      "application/vnd.microsoft.datawrangler.viewer.v0+json": {
       "columns": [
        {
         "name": "index",
         "rawType": "int64",
         "type": "integer"
        },
        {
         "name": "prompt",
         "rawType": "object",
         "type": "string"
        },
        {
         "name": "hq1",
         "rawType": "object",
         "type": "string"
        },
        {
         "name": "hq2",
         "rawType": "object",
         "type": "string"
        }
       ],
       "ref": "a1a80c6d-1bf2-40ed-a034-826beab13a6e",
       "rows": [
        [
         "0",
         "I know I am too big, and I probably should exercise more and eat better, but I am so busy. I’ve got school, homework, and my job at the mall, so I don’t see anywhere to fit it in. Plus, I can’t afford any of those gyms. And none of my friends want to exercise with me. They’re lazier than I am.  ",
         "You are starting to think it’s time to do something about your weight, and you know exercise and eating a little better would help. But fitting it in, between school and work, seems almost impossible. The gym isn’t an option, and you can’t think of any friends who would work out with you. But it is something you are starting to think about.",
         "You have put a lot of effort into losing weight but it has not paid off. You are starting to feel a bit desperate. Diets don’t seem to work for you. You are looking for something different that might last.\r\n"
        ],
        [
         "1",
         "I don’t trust doctors.  I don’t trust the CDC.  God gave us an immune system and as a healthy persons that is all I need to protect myself from getting COVID.   I think this is all a bunch of hysteria and profiteering by the Pharm industry",
         "You feel that your immune systems is strong enough to protect you from getting covid-19 and you don’t trust the motives of the health system and pharmaceutical industry. You don’t think they are telling us the truth about COVID-19.  They have ulterior motives.",
         "Putting your trust in others is hard for you. It scares you that a company or entity potentially could be experimenting on you with their treatments."
        ],
        [
         "2",
         "Doctor x, I don’t want the Covid vaccine for me or my kids. They don’t know enough about how safe it is and what long term side effects it causes. It is not for me or my family. ",
         "You are worried about long term effects from the vaccine that might not have been found, and don’t want to take that risk for you or your family.  You are trying to do the right thing and for now not getting vaccinated feels like the best thing for you and your family. ",
         "You're concerned that not enough research has been done on the vaccine."
        ],
        [
         "3",
         "I know I should probably get the vaccine. I have my mother living with me and she has type-2 diabetes. I would hate to bring it home to her. But I just don’t know about those side effects. I heard it changes your DNA and the vaccine can give you the virus.",
         "While you have some concerns about the vaccine, part of you feels it would  protect your mother and you don’t want to be responsible for her getting sick.  Sounds like finding answers to your questions about the safety of the vaccine might help you decide.    ",
         "You want to protect your mom, but you're worried about the side effects of being vaccinated."
        ],
        [
         "4",
         "I know because I am so heavy and have diabetes I probably should exercise more, but I am so busy. With the three kids and my new job I don’t see anywhere to fit it in. Plus, I hate the gym.  I can’t stand being around all that Lycra. My husband is useless because he already plays basketball four times a week.  ",
         "Although part of you knows exercise might help you get control of your weight and your blood sugar, fitting it in seems almost impossible given how busy you are at home and at work. The gym turns you off and your husband doesn’t seem like he can be much help either.  But it is something you think could be good for you. ",
         "because of your crazy schedule with the kids and your job, you just can't see how to make regular physical activity fit into your schedule right now."
        ]
       ],
       "shape": {
        "columns": 3,
        "rows": 5
       }
      },
      "text/html": [
       "<div>\n",
       "<style scoped>\n",
       "    .dataframe tbody tr th:only-of-type {\n",
       "        vertical-align: middle;\n",
       "    }\n",
       "\n",
       "    .dataframe tbody tr th {\n",
       "        vertical-align: top;\n",
       "    }\n",
       "\n",
       "    .dataframe thead th {\n",
       "        text-align: right;\n",
       "    }\n",
       "</style>\n",
       "<table border=\"1\" class=\"dataframe\">\n",
       "  <thead>\n",
       "    <tr style=\"text-align: right;\">\n",
       "      <th></th>\n",
       "      <th>prompt</th>\n",
       "      <th>hq1</th>\n",
       "      <th>hq2</th>\n",
       "    </tr>\n",
       "  </thead>\n",
       "  <tbody>\n",
       "    <tr>\n",
       "      <th>0</th>\n",
       "      <td>I know I am too big, and I probably should exe...</td>\n",
       "      <td>You are starting to think it’s time to do some...</td>\n",
       "      <td>You have put a lot of effort into losing weigh...</td>\n",
       "    </tr>\n",
       "    <tr>\n",
       "      <th>1</th>\n",
       "      <td>I don’t trust doctors.  I don’t trust the CDC....</td>\n",
       "      <td>You feel that your immune systems is strong en...</td>\n",
       "      <td>Putting your trust in others is hard for you. ...</td>\n",
       "    </tr>\n",
       "    <tr>\n",
       "      <th>2</th>\n",
       "      <td>Doctor x, I don’t want the Covid vaccine for m...</td>\n",
       "      <td>You are worried about long term effects from t...</td>\n",
       "      <td>You're concerned that not enough research has ...</td>\n",
       "    </tr>\n",
       "    <tr>\n",
       "      <th>3</th>\n",
       "      <td>I know I should probably get the vaccine. I ha...</td>\n",
       "      <td>While you have some concerns about the vaccine...</td>\n",
       "      <td>You want to protect your mom, but you're worri...</td>\n",
       "    </tr>\n",
       "    <tr>\n",
       "      <th>4</th>\n",
       "      <td>I know because I am so heavy and have diabetes...</td>\n",
       "      <td>Although part of you knows exercise might help...</td>\n",
       "      <td>because of your crazy schedule with the kids a...</td>\n",
       "    </tr>\n",
       "  </tbody>\n",
       "</table>\n",
       "</div>"
      ],
      "text/plain": [
       "                                              prompt  \\\n",
       "0  I know I am too big, and I probably should exe...   \n",
       "1  I don’t trust doctors.  I don’t trust the CDC....   \n",
       "2  Doctor x, I don’t want the Covid vaccine for m...   \n",
       "3  I know I should probably get the vaccine. I ha...   \n",
       "4  I know because I am so heavy and have diabetes...   \n",
       "\n",
       "                                                 hq1  \\\n",
       "0  You are starting to think it’s time to do some...   \n",
       "1  You feel that your immune systems is strong en...   \n",
       "2  You are worried about long term effects from t...   \n",
       "3  While you have some concerns about the vaccine...   \n",
       "4  Although part of you knows exercise might help...   \n",
       "\n",
       "                                                 hq2  \n",
       "0  You have put a lot of effort into losing weigh...  \n",
       "1  Putting your trust in others is hard for you. ...  \n",
       "2  You're concerned that not enough research has ...  \n",
       "3  You want to protect your mom, but you're worri...  \n",
       "4  because of your crazy schedule with the kids a...  "
      ]
     },
     "metadata": {},
     "output_type": "display_data"
    },
    {
     "data": {
      "application/vnd.microsoft.datawrangler.viewer.v0+json": {
       "columns": [
        {
         "name": "index",
         "rawType": "int64",
         "type": "integer"
        },
        {
         "name": "prompt",
         "rawType": "object",
         "type": "string"
        },
        {
         "name": "hq1",
         "rawType": "object",
         "type": "string"
        },
        {
         "name": "hq2",
         "rawType": "object",
         "type": "string"
        }
       ],
       "ref": "0603206b-49a1-470e-a54b-ace001082a1d",
       "rows": [
        [
         "313",
         "I don’t eat any lunchmeat anymore, bread hardly ever, I don’t hardly use salt anymore",
         "You've really tried to change your diet in hopes of being healthier.",
         "You've putting a lot of effort into eating healthier and you're trying to find the right substitutions for your diet."
        ],
        [
         "314",
         "Well, I read canned vegetables are better than the fresh stuff.",
         "You've done research to try to figure out what's healthire -- fresh or canned. If it's ok with you, I can share a little more....",
         "Learning about what you put in your body is important to you."
        ],
        [
         "315",
         "I can do that when I’m at the store.",
         "You're committed to doing it the next time you head to the store.",
         "You're starting to think of how you can put this plan in motion. You're thinking that you'll be able to get started the next time you head to the store."
        ],
        [
         "316",
         "I’d like to eat less processed foods, but I guess I’m not sure what those are. ",
         "While you are ready to start eating fewer processed foods, you're going to need some information before you're ready to get started. If it's ok with you, I can share...",
         "You'd really like to learn more about processed foods."
        ],
        [
         "317",
         "I like going to the gym, I like exercising; I exercise a couple hours a week. But I’m not sure what to do when the gym is closed.",
         "You know that exericse is good for you and you enjoy going to the gym. Right now you're looking for ideas of things you can do to get physical activity on the days the gym is closed.",
         "You're already exercising a couple hours a week. Now it's just a matter of figuring out what to do for physical activity on the days you can't make it to the gym."
        ]
       ],
       "shape": {
        "columns": 3,
        "rows": 5
       }
      },
      "text/html": [
       "<div>\n",
       "<style scoped>\n",
       "    .dataframe tbody tr th:only-of-type {\n",
       "        vertical-align: middle;\n",
       "    }\n",
       "\n",
       "    .dataframe tbody tr th {\n",
       "        vertical-align: top;\n",
       "    }\n",
       "\n",
       "    .dataframe thead th {\n",
       "        text-align: right;\n",
       "    }\n",
       "</style>\n",
       "<table border=\"1\" class=\"dataframe\">\n",
       "  <thead>\n",
       "    <tr style=\"text-align: right;\">\n",
       "      <th></th>\n",
       "      <th>prompt</th>\n",
       "      <th>hq1</th>\n",
       "      <th>hq2</th>\n",
       "    </tr>\n",
       "  </thead>\n",
       "  <tbody>\n",
       "    <tr>\n",
       "      <th>313</th>\n",
       "      <td>I don’t eat any lunchmeat anymore, bread hardl...</td>\n",
       "      <td>You've really tried to change your diet in hop...</td>\n",
       "      <td>You've putting a lot of effort into eating hea...</td>\n",
       "    </tr>\n",
       "    <tr>\n",
       "      <th>314</th>\n",
       "      <td>Well, I read canned vegetables are better than...</td>\n",
       "      <td>You've done research to try to figure out what...</td>\n",
       "      <td>Learning about what you put in your body is im...</td>\n",
       "    </tr>\n",
       "    <tr>\n",
       "      <th>315</th>\n",
       "      <td>I can do that when I’m at the store.</td>\n",
       "      <td>You're committed to doing it the next time you...</td>\n",
       "      <td>You're starting to think of how you can put th...</td>\n",
       "    </tr>\n",
       "    <tr>\n",
       "      <th>316</th>\n",
       "      <td>I’d like to eat less processed foods, but I gu...</td>\n",
       "      <td>While you are ready to start eating fewer proc...</td>\n",
       "      <td>You'd really like to learn more about processe...</td>\n",
       "    </tr>\n",
       "    <tr>\n",
       "      <th>317</th>\n",
       "      <td>I like going to the gym, I like exercising; I ...</td>\n",
       "      <td>You know that exericse is good for you and you...</td>\n",
       "      <td>You're already exercising a couple hours a wee...</td>\n",
       "    </tr>\n",
       "  </tbody>\n",
       "</table>\n",
       "</div>"
      ],
      "text/plain": [
       "                                                prompt  \\\n",
       "313  I don’t eat any lunchmeat anymore, bread hardl...   \n",
       "314  Well, I read canned vegetables are better than...   \n",
       "315               I can do that when I’m at the store.   \n",
       "316  I’d like to eat less processed foods, but I gu...   \n",
       "317  I like going to the gym, I like exercising; I ...   \n",
       "\n",
       "                                                   hq1  \\\n",
       "313  You've really tried to change your diet in hop...   \n",
       "314  You've done research to try to figure out what...   \n",
       "315  You're committed to doing it the next time you...   \n",
       "316  While you are ready to start eating fewer proc...   \n",
       "317  You know that exericse is good for you and you...   \n",
       "\n",
       "                                                   hq2  \n",
       "313  You've putting a lot of effort into eating hea...  \n",
       "314  Learning about what you put in your body is im...  \n",
       "315  You're starting to think of how you can put th...  \n",
       "316  You'd really like to learn more about processe...  \n",
       "317  You're already exercising a couple hours a wee...  "
      ]
     },
     "metadata": {},
     "output_type": "display_data"
    }
   ],
   "source": [
    "display(pair_df.head())   \n",
    "display(pair_df.tail())"
   ]
  },
  {
   "cell_type": "code",
   "execution_count": 244,
   "id": "1a5be170",
   "metadata": {},
   "outputs": [
    {
     "name": "stdout",
     "output_type": "stream",
     "text": [
      "<class 'pandas.core.frame.DataFrame'>\n",
      "RangeIndex: 318 entries, 0 to 317\n",
      "Data columns (total 3 columns):\n",
      " #   Column  Non-Null Count  Dtype \n",
      "---  ------  --------------  ----- \n",
      " 0   prompt  318 non-null    object\n",
      " 1   hq1     318 non-null    object\n",
      " 2   hq2     318 non-null    object\n",
      "dtypes: object(3)\n",
      "memory usage: 7.6+ KB\n"
     ]
    }
   ],
   "source": [
    "pair_df.info()"
   ]
  },
  {
   "cell_type": "code",
   "execution_count": 245,
   "id": "aa6bb970",
   "metadata": {},
   "outputs": [
    {
     "data": {
      "application/vnd.microsoft.datawrangler.viewer.v0+json": {
       "columns": [
        {
         "name": "index",
         "rawType": "object",
         "type": "string"
        },
        {
         "name": "prompt",
         "rawType": "object",
         "type": "unknown"
        },
        {
         "name": "hq1",
         "rawType": "object",
         "type": "unknown"
        },
        {
         "name": "hq2",
         "rawType": "object",
         "type": "unknown"
        }
       ],
       "ref": "17a5ea3e-fe93-47aa-85ab-ec8246d84dbd",
       "rows": [
        [
         "count",
         "318",
         "318",
         "318"
        ],
        [
         "unique",
         "318",
         "317",
         "317"
        ],
        [
         "top",
         "I know I am too big, and I probably should exercise more and eat better, but I am so busy. I’ve got school, homework, and my job at the mall, so I don’t see anywhere to fit it in. Plus, I can’t afford any of those gyms. And none of my friends want to exercise with me. They’re lazier than I am.  ",
         "It is difficult for you to take the medications when they don’t agree with you. So, if a different medication tasted better, you might be able to take it.",
         "After a busy week, you really need an outlet -- something to help you unwind. "
        ],
        [
         "freq",
         "1",
         "2",
         "2"
        ]
       ],
       "shape": {
        "columns": 3,
        "rows": 4
       }
      },
      "text/html": [
       "<div>\n",
       "<style scoped>\n",
       "    .dataframe tbody tr th:only-of-type {\n",
       "        vertical-align: middle;\n",
       "    }\n",
       "\n",
       "    .dataframe tbody tr th {\n",
       "        vertical-align: top;\n",
       "    }\n",
       "\n",
       "    .dataframe thead th {\n",
       "        text-align: right;\n",
       "    }\n",
       "</style>\n",
       "<table border=\"1\" class=\"dataframe\">\n",
       "  <thead>\n",
       "    <tr style=\"text-align: right;\">\n",
       "      <th></th>\n",
       "      <th>prompt</th>\n",
       "      <th>hq1</th>\n",
       "      <th>hq2</th>\n",
       "    </tr>\n",
       "  </thead>\n",
       "  <tbody>\n",
       "    <tr>\n",
       "      <th>count</th>\n",
       "      <td>318</td>\n",
       "      <td>318</td>\n",
       "      <td>318</td>\n",
       "    </tr>\n",
       "    <tr>\n",
       "      <th>unique</th>\n",
       "      <td>318</td>\n",
       "      <td>317</td>\n",
       "      <td>317</td>\n",
       "    </tr>\n",
       "    <tr>\n",
       "      <th>top</th>\n",
       "      <td>I know I am too big, and I probably should exe...</td>\n",
       "      <td>It is difficult for you to take the medication...</td>\n",
       "      <td>After a busy week, you really need an outlet -...</td>\n",
       "    </tr>\n",
       "    <tr>\n",
       "      <th>freq</th>\n",
       "      <td>1</td>\n",
       "      <td>2</td>\n",
       "      <td>2</td>\n",
       "    </tr>\n",
       "  </tbody>\n",
       "</table>\n",
       "</div>"
      ],
      "text/plain": [
       "                                                   prompt  \\\n",
       "count                                                 318   \n",
       "unique                                                318   \n",
       "top     I know I am too big, and I probably should exe...   \n",
       "freq                                                    1   \n",
       "\n",
       "                                                      hq1  \\\n",
       "count                                                 318   \n",
       "unique                                                317   \n",
       "top     It is difficult for you to take the medication...   \n",
       "freq                                                    2   \n",
       "\n",
       "                                                      hq2  \n",
       "count                                                 318  \n",
       "unique                                                317  \n",
       "top     After a busy week, you really need an outlet -...  \n",
       "freq                                                    2  "
      ]
     },
     "execution_count": 245,
     "metadata": {},
     "output_type": "execute_result"
    }
   ],
   "source": [
    "pair_df.describe()"
   ]
  },
  {
   "cell_type": "markdown",
   "id": "50a7cc1d",
   "metadata": {},
   "source": [
    "### Restructure Pair dataset into two columns"
   ]
  },
  {
   "cell_type": "code",
   "execution_count": 246,
   "id": "7d3fc26f",
   "metadata": {},
   "outputs": [],
   "source": [
    "# Prepare first part: prompt + hq1 renamed to Response\n",
    "pair_hq1 = pair_df[['prompt', 'hq1']].rename(columns={'hq1': 'Response'})\n",
    "\n",
    "# Prepare second part: prompt + hq2 renamed to Response\n",
    "pair_hq2 = pair_df[['prompt', 'hq2']].rename(columns={'hq2': 'Response'})\n",
    "\n",
    "# Concatenate the two datasets (this creates a new DataFrame, so assign back to df)\n",
    "pair_df = pd.concat([pair_hq1, pair_hq2], ignore_index=True)\n",
    "\n",
    "# Rename 'prompt' column to 'Context'\n",
    "pair_df.rename(columns={'prompt': 'Context'}, inplace=True)\n"
   ]
  },
  {
   "cell_type": "code",
   "execution_count": 247,
   "id": "f2d32b00",
   "metadata": {},
   "outputs": [
    {
     "data": {
      "application/vnd.microsoft.datawrangler.viewer.v0+json": {
       "columns": [
        {
         "name": "index",
         "rawType": "int64",
         "type": "integer"
        },
        {
         "name": "Context",
         "rawType": "object",
         "type": "string"
        },
        {
         "name": "Response",
         "rawType": "object",
         "type": "string"
        }
       ],
       "ref": "317191e2-786d-4b7d-a739-e8f8b7133642",
       "rows": [
        [
         "0",
         "I know I am too big, and I probably should exercise more and eat better, but I am so busy. I’ve got school, homework, and my job at the mall, so I don’t see anywhere to fit it in. Plus, I can’t afford any of those gyms. And none of my friends want to exercise with me. They’re lazier than I am.  ",
         "You are starting to think it’s time to do something about your weight, and you know exercise and eating a little better would help. But fitting it in, between school and work, seems almost impossible. The gym isn’t an option, and you can’t think of any friends who would work out with you. But it is something you are starting to think about."
        ],
        [
         "1",
         "I don’t trust doctors.  I don’t trust the CDC.  God gave us an immune system and as a healthy persons that is all I need to protect myself from getting COVID.   I think this is all a bunch of hysteria and profiteering by the Pharm industry",
         "You feel that your immune systems is strong enough to protect you from getting covid-19 and you don’t trust the motives of the health system and pharmaceutical industry. You don’t think they are telling us the truth about COVID-19.  They have ulterior motives."
        ],
        [
         "2",
         "Doctor x, I don’t want the Covid vaccine for me or my kids. They don’t know enough about how safe it is and what long term side effects it causes. It is not for me or my family. ",
         "You are worried about long term effects from the vaccine that might not have been found, and don’t want to take that risk for you or your family.  You are trying to do the right thing and for now not getting vaccinated feels like the best thing for you and your family. "
        ],
        [
         "3",
         "I know I should probably get the vaccine. I have my mother living with me and she has type-2 diabetes. I would hate to bring it home to her. But I just don’t know about those side effects. I heard it changes your DNA and the vaccine can give you the virus.",
         "While you have some concerns about the vaccine, part of you feels it would  protect your mother and you don’t want to be responsible for her getting sick.  Sounds like finding answers to your questions about the safety of the vaccine might help you decide.    "
        ],
        [
         "4",
         "I know because I am so heavy and have diabetes I probably should exercise more, but I am so busy. With the three kids and my new job I don’t see anywhere to fit it in. Plus, I hate the gym.  I can’t stand being around all that Lycra. My husband is useless because he already plays basketball four times a week.  ",
         "Although part of you knows exercise might help you get control of your weight and your blood sugar, fitting it in seems almost impossible given how busy you are at home and at work. The gym turns you off and your husband doesn’t seem like he can be much help either.  But it is something you think could be good for you. "
        ]
       ],
       "shape": {
        "columns": 2,
        "rows": 5
       }
      },
      "text/html": [
       "<div>\n",
       "<style scoped>\n",
       "    .dataframe tbody tr th:only-of-type {\n",
       "        vertical-align: middle;\n",
       "    }\n",
       "\n",
       "    .dataframe tbody tr th {\n",
       "        vertical-align: top;\n",
       "    }\n",
       "\n",
       "    .dataframe thead th {\n",
       "        text-align: right;\n",
       "    }\n",
       "</style>\n",
       "<table border=\"1\" class=\"dataframe\">\n",
       "  <thead>\n",
       "    <tr style=\"text-align: right;\">\n",
       "      <th></th>\n",
       "      <th>Context</th>\n",
       "      <th>Response</th>\n",
       "    </tr>\n",
       "  </thead>\n",
       "  <tbody>\n",
       "    <tr>\n",
       "      <th>0</th>\n",
       "      <td>I know I am too big, and I probably should exe...</td>\n",
       "      <td>You are starting to think it’s time to do some...</td>\n",
       "    </tr>\n",
       "    <tr>\n",
       "      <th>1</th>\n",
       "      <td>I don’t trust doctors.  I don’t trust the CDC....</td>\n",
       "      <td>You feel that your immune systems is strong en...</td>\n",
       "    </tr>\n",
       "    <tr>\n",
       "      <th>2</th>\n",
       "      <td>Doctor x, I don’t want the Covid vaccine for m...</td>\n",
       "      <td>You are worried about long term effects from t...</td>\n",
       "    </tr>\n",
       "    <tr>\n",
       "      <th>3</th>\n",
       "      <td>I know I should probably get the vaccine. I ha...</td>\n",
       "      <td>While you have some concerns about the vaccine...</td>\n",
       "    </tr>\n",
       "    <tr>\n",
       "      <th>4</th>\n",
       "      <td>I know because I am so heavy and have diabetes...</td>\n",
       "      <td>Although part of you knows exercise might help...</td>\n",
       "    </tr>\n",
       "  </tbody>\n",
       "</table>\n",
       "</div>"
      ],
      "text/plain": [
       "                                             Context  \\\n",
       "0  I know I am too big, and I probably should exe...   \n",
       "1  I don’t trust doctors.  I don’t trust the CDC....   \n",
       "2  Doctor x, I don’t want the Covid vaccine for m...   \n",
       "3  I know I should probably get the vaccine. I ha...   \n",
       "4  I know because I am so heavy and have diabetes...   \n",
       "\n",
       "                                            Response  \n",
       "0  You are starting to think it’s time to do some...  \n",
       "1  You feel that your immune systems is strong en...  \n",
       "2  You are worried about long term effects from t...  \n",
       "3  While you have some concerns about the vaccine...  \n",
       "4  Although part of you knows exercise might help...  "
      ]
     },
     "metadata": {},
     "output_type": "display_data"
    },
    {
     "data": {
      "application/vnd.microsoft.datawrangler.viewer.v0+json": {
       "columns": [
        {
         "name": "index",
         "rawType": "int64",
         "type": "integer"
        },
        {
         "name": "Context",
         "rawType": "object",
         "type": "string"
        },
        {
         "name": "Response",
         "rawType": "object",
         "type": "string"
        }
       ],
       "ref": "d4daeb3c-f9b2-4309-9cb1-b06d7a07e661",
       "rows": [
        [
         "631",
         "I don’t eat any lunchmeat anymore, bread hardly ever, I don’t hardly use salt anymore",
         "You've putting a lot of effort into eating healthier and you're trying to find the right substitutions for your diet."
        ],
        [
         "632",
         "Well, I read canned vegetables are better than the fresh stuff.",
         "Learning about what you put in your body is important to you."
        ],
        [
         "633",
         "I can do that when I’m at the store.",
         "You're starting to think of how you can put this plan in motion. You're thinking that you'll be able to get started the next time you head to the store."
        ],
        [
         "634",
         "I’d like to eat less processed foods, but I guess I’m not sure what those are. ",
         "You'd really like to learn more about processed foods."
        ],
        [
         "635",
         "I like going to the gym, I like exercising; I exercise a couple hours a week. But I’m not sure what to do when the gym is closed.",
         "You're already exercising a couple hours a week. Now it's just a matter of figuring out what to do for physical activity on the days you can't make it to the gym."
        ]
       ],
       "shape": {
        "columns": 2,
        "rows": 5
       }
      },
      "text/html": [
       "<div>\n",
       "<style scoped>\n",
       "    .dataframe tbody tr th:only-of-type {\n",
       "        vertical-align: middle;\n",
       "    }\n",
       "\n",
       "    .dataframe tbody tr th {\n",
       "        vertical-align: top;\n",
       "    }\n",
       "\n",
       "    .dataframe thead th {\n",
       "        text-align: right;\n",
       "    }\n",
       "</style>\n",
       "<table border=\"1\" class=\"dataframe\">\n",
       "  <thead>\n",
       "    <tr style=\"text-align: right;\">\n",
       "      <th></th>\n",
       "      <th>Context</th>\n",
       "      <th>Response</th>\n",
       "    </tr>\n",
       "  </thead>\n",
       "  <tbody>\n",
       "    <tr>\n",
       "      <th>631</th>\n",
       "      <td>I don’t eat any lunchmeat anymore, bread hardl...</td>\n",
       "      <td>You've putting a lot of effort into eating hea...</td>\n",
       "    </tr>\n",
       "    <tr>\n",
       "      <th>632</th>\n",
       "      <td>Well, I read canned vegetables are better than...</td>\n",
       "      <td>Learning about what you put in your body is im...</td>\n",
       "    </tr>\n",
       "    <tr>\n",
       "      <th>633</th>\n",
       "      <td>I can do that when I’m at the store.</td>\n",
       "      <td>You're starting to think of how you can put th...</td>\n",
       "    </tr>\n",
       "    <tr>\n",
       "      <th>634</th>\n",
       "      <td>I’d like to eat less processed foods, but I gu...</td>\n",
       "      <td>You'd really like to learn more about processe...</td>\n",
       "    </tr>\n",
       "    <tr>\n",
       "      <th>635</th>\n",
       "      <td>I like going to the gym, I like exercising; I ...</td>\n",
       "      <td>You're already exercising a couple hours a wee...</td>\n",
       "    </tr>\n",
       "  </tbody>\n",
       "</table>\n",
       "</div>"
      ],
      "text/plain": [
       "                                               Context  \\\n",
       "631  I don’t eat any lunchmeat anymore, bread hardl...   \n",
       "632  Well, I read canned vegetables are better than...   \n",
       "633               I can do that when I’m at the store.   \n",
       "634  I’d like to eat less processed foods, but I gu...   \n",
       "635  I like going to the gym, I like exercising; I ...   \n",
       "\n",
       "                                              Response  \n",
       "631  You've putting a lot of effort into eating hea...  \n",
       "632  Learning about what you put in your body is im...  \n",
       "633  You're starting to think of how you can put th...  \n",
       "634  You'd really like to learn more about processe...  \n",
       "635  You're already exercising a couple hours a wee...  "
      ]
     },
     "metadata": {},
     "output_type": "display_data"
    }
   ],
   "source": [
    "# Check result\n",
    "display(pair_df.head(5))\n",
    "display(pair_df.tail(5))"
   ]
  },
  {
   "cell_type": "code",
   "execution_count": 248,
   "id": "5d6af174",
   "metadata": {},
   "outputs": [
    {
     "name": "stdout",
     "output_type": "stream",
     "text": [
      "<class 'pandas.core.frame.DataFrame'>\n",
      "RangeIndex: 636 entries, 0 to 635\n",
      "Data columns (total 2 columns):\n",
      " #   Column    Non-Null Count  Dtype \n",
      "---  ------    --------------  ----- \n",
      " 0   Context   636 non-null    object\n",
      " 1   Response  636 non-null    object\n",
      "dtypes: object(2)\n",
      "memory usage: 10.1+ KB\n"
     ]
    }
   ],
   "source": [
    "pair_df.info()"
   ]
  },
  {
   "cell_type": "code",
   "execution_count": 249,
   "id": "91dd46f2",
   "metadata": {},
   "outputs": [
    {
     "data": {
      "application/vnd.microsoft.datawrangler.viewer.v0+json": {
       "columns": [
        {
         "name": "index",
         "rawType": "object",
         "type": "string"
        },
        {
         "name": "Context",
         "rawType": "object",
         "type": "unknown"
        },
        {
         "name": "Response",
         "rawType": "object",
         "type": "unknown"
        }
       ],
       "ref": "23be8122-6f9f-4eb8-b809-19dd44f4f2bc",
       "rows": [
        [
         "count",
         "636",
         "636"
        ],
        [
         "unique",
         "318",
         "632"
        ],
        [
         "top",
         "I know I am too big, and I probably should exercise more and eat better, but I am so busy. I’ve got school, homework, and my job at the mall, so I don’t see anywhere to fit it in. Plus, I can’t afford any of those gyms. And none of my friends want to exercise with me. They’re lazier than I am.  ",
         "After a busy week, you really need an outlet -- something to help you unwind. "
        ],
        [
         "freq",
         "2",
         "2"
        ]
       ],
       "shape": {
        "columns": 2,
        "rows": 4
       }
      },
      "text/html": [
       "<div>\n",
       "<style scoped>\n",
       "    .dataframe tbody tr th:only-of-type {\n",
       "        vertical-align: middle;\n",
       "    }\n",
       "\n",
       "    .dataframe tbody tr th {\n",
       "        vertical-align: top;\n",
       "    }\n",
       "\n",
       "    .dataframe thead th {\n",
       "        text-align: right;\n",
       "    }\n",
       "</style>\n",
       "<table border=\"1\" class=\"dataframe\">\n",
       "  <thead>\n",
       "    <tr style=\"text-align: right;\">\n",
       "      <th></th>\n",
       "      <th>Context</th>\n",
       "      <th>Response</th>\n",
       "    </tr>\n",
       "  </thead>\n",
       "  <tbody>\n",
       "    <tr>\n",
       "      <th>count</th>\n",
       "      <td>636</td>\n",
       "      <td>636</td>\n",
       "    </tr>\n",
       "    <tr>\n",
       "      <th>unique</th>\n",
       "      <td>318</td>\n",
       "      <td>632</td>\n",
       "    </tr>\n",
       "    <tr>\n",
       "      <th>top</th>\n",
       "      <td>I know I am too big, and I probably should exe...</td>\n",
       "      <td>After a busy week, you really need an outlet -...</td>\n",
       "    </tr>\n",
       "    <tr>\n",
       "      <th>freq</th>\n",
       "      <td>2</td>\n",
       "      <td>2</td>\n",
       "    </tr>\n",
       "  </tbody>\n",
       "</table>\n",
       "</div>"
      ],
      "text/plain": [
       "                                                  Context  \\\n",
       "count                                                 636   \n",
       "unique                                                318   \n",
       "top     I know I am too big, and I probably should exe...   \n",
       "freq                                                    2   \n",
       "\n",
       "                                                 Response  \n",
       "count                                                 636  \n",
       "unique                                                632  \n",
       "top     After a busy week, you really need an outlet -...  \n",
       "freq                                                    2  "
      ]
     },
     "execution_count": 249,
     "metadata": {},
     "output_type": "execute_result"
    }
   ],
   "source": [
    "pair_df.describe()"
   ]
  },
  {
   "cell_type": "code",
   "execution_count": 250,
   "id": "af379a85",
   "metadata": {},
   "outputs": [
    {
     "data": {
      "application/vnd.microsoft.datawrangler.viewer.v0+json": {
       "columns": [
        {
         "name": "index",
         "rawType": "int64",
         "type": "integer"
        },
        {
         "name": "Context",
         "rawType": "object",
         "type": "string"
        },
        {
         "name": "Response",
         "rawType": "object",
         "type": "string"
        }
       ],
       "ref": "1ae38136-1f97-49f8-9524-665ded0b75c8",
       "rows": [
        [
         "136",
         "I saw another text on my boyfriend’s phone from his ex. That b***ch….  I know she still wants to hook up with him. So things got heated. He promised me he cut her off.  Liar.",
         "Reading that message on your boyfriend’s phone brought up all kinds of negative feelings for you."
        ],
        [
         "316",
         "I’d like to eat less processed foods, but I guess I’m not sure what those are. ",
         "While you are ready to start eating fewer processed foods, you're going to need some information before you're ready to get started. If it's ok with you, I can share..."
        ],
        [
         "168",
         "I heard that you have to eliminate all carbs in order to lose weight. That would be great if it weren’t true.",
         "You are looking for ways to lose weight that work for you but you are hoping not to have to make drastic changes to your carb intake."
        ],
        [
         "503",
         "Well, this heart thing has really affected what I eat.  I’ve had to cut out salt or what they call sodium. That’s been really hard. I like cheese, salami, lox, bacon and all that yummy stuff.  It seems that sodium is lurking everywhere .",
         "You're missing your favorite foods but understand that cutting down on sodium is important for your heart health."
        ],
        [
         "90",
         "I am so busy getting oriented to college life, I’m not sure where genetic testing fits in.",
         "You’re still learning the ropes as a new college student and you’re not sure if testing fits in right now."
        ],
        [
         "395",
         "This is not the time for me to talk about smoking. The baby takes all my energy and I don’t have energy to even think about smoking.",
         "You have way too much on your plate right now to consider quitting. Maybe if everything wasn't so overwhelming you'd feel differently."
        ],
        [
         "245",
         "So, have you ever smoked, or had to quit, how can you really relate to me?",
         "You’re concerned I can’t understand you or won’t be able to help you."
        ],
        [
         "11",
         "Yes, I know all that TV and all those video games are not good for her. By what can I do?  I cannot afford a babysitter and I must get my work done. I work out of my home.",
         "You know that you can’t be the kind of employee you really want to be with your daughter at home. And while hiring a babysitter is off the table due to the cost, you’re starting to think about what other options there might be to keep her occupied besides tv."
        ],
        [
         "263",
         "Of course I want things to be different but I am not taking any of these antidepressant pills…the pills make it worse.",
         "You want things to get better but you want to do it without medication."
        ],
        [
         "207",
         "I’ve thought about it but don’t know if it’s for me.  I guess God would want you to help out someone in need, but it’s not exactly mentioned in the bible that we should do it.",
         "If organ donation was discussed in the bible and you knew that God wanted you to do it, you'd definitely agree to it. "
        ]
       ],
       "shape": {
        "columns": 2,
        "rows": 10
       }
      },
      "text/html": [
       "<div>\n",
       "<style scoped>\n",
       "    .dataframe tbody tr th:only-of-type {\n",
       "        vertical-align: middle;\n",
       "    }\n",
       "\n",
       "    .dataframe tbody tr th {\n",
       "        vertical-align: top;\n",
       "    }\n",
       "\n",
       "    .dataframe thead th {\n",
       "        text-align: right;\n",
       "    }\n",
       "</style>\n",
       "<table border=\"1\" class=\"dataframe\">\n",
       "  <thead>\n",
       "    <tr style=\"text-align: right;\">\n",
       "      <th></th>\n",
       "      <th>Context</th>\n",
       "      <th>Response</th>\n",
       "    </tr>\n",
       "  </thead>\n",
       "  <tbody>\n",
       "    <tr>\n",
       "      <th>136</th>\n",
       "      <td>I saw another text on my boyfriend’s phone fro...</td>\n",
       "      <td>Reading that message on your boyfriend’s phone...</td>\n",
       "    </tr>\n",
       "    <tr>\n",
       "      <th>316</th>\n",
       "      <td>I’d like to eat less processed foods, but I gu...</td>\n",
       "      <td>While you are ready to start eating fewer proc...</td>\n",
       "    </tr>\n",
       "    <tr>\n",
       "      <th>168</th>\n",
       "      <td>I heard that you have to eliminate all carbs i...</td>\n",
       "      <td>You are looking for ways to lose weight that w...</td>\n",
       "    </tr>\n",
       "    <tr>\n",
       "      <th>503</th>\n",
       "      <td>Well, this heart thing has really affected wha...</td>\n",
       "      <td>You're missing your favorite foods but underst...</td>\n",
       "    </tr>\n",
       "    <tr>\n",
       "      <th>90</th>\n",
       "      <td>I am so busy getting oriented to college life,...</td>\n",
       "      <td>You’re still learning the ropes as a new colle...</td>\n",
       "    </tr>\n",
       "    <tr>\n",
       "      <th>395</th>\n",
       "      <td>This is not the time for me to talk about smok...</td>\n",
       "      <td>You have way too much on your plate right now ...</td>\n",
       "    </tr>\n",
       "    <tr>\n",
       "      <th>245</th>\n",
       "      <td>So, have you ever smoked, or had to quit, how ...</td>\n",
       "      <td>You’re concerned I can’t understand you or won...</td>\n",
       "    </tr>\n",
       "    <tr>\n",
       "      <th>11</th>\n",
       "      <td>Yes, I know all that TV and all those video ga...</td>\n",
       "      <td>You know that you can’t be the kind of employe...</td>\n",
       "    </tr>\n",
       "    <tr>\n",
       "      <th>263</th>\n",
       "      <td>Of course I want things to be different but I ...</td>\n",
       "      <td>You want things to get better but you want to ...</td>\n",
       "    </tr>\n",
       "    <tr>\n",
       "      <th>207</th>\n",
       "      <td>I’ve thought about it but don’t know if it’s f...</td>\n",
       "      <td>If organ donation was discussed in the bible a...</td>\n",
       "    </tr>\n",
       "  </tbody>\n",
       "</table>\n",
       "</div>"
      ],
      "text/plain": [
       "                                               Context  \\\n",
       "136  I saw another text on my boyfriend’s phone fro...   \n",
       "316  I’d like to eat less processed foods, but I gu...   \n",
       "168  I heard that you have to eliminate all carbs i...   \n",
       "503  Well, this heart thing has really affected wha...   \n",
       "90   I am so busy getting oriented to college life,...   \n",
       "395  This is not the time for me to talk about smok...   \n",
       "245  So, have you ever smoked, or had to quit, how ...   \n",
       "11   Yes, I know all that TV and all those video ga...   \n",
       "263  Of course I want things to be different but I ...   \n",
       "207  I’ve thought about it but don’t know if it’s f...   \n",
       "\n",
       "                                              Response  \n",
       "136  Reading that message on your boyfriend’s phone...  \n",
       "316  While you are ready to start eating fewer proc...  \n",
       "168  You are looking for ways to lose weight that w...  \n",
       "503  You're missing your favorite foods but underst...  \n",
       "90   You’re still learning the ropes as a new colle...  \n",
       "395  You have way too much on your plate right now ...  \n",
       "245  You’re concerned I can’t understand you or won...  \n",
       "11   You know that you can’t be the kind of employe...  \n",
       "263  You want things to get better but you want to ...  \n",
       "207  If organ donation was discussed in the bible a...  "
      ]
     },
     "execution_count": 250,
     "metadata": {},
     "output_type": "execute_result"
    }
   ],
   "source": [
    "pair_df = pair_df.reset_index(drop=True)\n",
    "pair_df.sample(10)"
   ]
  },
  {
   "cell_type": "code",
   "execution_count": 251,
   "id": "4931cc02",
   "metadata": {},
   "outputs": [
    {
     "name": "stdout",
     "output_type": "stream",
     "text": [
      "Pair Dataset: (636, 2)\n"
     ]
    }
   ],
   "source": [
    "print(f\"Pair Dataset: {pair_df.shape}\")\n"
   ]
  },
  {
   "cell_type": "code",
   "execution_count": 252,
   "id": "a5ca5f55",
   "metadata": {},
   "outputs": [
    {
     "name": "stdout",
     "output_type": "stream",
     "text": [
      "Currently have 10988 out of the desired 17500.\n",
      "We still need 6512 more conversations to reach our goal.\n"
     ]
    }
   ],
   "source": [
    "total += len(pair_df)\n",
    "\n",
    "print(f\"Currently have {total} out of the desired {goal}.\\nWe still need {goal - total} more conversations to reach our goal.\")"
   ]
  },
  {
   "cell_type": "code",
   "execution_count": null,
   "id": "41c05b6a",
   "metadata": {},
   "outputs": [],
   "source": []
  }
 ],
 "metadata": {
  "kernelspec": {
   "display_name": "Python 3",
   "language": "python",
   "name": "python3"
  },
  "language_info": {
   "codemirror_mode": {
    "name": "ipython",
    "version": 3
   },
   "file_extension": ".py",
   "mimetype": "text/x-python",
   "name": "python",
   "nbconvert_exporter": "python",
   "pygments_lexer": "ipython3",
   "version": "3.9.9"
  }
 },
 "nbformat": 4,
 "nbformat_minor": 5
}
