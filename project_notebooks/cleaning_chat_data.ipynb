{
 "cells": [
  {
   "cell_type": "markdown",
   "id": "69daef2c",
   "metadata": {},
   "source": [
    "# Read in the datasets"
   ]
  },
  {
   "cell_type": "code",
   "execution_count": null,
   "id": "3cebe590",
   "metadata": {},
   "outputs": [
    {
     "name": "stdout",
     "output_type": "stream",
     "text": [
      "NLP Mental Health Convos: (3512, 2)\n",
      "Interview 6k: (6310, 3)\n",
      "Counsel Chat: (1482, 9)\n"
     ]
    }
   ],
   "source": [
    "import pandas as pd\n",
    "\n",
    "# Load NLP Mental Health Conversations\n",
    "nlp_convos_df = pd.read_csv(\n",
    "    \"../datasets/custom_corpus/chatbot_sets/mental_health_sets/NLP_mental_health_convos/nlp_convos.csv\"\n",
    ")\n",
    "\n",
    "# Load Mental Chat 16k (Interview 6k subset)\n",
    "interview_df = pd.read_csv(\n",
    "    \"../datasets/custom_corpus/chatbot_sets/mental_health_sets/mental_chat16k/interview_data_6k.csv\"\n",
    ")\n",
    "\n",
    "# Load counsel_chat (clean version)\n",
    "counsel_chat_df = pd.read_csv(\n",
    "    \"../datasets/custom_corpus/chatbot_sets/mental_health_sets/counsel_chat/counsel_chat-data.csv\"\n",
    ")\n",
    "\n",
    "nlp_convos_df = pd.read_csv('nlp_convos.csv').rename(columns={'input': 'Context', 'response': 'Response'})\n",
    "interview_df = pd.read_csv('interview_data_6k.csv').rename(columns={'prompt': 'Context', 'completion': 'Response'})\n",
    "counsel_chat_df = counsel_chat_df.rename(columns={'questionText': 'Context', 'answerText': 'Response'})\n",
    "\n",
    "\n",
    "print(f\"NLP Mental Health Convos: {nlp_convos_df.shape}\")\n",
    "print(f\"Interview 6k: {interview_df.shape}\")\n",
    "print(f\"Counsel Chat: {counsel_chat_df.shape}\")\n"
   ]
  },
  {
   "cell_type": "markdown",
   "id": "28b2db5f",
   "metadata": {},
   "source": [
    "# Explore NLP Mental Health Convos"
   ]
  },
  {
   "cell_type": "markdown",
   "id": "9c908dcf",
   "metadata": {},
   "source": [
    "## Intro to NLP Convos"
   ]
  },
  {
   "cell_type": "code",
   "execution_count": 2,
   "id": "43a9a3b7",
   "metadata": {},
   "outputs": [
    {
     "data": {
      "application/vnd.microsoft.datawrangler.viewer.v0+json": {
       "columns": [
        {
         "name": "index",
         "rawType": "int64",
         "type": "integer"
        },
        {
         "name": "Context",
         "rawType": "object",
         "type": "string"
        },
        {
         "name": "Response",
         "rawType": "object",
         "type": "string"
        }
       ],
       "ref": "eb033642-c8e2-488e-bf7a-f69214a401cd",
       "rows": [
        [
         "0",
         "I'm going through some things with my feelings and myself. I barely sleep and I do nothing but think about how I'm worthless and how I shouldn't be here.\n   I've never tried or contemplated suicide. I've always wanted to fix my issues, but I never get around to it.\n   How can I change my feeling of being worthless to everyone?",
         "If everyone thinks you're worthless, then maybe you need to find new people to hang out with.Seriously, the social context in which a person lives is a big influence in self-esteem.Otherwise, you can go round and round trying to understand why you're not worthless, then go back to the same crowd and be knocked down again.There are many inspirational messages you can find in social media.  Maybe read some of the ones which state that no person is worthless, and that everyone has a good purpose to their life.Also, since our culture is so saturated with the belief that if someone doesn't feel good about themselves that this is somehow terrible.Bad feelings are part of living.  They are the motivation to remove ourselves from situations and relationships which do us more harm than good.Bad feelings do feel terrible.   Your feeling of worthlessness may be good in the sense of motivating you to find out that you are much better than your feelings today."
        ],
        [
         "1",
         "I'm going through some things with my feelings and myself. I barely sleep and I do nothing but think about how I'm worthless and how I shouldn't be here.\n   I've never tried or contemplated suicide. I've always wanted to fix my issues, but I never get around to it.\n   How can I change my feeling of being worthless to everyone?",
         "Hello, and thank you for your question and seeking advice on this. Feelings of worthlessness is unfortunately common. In fact, most people, if not all, have felt this to some degree at some point in their life. You are not alone. Changing our feelings is like changing our thoughts - it's hard to do. Our minds are so amazing that the minute you change your thought another one can be right there to take it's place. Without your permission, another thought can just pop in there. The new thought may feel worse than the last one! My guess is that you have tried several things to improve this on your own even before reaching out on here. People often try thinking positive thoughts, debating with their thoughts, or simply telling themselves that they need to \"snap out of it\" - which is also a thought that carries some self-criticism. Some people try a different approach, and there are counselors out there that can help you with this. The idea is that instead of trying to change the thoughts, you change how you respond to them. You learn skills that allow you to manage difficult thoughts and feelings differently so they don't have the same impact on you that they do right now. For some people, they actually DO begin to experience less hurtful thoughts once they learn how to manage the ones they have differently. Acceptance and Commitment Therapy may be a good choice for you. There is information online and even self-help books that you can use to teach you the skills that I mentioned. Because they are skills, they require practice, but many people have found great relief and an enriched life by learning them. As for suicidal thoughts, I am very glad to read that this has not happened to you. Still, you should watch out for this because it can be a sign of a worsening depression. If you begin to think about this, it is important to reach out to a support system right away. The National Suicide Prevention Lifeline is 1-800-273-8255. The text line is #741741. I hope some other colleagues will provide you more suggestions. Be well...Robin Landwehr, DBH, LPCC"
        ],
        [
         "2",
         "I'm going through some things with my feelings and myself. I barely sleep and I do nothing but think about how I'm worthless and how I shouldn't be here.\n   I've never tried or contemplated suicide. I've always wanted to fix my issues, but I never get around to it.\n   How can I change my feeling of being worthless to everyone?",
         "First thing I'd suggest is getting the sleep you need or it will impact how you think and feel. I'd look at finding what is going well in your life and what you can be grateful for. I believe everyone has talents and wants to find their purpose in life. I think you can figure it out with some help."
        ],
        [
         "3",
         "I'm going through some things with my feelings and myself. I barely sleep and I do nothing but think about how I'm worthless and how I shouldn't be here.\n   I've never tried or contemplated suicide. I've always wanted to fix my issues, but I never get around to it.\n   How can I change my feeling of being worthless to everyone?",
         "Therapy is essential for those that are feeling depressed and worthless. When I work with those that are experiencing concerns related to feeling of depression and issues with self esteem. I generally work with my client to help build coping skills to reduce level of depression and to assist with strengthening  self esteem, by guiding my client with CBT practices. CBT helps with gaining a better awareness of how your thought process influences your belief system, and how your beliefs impact your actions and the outcome of your behaviors.  This process isn’t easy but it helps teach an individual that we don’t always have control over what happens in our lives but we can control how we interpret, feel, and behave. CBT is good for individuals dealing with depression, anxiety, toxic relationships, stress, self esteem, codependency, etc."
        ],
        [
         "4",
         "I'm going through some things with my feelings and myself. I barely sleep and I do nothing but think about how I'm worthless and how I shouldn't be here.\n   I've never tried or contemplated suicide. I've always wanted to fix my issues, but I never get around to it.\n   How can I change my feeling of being worthless to everyone?",
         "I first want to let you know that you are not alone in your feelings and there is always someone there to help. You can always change your feelings and change your way of thinking by being open to trying to change. You can always make yourself available to learning new things or volunteering so that you can make a purpose for yourself."
        ]
       ],
       "shape": {
        "columns": 2,
        "rows": 5
       }
      },
      "text/html": [
       "<div>\n",
       "<style scoped>\n",
       "    .dataframe tbody tr th:only-of-type {\n",
       "        vertical-align: middle;\n",
       "    }\n",
       "\n",
       "    .dataframe tbody tr th {\n",
       "        vertical-align: top;\n",
       "    }\n",
       "\n",
       "    .dataframe thead th {\n",
       "        text-align: right;\n",
       "    }\n",
       "</style>\n",
       "<table border=\"1\" class=\"dataframe\">\n",
       "  <thead>\n",
       "    <tr style=\"text-align: right;\">\n",
       "      <th></th>\n",
       "      <th>Context</th>\n",
       "      <th>Response</th>\n",
       "    </tr>\n",
       "  </thead>\n",
       "  <tbody>\n",
       "    <tr>\n",
       "      <th>0</th>\n",
       "      <td>I'm going through some things with my feelings...</td>\n",
       "      <td>If everyone thinks you're worthless, then mayb...</td>\n",
       "    </tr>\n",
       "    <tr>\n",
       "      <th>1</th>\n",
       "      <td>I'm going through some things with my feelings...</td>\n",
       "      <td>Hello, and thank you for your question and see...</td>\n",
       "    </tr>\n",
       "    <tr>\n",
       "      <th>2</th>\n",
       "      <td>I'm going through some things with my feelings...</td>\n",
       "      <td>First thing I'd suggest is getting the sleep y...</td>\n",
       "    </tr>\n",
       "    <tr>\n",
       "      <th>3</th>\n",
       "      <td>I'm going through some things with my feelings...</td>\n",
       "      <td>Therapy is essential for those that are feelin...</td>\n",
       "    </tr>\n",
       "    <tr>\n",
       "      <th>4</th>\n",
       "      <td>I'm going through some things with my feelings...</td>\n",
       "      <td>I first want to let you know that you are not ...</td>\n",
       "    </tr>\n",
       "  </tbody>\n",
       "</table>\n",
       "</div>"
      ],
      "text/plain": [
       "                                             Context  \\\n",
       "0  I'm going through some things with my feelings...   \n",
       "1  I'm going through some things with my feelings...   \n",
       "2  I'm going through some things with my feelings...   \n",
       "3  I'm going through some things with my feelings...   \n",
       "4  I'm going through some things with my feelings...   \n",
       "\n",
       "                                            Response  \n",
       "0  If everyone thinks you're worthless, then mayb...  \n",
       "1  Hello, and thank you for your question and see...  \n",
       "2  First thing I'd suggest is getting the sleep y...  \n",
       "3  Therapy is essential for those that are feelin...  \n",
       "4  I first want to let you know that you are not ...  "
      ]
     },
     "metadata": {},
     "output_type": "display_data"
    },
    {
     "data": {
      "application/vnd.microsoft.datawrangler.viewer.v0+json": {
       "columns": [
        {
         "name": "index",
         "rawType": "int64",
         "type": "integer"
        },
        {
         "name": "Context",
         "rawType": "object",
         "type": "string"
        },
        {
         "name": "Response",
         "rawType": "object",
         "type": "string"
        }
       ],
       "ref": "fdb11c6c-7089-4d5a-b8bd-c6c4cc93be36",
       "rows": [
        [
         "3507",
         "My grandson's step-mother sends him to school with a pink Barbie backpack as a form of punishment.",
         "Absolutely not! It is never in a child's best interest to use humiliation as punishment. This can lead to issues in the relationship between parent and child as well as the child's social relationships. Kids have a hard enough time. To then go and cause them embarrassment is unconscionable. The entire job of a parent is to prepare their child to become a successful, healthy adult. You do this by using healthy ways to teach a child when they make a mistake. Discipline shouldn't be seen as punishment. It should be seen as a way to teach a lesson. What lesson could this possibility be teaching him? Absolutely nothing. Meanwhile, she is most likely damaging her relationship with him and causing great distress in his school day and peer interactions. She should be one of the people he can come to when he's hurting; not someone who causes him pain."
        ],
        [
         "3508",
         "My boyfriend is in recovery from drug addiction. We recently got into a fight and he has become very distant.  I don't know what to do to fix the relationship.",
         "I'm sorry you have tension between you and your bf.A relationship means two people who relate, right?!   If only one person does all the work to change their approach, what they expect, what they offer the other, then this becomes the new problem to solve.If you've already done a significant amount of reflection and change in the way you relate to him, then the next step may be to be patient as long as possible while he decides what to change about his part in the relationship toward you.Substance abuse recovery requires profound effort and reflection.  If it is successful then the result will show very different qualities in your bf than the ones you know currently.He may be so absorbed in the recovery that he can only concentrate on this.   Of course if the fights persist and you have been patient for what feels too long, then there are different questions to address."
        ],
        [
         "3509",
         "The birth mother attempted suicide several times while pregnant. The adopted mother was terminally ill upon adopting the baby and died when  the child was just over one year old.  The adopted father then remarried to a physically, psychologically, and emotionally abusive woman.  The child was placed in foster care at 11 years old. \n\nWhat might be the long term effects on an adult with this childhood history?",
         "The true answer is, \"no one can really say with certainty\".The variables are the way this child absorbs and adjusts to these significant changes in their life.  All anyone can do is guess at this point and there's no good reason to guess.The only general certainty is that the adult whom this child becomes will have had a profound encounter with the biggest types of human losses a child can go through.Some people become great teachers, therapists and philosophers who have this background.  Some give up on life and hide away from others.The best anyone could do who knows this child is to offer love bc this is the greatest guarantee to show there are good people on this earth."
        ],
        [
         "3510",
         "I think adult life is making him depressed and we often sleep in on weekends untill 1 or 2 pm. We just eat, smoke weed, watch movies, and he'll go on his phone all day. He doesn't seem motivated to do much and he's often angry.\n\n I have no clue how to help him take his mind off the negative, or to distract him into a different light. How do I help him?",
         "How do you help yourself to believe you require more than what he offers to you?What do you get from this relationship which feels satisfying?To answer this question may in the longterm be the best way to help your bf."
        ],
        [
         "3511",
         "I just took a job that requires me to travel far away from home. My family and I really need this job.\n\nPeople keep telling me I have \"anxiety\" and I'm terrified of having an anxiety attack on the road. This is all new to me. What can I do?",
         "hmm this is a tough one!"
        ]
       ],
       "shape": {
        "columns": 2,
        "rows": 5
       }
      },
      "text/html": [
       "<div>\n",
       "<style scoped>\n",
       "    .dataframe tbody tr th:only-of-type {\n",
       "        vertical-align: middle;\n",
       "    }\n",
       "\n",
       "    .dataframe tbody tr th {\n",
       "        vertical-align: top;\n",
       "    }\n",
       "\n",
       "    .dataframe thead th {\n",
       "        text-align: right;\n",
       "    }\n",
       "</style>\n",
       "<table border=\"1\" class=\"dataframe\">\n",
       "  <thead>\n",
       "    <tr style=\"text-align: right;\">\n",
       "      <th></th>\n",
       "      <th>Context</th>\n",
       "      <th>Response</th>\n",
       "    </tr>\n",
       "  </thead>\n",
       "  <tbody>\n",
       "    <tr>\n",
       "      <th>3507</th>\n",
       "      <td>My grandson's step-mother sends him to school ...</td>\n",
       "      <td>Absolutely not! It is never in a child's best ...</td>\n",
       "    </tr>\n",
       "    <tr>\n",
       "      <th>3508</th>\n",
       "      <td>My boyfriend is in recovery from drug addictio...</td>\n",
       "      <td>I'm sorry you have tension between you and you...</td>\n",
       "    </tr>\n",
       "    <tr>\n",
       "      <th>3509</th>\n",
       "      <td>The birth mother attempted suicide several tim...</td>\n",
       "      <td>The true answer is, \"no one can really say wit...</td>\n",
       "    </tr>\n",
       "    <tr>\n",
       "      <th>3510</th>\n",
       "      <td>I think adult life is making him depressed and...</td>\n",
       "      <td>How do you help yourself to believe you requir...</td>\n",
       "    </tr>\n",
       "    <tr>\n",
       "      <th>3511</th>\n",
       "      <td>I just took a job that requires me to travel f...</td>\n",
       "      <td>hmm this is a tough one!</td>\n",
       "    </tr>\n",
       "  </tbody>\n",
       "</table>\n",
       "</div>"
      ],
      "text/plain": [
       "                                                Context  \\\n",
       "3507  My grandson's step-mother sends him to school ...   \n",
       "3508  My boyfriend is in recovery from drug addictio...   \n",
       "3509  The birth mother attempted suicide several tim...   \n",
       "3510  I think adult life is making him depressed and...   \n",
       "3511  I just took a job that requires me to travel f...   \n",
       "\n",
       "                                               Response  \n",
       "3507  Absolutely not! It is never in a child's best ...  \n",
       "3508  I'm sorry you have tension between you and you...  \n",
       "3509  The true answer is, \"no one can really say wit...  \n",
       "3510  How do you help yourself to believe you requir...  \n",
       "3511                           hmm this is a tough one!  "
      ]
     },
     "metadata": {},
     "output_type": "display_data"
    }
   ],
   "source": [
    "display(nlp_convos_df.head())\n",
    "display(nlp_convos_df.tail())"
   ]
  },
  {
   "cell_type": "code",
   "execution_count": 3,
   "id": "68b1e6da",
   "metadata": {},
   "outputs": [
    {
     "name": "stdout",
     "output_type": "stream",
     "text": [
      "<class 'pandas.core.frame.DataFrame'>\n",
      "RangeIndex: 3512 entries, 0 to 3511\n",
      "Data columns (total 2 columns):\n",
      " #   Column    Non-Null Count  Dtype \n",
      "---  ------    --------------  ----- \n",
      " 0   Context   3512 non-null   object\n",
      " 1   Response  3508 non-null   object\n",
      "dtypes: object(2)\n",
      "memory usage: 55.0+ KB\n"
     ]
    }
   ],
   "source": [
    "nlp_convos_df.info()"
   ]
  },
  {
   "cell_type": "code",
   "execution_count": 4,
   "id": "9076d9f1",
   "metadata": {},
   "outputs": [
    {
     "data": {
      "application/vnd.microsoft.datawrangler.viewer.v0+json": {
       "columns": [
        {
         "name": "index",
         "rawType": "object",
         "type": "string"
        },
        {
         "name": "Context",
         "rawType": "object",
         "type": "unknown"
        },
        {
         "name": "Response",
         "rawType": "object",
         "type": "unknown"
        }
       ],
       "ref": "9068dafb-bdf4-4730-90a2-acb8168b3b3f",
       "rows": [
        [
         "count",
         "3512",
         "3508"
        ],
        [
         "unique",
         "995",
         "2471"
        ],
        [
         "top",
         "I have so many issues to address. I have a history of sexual abuse, I’m a breast cancer survivor and I am a lifetime insomniac.    I have a long history of depression and I’m beginning to have anxiety. I have low self esteem but I’ve been happily married for almost 35 years.\n   I’ve never had counseling about any of this. Do I have too many issues to address in counseling?",
         "Counseling ends when the client has received the maximum benefit from the therapist. Even if the therapist believes the client is not making progress, the client may feel they are improving and receiving a benefit. And the therapist may see a benefit and the client does not. It is best to have ongoing dialogue with the client to determine when termination is appropriate."
        ],
        [
         "freq",
         "94",
         "3"
        ]
       ],
       "shape": {
        "columns": 2,
        "rows": 4
       }
      },
      "text/html": [
       "<div>\n",
       "<style scoped>\n",
       "    .dataframe tbody tr th:only-of-type {\n",
       "        vertical-align: middle;\n",
       "    }\n",
       "\n",
       "    .dataframe tbody tr th {\n",
       "        vertical-align: top;\n",
       "    }\n",
       "\n",
       "    .dataframe thead th {\n",
       "        text-align: right;\n",
       "    }\n",
       "</style>\n",
       "<table border=\"1\" class=\"dataframe\">\n",
       "  <thead>\n",
       "    <tr style=\"text-align: right;\">\n",
       "      <th></th>\n",
       "      <th>Context</th>\n",
       "      <th>Response</th>\n",
       "    </tr>\n",
       "  </thead>\n",
       "  <tbody>\n",
       "    <tr>\n",
       "      <th>count</th>\n",
       "      <td>3512</td>\n",
       "      <td>3508</td>\n",
       "    </tr>\n",
       "    <tr>\n",
       "      <th>unique</th>\n",
       "      <td>995</td>\n",
       "      <td>2471</td>\n",
       "    </tr>\n",
       "    <tr>\n",
       "      <th>top</th>\n",
       "      <td>I have so many issues to address. I have a his...</td>\n",
       "      <td>Counseling ends when the client has received t...</td>\n",
       "    </tr>\n",
       "    <tr>\n",
       "      <th>freq</th>\n",
       "      <td>94</td>\n",
       "      <td>3</td>\n",
       "    </tr>\n",
       "  </tbody>\n",
       "</table>\n",
       "</div>"
      ],
      "text/plain": [
       "                                                  Context  \\\n",
       "count                                                3512   \n",
       "unique                                                995   \n",
       "top     I have so many issues to address. I have a his...   \n",
       "freq                                                   94   \n",
       "\n",
       "                                                 Response  \n",
       "count                                                3508  \n",
       "unique                                               2471  \n",
       "top     Counseling ends when the client has received t...  \n",
       "freq                                                    3  "
      ]
     },
     "execution_count": 4,
     "metadata": {},
     "output_type": "execute_result"
    }
   ],
   "source": [
    "nlp_convos_df.describe()"
   ]
  },
  {
   "cell_type": "markdown",
   "id": "1da4959b",
   "metadata": {},
   "source": [
    "## Cleaning NLP Convos"
   ]
  },
  {
   "cell_type": "markdown",
   "id": "55f5aa44",
   "metadata": {},
   "source": [
    "### Remove rows with missing values"
   ]
  },
  {
   "cell_type": "code",
   "execution_count": 5,
   "id": "852db07e",
   "metadata": {},
   "outputs": [],
   "source": [
    "# Remove rows where 'Response' is null or empty\n",
    "nlp_convos_df = nlp_convos_df.dropna(subset=[\"Response\"])\n",
    "nlp_convos_df = nlp_convos_df[nlp_convos_df[\"Response\"].str.strip().astype(bool)]\n"
   ]
  },
  {
   "cell_type": "code",
   "execution_count": 6,
   "id": "6d362550",
   "metadata": {},
   "outputs": [
    {
     "name": "stdout",
     "output_type": "stream",
     "text": [
      "<class 'pandas.core.frame.DataFrame'>\n",
      "Index: 3508 entries, 0 to 3511\n",
      "Data columns (total 2 columns):\n",
      " #   Column    Non-Null Count  Dtype \n",
      "---  ------    --------------  ----- \n",
      " 0   Context   3508 non-null   object\n",
      " 1   Response  3508 non-null   object\n",
      "dtypes: object(2)\n",
      "memory usage: 82.2+ KB\n"
     ]
    }
   ],
   "source": [
    "nlp_convos_df.info()"
   ]
  },
  {
   "cell_type": "code",
   "execution_count": 7,
   "id": "58031c96",
   "metadata": {},
   "outputs": [
    {
     "data": {
      "application/vnd.microsoft.datawrangler.viewer.v0+json": {
       "columns": [
        {
         "name": "index",
         "rawType": "object",
         "type": "string"
        },
        {
         "name": "Context",
         "rawType": "object",
         "type": "unknown"
        },
        {
         "name": "Response",
         "rawType": "object",
         "type": "unknown"
        }
       ],
       "ref": "4439f816-6c8e-496f-8fb1-77fc310f34c1",
       "rows": [
        [
         "count",
         "3508",
         "3508"
        ],
        [
         "unique",
         "995",
         "2471"
        ],
        [
         "top",
         "I have so many issues to address. I have a history of sexual abuse, I’m a breast cancer survivor and I am a lifetime insomniac.    I have a long history of depression and I’m beginning to have anxiety. I have low self esteem but I’ve been happily married for almost 35 years.\n   I’ve never had counseling about any of this. Do I have too many issues to address in counseling?",
         "Counseling ends when the client has received the maximum benefit from the therapist. Even if the therapist believes the client is not making progress, the client may feel they are improving and receiving a benefit. And the therapist may see a benefit and the client does not. It is best to have ongoing dialogue with the client to determine when termination is appropriate."
        ],
        [
         "freq",
         "94",
         "3"
        ]
       ],
       "shape": {
        "columns": 2,
        "rows": 4
       }
      },
      "text/html": [
       "<div>\n",
       "<style scoped>\n",
       "    .dataframe tbody tr th:only-of-type {\n",
       "        vertical-align: middle;\n",
       "    }\n",
       "\n",
       "    .dataframe tbody tr th {\n",
       "        vertical-align: top;\n",
       "    }\n",
       "\n",
       "    .dataframe thead th {\n",
       "        text-align: right;\n",
       "    }\n",
       "</style>\n",
       "<table border=\"1\" class=\"dataframe\">\n",
       "  <thead>\n",
       "    <tr style=\"text-align: right;\">\n",
       "      <th></th>\n",
       "      <th>Context</th>\n",
       "      <th>Response</th>\n",
       "    </tr>\n",
       "  </thead>\n",
       "  <tbody>\n",
       "    <tr>\n",
       "      <th>count</th>\n",
       "      <td>3508</td>\n",
       "      <td>3508</td>\n",
       "    </tr>\n",
       "    <tr>\n",
       "      <th>unique</th>\n",
       "      <td>995</td>\n",
       "      <td>2471</td>\n",
       "    </tr>\n",
       "    <tr>\n",
       "      <th>top</th>\n",
       "      <td>I have so many issues to address. I have a his...</td>\n",
       "      <td>Counseling ends when the client has received t...</td>\n",
       "    </tr>\n",
       "    <tr>\n",
       "      <th>freq</th>\n",
       "      <td>94</td>\n",
       "      <td>3</td>\n",
       "    </tr>\n",
       "  </tbody>\n",
       "</table>\n",
       "</div>"
      ],
      "text/plain": [
       "                                                  Context  \\\n",
       "count                                                3508   \n",
       "unique                                                995   \n",
       "top     I have so many issues to address. I have a his...   \n",
       "freq                                                   94   \n",
       "\n",
       "                                                 Response  \n",
       "count                                                3508  \n",
       "unique                                               2471  \n",
       "top     Counseling ends when the client has received t...  \n",
       "freq                                                    3  "
      ]
     },
     "execution_count": 7,
     "metadata": {},
     "output_type": "execute_result"
    }
   ],
   "source": [
    "nlp_convos_df.describe()"
   ]
  },
  {
   "cell_type": "markdown",
   "id": "340e311a",
   "metadata": {},
   "source": [
    "### Remove Complete Duplicates (rows where both Context AND Response are repeats)"
   ]
  },
  {
   "cell_type": "code",
   "execution_count": 8,
   "id": "1f073774",
   "metadata": {},
   "outputs": [],
   "source": [
    "# Remove exact duplicate prompt/response pairs\n",
    "nlp_convos_df = nlp_convos_df.drop_duplicates(subset=[\"Context\", \"Response\"])\n"
   ]
  },
  {
   "cell_type": "code",
   "execution_count": 9,
   "id": "9a0f9344",
   "metadata": {},
   "outputs": [
    {
     "name": "stdout",
     "output_type": "stream",
     "text": [
      "<class 'pandas.core.frame.DataFrame'>\n",
      "Index: 2740 entries, 0 to 3511\n",
      "Data columns (total 2 columns):\n",
      " #   Column    Non-Null Count  Dtype \n",
      "---  ------    --------------  ----- \n",
      " 0   Context   2740 non-null   object\n",
      " 1   Response  2740 non-null   object\n",
      "dtypes: object(2)\n",
      "memory usage: 64.2+ KB\n"
     ]
    }
   ],
   "source": [
    "nlp_convos_df.info()"
   ]
  },
  {
   "cell_type": "code",
   "execution_count": 10,
   "id": "a3e9d057",
   "metadata": {},
   "outputs": [
    {
     "data": {
      "application/vnd.microsoft.datawrangler.viewer.v0+json": {
       "columns": [
        {
         "name": "index",
         "rawType": "object",
         "type": "string"
        },
        {
         "name": "Context",
         "rawType": "object",
         "type": "unknown"
        },
        {
         "name": "Response",
         "rawType": "object",
         "type": "unknown"
        }
       ],
       "ref": "e2f12cd2-0c2a-4fc2-a4cb-49280ebe1c19",
       "rows": [
        [
         "count",
         "2740",
         "2740"
        ],
        [
         "unique",
         "995",
         "2471"
        ],
        [
         "top",
         "I have so many issues to address. I have a history of sexual abuse, I’m a breast cancer survivor and I am a lifetime insomniac.    I have a long history of depression and I’m beginning to have anxiety. I have low self esteem but I’ve been happily married for almost 35 years.\n   I’ve never had counseling about any of this. Do I have too many issues to address in counseling?",
         "I'm sorry to hear that your brother has been having such a rough time. He's lucky to have you on his side (although he may not always see it that way).As far as whether you can sign him in, that depends on a lot of different things.I would suggest that you Google the state and county that you live in as well as some phrase similar to \"crisis hotline.\" They can tell you how it works in that county. My guess is that you could sign him in as long as he met the criteria for admission at that moment, but I can't  be entirely sure. You could also ask the person on the phone about financial responsibility. I have not heard of that being a problem, but I guess it would depend on insurance.If you have trouble finding a local  hotline, consider calling the national crisis number (800-273-8255) and ask them to help you find someone local."
        ],
        [
         "freq",
         "47",
         "2"
        ]
       ],
       "shape": {
        "columns": 2,
        "rows": 4
       }
      },
      "text/html": [
       "<div>\n",
       "<style scoped>\n",
       "    .dataframe tbody tr th:only-of-type {\n",
       "        vertical-align: middle;\n",
       "    }\n",
       "\n",
       "    .dataframe tbody tr th {\n",
       "        vertical-align: top;\n",
       "    }\n",
       "\n",
       "    .dataframe thead th {\n",
       "        text-align: right;\n",
       "    }\n",
       "</style>\n",
       "<table border=\"1\" class=\"dataframe\">\n",
       "  <thead>\n",
       "    <tr style=\"text-align: right;\">\n",
       "      <th></th>\n",
       "      <th>Context</th>\n",
       "      <th>Response</th>\n",
       "    </tr>\n",
       "  </thead>\n",
       "  <tbody>\n",
       "    <tr>\n",
       "      <th>count</th>\n",
       "      <td>2740</td>\n",
       "      <td>2740</td>\n",
       "    </tr>\n",
       "    <tr>\n",
       "      <th>unique</th>\n",
       "      <td>995</td>\n",
       "      <td>2471</td>\n",
       "    </tr>\n",
       "    <tr>\n",
       "      <th>top</th>\n",
       "      <td>I have so many issues to address. I have a his...</td>\n",
       "      <td>I'm sorry to hear that your brother has been h...</td>\n",
       "    </tr>\n",
       "    <tr>\n",
       "      <th>freq</th>\n",
       "      <td>47</td>\n",
       "      <td>2</td>\n",
       "    </tr>\n",
       "  </tbody>\n",
       "</table>\n",
       "</div>"
      ],
      "text/plain": [
       "                                                  Context  \\\n",
       "count                                                2740   \n",
       "unique                                                995   \n",
       "top     I have so many issues to address. I have a his...   \n",
       "freq                                                   47   \n",
       "\n",
       "                                                 Response  \n",
       "count                                                2740  \n",
       "unique                                               2471  \n",
       "top     I'm sorry to hear that your brother has been h...  \n",
       "freq                                                    2  "
      ]
     },
     "execution_count": 10,
     "metadata": {},
     "output_type": "execute_result"
    }
   ],
   "source": [
    "nlp_convos_df.describe()"
   ]
  },
  {
   "cell_type": "markdown",
   "id": "f5c9ee8b",
   "metadata": {},
   "source": [
    "# Final NLP Convo set"
   ]
  },
  {
   "cell_type": "code",
   "execution_count": 11,
   "id": "0538456a",
   "metadata": {},
   "outputs": [
    {
     "name": "stdout",
     "output_type": "stream",
     "text": [
      "NLP Mental Health Convos: (2740, 2)\n"
     ]
    }
   ],
   "source": [
    "nlp_convos_df = nlp_convos_df.reset_index(drop=True)\n",
    "\n",
    "print(f\"NLP Mental Health Convos: {nlp_convos_df.shape}\")\n"
   ]
  },
  {
   "cell_type": "code",
   "execution_count": 12,
   "id": "8f8ed89d",
   "metadata": {},
   "outputs": [
    {
     "data": {
      "application/vnd.microsoft.datawrangler.viewer.v0+json": {
       "columns": [
        {
         "name": "index",
         "rawType": "int64",
         "type": "integer"
        },
        {
         "name": "Context",
         "rawType": "object",
         "type": "string"
        },
        {
         "name": "Response",
         "rawType": "object",
         "type": "string"
        }
       ],
       "ref": "83f48aa9-7246-4bbb-997d-f4a8fceae397",
       "rows": [
        [
         "2204",
         "They don't go away, and I feel like I'm going crazy. Does that ever stop? Can it be a symptom of medication?",
         "This can certainly be a side effect of some medications. If the voices are so powerful that you can not sleep or they are constantly present, you shouldn't wait any time, but go and see your doctor straight away. "
        ],
        [
         "505",
         "I've been dealing with this for years. My mom thinks I'm overly emotional and refuses to offer any help, like therapy or seeing a doctor. She's seen me when I'm having a panic attack and just said I was faking for attention or that I'm a hypochondriac. I just want to get better.",
         "How old are you?Are you old enough in your State to have therapy without your mother's consent?Your mom's attitude toward you may be one significant reason on why you feels so much tension in the first place.Don't let her opinions and beliefs get in the way of what you know about yourself.Are you in school and does that school have a guidance counselor?Would you talk with that person about your difficult getting your mom to retain helping services for you?Keep looking for local resources which will support you either directly or indirectly by advocating for your right to receive mental health care."
        ],
        [
         "2438",
         "I have a mother who is still running my life even though I'm almost 30 years old. I want to move out and live my own life, but it feels like as long as I do what my mom wants our relationship is okay. It's never okay if I don't do what she wants. \n\nI don't know how to start making my own decisions and not worry about  whether it's right in her eyes.  Would it help for me to talk to someone about this?",
         "ABSOLUTELY.  Having someone who's outside the situation and, even more so, with knowledge and experience in human behavior and relationship dynamics such as a counselor can do wonders in helping us feel less alone in frustrating situations like the one you're currently stuck in with your mother.  A professional can also assist you in finding some assertiveness techniques, communication strategies, and coping skills to help you find your voice and stand your ground in a way that feels most authentic to you.In a healthy parent-child dynamic, there comes a normal developmental shift when, as the child reaches each new stage of maturity and responsibility, the parent backs off to provide a more supportive role instead of directive role.  We call this \"redefining relationships.\"  (We also do it with our friendships and colleagues here and there over time as needed). It's absolutely vital. Sounds like your mom may have missed that memo. Like many parents, she may feel your behavior and choices is a direct reflection of her.  Or that her role as your mother allows her greater latitude than it should.  Or like many other people in general, that her way is the ONLY way.  Regardless, this is YOUR life.  And as far as we know, it's not a dress rehearsal.  You certainly don't want to wake up some 50 years from now regretful or resentful. That being said, there are certainly ways to show her love and respect while doing what makes you happy. I would encourage you to Google therapists near you whose bios resonate with you and what you're looking for and start on a the journey towards a new chapter of freedom and hopefully a deeper, more satisfying mother-daughter relationship for both of you.Warmest regards,Tamara Powell, LMHC "
        ],
        [
         "1893",
         "How do you know you have the right therapist for you?\n How would I know how to \"train\" my therapist to be able to give me what I need from treatment?",
         "How do you know anything is \"right\" for you? I think it's an intuitive process, and not always based on the objective expertise of the therapist, either (most psychotherapy research has concluded that the client-therapist relationship is the strongest factor in success in therapy.) But, in my view what is important to check-in with yourself around whether or not the therapist can hold space for all that you come in with (for example, not expressing discomfort with things you might talk about is a big \"run away\"), challenge you enough where you feel like it is challenging you to grow, but also where there is some part of you that does look forward to the sessions.How to \"train\" your therapist? This could be a session in and of itself I must say:) The therapist-client relationship can resemble many of the relationships in your life, or those that you seek out. A therapist, like anyone else in your life, won't be able to give you what you need 100% of the time and then expect that you will be able to function outside of the space. That can turn into a highly enabling process that won't help your other relationships. However, what the therapist can do, and help you deal with, is to tell you what they can and can't give you, and then process the disappointment that you feel when they can't be everything you might feel you need."
        ],
        [
         "1744",
         "Often times I find myself thinking scary thoughts and sometimes I even scare myself into thinking that something bad is going to happen to me. Once it starts, the thought continues going through my head and I can't get it out. How can I stop these thoughts?",
         "Hi there,I first want to let you know that having these thoughts is completely normal. Studies have been done that show that 80% of human thoughts are \"negative\" so you are not alone. I like to think of thoughts as a tornado... if you are in a tornado, you are completely consumed by it and it is nearly impossible to do anything beneficial. However, when you are, let's say, a mile away from a tornado, it is still scary but you have the option to do something that is important to you such as get shelter or make sure your family and friends are safe. When unhelpful or scary thoughts arise, we tend to start a \"war\" with them, which is the equivalent of jumping into the tornado. This makes the thoughts and emotions bigger and intensifies the feelings that go with them. So the question I imagine you have is \"how do I get out of the tornado?\" There are 3 steps to doing this:Get distance from your thoughts by adding \"I am noticing I'm having the thought that....\" to the front of them. For example, \"I am noticing I am having the thought that something bad is going to happen to me.\"   The purpose of this is not to decrease your fear or get rid of the thought. These thoughts might always be there and that is okay because that is how the mind naturally works so struggling with that is a waste of time and energy. The purpose is to gain some distance from the thoughts so you don't get swept away by them. You can imagine them floating along like leaves in a stream or clouds in the sky (and often the same thought will come back again and again but that's okay... just continue to notice it with curiosity). I imagine the thoughts get in your way of doing what really matters to you so if you can get a little bit of distance, you can do things that are fulfilling and meaningful to you. Tune into your body and notice what sensations come up and where you feel them most intensely. Then breathe into them and make room for them. Our 5 main emotions are: joy, sadness, fear/anxiety, shame, and anger. ALL of these emotions are part of being human and there is no escaping them. So again, struggling with them ends up intensifying them. Instead, let them be and make a little bit of room for them. Often a side effect of this is the intensity will decrease but it might not. The purpose is to keep them from becoming more intense. Contact the present moment. Notice what is happening here and now. One way of doing this is tuning into the five senses. What are some things you hear, see, taste, smell, and feel? Another way is to notice what is happening in your body (without trying to change it). How deep are your breaths, what is happening with your heart rate, are you cold/warm, etc?Implementing these three steps can help you to refrain from getting caught up in your unhelpful thoughts. Unfortunately there is no way to get rid of thoughts or feelings completely. So the only option that works in the long run is to accept them while continuing to do what matters to you and what is fulfilling to you.I hope this helps!"
        ],
        [
         "933",
         "Maybe this is a stupid question, but I sometimes don't know what's real or not. If feel at times like everyone's lying. How do I know if God is one of those lies?",
         "Thanks for posting.  This is a significant issue for many people and can make us feel helpless; among other emotions due to the uncertainty.  You said that, at times, you feel like everyone is lying. Ask yourself some of these questions.  What is it that makes you feel so strongly that they are lying?  Where is the concrete evidence that they are lying? How could I test my thoughts about this? What if things are not what they seem on the surface? Am I any lesser of a person as a result of this person's behavior or opinion?  Our beliefs about ourselves and the people and our world  and how we interpret information and experiences have a significant effect on how we feel and how we behave.  It is important to objectively challenge the beliefs that contribute to negative emotions.  You can start this process by answering some of the above questions.  We are unfortunately influenced by what and who we associate with.  As it pertains to if God is a lie; be honest with yourself and question your beliefs that tell you that God is or is not real.  It may be helpful for you to speak to a preacher or chaplain of some sort and they can help you with a lot of that.  Hope this helps at least a little bit."
        ],
        [
         "2615",
         "I have a friend that who I used to be in a relationship with. It was brief and turned into us being just good friends.\n\nI spent the weekend with him and  it upset my boyfriend. Was i wrong?",
         "It's completely understandable that you would have male friends and that you would want to spend time with them.  When you cross over from friends to a relationship, it does change things.  Some people are very easy going and wouldn't feel threatened by what you did  Others would be upset.  If your boyfriend is upset by you spending time with this male friend, then you need to talk about it.  Each of you needs to express your feelings about the situation and listen to the other with patience and respect.  Then you can make a decision on what is best for you and your relationship.  Maybe he wouldn't be upset if you saw this friend while you were with your boyfriend.  Or maybe your boyfriend would feel better if he got to know this person better and could trust him.  Most likely you can come up with a situation that will make both of you comfortable going forward.  You didn't do anything \"wrong\" because it doesn't sound like you intended to hurt your boyfriend.  But if you really care about your boyfriend, then you probably care about making him upset.  Instead of looking at this issue as a problem, try to look at it as an opportunity to connect.  If you can both listen to each other and understand each other, your relationship can become even closer."
        ],
        [
         "2539",
         "I have been married for 11 years. Within the past 2 years we have drifted far apart. We coexist together but there is very little personal interest in each other. I often feel that my husband has \"friends\" at work that he is more emotional invested in than me. I feel very alone and just uncared for.  Is there anything I can do to feel reconnected?",
         "Absolutely. Your question shows that you are going through a lot of pain and I'm sorry for that. Many couples go through this disconnect and hope to come to reconnect before things get to a breaking point. What I think can help is the following: 1.) Understand what his primary concern is2.) Understand what your primary concern is3.) What would you like to see different?4.) What would he like to see different? 5.) Be honest about your concern with him having friends (Be ready for honesty)6.) Help him understand you feel alone without him feeling guilty.7.) Let him know how committed you are to making this relationship despite the two of you drifting apart.8.) Sometimes if you just acknowledge the elephant in the room.9.) Couples/Marriage Therapy"
        ],
        [
         "2117",
         "He said he would try and he never did. It's been nine months, and this is making me worse. Today, he said I have to respect whatever decision he makes. Is that true? Am I supposed to respect the decision to leave because he can't handle what I'm going through and leaves me here crying and worried every night? He's constantly changing his mind on if he wants to work it out.",
         "Wow that is tough. There is nothing worse than fearing abandonment when you are already struggling with depression. It sounds like you are still wanting to work through whatever challenges you and your husband are having but your husband may not be on the same page. I would encourage you and your husband to seek professional support if you haven't already. While depression can put real strains on a relationship, relationship problems can lead to or contribute to depression and there may be some real benefits to both of you in doing some couple therapy. With that being said - if your husband is not willing to do therapy or is clear that he wants the relationship to end, then I can't see what choice you have but to \"respect his decision\" as you mentioned. This doesn't mean that you have to feel okay with the decision - as I'm sure you wouldn't - but ultimately loving one another and staying in committed relationships is a choice that we each have to make. If he is wanting to leave - this could make things a lot tougher for you. I would encourage you to seek professional support for yourself and reach out to lots of friends and family. You do not need to face depression alone - nor should you have to. We all need support at tough times like these. "
        ],
        [
         "1978",
         "Does counseling really do anything that can help people?",
         "Counseling can go a long way in improving your mental health. Counseling helps you to get new perspective on your life and problems.Talking about your problems with a counselor gives them substances and something to get a handle on. Talking about your problems gives you a chance look at your situation from a new angle to help solve your problems.The counselor is a neutral listener that can help give direction and answers to your needs.Counseling can help you solve your problems but also can set up a plan for the future. Counseling can help you to deal with things before they get out of hand.Give counseling a try."
        ]
       ],
       "shape": {
        "columns": 2,
        "rows": 10
       }
      },
      "text/html": [
       "<div>\n",
       "<style scoped>\n",
       "    .dataframe tbody tr th:only-of-type {\n",
       "        vertical-align: middle;\n",
       "    }\n",
       "\n",
       "    .dataframe tbody tr th {\n",
       "        vertical-align: top;\n",
       "    }\n",
       "\n",
       "    .dataframe thead th {\n",
       "        text-align: right;\n",
       "    }\n",
       "</style>\n",
       "<table border=\"1\" class=\"dataframe\">\n",
       "  <thead>\n",
       "    <tr style=\"text-align: right;\">\n",
       "      <th></th>\n",
       "      <th>Context</th>\n",
       "      <th>Response</th>\n",
       "    </tr>\n",
       "  </thead>\n",
       "  <tbody>\n",
       "    <tr>\n",
       "      <th>2204</th>\n",
       "      <td>They don't go away, and I feel like I'm going ...</td>\n",
       "      <td>This can certainly be a side effect of some me...</td>\n",
       "    </tr>\n",
       "    <tr>\n",
       "      <th>505</th>\n",
       "      <td>I've been dealing with this for years. My mom ...</td>\n",
       "      <td>How old are you?Are you old enough in your Sta...</td>\n",
       "    </tr>\n",
       "    <tr>\n",
       "      <th>2438</th>\n",
       "      <td>I have a mother who is still running my life e...</td>\n",
       "      <td>ABSOLUTELY.  Having someone who's outside the ...</td>\n",
       "    </tr>\n",
       "    <tr>\n",
       "      <th>1893</th>\n",
       "      <td>How do you know you have the right therapist f...</td>\n",
       "      <td>How do you know anything is \"right\" for you? I...</td>\n",
       "    </tr>\n",
       "    <tr>\n",
       "      <th>1744</th>\n",
       "      <td>Often times I find myself thinking scary thoug...</td>\n",
       "      <td>Hi there,I first want to let you know that hav...</td>\n",
       "    </tr>\n",
       "    <tr>\n",
       "      <th>933</th>\n",
       "      <td>Maybe this is a stupid question, but I sometim...</td>\n",
       "      <td>Thanks for posting.  This is a significant iss...</td>\n",
       "    </tr>\n",
       "    <tr>\n",
       "      <th>2615</th>\n",
       "      <td>I have a friend that who I used to be in a rel...</td>\n",
       "      <td>It's completely understandable that you would ...</td>\n",
       "    </tr>\n",
       "    <tr>\n",
       "      <th>2539</th>\n",
       "      <td>I have been married for 11 years. Within the p...</td>\n",
       "      <td>Absolutely. Your question shows that you are g...</td>\n",
       "    </tr>\n",
       "    <tr>\n",
       "      <th>2117</th>\n",
       "      <td>He said he would try and he never did. It's be...</td>\n",
       "      <td>Wow that is tough. There is nothing worse than...</td>\n",
       "    </tr>\n",
       "    <tr>\n",
       "      <th>1978</th>\n",
       "      <td>Does counseling really do anything that can he...</td>\n",
       "      <td>Counseling can go a long way in improving your...</td>\n",
       "    </tr>\n",
       "  </tbody>\n",
       "</table>\n",
       "</div>"
      ],
      "text/plain": [
       "                                                Context  \\\n",
       "2204  They don't go away, and I feel like I'm going ...   \n",
       "505   I've been dealing with this for years. My mom ...   \n",
       "2438  I have a mother who is still running my life e...   \n",
       "1893  How do you know you have the right therapist f...   \n",
       "1744  Often times I find myself thinking scary thoug...   \n",
       "933   Maybe this is a stupid question, but I sometim...   \n",
       "2615  I have a friend that who I used to be in a rel...   \n",
       "2539  I have been married for 11 years. Within the p...   \n",
       "2117  He said he would try and he never did. It's be...   \n",
       "1978  Does counseling really do anything that can he...   \n",
       "\n",
       "                                               Response  \n",
       "2204  This can certainly be a side effect of some me...  \n",
       "505   How old are you?Are you old enough in your Sta...  \n",
       "2438  ABSOLUTELY.  Having someone who's outside the ...  \n",
       "1893  How do you know anything is \"right\" for you? I...  \n",
       "1744  Hi there,I first want to let you know that hav...  \n",
       "933   Thanks for posting.  This is a significant iss...  \n",
       "2615  It's completely understandable that you would ...  \n",
       "2539  Absolutely. Your question shows that you are g...  \n",
       "2117  Wow that is tough. There is nothing worse than...  \n",
       "1978  Counseling can go a long way in improving your...  "
      ]
     },
     "execution_count": 12,
     "metadata": {},
     "output_type": "execute_result"
    }
   ],
   "source": [
    "nlp_convos_df.sample(10)"
   ]
  },
  {
   "cell_type": "markdown",
   "id": "cdab659d",
   "metadata": {},
   "source": [
    "# Explore Interview 6K"
   ]
  },
  {
   "cell_type": "markdown",
   "id": "c07c4258",
   "metadata": {},
   "source": [
    "## Intro to Interview 6k"
   ]
  },
  {
   "cell_type": "code",
   "execution_count": 13,
   "id": "f6d86e1a",
   "metadata": {},
   "outputs": [
    {
     "data": {
      "application/vnd.microsoft.datawrangler.viewer.v0+json": {
       "columns": [
        {
         "name": "index",
         "rawType": "int64",
         "type": "integer"
        },
        {
         "name": "instruction",
         "rawType": "object",
         "type": "string"
        },
        {
         "name": "input",
         "rawType": "object",
         "type": "string"
        },
        {
         "name": "output",
         "rawType": "object",
         "type": "string"
        }
       ],
       "ref": "ef2a40f0-2ad3-447c-b23b-4e0d3f1c88c0",
       "rows": [
        [
         "0",
         "You are a helpful mental health counselling assistant, please answer the mental health questions based on the patient's description. \nThe assistant gives helpful, comprehensive, and appropriate answers to the user's questions. ",
         "I've been struggling with my mental health for a while now, and I can't seem to find a way to cope with it. I've tried visualization, positive thinking, and even medication, but nothing seems to work. I've been feeling lost and helpless, and I don't know what to do next. My mind is a whirlwind of thoughts and emotions, and I can't seem to make sense of it all. I feel like I'm drowning in a sea of confusion, and I can't seem to find my way out.",
         "I understand that you've been dealing with a sense of confusion and chaos in your thoughts and emotions for some time now. It's been a challenging journey, and it's commendable that you've tried various approaches like visualization, positive thinking, and medication to manage your symptoms. However, it's clear that these methods haven't been effective for you. It's essential to acknowledge that mental health issues can be complex and multifaceted, and what works for one person might not work for another. Today, we're going to approach this differently. We're going to identify a specific concern related to your mental health that you'd like to work on, and we'll break it down into manageable steps. We'll define the problem as a feeling of being overwhelmed by your thoughts and emotions, and we'll set realistic goals for managing this feeling. We'll explore the root causes of this confusion, such as past traumas, current stressors, and any underlying psychological conditions. We'll also examine your thought patterns and emotional responses to these triggers, and we'll develop strategies to challenge and reframe negative thoughts. This process is called Cognitive Behavioral Therapy (CBT), and it's designed to help you face your challenges more effectively by changing the way you think and feel about them. Let's begin by discussing the specific incidents or concerns that have been contributing to your feelings of confusion and chaos. We can explore these further and come up with strategies to help you manage them."
        ],
        [
         "1",
         "You are a helpful mental health counselling assistant, please answer the mental health questions based on the patient's description. \nThe assistant gives helpful, comprehensive, and appropriate answers to the user's questions. ",
         "I've been feeling overwhelmed with my caregiving responsibilities, and it's been a struggle to balance these duties with my personal relationships. I've tried to communicate my limitations to my friends and church members, but they don't seem to understand or respect my boundaries. I've been dealing with high anxiety levels, which makes it even harder for me to focus on my own needs. I've tried to take care of myself, but it feels like an insurmountable task.",
         "Your situation is complex, and it's important to acknowledge the challenges you're facing. Balancing caregiving responsibilities with personal relationships can be a delicate dance, and it's common to encounter resistance when setting boundaries. I want to help you explore strategies for communicating your needs more effectively and setting clearer boundaries. Additionally, I see that your anxiety levels are significantly impacting your ability to focus on self-care. We can work together to identify the root causes of your anxiety and develop a plan to manage it more effectively. Let's begin by exploring the specific challenges you've encountered when setting boundaries and communicating your needs. We'll also discuss potential strategies for managing your anxiety and prioritizing self-care in your life.\n\nCounselor (continued):\n"
        ],
        [
         "2",
         "You are a helpful mental health counselling assistant, please answer the mental health questions based on the patient's description. \nThe assistant gives helpful, comprehensive, and appropriate answers to the user's questions. ",
         "I've been feeling constantly anxious and unable to focus on anything for more than a few minutes at a time. I can't seem to get anything done, and I'm starting to feel like I'm failing everyone who's relying on me.",
         "I can see that you're dealing with a great deal of anxiety and that it's impacting your ability to focus and be productive. It's important to remember that anxiety is a normal response to stress, but when it becomes chronic and interferes with your daily life, it can be debilitating.\n\nOne approach to managing anxiety is through cognitive-behavioral techniques. This involves identifying and challenging negative thought patterns, or cognitive distortions, that contribute to your anxiety. For example, you might be thinking things like \"I can't do this,\" or \"I'll never be able to handle this situation.\" These thoughts can create a cycle of anxiety and make it even harder to focus and be productive.\n\nAnother approach is through relaxation techniques, such as deep breathing, progressive muscle relaxation, or mindfulness meditation. These techniques can help you manage your physical symptoms of anxiety, such as a racing heart or tense muscles, and can help you feel more calm and focused.\n\nIt's also important to prioritize self-care and make time for activities that bring you joy and help you relax. This might include things like reading, taking a walk, or practicing a hobby. By taking care of yourself, you'll be better equipped to manage your anxiety and be more effective in your role as a helper to others.\n\nLastly, it's crucial to set realistic and attainable goals for yourself. This means identifying what you can realistically accomplish, given the resources and constraints you have. And remember, it's essential to distinguish between facts and assumptions when setting these goals. For example, instead of assuming that you can't do anything about the situation, focus on what you can do and set goals based on that.\n\nIt's also important to acknowledge and address any obstacles that might be preventing you from achieving these goals. By identifying and addressing these obstacles, you'll be better equipped to make progress and feel more in control of the situation."
        ],
        [
         "3",
         "You are a helpful mental health counselling assistant, please answer the mental health questions based on the patient's description. \nThe assistant gives helpful, comprehensive, and appropriate answers to the user's questions. ",
         "My mom has Alzheimer's, and I've been her primary caregiver for the past few years. I've been trying to maintain a routine for her, but my siblings keep calling me for favors or emergencies, which disrupts my schedule and leaves me feeling drained. I've tried setting boundaries, but they don't seem to respect my time or my mom's needs.",
         "I'm sorry to hear that your siblings' demands are causing you such distress. It's not uncommon for caregivers to face these challenges, and it's essential to establish clear communication with your family members about your responsibilities and limitations. You might consider setting specific times for responding to their requests or delegating tasks to others. It's also essential to remember that you're not alone in this situation and that seeking additional support, such as respite care or community resources, can be beneficial for both you and your mom.\n\nResponse:"
        ],
        [
         "4",
         "You are a helpful mental health counselling assistant, please answer the mental health questions based on the patient's description. \nThe assistant gives helpful, comprehensive, and appropriate answers to the user's questions. ",
         "I've tried setting boundaries, but it feels like I'm constantly being pulled in different directions. I feel guilty for not being able to help my siblings, but I also know that I can't continue to neglect my mom's needs. I'm worried that if I don't find a way to manage these demands, I'll burn out and won't be able to care for her effectively.",
         "Your concerns are valid, and it's crucial to prioritize your mom's care while also addressing your own well-being. One approach that might be helpful is practicing self-care and stress management techniques, such as mindfulness meditation, deep breathing exercises, or engaging in enjoyable activities. Additionally, you could consider reaching out to local support groups or organizations that offer resources and guidance for caregivers in similar situations. Remember, it's essential to advocate for yourself and your mom's needs, and to seek help when needed. The goal is to create a sustainable caregiving situation that benefits everyone involved.\n\nResponse:"
        ]
       ],
       "shape": {
        "columns": 3,
        "rows": 5
       }
      },
      "text/html": [
       "<div>\n",
       "<style scoped>\n",
       "    .dataframe tbody tr th:only-of-type {\n",
       "        vertical-align: middle;\n",
       "    }\n",
       "\n",
       "    .dataframe tbody tr th {\n",
       "        vertical-align: top;\n",
       "    }\n",
       "\n",
       "    .dataframe thead th {\n",
       "        text-align: right;\n",
       "    }\n",
       "</style>\n",
       "<table border=\"1\" class=\"dataframe\">\n",
       "  <thead>\n",
       "    <tr style=\"text-align: right;\">\n",
       "      <th></th>\n",
       "      <th>instruction</th>\n",
       "      <th>input</th>\n",
       "      <th>output</th>\n",
       "    </tr>\n",
       "  </thead>\n",
       "  <tbody>\n",
       "    <tr>\n",
       "      <th>0</th>\n",
       "      <td>You are a helpful mental health counselling as...</td>\n",
       "      <td>I've been struggling with my mental health for...</td>\n",
       "      <td>I understand that you've been dealing with a s...</td>\n",
       "    </tr>\n",
       "    <tr>\n",
       "      <th>1</th>\n",
       "      <td>You are a helpful mental health counselling as...</td>\n",
       "      <td>I've been feeling overwhelmed with my caregivi...</td>\n",
       "      <td>Your situation is complex, and it's important ...</td>\n",
       "    </tr>\n",
       "    <tr>\n",
       "      <th>2</th>\n",
       "      <td>You are a helpful mental health counselling as...</td>\n",
       "      <td>I've been feeling constantly anxious and unabl...</td>\n",
       "      <td>I can see that you're dealing with a great dea...</td>\n",
       "    </tr>\n",
       "    <tr>\n",
       "      <th>3</th>\n",
       "      <td>You are a helpful mental health counselling as...</td>\n",
       "      <td>My mom has Alzheimer's, and I've been her prim...</td>\n",
       "      <td>I'm sorry to hear that your siblings' demands ...</td>\n",
       "    </tr>\n",
       "    <tr>\n",
       "      <th>4</th>\n",
       "      <td>You are a helpful mental health counselling as...</td>\n",
       "      <td>I've tried setting boundaries, but it feels li...</td>\n",
       "      <td>Your concerns are valid, and it's crucial to p...</td>\n",
       "    </tr>\n",
       "  </tbody>\n",
       "</table>\n",
       "</div>"
      ],
      "text/plain": [
       "                                         instruction  \\\n",
       "0  You are a helpful mental health counselling as...   \n",
       "1  You are a helpful mental health counselling as...   \n",
       "2  You are a helpful mental health counselling as...   \n",
       "3  You are a helpful mental health counselling as...   \n",
       "4  You are a helpful mental health counselling as...   \n",
       "\n",
       "                                               input  \\\n",
       "0  I've been struggling with my mental health for...   \n",
       "1  I've been feeling overwhelmed with my caregivi...   \n",
       "2  I've been feeling constantly anxious and unabl...   \n",
       "3  My mom has Alzheimer's, and I've been her prim...   \n",
       "4  I've tried setting boundaries, but it feels li...   \n",
       "\n",
       "                                              output  \n",
       "0  I understand that you've been dealing with a s...  \n",
       "1  Your situation is complex, and it's important ...  \n",
       "2  I can see that you're dealing with a great dea...  \n",
       "3  I'm sorry to hear that your siblings' demands ...  \n",
       "4  Your concerns are valid, and it's crucial to p...  "
      ]
     },
     "metadata": {},
     "output_type": "display_data"
    },
    {
     "data": {
      "application/vnd.microsoft.datawrangler.viewer.v0+json": {
       "columns": [
        {
         "name": "index",
         "rawType": "int64",
         "type": "integer"
        },
        {
         "name": "instruction",
         "rawType": "object",
         "type": "string"
        },
        {
         "name": "input",
         "rawType": "object",
         "type": "string"
        },
        {
         "name": "output",
         "rawType": "object",
         "type": "string"
        }
       ],
       "ref": "86cfccb3-b901-4557-8c41-9e8423feac4f",
       "rows": [
        [
         "6305",
         "You are a helpful mental health counselling assistant, please answer the mental health questions based on the patient's description. \nThe assistant gives helpful, comprehensive, and appropriate answers to the user's questions. ",
         "I'm feeling overwhelmed and guilty about my uncle's death. I feel like I should have been able to do more for him, even though I was there with him when he passed. I'm also worried about the financial burden of his care and the potential impact on my own finances. I've been trying to process these feelings, but I can't seem to shake them.",
         "It's understandable that you're feeling a range of emotions, including guilt and worry, in the aftermath of your uncle's passing. Grief is a complex and multifaceted experience, and it's common to feel a sense of responsibility or regret when a loved one passes away. Your concern about the financial burden of your uncle's care is also a valid one, as caregiving can be a significant financial strain. It's important to acknowledge and validate these feelings, while also exploring ways to manage them effectively.\n\nOne approach we could consider is mindfulness meditation, which can help you become more aware of your thoughts and emotions without judgment. This can help you develop a greater sense of self-compassion and acceptance, which can be beneficial in managing feelings of guilt and regret. Additionally, we could explore strategies for managing the financial burden of your uncle's care, such as researching available resources, creating a budget, and seeking out financial assistance programs.\n\nAnother approach we could consider is cognitive-behavioral therapy, which can help you challenge and reframe negative thoughts and beliefs that contribute to feelings of guilt and worry. For example, you might be able to reframe your thoughts about your role in your uncle's care to focus on the things you were able to do for him, rather than the things you couldn't. We could also explore ways to challenge the belief that you're solely responsible for your uncle's financial care, and explore alternative sources of support and resources.\n\nUltimately, the goal of our sessions would be to help you develop a more comprehensive understanding of your emotions and experiences, and to explore strategies for managing them effectively. This would involve a collaborative and empathetic approach, grounded in professional ethical standards and informed by key concepts in counseling psychology, such as mindfulness, cognitive-behavioral therapy, and self-compassion. I'm here to support you in any way I can, and I believe that with a thoughtful and compassionate approach, we can help you navigate this challenging time."
        ],
        [
         "6306",
         "You are a helpful mental health counselling assistant, please answer the mental health questions based on the patient's description. \nThe assistant gives helpful, comprehensive, and appropriate answers to the user's questions. ",
         "I've been feeling overwhelmed lately, and I've been turning to [Name] and gambling as a way to cope. I know it's not healthy, but it's become a comforting distraction from my stressors. I've been struggling with anxiety and depression for years, and it feels like I'm back at square one. I've tried therapy before, but it didn't seem to help. I don't know if I can handle all of this again.",
         "I understand that you've been feeling overwhelmed and that you've been turning to [Name] and gambling as a way to cope. It's important to acknowledge that these behaviors might provide temporary relief, but they can ultimately contribute to increased stress and negative emotions. It's essential to recognize that these patterns are not sustainable and that they can negatively impact your overall well-being. I want to assure you that you're not alone in feeling this way, and that seeking help is a courageous step towards healing.\n\nYour history of anxiety and depression is significant, and it's essential to address these underlying issues to prevent a relapse. In the past, you've tried therapy, and it didn't seem to help. However, it's essential to remember that every person's therapeutic journey is unique, and what worked for others might not work for you. It's crucial to find a therapeutic approach that resonates with you and that addresses your specific needs.\n\nOne approach that might be helpful is Cognitive Behavioral Therapy (CBT), which focuses on identifying and challenging negative thought patterns and behaviors. Another approach is Mindfulness-Based Stress Reduction (MBSR), which can help you develop skills to manage stress and anxiety through mindfulness practices. It's essential to work with a mental health professional to determine which approach is best for you and to develop a personalized treatment plan.\n\nRemember, healing is a process, and it's essential to be patient and compassionate with yourself. It's okay to ask for help, and it's essential to prioritize your mental and emotional well-being. Together, we can explore the root causes of your anxiety and depression and develop strategies to manage your symptoms and improve your overall quality of life."
        ],
        [
         "6307",
         "You are a helpful mental health counselling assistant, please answer the mental health questions based on the patient's description. \nThe assistant gives helpful, comprehensive, and appropriate answers to the user's questions. ",
         "I understand what you're saying, but I can't shake off this feeling that I've failed her in some way. I was so consumed by my own grief that I couldn't be there for her as I should have. I feel like I've let her down, and it's been eating away at me ever since.",
         "Your feelings of guilt and neglect are understandable given the circumstances. It's common for individuals to experience complex emotions during times of loss, especially when it comes to our relationships with loved ones. However, it's essential to recognize that these feelings don't define your role as a parent. Instead, let's explore ways to reconnect with your daughter and repair any perceived damage.\n\nFirst, we can practice self-compassion and acknowledge that everyone experiences grief differently. It's essential to recognize that your focus on your own feelings doesn't diminish the importance of your role as a parent. Second, we can work on open and honest communication with your daughter, expressing your feelings and concerns while also listening to hers. This can help you both better understand each other's perspectives and begin the healing process.\n\nLastly, consider engaging in activities that strengthen your bond with your daughter. This can be as simple as sharing a meal, watching a movie, or even just having a heart-to-heart conversation. By focusing on the positive aspects of your relationship and taking steps to repair any perceived damage, you can begin to move past these feelings of guilt and neglect.\n\nIn this therapeutic approach, the counselor acknowledges the patient's feelings while also offering practical steps to address the underlying issues. The counselor's response is grounded in the principles of counseling psychology, including self-compassion, open communication, and the importance of repairing relationships. By offering a compassionate yet strategic response, the counselor helps the patient begin the process of healing and moving forward."
        ],
        [
         "6308",
         "You are a helpful mental health counselling assistant, please answer the mental health questions based on the patient's description. \nThe assistant gives helpful, comprehensive, and appropriate answers to the user's questions. ",
         "I've been thinking about my relationship with my dad. I've always felt like I had to be the one to keep things together. He was never there for me emotionally, and I felt like I had to fill that void. I've been carrying this burden for years, and it's starting to feel unbearable.",
         "It's important to acknowledge the emotional labor you've been carrying for your father. It's not uncommon for children to take on this role, especially when they don't receive the emotional support they need from their parents. This can lead to feelings of resentment and exhaustion. In our sessions, we can explore how this dynamic has impacted your life and relationships. We can also work on developing healthier communication skills and setting boundaries to help you manage your emotional energy more effectively. Additionally, we can explore the concept of forgiveness and how it might apply to your relationship with your father. This doesn't mean excusing his past behavior, but rather finding a way to release the emotional burden that comes with carrying these feelings. This process can be challenging, but it's an essential part of healing and moving forward."
        ],
        [
         "6309",
         "You are a helpful mental health counselling assistant, please answer the mental health questions based on the patient's description. \nThe assistant gives helpful, comprehensive, and appropriate answers to the user's questions. ",
         "I've been feeling stressed out lately because my mother, who lives with me during the summer, has been under a lot of stress due to various reasons. Last time she stayed with me, it was a much nicer experience as there were fewer stressors. But this time, with the death of my grandpa and other changes, she's been more stressed and it's affecting me negatively. I'm finding it hard to enjoy her company and I just want some space.",
         "Your words paint a vivid picture of the complex emotional landscape you're navigating right now. The stress that your mother is experiencing is palpable, and it's understandable that her distress is spilling over into your living space and affecting your relationship with her. It's important to recognize that the circumstances surrounding her stress are beyond her control, but it's also crucial to acknowledge the impact it's having on you. The memory of a more peaceful time when she stayed with you serves as a poignant contrast to the present situation. It's natural to crave that sense of tranquility and to feel frustrated when it's elusive.\n\nIn response to your concerns, I'd like to propose a few potential strategies for managing the current situation. First, let's explore the possibility of creating routines and structures that can help reduce stressors for both you and your mother. This might involve setting aside specific times for quiet activities, establishing clear boundaries around communication and personal space, and prioritizing self-care practices like exercise, meditation, or hobbies.\n\nAnother approach could be to focus on effective communication. It's essential to express your feelings to your mother in a compassionate and understanding way, while also being open to her perspective and needs. This might involve having a heartfelt conversation about the impact of her stress on your relationship and finding ways to support each other through this difficult time.\n\nLastly, it's worth considering the possibility of seeking external support for your mother. The loss of a loved one and other life changes can be incredibly challenging, and professional counseling or therapy can provide valuable tools and resources for managing stress and grief. By offering your support in this way, you might find that the overall living arrangement becomes more enjoyable and beneficial for both of you.\n\nUltimately, it's important to remember that everyone deserves compassion and understanding, especially during difficult times. Let's work together to find ways to navigate this complex emotional terrain and create a more peaceful and supportive living environment for both of you."
        ]
       ],
       "shape": {
        "columns": 3,
        "rows": 5
       }
      },
      "text/html": [
       "<div>\n",
       "<style scoped>\n",
       "    .dataframe tbody tr th:only-of-type {\n",
       "        vertical-align: middle;\n",
       "    }\n",
       "\n",
       "    .dataframe tbody tr th {\n",
       "        vertical-align: top;\n",
       "    }\n",
       "\n",
       "    .dataframe thead th {\n",
       "        text-align: right;\n",
       "    }\n",
       "</style>\n",
       "<table border=\"1\" class=\"dataframe\">\n",
       "  <thead>\n",
       "    <tr style=\"text-align: right;\">\n",
       "      <th></th>\n",
       "      <th>instruction</th>\n",
       "      <th>input</th>\n",
       "      <th>output</th>\n",
       "    </tr>\n",
       "  </thead>\n",
       "  <tbody>\n",
       "    <tr>\n",
       "      <th>6305</th>\n",
       "      <td>You are a helpful mental health counselling as...</td>\n",
       "      <td>I'm feeling overwhelmed and guilty about my un...</td>\n",
       "      <td>It's understandable that you're feeling a rang...</td>\n",
       "    </tr>\n",
       "    <tr>\n",
       "      <th>6306</th>\n",
       "      <td>You are a helpful mental health counselling as...</td>\n",
       "      <td>I've been feeling overwhelmed lately, and I've...</td>\n",
       "      <td>I understand that you've been feeling overwhel...</td>\n",
       "    </tr>\n",
       "    <tr>\n",
       "      <th>6307</th>\n",
       "      <td>You are a helpful mental health counselling as...</td>\n",
       "      <td>I understand what you're saying, but I can't s...</td>\n",
       "      <td>Your feelings of guilt and neglect are underst...</td>\n",
       "    </tr>\n",
       "    <tr>\n",
       "      <th>6308</th>\n",
       "      <td>You are a helpful mental health counselling as...</td>\n",
       "      <td>I've been thinking about my relationship with ...</td>\n",
       "      <td>It's important to acknowledge the emotional la...</td>\n",
       "    </tr>\n",
       "    <tr>\n",
       "      <th>6309</th>\n",
       "      <td>You are a helpful mental health counselling as...</td>\n",
       "      <td>I've been feeling stressed out lately because ...</td>\n",
       "      <td>Your words paint a vivid picture of the comple...</td>\n",
       "    </tr>\n",
       "  </tbody>\n",
       "</table>\n",
       "</div>"
      ],
      "text/plain": [
       "                                            instruction  \\\n",
       "6305  You are a helpful mental health counselling as...   \n",
       "6306  You are a helpful mental health counselling as...   \n",
       "6307  You are a helpful mental health counselling as...   \n",
       "6308  You are a helpful mental health counselling as...   \n",
       "6309  You are a helpful mental health counselling as...   \n",
       "\n",
       "                                                  input  \\\n",
       "6305  I'm feeling overwhelmed and guilty about my un...   \n",
       "6306  I've been feeling overwhelmed lately, and I've...   \n",
       "6307  I understand what you're saying, but I can't s...   \n",
       "6308  I've been thinking about my relationship with ...   \n",
       "6309  I've been feeling stressed out lately because ...   \n",
       "\n",
       "                                                 output  \n",
       "6305  It's understandable that you're feeling a rang...  \n",
       "6306  I understand that you've been feeling overwhel...  \n",
       "6307  Your feelings of guilt and neglect are underst...  \n",
       "6308  It's important to acknowledge the emotional la...  \n",
       "6309  Your words paint a vivid picture of the comple...  "
      ]
     },
     "metadata": {},
     "output_type": "display_data"
    }
   ],
   "source": [
    "display(interview_df.head())\n",
    "display(interview_df.tail())"
   ]
  },
  {
   "cell_type": "code",
   "execution_count": 14,
   "id": "629645e0",
   "metadata": {},
   "outputs": [
    {
     "name": "stdout",
     "output_type": "stream",
     "text": [
      "<class 'pandas.core.frame.DataFrame'>\n",
      "RangeIndex: 6310 entries, 0 to 6309\n",
      "Data columns (total 3 columns):\n",
      " #   Column       Non-Null Count  Dtype \n",
      "---  ------       --------------  ----- \n",
      " 0   instruction  6310 non-null   object\n",
      " 1   input        6310 non-null   object\n",
      " 2   output       6310 non-null   object\n",
      "dtypes: object(3)\n",
      "memory usage: 148.0+ KB\n"
     ]
    }
   ],
   "source": [
    "interview_df.info()"
   ]
  },
  {
   "cell_type": "code",
   "execution_count": 15,
   "id": "c5509cb4",
   "metadata": {},
   "outputs": [
    {
     "data": {
      "application/vnd.microsoft.datawrangler.viewer.v0+json": {
       "columns": [
        {
         "name": "index",
         "rawType": "object",
         "type": "string"
        },
        {
         "name": "instruction",
         "rawType": "object",
         "type": "unknown"
        },
        {
         "name": "input",
         "rawType": "object",
         "type": "unknown"
        },
        {
         "name": "output",
         "rawType": "object",
         "type": "unknown"
        }
       ],
       "ref": "55f687e2-1c21-4897-9ea5-b2a95b595a71",
       "rows": [
        [
         "count",
         "6310",
         "6310",
         "6310"
        ],
        [
         "unique",
         "1",
         "6111",
         "6210"
        ],
        [
         "top",
         "You are a helpful mental health counselling assistant, please answer the mental health questions based on the patient's description. \nThe assistant gives helpful, comprehensive, and appropriate answers to the user's questions. ",
         "I've been dealing with a lot of logistical tasks since my wife passed away. I've had to fill out paperwork for her memorial service, manage her financial affairs, and even help arrange for her grave. It's all been very overwhelming.",
         "It's essential to recognize that caring for a loved one can be emotionally and physically demanding. Your current situation might be a result of a combination of factors, including your emotional state, your problem-solving style, and the demands of caregiving. Let's explore how your problem-solving style, specifically your attitude towards problems, might be contributing to your current situation. We'll also examine your emotional state and the potential impact it has on your ability to effectively manage your caregiving responsibilities."
        ],
        [
         "freq",
         "6310",
         "16",
         "9"
        ]
       ],
       "shape": {
        "columns": 3,
        "rows": 4
       }
      },
      "text/html": [
       "<div>\n",
       "<style scoped>\n",
       "    .dataframe tbody tr th:only-of-type {\n",
       "        vertical-align: middle;\n",
       "    }\n",
       "\n",
       "    .dataframe tbody tr th {\n",
       "        vertical-align: top;\n",
       "    }\n",
       "\n",
       "    .dataframe thead th {\n",
       "        text-align: right;\n",
       "    }\n",
       "</style>\n",
       "<table border=\"1\" class=\"dataframe\">\n",
       "  <thead>\n",
       "    <tr style=\"text-align: right;\">\n",
       "      <th></th>\n",
       "      <th>instruction</th>\n",
       "      <th>input</th>\n",
       "      <th>output</th>\n",
       "    </tr>\n",
       "  </thead>\n",
       "  <tbody>\n",
       "    <tr>\n",
       "      <th>count</th>\n",
       "      <td>6310</td>\n",
       "      <td>6310</td>\n",
       "      <td>6310</td>\n",
       "    </tr>\n",
       "    <tr>\n",
       "      <th>unique</th>\n",
       "      <td>1</td>\n",
       "      <td>6111</td>\n",
       "      <td>6210</td>\n",
       "    </tr>\n",
       "    <tr>\n",
       "      <th>top</th>\n",
       "      <td>You are a helpful mental health counselling as...</td>\n",
       "      <td>I've been dealing with a lot of logistical tas...</td>\n",
       "      <td>It's essential to recognize that caring for a ...</td>\n",
       "    </tr>\n",
       "    <tr>\n",
       "      <th>freq</th>\n",
       "      <td>6310</td>\n",
       "      <td>16</td>\n",
       "      <td>9</td>\n",
       "    </tr>\n",
       "  </tbody>\n",
       "</table>\n",
       "</div>"
      ],
      "text/plain": [
       "                                              instruction  \\\n",
       "count                                                6310   \n",
       "unique                                                  1   \n",
       "top     You are a helpful mental health counselling as...   \n",
       "freq                                                 6310   \n",
       "\n",
       "                                                    input  \\\n",
       "count                                                6310   \n",
       "unique                                               6111   \n",
       "top     I've been dealing with a lot of logistical tas...   \n",
       "freq                                                   16   \n",
       "\n",
       "                                                   output  \n",
       "count                                                6310  \n",
       "unique                                               6210  \n",
       "top     It's essential to recognize that caring for a ...  \n",
       "freq                                                    9  "
      ]
     },
     "execution_count": 15,
     "metadata": {},
     "output_type": "execute_result"
    }
   ],
   "source": [
    "interview_df.describe()"
   ]
  },
  {
   "cell_type": "markdown",
   "id": "33f9da48",
   "metadata": {},
   "source": [
    "## Cleaning Interview Data"
   ]
  },
  {
   "cell_type": "code",
   "execution_count": 16,
   "id": "9ef25080",
   "metadata": {},
   "outputs": [],
   "source": [
    "# Remove \"Instruction\" column\n",
    "interview_df = interview_df.drop(columns=['instruction'])\n",
    "\n",
    "# Remove exact duplicate prompt/response pairs\n",
    "interview_df = interview_df.drop_duplicates(subset=['input', 'output'])\n",
    "\n"
   ]
  },
  {
   "cell_type": "code",
   "execution_count": 17,
   "id": "5d7b66a4",
   "metadata": {},
   "outputs": [
    {
     "name": "stdout",
     "output_type": "stream",
     "text": [
      "<class 'pandas.core.frame.DataFrame'>\n",
      "Index: 6233 entries, 0 to 6309\n",
      "Data columns (total 2 columns):\n",
      " #   Column  Non-Null Count  Dtype \n",
      "---  ------  --------------  ----- \n",
      " 0   input   6233 non-null   object\n",
      " 1   output  6233 non-null   object\n",
      "dtypes: object(2)\n",
      "memory usage: 146.1+ KB\n"
     ]
    }
   ],
   "source": [
    "interview_df.info()\n"
   ]
  },
  {
   "cell_type": "code",
   "execution_count": 18,
   "id": "e1a12d8d",
   "metadata": {},
   "outputs": [
    {
     "data": {
      "application/vnd.microsoft.datawrangler.viewer.v0+json": {
       "columns": [
        {
         "name": "index",
         "rawType": "object",
         "type": "string"
        },
        {
         "name": "input",
         "rawType": "object",
         "type": "unknown"
        },
        {
         "name": "output",
         "rawType": "object",
         "type": "unknown"
        }
       ],
       "ref": "e35d62df-e777-47d8-804e-07050acc034f",
       "rows": [
        [
         "count",
         "6233",
         "6233"
        ],
        [
         "unique",
         "6111",
         "6210"
        ],
        [
         "top",
         "I've been feeling hopeless and suicidal lately, and the thought of spiritual support from the hospital chaplain makes me uneasy. I'm an agnostic, and I don't believe in God or the soul. I find their visits awkward and feel obligated to be polite.",
         "Your concern for your mother's wellbeing is a natural response to her current situation. It's understandable that you'd want to ensure she's receiving the best possible care given the high-risk environment of the hospital. However, it's essential to remember that healthcare professionals, including nurses, often face immense stress and emotional burden in their work. Their reactions, such as laughter, might not always be a reflection of their feelings towards your concerns but rather a coping mechanism to manage their emotions. I encourage you to continue advocating for your mother's care while keeping an open mind about the nurse's intentions. It might also be helpful to gather more information about the hospital's policies and resources regarding patient care and infection control. This will not only help you feel more informed and empowered but also provide you with valuable knowledge to share with the nurse. Remember, clear and respectful communication is key to ensuring your mother receives the best possible care."
        ],
        [
         "freq",
         "8",
         "6"
        ]
       ],
       "shape": {
        "columns": 2,
        "rows": 4
       }
      },
      "text/html": [
       "<div>\n",
       "<style scoped>\n",
       "    .dataframe tbody tr th:only-of-type {\n",
       "        vertical-align: middle;\n",
       "    }\n",
       "\n",
       "    .dataframe tbody tr th {\n",
       "        vertical-align: top;\n",
       "    }\n",
       "\n",
       "    .dataframe thead th {\n",
       "        text-align: right;\n",
       "    }\n",
       "</style>\n",
       "<table border=\"1\" class=\"dataframe\">\n",
       "  <thead>\n",
       "    <tr style=\"text-align: right;\">\n",
       "      <th></th>\n",
       "      <th>input</th>\n",
       "      <th>output</th>\n",
       "    </tr>\n",
       "  </thead>\n",
       "  <tbody>\n",
       "    <tr>\n",
       "      <th>count</th>\n",
       "      <td>6233</td>\n",
       "      <td>6233</td>\n",
       "    </tr>\n",
       "    <tr>\n",
       "      <th>unique</th>\n",
       "      <td>6111</td>\n",
       "      <td>6210</td>\n",
       "    </tr>\n",
       "    <tr>\n",
       "      <th>top</th>\n",
       "      <td>I've been feeling hopeless and suicidal lately...</td>\n",
       "      <td>Your concern for your mother's wellbeing is a ...</td>\n",
       "    </tr>\n",
       "    <tr>\n",
       "      <th>freq</th>\n",
       "      <td>8</td>\n",
       "      <td>6</td>\n",
       "    </tr>\n",
       "  </tbody>\n",
       "</table>\n",
       "</div>"
      ],
      "text/plain": [
       "                                                    input  \\\n",
       "count                                                6233   \n",
       "unique                                               6111   \n",
       "top     I've been feeling hopeless and suicidal lately...   \n",
       "freq                                                    8   \n",
       "\n",
       "                                                   output  \n",
       "count                                                6233  \n",
       "unique                                               6210  \n",
       "top     Your concern for your mother's wellbeing is a ...  \n",
       "freq                                                    6  "
      ]
     },
     "execution_count": 18,
     "metadata": {},
     "output_type": "execute_result"
    }
   ],
   "source": [
    "interview_df.describe()\n"
   ]
  },
  {
   "cell_type": "markdown",
   "id": "ab704680",
   "metadata": {},
   "source": [
    "# Final Interview 6k"
   ]
  },
  {
   "cell_type": "code",
   "execution_count": 19,
   "id": "954de83e",
   "metadata": {},
   "outputs": [
    {
     "name": "stdout",
     "output_type": "stream",
     "text": [
      "Interview 6k: (6233, 2)\n"
     ]
    }
   ],
   "source": [
    "interview_df = interview_df.reset_index(drop=True)\n",
    "print(f\"Interview 6k: {interview_df.shape}\")\n"
   ]
  },
  {
   "cell_type": "code",
   "execution_count": 20,
   "id": "4a9020e2",
   "metadata": {},
   "outputs": [
    {
     "data": {
      "application/vnd.microsoft.datawrangler.viewer.v0+json": {
       "columns": [
        {
         "name": "index",
         "rawType": "int64",
         "type": "integer"
        },
        {
         "name": "input",
         "rawType": "object",
         "type": "string"
        },
        {
         "name": "output",
         "rawType": "object",
         "type": "string"
        }
       ],
       "ref": "d16c0b80-9137-4dfa-ad36-17cb9adbf1ea",
       "rows": [
        [
         "2746",
         "I've been dealing with the loss of my mother for the past year, and I've been struggling to come to terms with it. I feel like I'm constantly reliving the pain, and I can't seem to find any peace. I've tried talking to my friends and family, but it never seems to help. I feel so alone and lost.",
         "Grief is a complex and deeply personal process, and it's normal to feel overwhelmed and lost during this time. Your experience of loss is unique to you, and it's essential to allow yourself to feel and process your emotions fully. It's important to remember that healing from grief is not a linear process, and it's okay to have good days and bad days. Let's explore some therapeutic techniques, such as journaling, mindfulness meditation, or cognitive-behavioral strategies, to help you manage your grief and find ways to honor your mother's memory in a healthy and meaningful way."
        ],
        [
         "1655",
         "I've been struggling with feelings of guilt and self-blame since my mother passed away last year. I can't help but think that I could have done more to prevent her death or make her last days more comfortable. These thoughts consume me, and I find myself constantly reliving the past, unable to move forward.",
         "I'm sorry for your loss, and I can see how the weight of guilt and self-blame can be overwhelming. It's natural to feel this way, especially during a time of grief. However, it's essential to recognize that these feelings are not facts but rather assumptions and interpretations of the situation. While it's important to acknowledge and process your emotions, it's equally important to avoid getting stuck in the past and to focus on the present. Remember, you cannot change the past, but you can control how you respond to it in the present.\n\nOne approach we could take is to explore the origins of these feelings of guilt and self-blame. Together, we can examine the evidence and facts surrounding your mother's passing and challenge any assumptions that may be contributing to your distress. We can also work on developing coping skills and strategies to help you manage your emotions and move forward in a healthier way.\n\nThroughout this process, it's important to remember that therapy is a safe and confidential space for you to express your feelings and explore your thoughts. I'm here to support you and help you navigate this difficult time. Let's continue to work together to help you find peace and closure."
        ],
        [
         "1913",
         "Yes, I've thought about that. But what's been making it even harder is the guilt I feel about not being able to do it all myself. I've always prided myself on being independent and self-sufficient, and now I feel like I'm failing my aunt by not being able to provide her with the care she needs.",
         "It's important to acknowledge the feelings of guilt and frustration that come with this situation. These emotions are natural and can be a powerful motivator for change. However, it's also essential to remember that caring for a loved one is a complex process, and it's okay to ask for help and seek out resources. In fact, doing so can lead to better outcomes for both you and your aunt."
        ],
        [
         "3650",
         "I've always prided myself on my mother's consistent communication style, which I've tried to emulate throughout my life. However, as I've grown older, I've felt increasingly unnoticed and insignificant in social situations, despite my family's stories about the importance of character. I've even felt that if I can't live up to my mother's example, our family can't discuss anything meaningful.",
         "Your mother's communication style has been a significant influence on your self-perception and identity. It's understandable that you've tried to emulate her in your interactions with others. However, it seems that this approach has left you feeling unnoticed and insignificant in certain social situations. It's essential to acknowledge these feelings and explore their origins.\n\nYour family's stories about the importance of character may have set high expectations for you, which can be challenging to meet. It's crucial to recognize that everyone has unique strengths and challenges, and it's not necessary to compare yourself to your mother or anyone else. Instead, focus on developing your own communication style that resonates with your authentic self.\n\nLet's explore the specific incidents that have left you feeling unnoticed and insignificant. We can identify patterns and triggers that may be contributing to these feelings. Additionally, we can work on developing effective communication strategies that help you connect with others and build meaningful relationships.\n\nIt's also essential to address any underlying emotional wounds that may be impacting your self-worth and sense of significance. We can work together to uncover the root causes of these feelings and develop coping mechanisms to help you manage them.\n\nAs we move forward, let's focus on setting specific, achievable goals for improving your communication skills and building stronger relationships. We can also explore ways to reframe your thinking about your mother's influence and your own self-worth.\n\nThroughout this process, it's essential to remember that healing is a journey, not a destination. It's important to be patient with yourself and give yourself the space and time you need to process your emotions and make progress towards your goals.\n\nIn summary, we'll work together to help you develop a communication style that resonates with your authentic self, identify patterns and triggers that contribute to feelings of insignificance, and address any underlying emotional wounds. We'll also set specific, achievable goals for improving your communication skills and building stronger relationships. Throughout this process, it's essential to remember that healing is a journey, not a destination, and to be patient with yourself as you work towards your goals."
        ],
        [
         "1863",
         "I appreciate your guidance, and I'm excited to explore these possibilities further. I'd like to research best practices for caregiver support programs and connect with other organizations in the field. I'm also considering reaching out to Hospice organizations to discuss potential collaborations.",
         "Your proactive approach to addressing the needs of caregivers is inspiring. I encourage you to continue exploring resources and networking opportunities. Remember that the process of creating a successful support system will likely involve setbacks and challenges, but your determination and empathy for caregivers will be invaluable in overcoming these obstacles. I'll be here to support you throughout this journey."
        ],
        [
         "4294",
         "I've recently been transferred to a new Hospice agency due to management changes at the previous one. I've never had issues with this new agency before, but now they're pushing for a change in my father's medication, which I'm uncomfortable with given our previous positive experience with his previous physician. I can't help but feel that this change is unnecessary and could potentially harm my father, who is already dealing with a terminal illness.",
         "I can imagine how unsettling it is to receive this news, especially given your father's delicate health condition. It's understandable that you're feeling protective and concerned about his wellbeing. However, it's essential to approach this situation with a balanced perspective. While it's crucial to advocate for your father's needs and preferences, it's equally important to maintain open communication with the healthcare team to ensure that everyone is working together for his best interests.\n\nYour father's previous physician may have had valid reasons for prescribing the medication he was on, but it's also essential to consider the latest research and best practices in hospice care. The new medication may offer benefits that were not available or known at the time your father was initially diagnosed. It's important to ask questions about the reasons for the change, the potential benefits, and any potential risks or side effects. This will help you make an informed decision and feel more confident in the care your father is receiving.\n\nIt's also essential to remember that healthcare providers often make changes based on the latest research and best practices. While it's natural to feel protective and concerned, it's equally important to trust the expertise and judgment of the healthcare team. They have your father's best interests at heart and are committed to providing the best possible care.\n\nYou might consider expressing your concerns to the healthcare team in a respectful and collaborative manner. Share your father's history and the reasons for your apprehension, but also be open to their perspective and the potential benefits of the new medication. By working together, you can ensure that your father receives the best possible care while also maintaining peace of mind for both of you.\n\nIn this conversation, the counselor acknowledges the patient's concerns and feelings while also encouraging them to consider the potential benefits of the new medication and the rationale behind the recommendation. The counselor emphasizes the importance of open communication and collaboration between the patient and healthcare team, and offers practical advice on how to approach the situation in a balanced and informed manner. The counselor's guidance is grounded in professional ethical standards and informed by key concepts in counseling psychology, such as advocacy, communication, and collaboration."
        ],
        [
         "1896",
         "I've been struggling to find common ground with my wife, especially during the colder months when she prefers to stay indoors in her wheelchair. I've suggested we take walks around the neighborhood when the weather is nice, but she's not interested. I've also tried journaling my feelings and experiences, which has helped me process things, but I'm unsure how to encourage her to join me. The thought of being confined to our home for extended periods leaves me feeling trapped and restless.",
         "Your situation is complex, and it's crucial to find a balance between respecting your wife's comfort and your own emotional needs. It's essential to remember that her preference for staying indoors is likely due to her physical limitations and the challenges she faces in navigating the cold weather. Instead of focusing on the walks, you could propose alternative indoor activities that might bring joy and engagement for both of you. For instance, you could suggest reading books together, watching movies, or even cooking meals from new recipes.\n\nMoreover, you could explore the use of technology to broaden your experiences. Virtual tours of museums, online classes, or even attending webinars on topics that interest you both could help you learn new things and engage with the world beyond your home. It's essential to maintain open communication and empathize with her feelings, as well as express your own, to foster a strong and supportive relationship.\n\nRemember, it's natural to feel restless and trapped when your routine is disrupted, but it's essential to find ways to adapt and create new experiences within the constraints of your current situation. As a counselor, I encourage you to approach this challenge with compassion, patience, and creativity, and to continue exploring new ways to connect with your wife and find joy in your shared experiences."
        ],
        [
         "5850",
         "I've been struggling with this issue for quite some time now. It started after a traumatic experience where I was involved in a car accident. Since then, I've noticed that my ability to recall and process numbers, especially in sequence, has become increasingly difficult. I've tried various techniques to cope, like repeating the numbers out loud or writing them down, but nothing seems to help. The inability to complete the questionnaire has left me feeling helpless and frustrated, as if I'm unable to contribute effectively to my own therapy.",
         "I can see how this issue is causing you a great deal of distress and hindering your progress in therapy. It's important to recognize that the trauma you experienced has likely impacted your cognitive functioning, and it's not uncommon for people in your situation to experience difficulties with processing information, including numbers. Given your history, it's essential that we approach this issue with sensitivity and understanding. We can explore various coping strategies, such as using visual aids, breaking down sequences into smaller parts, or utilizing memory techniques. Additionally, we can work on processing the emotions connected to the traumatic experience, as addressing the underlying emotional distress may help improve your ability to process numbers. It's crucial to remember that this is a complex issue, and progress may not be linear. Be patient with yourself and trust the therapeutic process."
        ],
        [
         "1074",
         "I've hired six helpers a day, but their presence in my house feels disruptive. I long to remain in my sanctuary, to feel grounded, yet I'm compelled to leave whenever they ask questions or my husband calls for me. This cycle is frustrating, as I don't always wish to abandon my home.",
         "Your house is your refuge, a place where you seek solace and centering. The disruption caused by your caregivers' presence and your husband's demands can be overwhelming. Let's explore alternative methods to help you sleep through the night. We've touched upon medications, friends' assistance, and hospice care. Have you considered requesting your caregivers to allow you to rest while they're present? You've shared that you can sleep for four to five hours at a time, but you don't feel refreshed upon waking. This approach might be worth considering. Furthermore, we could delve into relaxation techniques, such as deep breathing exercises or progressive muscle relaxation, and creating a soothing sleep environment, like playing calming music or using aromatherapy, to enhance your sleep quality. What are your thoughts on these suggestions?"
        ],
        [
         "2593",
         "I'm worried about my wife, [Name]. She's not eating properly, even when being spoon-fed by the health aides. The nurses assure me that it's a sign her body is shutting down, but I can't help but feel desperate and hopeful that she'll eat something. I used to try to change her circumstances to suit me, but in the last ten years, I've learned to accept what I can't change. I've stopped nagging her about eating and even stopped threatening her with a feeding tube in a nursing home. But I'm not sure what would be helpful for me today.",
         "Your concern for your wife, [Name], and her eating habits is understandable, given the gravity of her health situation. It's clear that you've made significant progress in accepting circumstances beyond your control, as evidenced by your decision to stop nagging and threatening her. However, it's essential to recognize that your emotional well-being is also crucial in this situation. The feelings of desperation and hope you're experiencing can impact your interactions with [Name] and potentially hinder her progress.\n\nIn our session today, we could explore various strategies to support [Name]'s eating habits without resorting to controlling behaviors. One approach might be to make meals more appealing by incorporating her favorite foods or adding seasonings that enhance the taste. We could also create a comfortable eating environment by ensuring the table is set appropriately, the lighting is pleasant, and the temperature is comfortable. Additionally, involving [Name] in meal planning and preparation could help her feel more invested in the process and potentially increase her appetite.\n\nAnother crucial aspect of our work together would be to help you manage your emotions and feelings of desperation and hope. We might employ cognitive-behavioral techniques to challenge your thoughts and emotions, helping you reframe your perspective on the situation and find ways to cope effectively. By focusing on both your needs and [Name]'s well-being, we can work towards finding a balanced approach to this complex situation.\n\nIn summary, we'll explore ways to support [Name]'s eating habits without resorting to controlling behaviors, while also addressing your emotional needs to ensure a healthy and effective approach to this challenging situation."
        ]
       ],
       "shape": {
        "columns": 2,
        "rows": 10
       }
      },
      "text/html": [
       "<div>\n",
       "<style scoped>\n",
       "    .dataframe tbody tr th:only-of-type {\n",
       "        vertical-align: middle;\n",
       "    }\n",
       "\n",
       "    .dataframe tbody tr th {\n",
       "        vertical-align: top;\n",
       "    }\n",
       "\n",
       "    .dataframe thead th {\n",
       "        text-align: right;\n",
       "    }\n",
       "</style>\n",
       "<table border=\"1\" class=\"dataframe\">\n",
       "  <thead>\n",
       "    <tr style=\"text-align: right;\">\n",
       "      <th></th>\n",
       "      <th>input</th>\n",
       "      <th>output</th>\n",
       "    </tr>\n",
       "  </thead>\n",
       "  <tbody>\n",
       "    <tr>\n",
       "      <th>2746</th>\n",
       "      <td>I've been dealing with the loss of my mother f...</td>\n",
       "      <td>Grief is a complex and deeply personal process...</td>\n",
       "    </tr>\n",
       "    <tr>\n",
       "      <th>1655</th>\n",
       "      <td>I've been struggling with feelings of guilt an...</td>\n",
       "      <td>I'm sorry for your loss, and I can see how the...</td>\n",
       "    </tr>\n",
       "    <tr>\n",
       "      <th>1913</th>\n",
       "      <td>Yes, I've thought about that. But what's been ...</td>\n",
       "      <td>It's important to acknowledge the feelings of ...</td>\n",
       "    </tr>\n",
       "    <tr>\n",
       "      <th>3650</th>\n",
       "      <td>I've always prided myself on my mother's consi...</td>\n",
       "      <td>Your mother's communication style has been a s...</td>\n",
       "    </tr>\n",
       "    <tr>\n",
       "      <th>1863</th>\n",
       "      <td>I appreciate your guidance, and I'm excited to...</td>\n",
       "      <td>Your proactive approach to addressing the need...</td>\n",
       "    </tr>\n",
       "    <tr>\n",
       "      <th>4294</th>\n",
       "      <td>I've recently been transferred to a new Hospic...</td>\n",
       "      <td>I can imagine how unsettling it is to receive ...</td>\n",
       "    </tr>\n",
       "    <tr>\n",
       "      <th>1896</th>\n",
       "      <td>I've been struggling to find common ground wit...</td>\n",
       "      <td>Your situation is complex, and it's crucial to...</td>\n",
       "    </tr>\n",
       "    <tr>\n",
       "      <th>5850</th>\n",
       "      <td>I've been struggling with this issue for quite...</td>\n",
       "      <td>I can see how this issue is causing you a grea...</td>\n",
       "    </tr>\n",
       "    <tr>\n",
       "      <th>1074</th>\n",
       "      <td>I've hired six helpers a day, but their presen...</td>\n",
       "      <td>Your house is your refuge, a place where you s...</td>\n",
       "    </tr>\n",
       "    <tr>\n",
       "      <th>2593</th>\n",
       "      <td>I'm worried about my wife, [Name]. She's not e...</td>\n",
       "      <td>Your concern for your wife, [Name], and her ea...</td>\n",
       "    </tr>\n",
       "  </tbody>\n",
       "</table>\n",
       "</div>"
      ],
      "text/plain": [
       "                                                  input  \\\n",
       "2746  I've been dealing with the loss of my mother f...   \n",
       "1655  I've been struggling with feelings of guilt an...   \n",
       "1913  Yes, I've thought about that. But what's been ...   \n",
       "3650  I've always prided myself on my mother's consi...   \n",
       "1863  I appreciate your guidance, and I'm excited to...   \n",
       "4294  I've recently been transferred to a new Hospic...   \n",
       "1896  I've been struggling to find common ground wit...   \n",
       "5850  I've been struggling with this issue for quite...   \n",
       "1074  I've hired six helpers a day, but their presen...   \n",
       "2593  I'm worried about my wife, [Name]. She's not e...   \n",
       "\n",
       "                                                 output  \n",
       "2746  Grief is a complex and deeply personal process...  \n",
       "1655  I'm sorry for your loss, and I can see how the...  \n",
       "1913  It's important to acknowledge the feelings of ...  \n",
       "3650  Your mother's communication style has been a s...  \n",
       "1863  Your proactive approach to addressing the need...  \n",
       "4294  I can imagine how unsettling it is to receive ...  \n",
       "1896  Your situation is complex, and it's crucial to...  \n",
       "5850  I can see how this issue is causing you a grea...  \n",
       "1074  Your house is your refuge, a place where you s...  \n",
       "2593  Your concern for your wife, [Name], and her ea...  "
      ]
     },
     "execution_count": 20,
     "metadata": {},
     "output_type": "execute_result"
    }
   ],
   "source": [
    "interview_df.sample(10)"
   ]
  },
  {
   "cell_type": "markdown",
   "id": "b17bdeec",
   "metadata": {},
   "source": [
    "# Explore Counsel Chat"
   ]
  },
  {
   "cell_type": "markdown",
   "id": "e3f42316",
   "metadata": {},
   "source": [
    "## Intro to Counsel Chat"
   ]
  },
  {
   "cell_type": "code",
   "execution_count": 21,
   "id": "9151e354",
   "metadata": {},
   "outputs": [
    {
     "data": {
      "application/vnd.microsoft.datawrangler.viewer.v0+json": {
       "columns": [
        {
         "name": "index",
         "rawType": "int64",
         "type": "integer"
        },
        {
         "name": "questionID",
         "rawType": "object",
         "type": "string"
        },
        {
         "name": "questionTitle",
         "rawType": "object",
         "type": "string"
        },
        {
         "name": "questionText",
         "rawType": "object",
         "type": "string"
        },
        {
         "name": "questionUrl",
         "rawType": "object",
         "type": "string"
        },
        {
         "name": "topics",
         "rawType": "object",
         "type": "string"
        },
        {
         "name": "therapistName",
         "rawType": "object",
         "type": "string"
        },
        {
         "name": "therapistUrl",
         "rawType": "object",
         "type": "string"
        },
        {
         "name": "answerText",
         "rawType": "object",
         "type": "string"
        },
        {
         "name": "upvotes",
         "rawType": "int64",
         "type": "integer"
        }
       ],
       "ref": "9cd73d9f-60eb-486b-82e9-74e826a5b6c2",
       "rows": [
        [
         "0",
         "5566fab2a64752d71ec3ca69",
         "Escalating disagreements between mother and wife",
         "My wife and mother are having tense disagreements. In the past, they’ve had minor differences. For example, my wife would complain to me my mother is too overbearing; my mother would complain my wife is lazy.\r\nHowever, it’s intensified lately. I think the cause is my wife talked back to her once. Now, any little disagreement is magnified, leading to major disagreements. What can I do?",
         "https://counselchat.com/questions/escalating-disagreements-between-mother-and-wife",
         "Family Conflict",
         "Kristi King-Morgan, LMSW",
         "https://counselchat.com/therapists/kristi-king-morgan-lmsw",
         "<p>What you are describing is something psychologists have termed &#34;triangulation&#34; which is what happens when one family member will not talk to the one they have a problem with and goes to a third member of the family to complain instead. You have been &#34;triangulated&#34; by your wife and mother.</p><p>This is often seen in families. It's seen everywhere. How many times have you had a problem with someone but you didn't go to them to tell them, you went to someone else to complain? It is usually difficult for a person to confront another, especially in relationships where there is a power differential. For example, I bet it's easier to complain to a coworker about your boss rather than go to the boss with your complaint.</p><p>I'm not saying triangulation is always a bad thing. Sometimes a third party mediator is needed to help solve problems between two people who disagree. That's what therapists do every day! Sometimes just getting someone else's perspective can help you see the issue clearer. However, in your situation it sounds like this is becoming a problem. You are stuck in the middle between two people that love you and that you love.</p><p>If you want to put a stop to this triangulation, you will need to encourage the two of them to talk to each other and work out their differences. Perhaps it was a simple misunderstanding that some open communication can clear up. Even if they really don't like each other and can't get along, your relationship with the both of them is going to continue to deteriorate the longer you are stuck in the middle. </p><p>Try to understand what might be the feelings behind their behavior. It is possible that they may both feel threatened by the other. These are the two most important women in your life and they both know it. Your mother may be afraid that she will lose you if she confronts your wife. I heard one mother-in-law describe her son's wife as the gateway to her son. The wife has the power to dictate when and how often the mother gets to see her son. The wife also is the gateway to the grandchildren. If your wife doesn't like her mother-in-law she can severely hamper or damage her mother-in-law's relationship with you and any children you two may have. From your wife's viewpoint, this is the woman that she may feel like she can never live up to. If you regularly praise your mom's cooking, her housework, gardening, or anything else your wife may feel that you are putting down her own efforts in these areas and can feel unappreciated. This can be especially difficult if your wife and mother are nothing alike. I am not saying that this is the case with your family's situation. These are just a few examples from other families in a similar situation as yours. </p><p>Regardless of what the cause is, if this dysfunctional pattern is allowed to continue, your mom and your wife will begin to get upset with you when you don't agree with them. They will get upset if you don't align yourself with them against the other. They will be offended when it seems like you are choosing the other one's side or that you are not standing up for them like they think you should. In worst cases, if it continues to escalate you may even find yourself in the impossible position of having to choose between your wife and your mother which may mean cutting off contact with the other, ending that relationship. Change the dynamics before it spirals even further.</p>",
         "0"
        ],
        [
         "1",
         "5566f94fa64752d71ec3ca64",
         "I'm addicted to smoking. How can I stop?",
         "I'm planning to have baby, so I have to quit smoking - but it's hard. Sometimes it's not a physical need, it's mental.\r\n\r\nI cannot help myself from thinking about smoking. What can I do to get rid of this addiction?",
         "https://counselchat.com/questions/i-m-addicted-to-smoking-how-can-i-stop",
         "Substance Abuse,Addiction",
         "Rebecca Duellman",
         "https://counselchat.com/therapists/rebecca-duellman",
         "<p>Hi. Good for you in planning ahead to do what's healthiest for your baby (and yourself). That's a great first step! It's also good that you are able to identify that it's not always a physical need that's driving the addiction.</p><p>For the next steps, I would suggest trying to figure out when the psychological cravings for a cigarette occur. The psychological (or mental) cravings are usually based out of habit, such as having a cigarette after a meal. And if you're consciously trying to quit, you'll find the craving starts with simply thinking about having a cigarette, then usually moves on to thinking about how good it made you feel, etc., etc. Well, if I'm on a diet and I continue to let myself think about the ice cream sitting in the freezer, eventually I'll give in and eat it.</p><p>You're going to have thoughts about smoking a cigarette. That's normal and, for the most part, out of your control. But you choose whether or not to CONTINUE thinking and dwelling about it after that initial thought. That's what you would have to work on changing. When you have that initial thought, acknowledge it (&#34;Ok, I kind of want a cigarette now.&#34;), but then change the thoughts that typically follow. Distract yourself, think about something else, do something else, whatever it takes to get your mind off of that cigarette.</p><p>I've suggested to clients before that they should plan these scenarios out ahead of time so they already know what they're going to do when the time comes. Write down when you usually have the craving for a cigarette and then write down new thoughts or things to do to get your mind off of it. Eventually, it will become easier and easier to brush off that initial thought until you no longer have it.</p><p>Best of luck, and you have a really great motivator to quit - your baby!</p>",
         "0"
        ],
        [
         "2",
         "5567d26887a1cc0c3f3d8f46",
         "Keeping secrets from my family",
         "I have secrets in my mind, and I don't know what to do with them. I don't want to tell my wife and mom because I don't want to hurt them. But I'm not sure how long that I can keep the secret to myself.\n\nWhat should I do? It's becoming annoying and making me anxious. Help me out",
         "https://counselchat.com/questions/keeping-secrets-from-my-family",
         "Family Conflict",
         "Jeevna Bajaj",
         "https://counselchat.com/therapists/jeevna-bajaj",
         "<p>It sounds like keeping the secrets has become a problem for you now. There are several things to consider before you make a decision.</p><p>- You mentioned that you don't want your wife and mom to know because you don't want to hurt them – why would it hurt them? </p><p>- Is it necessary for them to know this information?</p><p>- What are the consequences of either telling them the truth or not telling them? (for you and for your wife and mom).</p><p>- Once you have considered these, think of what you would tell your friend if they were in your exact situation?</p><p>- Also, if your wife or mom were in your situation right now, what do you think they would do themselves?</p><p>- If your wife and mom were in this situation, how would you feel? Would you want to know the secrets?</p><p>- How has keeping these secrets affected your own mental and physical health?</p><p>Once you have looked at the problem from all angles, you will be able to better make a decision on whether it is right to tell them or not.</p>",
         "0"
        ],
        [
         "3",
         "556bed15c969ba5861709df5",
         "The Underlying Causes of Being Possessive",
         "I am extremely possessive in my relationships and this is hurting my friendships. How can I fix my underlying issues?",
         "https://counselchat.com/questions/the-underlying-causes-of-being-possessive",
         "Behavioral Change,Social Relationships",
         "Rebecca Duellman",
         "https://counselchat.com/therapists/rebecca-duellman",
         "<p>Hi there. It's great you are able to realize there are other issues going on with someone who feels possessive. At the root of it is fear. Fear of losing someone, fear of being alone, fear of not being good enough. All those fears can lead to low self-esteem and feeling like you have to control other people so you don't lose them. The thing is, controlling other people only pushes them away. Vicious circle, right? </p><p>What I would suggest is some cognitive therapy to change those underlying ways of thinking. You can start with this assignment. Write down all the things you think about yourself, positive and not-so-positive. Then rewrite those not-so-positive things so they are positive. For example, thinking something like, &#34;I'm too pushy&#34;, can be rewritten as, &#34;I'm assertive and I go after what I want.&#34; It can be hard to do since we tend to get &#34;stuck&#34; in our negative ways of thinking about ourselves. If you have someone you trust, you can ask for their help as well since most likely they see you differently than you see yourself.</p><p>Finding a good cognitive therapist can help you further, but if that's not an option for you right now, there are lots of self-help books and websites that are out there. You've already taken the first step, so keep moving forward.</p>",
         "0"
        ],
        [
         "4",
         "556ba115c969ba5861709de6",
         "Can I control anxiety without medication?",
         "I had a head injury a few years ago and my mind races all the time. I have trouble sleeping and have a lot of anxiety. Every medicine I have been on my body rejects; I get sick to my stomach and get blisters in my mouth. How can I calm my self down? I'm a wreck.",
         "https://counselchat.com/questions/can-i-control-anxiety-without-medication",
         "Anxiety",
         "Rebecca Duellman",
         "https://counselchat.com/therapists/rebecca-duellman",
         "<p>You didn't say what or how many medications you've tried. Certain anxiety medications can make you feel nauseous, but I haven't heard of any that cause mouth blisters, so there may be some other underlying medical issue there. I would definitely talk to your primary care physician and whoever has prescribed the medication as well as a neurologist if you've suffered a severe head injury. There are so many medications available for anxiety or insomnia or even depression that there may be others with lesser side effects.</p><p>But beyond that, have you tried any other treatments such as deep breathing or meditation? Meditation can be very effective, but it takes practice and you don't have to sit cross-legged for hours chanting &#34;Ohm&#34; to meditate. It's about focusing on your breath, rather than all the thoughts that are racing through your head. And when they do take your mind off your breath, simply refocus (and refocus and refocus). Like I said, it takes practice, so don't give up. You can find many sites offering different ways to meditate, so look around and see what works best for you. Like medication, you just have to find the one that works best and that might take some experimentation.</p><p>I hope this helps and best of luck to you.</p>",
         "0"
        ]
       ],
       "shape": {
        "columns": 9,
        "rows": 5
       }
      },
      "text/html": [
       "<div>\n",
       "<style scoped>\n",
       "    .dataframe tbody tr th:only-of-type {\n",
       "        vertical-align: middle;\n",
       "    }\n",
       "\n",
       "    .dataframe tbody tr th {\n",
       "        vertical-align: top;\n",
       "    }\n",
       "\n",
       "    .dataframe thead th {\n",
       "        text-align: right;\n",
       "    }\n",
       "</style>\n",
       "<table border=\"1\" class=\"dataframe\">\n",
       "  <thead>\n",
       "    <tr style=\"text-align: right;\">\n",
       "      <th></th>\n",
       "      <th>questionID</th>\n",
       "      <th>questionTitle</th>\n",
       "      <th>questionText</th>\n",
       "      <th>questionUrl</th>\n",
       "      <th>topics</th>\n",
       "      <th>therapistName</th>\n",
       "      <th>therapistUrl</th>\n",
       "      <th>answerText</th>\n",
       "      <th>upvotes</th>\n",
       "    </tr>\n",
       "  </thead>\n",
       "  <tbody>\n",
       "    <tr>\n",
       "      <th>0</th>\n",
       "      <td>5566fab2a64752d71ec3ca69</td>\n",
       "      <td>Escalating disagreements between mother and wife</td>\n",
       "      <td>My wife and mother are having tense disagreeme...</td>\n",
       "      <td>https://counselchat.com/questions/escalating-d...</td>\n",
       "      <td>Family Conflict</td>\n",
       "      <td>Kristi King-Morgan, LMSW</td>\n",
       "      <td>https://counselchat.com/therapists/kristi-king...</td>\n",
       "      <td>&lt;p&gt;What you are describing is something psycho...</td>\n",
       "      <td>0</td>\n",
       "    </tr>\n",
       "    <tr>\n",
       "      <th>1</th>\n",
       "      <td>5566f94fa64752d71ec3ca64</td>\n",
       "      <td>I'm addicted to smoking. How can I stop?</td>\n",
       "      <td>I'm planning to have baby, so I have to quit s...</td>\n",
       "      <td>https://counselchat.com/questions/i-m-addicted...</td>\n",
       "      <td>Substance Abuse,Addiction</td>\n",
       "      <td>Rebecca Duellman</td>\n",
       "      <td>https://counselchat.com/therapists/rebecca-due...</td>\n",
       "      <td>&lt;p&gt;Hi. Good for you in planning ahead to do wh...</td>\n",
       "      <td>0</td>\n",
       "    </tr>\n",
       "    <tr>\n",
       "      <th>2</th>\n",
       "      <td>5567d26887a1cc0c3f3d8f46</td>\n",
       "      <td>Keeping secrets from my family</td>\n",
       "      <td>I have secrets in my mind, and I don't know wh...</td>\n",
       "      <td>https://counselchat.com/questions/keeping-secr...</td>\n",
       "      <td>Family Conflict</td>\n",
       "      <td>Jeevna Bajaj</td>\n",
       "      <td>https://counselchat.com/therapists/jeevna-bajaj</td>\n",
       "      <td>&lt;p&gt;It sounds like keeping the secrets has beco...</td>\n",
       "      <td>0</td>\n",
       "    </tr>\n",
       "    <tr>\n",
       "      <th>3</th>\n",
       "      <td>556bed15c969ba5861709df5</td>\n",
       "      <td>The Underlying Causes of Being Possessive</td>\n",
       "      <td>I am extremely possessive in my relationships ...</td>\n",
       "      <td>https://counselchat.com/questions/the-underlyi...</td>\n",
       "      <td>Behavioral Change,Social Relationships</td>\n",
       "      <td>Rebecca Duellman</td>\n",
       "      <td>https://counselchat.com/therapists/rebecca-due...</td>\n",
       "      <td>&lt;p&gt;Hi there. It's great you are able to realiz...</td>\n",
       "      <td>0</td>\n",
       "    </tr>\n",
       "    <tr>\n",
       "      <th>4</th>\n",
       "      <td>556ba115c969ba5861709de6</td>\n",
       "      <td>Can I control anxiety without medication?</td>\n",
       "      <td>I had a head injury a few years ago and my min...</td>\n",
       "      <td>https://counselchat.com/questions/can-i-contro...</td>\n",
       "      <td>Anxiety</td>\n",
       "      <td>Rebecca Duellman</td>\n",
       "      <td>https://counselchat.com/therapists/rebecca-due...</td>\n",
       "      <td>&lt;p&gt;You didn't say what or how many medications...</td>\n",
       "      <td>0</td>\n",
       "    </tr>\n",
       "  </tbody>\n",
       "</table>\n",
       "</div>"
      ],
      "text/plain": [
       "                 questionID                                     questionTitle  \\\n",
       "0  5566fab2a64752d71ec3ca69  Escalating disagreements between mother and wife   \n",
       "1  5566f94fa64752d71ec3ca64          I'm addicted to smoking. How can I stop?   \n",
       "2  5567d26887a1cc0c3f3d8f46                    Keeping secrets from my family   \n",
       "3  556bed15c969ba5861709df5         The Underlying Causes of Being Possessive   \n",
       "4  556ba115c969ba5861709de6         Can I control anxiety without medication?   \n",
       "\n",
       "                                        questionText  \\\n",
       "0  My wife and mother are having tense disagreeme...   \n",
       "1  I'm planning to have baby, so I have to quit s...   \n",
       "2  I have secrets in my mind, and I don't know wh...   \n",
       "3  I am extremely possessive in my relationships ...   \n",
       "4  I had a head injury a few years ago and my min...   \n",
       "\n",
       "                                         questionUrl  \\\n",
       "0  https://counselchat.com/questions/escalating-d...   \n",
       "1  https://counselchat.com/questions/i-m-addicted...   \n",
       "2  https://counselchat.com/questions/keeping-secr...   \n",
       "3  https://counselchat.com/questions/the-underlyi...   \n",
       "4  https://counselchat.com/questions/can-i-contro...   \n",
       "\n",
       "                                   topics             therapistName  \\\n",
       "0                         Family Conflict  Kristi King-Morgan, LMSW   \n",
       "1               Substance Abuse,Addiction          Rebecca Duellman   \n",
       "2                         Family Conflict              Jeevna Bajaj   \n",
       "3  Behavioral Change,Social Relationships          Rebecca Duellman   \n",
       "4                                 Anxiety          Rebecca Duellman   \n",
       "\n",
       "                                        therapistUrl  \\\n",
       "0  https://counselchat.com/therapists/kristi-king...   \n",
       "1  https://counselchat.com/therapists/rebecca-due...   \n",
       "2    https://counselchat.com/therapists/jeevna-bajaj   \n",
       "3  https://counselchat.com/therapists/rebecca-due...   \n",
       "4  https://counselchat.com/therapists/rebecca-due...   \n",
       "\n",
       "                                          answerText  upvotes  \n",
       "0  <p>What you are describing is something psycho...        0  \n",
       "1  <p>Hi. Good for you in planning ahead to do wh...        0  \n",
       "2  <p>It sounds like keeping the secrets has beco...        0  \n",
       "3  <p>Hi there. It's great you are able to realiz...        0  \n",
       "4  <p>You didn't say what or how many medications...        0  "
      ]
     },
     "metadata": {},
     "output_type": "display_data"
    },
    {
     "data": {
      "application/vnd.microsoft.datawrangler.viewer.v0+json": {
       "columns": [
        {
         "name": "index",
         "rawType": "int64",
         "type": "integer"
        },
        {
         "name": "questionID",
         "rawType": "object",
         "type": "string"
        },
        {
         "name": "questionTitle",
         "rawType": "object",
         "type": "string"
        },
        {
         "name": "questionText",
         "rawType": "object",
         "type": "string"
        },
        {
         "name": "questionUrl",
         "rawType": "object",
         "type": "string"
        },
        {
         "name": "topics",
         "rawType": "object",
         "type": "string"
        },
        {
         "name": "therapistName",
         "rawType": "object",
         "type": "string"
        },
        {
         "name": "therapistUrl",
         "rawType": "object",
         "type": "string"
        },
        {
         "name": "answerText",
         "rawType": "object",
         "type": "string"
        },
        {
         "name": "upvotes",
         "rawType": "int64",
         "type": "integer"
        }
       ],
       "ref": "e12419d6-a9b3-487b-bbce-0a55d74b0f6e",
       "rows": [
        [
         "1477",
         "56d2f2aa9471b0b41ec68e4d",
         "Is it healthy to embarrass a child as punishment?",
         "My grandson's step-mother sends him to school with a pink Barbie backpack as a form of punishment.",
         "https://counselchat.com/questions/is-it-healthy-to-embarrass-a-child-as-punishment",
         "Parenting,Family Conflict",
         "Candice Lawhorn",
         "https://counselchat.com/therapists/candice-lawhorn",
         "<p>Absolutely not!&nbsp;</p><p>It is never in a child's best interest to use humiliation as punishment. This can lead to issues in the relationship between parent and child as well as the child's social relationships. Kids have a hard enough time. To then go and cause them embarrassment is unconscionable.&nbsp;</p><p>The entire job of a parent is to prepare their child to become a successful, healthy adult. You do this by using healthy ways to teach a child when they make a mistake. Discipline shouldn't be seen as punishment. It should be seen as a way to teach a lesson. What lesson could this possibility be teaching him? Absolutely nothing.&nbsp;</p><p>Meanwhile, she is most likely damaging her relationship with him and causing great distress in his school day and peer interactions.&nbsp;</p><p>She should be one of the people he can come to when he's hurting; not someone who causes him pain.</p>",
         "0"
        ],
        [
         "1478",
         "5797a411b43cd7825e26e246",
         "How do I fix my relationship?",
         "My boyfriend is in recovery from drug addiction. We recently got into a fight and he has become very distant.  I don't know what to do to fix the relationship.",
         "https://counselchat.com/questions/how-do-i-fix-my-relationship-3",
         "Relationships,Addiction",
         "Sherry Katz, LCSW",
         "https://counselchat.com/therapists/sherry-katz-lcsw",
         "<p>I'm sorry you have tension between you and your bf.</p><p>A relationship means two people who relate, right?! &nbsp; If only one person does all the work to change their approach, what they expect, what they offer the other, then this becomes the new problem to solve.</p><p>If you've already done a significant amount of reflection and change in the way you relate to him, then the next step may be to be patient as long as possible while he decides what to change about his part in the relationship toward you.</p><p>Substance abuse recovery requires profound effort and reflection. &nbsp;If it is successful then the result will show very different qualities in your bf than the ones you know currently.</p><p>He may be so absorbed in the recovery that he can only concentrate on this. &nbsp;&nbsp;</p><p>Of course if the fights persist and you have been patient for what feels too long, then there are different questions to address.</p>",
         "0"
        ],
        [
         "1479",
         "5796a111bc069dff6a5339ca",
         "What are the long term effects of losing one's adopted mother?",
         "The birth mother attempted suicide several times while pregnant. The adopted mother was terminally ill upon adopting the baby and died when  the child was just over one year old.  The adopted father then remarried to a physically, psychologically, and emotionally abusive woman.  The child was placed in foster care at 11 years old. \r\n\r\nWhat might be the long term effects on an adult with this childhood history?",
         "https://counselchat.com/questions/what-are-the-long-term-effects-of-losing-one-s-adopted-mother",
         "Family Conflict,Parenting,Children & Adolescents",
         "Sherry Katz, LCSW",
         "https://counselchat.com/therapists/sherry-katz-lcsw",
         "<p>The true answer is, \"no one can really say with certainty\".</p><p>The variables are the way this child absorbs and adjusts to these significant changes in their life. &nbsp;All anyone can do is guess at this point and there's no good reason to guess.</p><p>The only general certainty is that the adult whom this child becomes will have had a profound encounter with the biggest types of human losses a child can go through.</p><p>Some people become great teachers, therapists and philosophers who have this background. &nbsp;Some give up on life and hide away from others.</p><p>The best anyone could do who knows this child is to offer love bc this is the greatest guarantee to show there are good people on this earth.</p>",
         "0"
        ],
        [
         "1480",
         "5795952cbc069dff6a5339aa",
         "How do I help my 20 year old boyfriend who says he hates his life?",
         "I think adult life is making him depressed and we often sleep in on weekends untill 1 or 2 pm. We just eat, smoke weed, watch movies, and he'll go on his phone all day. He doesn't seem motivated to do much and he's often angry.\r\n\r\n I have no clue how to help him take his mind off the negative, or to distract him into a different light. How do I help him?",
         "https://counselchat.com/questions/how-do-i-help-my-20-year-old-boyfriend-who-says-he-hates-his-life",
         "Relationships,Depression,Substance Abuse",
         "Sherry Katz, LCSW",
         "https://counselchat.com/therapists/sherry-katz-lcsw",
         "<p>How do you help yourself to believe you require more than what he offers to you?</p><p>What do you get from this relationship which feels satisfying?</p><p>To answer this question may in the longterm be the best way to help your bf.</p>",
         "0"
        ],
        [
         "1481",
         "5773e438b9ff751f196e8df0",
         "I'm worried about my new job.",
         "I just took a job that requires me to travel far away from home. My family and I really need this job.\r\n\r\nPeople keep telling me I have \"anxiety\" and I'm terrified of having an anxiety attack on the road. This is all new to me. What can I do?",
         "https://counselchat.com/questions/i-m-worried-about-my-new-job",
         "Anxiety,Career Counseling",
         "Philip Kolba",
         "https://counselchat.com/therapists/philip-kolba",
         "<p>hmm this is a tough one!</p>",
         "0"
        ]
       ],
       "shape": {
        "columns": 9,
        "rows": 5
       }
      },
      "text/html": [
       "<div>\n",
       "<style scoped>\n",
       "    .dataframe tbody tr th:only-of-type {\n",
       "        vertical-align: middle;\n",
       "    }\n",
       "\n",
       "    .dataframe tbody tr th {\n",
       "        vertical-align: top;\n",
       "    }\n",
       "\n",
       "    .dataframe thead th {\n",
       "        text-align: right;\n",
       "    }\n",
       "</style>\n",
       "<table border=\"1\" class=\"dataframe\">\n",
       "  <thead>\n",
       "    <tr style=\"text-align: right;\">\n",
       "      <th></th>\n",
       "      <th>questionID</th>\n",
       "      <th>questionTitle</th>\n",
       "      <th>questionText</th>\n",
       "      <th>questionUrl</th>\n",
       "      <th>topics</th>\n",
       "      <th>therapistName</th>\n",
       "      <th>therapistUrl</th>\n",
       "      <th>answerText</th>\n",
       "      <th>upvotes</th>\n",
       "    </tr>\n",
       "  </thead>\n",
       "  <tbody>\n",
       "    <tr>\n",
       "      <th>1477</th>\n",
       "      <td>56d2f2aa9471b0b41ec68e4d</td>\n",
       "      <td>Is it healthy to embarrass a child as punishment?</td>\n",
       "      <td>My grandson's step-mother sends him to school ...</td>\n",
       "      <td>https://counselchat.com/questions/is-it-health...</td>\n",
       "      <td>Parenting,Family Conflict</td>\n",
       "      <td>Candice Lawhorn</td>\n",
       "      <td>https://counselchat.com/therapists/candice-law...</td>\n",
       "      <td>&lt;p&gt;Absolutely not!&amp;nbsp;&lt;/p&gt;&lt;p&gt;It is never in ...</td>\n",
       "      <td>0</td>\n",
       "    </tr>\n",
       "    <tr>\n",
       "      <th>1478</th>\n",
       "      <td>5797a411b43cd7825e26e246</td>\n",
       "      <td>How do I fix my relationship?</td>\n",
       "      <td>My boyfriend is in recovery from drug addictio...</td>\n",
       "      <td>https://counselchat.com/questions/how-do-i-fix...</td>\n",
       "      <td>Relationships,Addiction</td>\n",
       "      <td>Sherry Katz, LCSW</td>\n",
       "      <td>https://counselchat.com/therapists/sherry-katz...</td>\n",
       "      <td>&lt;p&gt;I'm sorry you have tension between you and ...</td>\n",
       "      <td>0</td>\n",
       "    </tr>\n",
       "    <tr>\n",
       "      <th>1479</th>\n",
       "      <td>5796a111bc069dff6a5339ca</td>\n",
       "      <td>What are the long term effects of losing one's...</td>\n",
       "      <td>The birth mother attempted suicide several tim...</td>\n",
       "      <td>https://counselchat.com/questions/what-are-the...</td>\n",
       "      <td>Family Conflict,Parenting,Children &amp; Adolescents</td>\n",
       "      <td>Sherry Katz, LCSW</td>\n",
       "      <td>https://counselchat.com/therapists/sherry-katz...</td>\n",
       "      <td>&lt;p&gt;The true answer is, \"no one can really say ...</td>\n",
       "      <td>0</td>\n",
       "    </tr>\n",
       "    <tr>\n",
       "      <th>1480</th>\n",
       "      <td>5795952cbc069dff6a5339aa</td>\n",
       "      <td>How do I help my 20 year old boyfriend who say...</td>\n",
       "      <td>I think adult life is making him depressed and...</td>\n",
       "      <td>https://counselchat.com/questions/how-do-i-hel...</td>\n",
       "      <td>Relationships,Depression,Substance Abuse</td>\n",
       "      <td>Sherry Katz, LCSW</td>\n",
       "      <td>https://counselchat.com/therapists/sherry-katz...</td>\n",
       "      <td>&lt;p&gt;How do you help yourself to believe you req...</td>\n",
       "      <td>0</td>\n",
       "    </tr>\n",
       "    <tr>\n",
       "      <th>1481</th>\n",
       "      <td>5773e438b9ff751f196e8df0</td>\n",
       "      <td>I'm worried about my new job.</td>\n",
       "      <td>I just took a job that requires me to travel f...</td>\n",
       "      <td>https://counselchat.com/questions/i-m-worried-...</td>\n",
       "      <td>Anxiety,Career Counseling</td>\n",
       "      <td>Philip Kolba</td>\n",
       "      <td>https://counselchat.com/therapists/philip-kolba</td>\n",
       "      <td>&lt;p&gt;hmm this is a tough one!&lt;/p&gt;</td>\n",
       "      <td>0</td>\n",
       "    </tr>\n",
       "  </tbody>\n",
       "</table>\n",
       "</div>"
      ],
      "text/plain": [
       "                    questionID  \\\n",
       "1477  56d2f2aa9471b0b41ec68e4d   \n",
       "1478  5797a411b43cd7825e26e246   \n",
       "1479  5796a111bc069dff6a5339ca   \n",
       "1480  5795952cbc069dff6a5339aa   \n",
       "1481  5773e438b9ff751f196e8df0   \n",
       "\n",
       "                                          questionTitle  \\\n",
       "1477  Is it healthy to embarrass a child as punishment?   \n",
       "1478                      How do I fix my relationship?   \n",
       "1479  What are the long term effects of losing one's...   \n",
       "1480  How do I help my 20 year old boyfriend who say...   \n",
       "1481                      I'm worried about my new job.   \n",
       "\n",
       "                                           questionText  \\\n",
       "1477  My grandson's step-mother sends him to school ...   \n",
       "1478  My boyfriend is in recovery from drug addictio...   \n",
       "1479  The birth mother attempted suicide several tim...   \n",
       "1480  I think adult life is making him depressed and...   \n",
       "1481  I just took a job that requires me to travel f...   \n",
       "\n",
       "                                            questionUrl  \\\n",
       "1477  https://counselchat.com/questions/is-it-health...   \n",
       "1478  https://counselchat.com/questions/how-do-i-fix...   \n",
       "1479  https://counselchat.com/questions/what-are-the...   \n",
       "1480  https://counselchat.com/questions/how-do-i-hel...   \n",
       "1481  https://counselchat.com/questions/i-m-worried-...   \n",
       "\n",
       "                                                topics      therapistName  \\\n",
       "1477                         Parenting,Family Conflict    Candice Lawhorn   \n",
       "1478                           Relationships,Addiction  Sherry Katz, LCSW   \n",
       "1479  Family Conflict,Parenting,Children & Adolescents  Sherry Katz, LCSW   \n",
       "1480          Relationships,Depression,Substance Abuse  Sherry Katz, LCSW   \n",
       "1481                         Anxiety,Career Counseling       Philip Kolba   \n",
       "\n",
       "                                           therapistUrl  \\\n",
       "1477  https://counselchat.com/therapists/candice-law...   \n",
       "1478  https://counselchat.com/therapists/sherry-katz...   \n",
       "1479  https://counselchat.com/therapists/sherry-katz...   \n",
       "1480  https://counselchat.com/therapists/sherry-katz...   \n",
       "1481    https://counselchat.com/therapists/philip-kolba   \n",
       "\n",
       "                                             answerText  upvotes  \n",
       "1477  <p>Absolutely not!&nbsp;</p><p>It is never in ...        0  \n",
       "1478  <p>I'm sorry you have tension between you and ...        0  \n",
       "1479  <p>The true answer is, \"no one can really say ...        0  \n",
       "1480  <p>How do you help yourself to believe you req...        0  \n",
       "1481                    <p>hmm this is a tough one!</p>        0  "
      ]
     },
     "metadata": {},
     "output_type": "display_data"
    }
   ],
   "source": [
    "display(counsel_chat_df.head())\n",
    "display(counsel_chat_df.tail())"
   ]
  },
  {
   "cell_type": "code",
   "execution_count": 22,
   "id": "3248c363",
   "metadata": {},
   "outputs": [
    {
     "name": "stdout",
     "output_type": "stream",
     "text": [
      "<class 'pandas.core.frame.DataFrame'>\n",
      "RangeIndex: 1482 entries, 0 to 1481\n",
      "Data columns (total 9 columns):\n",
      " #   Column         Non-Null Count  Dtype \n",
      "---  ------         --------------  ----- \n",
      " 0   questionID     1482 non-null   object\n",
      " 1   questionTitle  1480 non-null   object\n",
      " 2   questionText   1383 non-null   object\n",
      " 3   questionUrl    1482 non-null   object\n",
      " 4   topics         1472 non-null   object\n",
      " 5   therapistName  1482 non-null   object\n",
      " 6   therapistUrl   1482 non-null   object\n",
      " 7   answerText     1482 non-null   object\n",
      " 8   upvotes        1482 non-null   int64 \n",
      "dtypes: int64(1), object(8)\n",
      "memory usage: 104.3+ KB\n"
     ]
    }
   ],
   "source": [
    "counsel_chat_df.info()"
   ]
  },
  {
   "cell_type": "code",
   "execution_count": 23,
   "id": "97350058",
   "metadata": {},
   "outputs": [
    {
     "data": {
      "application/vnd.microsoft.datawrangler.viewer.v0+json": {
       "columns": [
        {
         "name": "index",
         "rawType": "object",
         "type": "string"
        },
        {
         "name": "upvotes",
         "rawType": "float64",
         "type": "float"
        }
       ],
       "ref": "4ecceb48-6a17-4746-af13-b5899c626a04",
       "rows": [
        [
         "count",
         "1482.0"
        ],
        [
         "mean",
         "0.0"
        ],
        [
         "std",
         "0.0"
        ],
        [
         "min",
         "0.0"
        ],
        [
         "25%",
         "0.0"
        ],
        [
         "50%",
         "0.0"
        ],
        [
         "75%",
         "0.0"
        ],
        [
         "max",
         "0.0"
        ]
       ],
       "shape": {
        "columns": 1,
        "rows": 8
       }
      },
      "text/html": [
       "<div>\n",
       "<style scoped>\n",
       "    .dataframe tbody tr th:only-of-type {\n",
       "        vertical-align: middle;\n",
       "    }\n",
       "\n",
       "    .dataframe tbody tr th {\n",
       "        vertical-align: top;\n",
       "    }\n",
       "\n",
       "    .dataframe thead th {\n",
       "        text-align: right;\n",
       "    }\n",
       "</style>\n",
       "<table border=\"1\" class=\"dataframe\">\n",
       "  <thead>\n",
       "    <tr style=\"text-align: right;\">\n",
       "      <th></th>\n",
       "      <th>upvotes</th>\n",
       "    </tr>\n",
       "  </thead>\n",
       "  <tbody>\n",
       "    <tr>\n",
       "      <th>count</th>\n",
       "      <td>1482.0</td>\n",
       "    </tr>\n",
       "    <tr>\n",
       "      <th>mean</th>\n",
       "      <td>0.0</td>\n",
       "    </tr>\n",
       "    <tr>\n",
       "      <th>std</th>\n",
       "      <td>0.0</td>\n",
       "    </tr>\n",
       "    <tr>\n",
       "      <th>min</th>\n",
       "      <td>0.0</td>\n",
       "    </tr>\n",
       "    <tr>\n",
       "      <th>25%</th>\n",
       "      <td>0.0</td>\n",
       "    </tr>\n",
       "    <tr>\n",
       "      <th>50%</th>\n",
       "      <td>0.0</td>\n",
       "    </tr>\n",
       "    <tr>\n",
       "      <th>75%</th>\n",
       "      <td>0.0</td>\n",
       "    </tr>\n",
       "    <tr>\n",
       "      <th>max</th>\n",
       "      <td>0.0</td>\n",
       "    </tr>\n",
       "  </tbody>\n",
       "</table>\n",
       "</div>"
      ],
      "text/plain": [
       "       upvotes\n",
       "count   1482.0\n",
       "mean       0.0\n",
       "std        0.0\n",
       "min        0.0\n",
       "25%        0.0\n",
       "50%        0.0\n",
       "75%        0.0\n",
       "max        0.0"
      ]
     },
     "execution_count": 23,
     "metadata": {},
     "output_type": "execute_result"
    }
   ],
   "source": [
    "counsel_chat_df.describe()"
   ]
  },
  {
   "cell_type": "markdown",
   "id": "6a82fdaa",
   "metadata": {},
   "source": [
    "## Cleaning Counsel Chat Data"
   ]
  },
  {
   "cell_type": "code",
   "execution_count": 24,
   "id": "682e3844",
   "metadata": {},
   "outputs": [],
   "source": [
    "counsel_chat_df = counsel_chat_df.drop(columns=['questionID', 'questionTitle', 'questionUrl', 'topics', 'therapistName', 'therapistUrl', 'upvotes'])\n"
   ]
  },
  {
   "cell_type": "code",
   "execution_count": 25,
   "id": "21c2c486",
   "metadata": {},
   "outputs": [
    {
     "name": "stdout",
     "output_type": "stream",
     "text": [
      "<class 'pandas.core.frame.DataFrame'>\n",
      "RangeIndex: 1482 entries, 0 to 1481\n",
      "Data columns (total 2 columns):\n",
      " #   Column        Non-Null Count  Dtype \n",
      "---  ------        --------------  ----- \n",
      " 0   questionText  1383 non-null   object\n",
      " 1   answerText    1482 non-null   object\n",
      "dtypes: object(2)\n",
      "memory usage: 23.3+ KB\n"
     ]
    }
   ],
   "source": [
    "counsel_chat_df.info()"
   ]
  },
  {
   "cell_type": "code",
   "execution_count": 26,
   "id": "210c0ac9",
   "metadata": {},
   "outputs": [
    {
     "data": {
      "application/vnd.microsoft.datawrangler.viewer.v0+json": {
       "columns": [
        {
         "name": "index",
         "rawType": "object",
         "type": "string"
        },
        {
         "name": "questionText",
         "rawType": "object",
         "type": "unknown"
        },
        {
         "name": "answerText",
         "rawType": "object",
         "type": "unknown"
        }
       ],
       "ref": "a2fae60e-03b9-480e-ac69-b2e4241ed9bc",
       "rows": [
        [
         "count",
         "1383",
         "1482"
        ],
        [
         "unique",
         "718",
         "1478"
        ],
        [
         "top",
         "I've gone to a couple therapy sessions so far and still everytime I walk in I get nervous and shaky.  Is this normal? Should I still be feeling like this?",
         "<p><br></p>"
        ],
        [
         "freq",
         "22",
         "5"
        ]
       ],
       "shape": {
        "columns": 2,
        "rows": 4
       }
      },
      "text/html": [
       "<div>\n",
       "<style scoped>\n",
       "    .dataframe tbody tr th:only-of-type {\n",
       "        vertical-align: middle;\n",
       "    }\n",
       "\n",
       "    .dataframe tbody tr th {\n",
       "        vertical-align: top;\n",
       "    }\n",
       "\n",
       "    .dataframe thead th {\n",
       "        text-align: right;\n",
       "    }\n",
       "</style>\n",
       "<table border=\"1\" class=\"dataframe\">\n",
       "  <thead>\n",
       "    <tr style=\"text-align: right;\">\n",
       "      <th></th>\n",
       "      <th>questionText</th>\n",
       "      <th>answerText</th>\n",
       "    </tr>\n",
       "  </thead>\n",
       "  <tbody>\n",
       "    <tr>\n",
       "      <th>count</th>\n",
       "      <td>1383</td>\n",
       "      <td>1482</td>\n",
       "    </tr>\n",
       "    <tr>\n",
       "      <th>unique</th>\n",
       "      <td>718</td>\n",
       "      <td>1478</td>\n",
       "    </tr>\n",
       "    <tr>\n",
       "      <th>top</th>\n",
       "      <td>I've gone to a couple therapy sessions so far ...</td>\n",
       "      <td>&lt;p&gt;&lt;br&gt;&lt;/p&gt;</td>\n",
       "    </tr>\n",
       "    <tr>\n",
       "      <th>freq</th>\n",
       "      <td>22</td>\n",
       "      <td>5</td>\n",
       "    </tr>\n",
       "  </tbody>\n",
       "</table>\n",
       "</div>"
      ],
      "text/plain": [
       "                                             questionText   answerText\n",
       "count                                                1383         1482\n",
       "unique                                                718         1478\n",
       "top     I've gone to a couple therapy sessions so far ...  <p><br></p>\n",
       "freq                                                   22            5"
      ]
     },
     "execution_count": 26,
     "metadata": {},
     "output_type": "execute_result"
    }
   ],
   "source": [
    "(counsel_chat_df.describe())"
   ]
  },
  {
   "cell_type": "code",
   "execution_count": 27,
   "id": "cb96965d",
   "metadata": {},
   "outputs": [
    {
     "data": {
      "application/vnd.microsoft.datawrangler.viewer.v0+json": {
       "columns": [
        {
         "name": "index",
         "rawType": "int64",
         "type": "integer"
        },
        {
         "name": "questionText",
         "rawType": "object",
         "type": "string"
        },
        {
         "name": "answerText",
         "rawType": "object",
         "type": "string"
        }
       ],
       "ref": "f4967efb-a477-45ea-b256-02d3179bdc45",
       "rows": [
        [
         "1277",
         "I've gone to a couple therapy sessions so far and still everytime I walk in I get nervous and shaky.  Is this normal? Should I still be feeling like this?",
         "<p>If you have only been to a couple of sessions, it makes sense that you might still feel apprehensive at first. Therapy is hard work! You may be talking about some things that you never talked to anyone about before. Opening up to stranger can be scary. After you feel comfortable with your counselor, and trust has built up and you feel understood in session, you should feel more relaxed. I would encourage you to talk to your counselor about feeling a little shaky. Sharing what the process is like for you is important in your work. If you still feel unsure about sharing after several sessions, it is important to take a look at that and try to understand where that may be coming from. For example, are you and the therapist not a good fit? But, again if you are just starting out in working together, feeling a little bit nervous makes perfect sense, and I encourage you to give it a bit more time and to talk to your therapist about how you are feeling.</p>"
        ],
        [
         "903",
         "I'm a teenager. My dad has been jail for the last five years. It's tough, but my mom really tries to give a normal life to my two sisters, my brother, and I. I feel like I took upon a parent role when I'm the second youngest, and I'm not stable. My mother and sisters say I'm overdramatic. I’m just so hurt, and I keep breaking down.",
         "<p>It sounds like you have a lot of weight on your shoulders.</p><p>I'm not sure what you mean when you say you're not stable and you are breaking down. If you are crying because you're sad, that is okay. If you are crying a lot or having trouble eating or sleeping, that's different than just crying sometimes because you are sad. It may be helpful to talk with a local mental health professional in your area. They can help you to figure out what you could do differently to have the role in your family that you would like while also supporting yourself and what you want.</p>"
        ],
        [
         "1064",
         "At a friend's house, we had some drinks and watched some television. He got up and went to bed. I felt sick. He came out to see if I was okay, and I said no. I said I wanted to go home, and he told me to come lay down. As I laid down on the bed, he started touching me. A friend called me, then I able to leave.",
         "<p>I am so sorry that this happened to you and am so glad that you were able to get away. &nbsp;Your body is yours and yours alone. &nbsp;I would highly recommend that you find a therapist who specializes in treating trauma in order to help you to heal from your ordeal.</p>"
        ],
        [
         "527",
         "We’ve been together almost three years. We argue and he ends it by telling me he doesn’t love me. It's hurtful because I am all about resolving the problem, and he dwells on the issue even if I drop what he's done and just swallow my pride and say I am sorry. How can this be resolved? We have kids, and I don't want a broken family because we can't communicate.",
         "<p>Try having a conversation with your boyfriend about your views and wishes for the relationship, when the two of you are having a calm time. &nbsp;</p><p>A few questions I'd like to ask him is why he says he doesn't love you when the topic at hand is about a specific practical matter.</p><p>I'd also like to know what he hopes will happen from dwelling on a matter.</p><p>And, why are you swallowing your pride? &nbsp;Sooner or later this will come up on you in much bigger ways. &nbsp;Instead, try to know your own wishes that you are either not stating or are being ignored by your boyfriend.</p><p>The best way to resolve accumulated tensions is to slowly open the discussion between the two people.</p><p>It is possible to stay together forever. &nbsp;What you each need to realize, is the terms under which this would most likely take place.</p><p>Sending lots of luck!</p>"
        ],
        [
         "10",
         "Cheating is something unacceptable for me but because we have two daughters I decided not to break up the family.\nHowever, now I am struggling to forget and forgive what happened. I feel like I cannot trust him. Without trust, I cannot stay in this relationship. On the other hand, I do not want my children to get hurt. I'm not sure how to move forward?",
         "<p>First of all, my heart goes out to you. Infidelity is an extremely challenging obstacle to overcome. There are some things that you should consider. First of all, did he seem truly remorseful? If you felt in his heart that he was truly sorry for what he had done, it will give you a piece of mind that it was a  mistake. </p><p>Secondly, was he forthcoming with this information? How about with answering your questions after the truth was uncovered? If you found that he was still lying or not forthcoming, the sting is even more painful. He should be able to answer any question you have honestly and without hesitation.</p><p>Thirdly, has he shown a positive difference after this experience? At this time, he should still be proving his faithfulness to the marriage, you and the children.</p><p>Keep in mind that experiencing infidelity is a form of grief. It is not a quick process that can easily be overcome. What you are experiencing is 100% normal. </p><p>My best suggestion would be to see a marriage therapist. Find out what drove your husband to cheat in the first place and decide if this aspect in his life has been resolved. I know its important for you to keep your family together but children can sense anger and frustration, this is not a healthy environment either. If you decide that you can no longer remain in the relationship, a therapist will also be able to help you cope with the separation along with addressing your children's needs.</p><p>Please know that you are not alone and that unfortunately, many relationships have endured this very thing. It may also be helpful to reach out to people who have experienced similar obstacles. The web is a great resource to find groups whether online or in person to use as a support or sounding board.</p><p>Best of luck to you and your family!</p>"
        ],
        [
         "231",
         "When I see something I don’t like, I go off like a ticking time bomb. I go from “0 to 100” really quickly.",
         "<p>Sometimes we react to situations immediately, without thinking of the consequences of our actions. Typically by not reacting right away, we are better able to gather our thoughts, see the situation more clearly and from other perspectives, and respond more calmly. One of the strategies that almost always helps is deep breathing. When faced with a stressful situation, you can give yourself a time out by removing yourself from the stress and spend 5 minutes taking deep breaths (breathe in slowly counting to 4 and breathe out even slower counting to 6), while focusing and thinking&nbsp;only about your breathing. After doing so, think of the various ways you can respond to the situation and choose the one most appropriate. Good luck!<br></p>"
        ],
        [
         "49",
         "Or how to send him somewhere that can help him, something like The Baker Act.",
         "<p>More information would be needed for me to accurately answer this question, such as your age, whether you live with your dad or not, and what other family members live in the household. </p><p>Something like this, alcoholism, is a whole family disease.  In other words, family members often unknowingly contribute to the alcoholism and enable the alcoholic to continue the destructive behavior.</p><p>First of all, you can’t make your dad do anything, and constantly nagging him or begging him to stop is just going to make him defensive and make this worse.  Nobody can change another person.  What you can do is change how you react to him and the things that you and other family members do for him. </p><p>Research codependency.  There’s a great book called Codependent No More.  There are a lot of articles on the internet that you can read.  In short, you have to stop enabling him.  Like I said, you cannot control him, but you can control yourself.  This means do not buy his alcohol.  Do not make it easy for him to get.  Don’t loan him the car keys or pay any household bills for him.  Don’t call in sick to work for him or make excuses for him in any way.  Do not bail him out of jail when he gets arrested. He needs to be responsible for himself. This may mean losing his job or losing his driver’s license. This may mean that he loses his family if he doesn’t stop. </p><p>What you and your family can do is set boundaries about what you will put up with.  It is his choice to drink, but it is your choice to put up with the behaviors of his drinking.  A lot of people go into rehab because their spouse said if they don’t then they are getting a divorce.</p><p>If you are an adult and you don’t live with your dad, then the best thing you can do for him is STOP doing things for him.  If you are a child who lives at home with him, then this could be a case for child protective services. In my state this is called DHS.  A report is made to this organization for child abuse or neglect.  Substance abuse in the home qualifies.  Of course, alcohol is legal and when consumed in moderation, there is no problems.  The problem will be the result of his alcohol consumption.  Does he drive with children in the car while intoxicated?  Is he left to care for minors while in an intoxicated state?  Are there any domestic violence issues due to his drinking?  This could be a reason for the authorities to step in.<span> </span></p><p>You can look for a local meeting for family members of alcoholics.  They are similar to the AA meetings that an alcoholic should go to, but are for the family members.  They can help you. </p>"
        ],
        [
         "532",
         "I found out my boyfriend takes anti-depression medicine. Lately he's been saying he has a lot on his mind, and he needs time to think about us. We've only been dating 3 weeks but I like him a lot.",
         "<p>Give him the time and space he needs.&nbsp; Obviously something is going on with him that he needs time to process, think about, and work through.&nbsp; Respect that most men are not talkers but more thinkers.&nbsp; If and when he is ready to talk, he will.&nbsp; When and if he does talk, be a comforting listener and put yourself in his shoes the best you can to be the support he needs.&nbsp; Don't take it personal because you just been dating 3 weeks and his depression maybe something that been going on for a while.&nbsp; If you do like him...showing him by being patient and supportive at this time.<br></p>"
        ],
        [
         "276",
         "I like getting attention from men. I don't have sex. I lead them on to thinking I might want to. I like to tease, I like for men to chase me, and I like to feel wanted.",
         "<p>Hi Michigan, Good for you for recognising a destructive pattern. This behaviour, although it might get you the attention you want initially, will ultimately drive men away because it's not respectful of them. My gut says that you learned early on in life that your value is in your sexuality alone. That's a powerful thought. You are certainly acting as if this is true. If you believed in your value as a person, you would be less afraid of deeper relationships and intimacy in general.&nbsp;</p><p>If I were your therapist, I'd have many questions for you and I would need to understand a lot of things about you and your past to help you sort out where this idea about yourself came from. I'd suggest reaching out to a qualified therapist who can help you get to the root of this behaviour. Good luck!</p>"
        ],
        [
         "1391",
         "I need help knowing how to deal with stress. What can I do?",
         "<p>Something different works for each of us.</p><p>There are the outward answers of self-pampering and making your home and work environment as pleasant as possible.</p><p>A deeper level way to decrease stress is through exercise or alternative practices like yoga or tai chi.</p><p>If the stress is more deeply rooted than temporarily feeling irritated for a few days, then give yourself some time to reflect and clarify what the meaning of the stress is to you.</p><p>Self-understanding and appreciating your efforts to know yourself may decrease stress because you'll be more focused and attentive to who you are. &nbsp;This will influence you overall to make good decisions for yourself and these will naturally be ones which decrease stress as much as possible.</p>"
        ]
       ],
       "shape": {
        "columns": 2,
        "rows": 10
       }
      },
      "text/html": [
       "<div>\n",
       "<style scoped>\n",
       "    .dataframe tbody tr th:only-of-type {\n",
       "        vertical-align: middle;\n",
       "    }\n",
       "\n",
       "    .dataframe tbody tr th {\n",
       "        vertical-align: top;\n",
       "    }\n",
       "\n",
       "    .dataframe thead th {\n",
       "        text-align: right;\n",
       "    }\n",
       "</style>\n",
       "<table border=\"1\" class=\"dataframe\">\n",
       "  <thead>\n",
       "    <tr style=\"text-align: right;\">\n",
       "      <th></th>\n",
       "      <th>questionText</th>\n",
       "      <th>answerText</th>\n",
       "    </tr>\n",
       "  </thead>\n",
       "  <tbody>\n",
       "    <tr>\n",
       "      <th>1277</th>\n",
       "      <td>I've gone to a couple therapy sessions so far ...</td>\n",
       "      <td>&lt;p&gt;If you have only been to a couple of sessio...</td>\n",
       "    </tr>\n",
       "    <tr>\n",
       "      <th>903</th>\n",
       "      <td>I'm a teenager. My dad has been jail for the l...</td>\n",
       "      <td>&lt;p&gt;It sounds like you have a lot of weight on ...</td>\n",
       "    </tr>\n",
       "    <tr>\n",
       "      <th>1064</th>\n",
       "      <td>At a friend's house, we had some drinks and wa...</td>\n",
       "      <td>&lt;p&gt;I am so sorry that this happened to you and...</td>\n",
       "    </tr>\n",
       "    <tr>\n",
       "      <th>527</th>\n",
       "      <td>We’ve been together almost three years. We arg...</td>\n",
       "      <td>&lt;p&gt;Try having a conversation with your boyfrie...</td>\n",
       "    </tr>\n",
       "    <tr>\n",
       "      <th>10</th>\n",
       "      <td>Cheating is something unacceptable for me but ...</td>\n",
       "      <td>&lt;p&gt;First of all, my heart goes out to you. Inf...</td>\n",
       "    </tr>\n",
       "    <tr>\n",
       "      <th>231</th>\n",
       "      <td>When I see something I don’t like, I go off li...</td>\n",
       "      <td>&lt;p&gt;Sometimes we react to situations immediatel...</td>\n",
       "    </tr>\n",
       "    <tr>\n",
       "      <th>49</th>\n",
       "      <td>Or how to send him somewhere that can help him...</td>\n",
       "      <td>&lt;p&gt;More information would be needed for me to ...</td>\n",
       "    </tr>\n",
       "    <tr>\n",
       "      <th>532</th>\n",
       "      <td>I found out my boyfriend takes anti-depression...</td>\n",
       "      <td>&lt;p&gt;Give him the time and space he needs.&amp;nbsp;...</td>\n",
       "    </tr>\n",
       "    <tr>\n",
       "      <th>276</th>\n",
       "      <td>I like getting attention from men. I don't hav...</td>\n",
       "      <td>&lt;p&gt;Hi Michigan, Good for you for recognising a...</td>\n",
       "    </tr>\n",
       "    <tr>\n",
       "      <th>1391</th>\n",
       "      <td>I need help knowing how to deal with stress. W...</td>\n",
       "      <td>&lt;p&gt;Something different works for each of us.&lt;/...</td>\n",
       "    </tr>\n",
       "  </tbody>\n",
       "</table>\n",
       "</div>"
      ],
      "text/plain": [
       "                                           questionText  \\\n",
       "1277  I've gone to a couple therapy sessions so far ...   \n",
       "903   I'm a teenager. My dad has been jail for the l...   \n",
       "1064  At a friend's house, we had some drinks and wa...   \n",
       "527   We’ve been together almost three years. We arg...   \n",
       "10    Cheating is something unacceptable for me but ...   \n",
       "231   When I see something I don’t like, I go off li...   \n",
       "49    Or how to send him somewhere that can help him...   \n",
       "532   I found out my boyfriend takes anti-depression...   \n",
       "276   I like getting attention from men. I don't hav...   \n",
       "1391  I need help knowing how to deal with stress. W...   \n",
       "\n",
       "                                             answerText  \n",
       "1277  <p>If you have only been to a couple of sessio...  \n",
       "903   <p>It sounds like you have a lot of weight on ...  \n",
       "1064  <p>I am so sorry that this happened to you and...  \n",
       "527   <p>Try having a conversation with your boyfrie...  \n",
       "10    <p>First of all, my heart goes out to you. Inf...  \n",
       "231   <p>Sometimes we react to situations immediatel...  \n",
       "49    <p>More information would be needed for me to ...  \n",
       "532   <p>Give him the time and space he needs.&nbsp;...  \n",
       "276   <p>Hi Michigan, Good for you for recognising a...  \n",
       "1391  <p>Something different works for each of us.</...  "
      ]
     },
     "metadata": {},
     "output_type": "display_data"
    }
   ],
   "source": [
    "display(counsel_chat_df.sample(10))"
   ]
  },
  {
   "cell_type": "markdown",
   "id": "d9b3941e",
   "metadata": {},
   "source": [
    "### Drop Empty Rows"
   ]
  },
  {
   "cell_type": "code",
   "execution_count": 28,
   "id": "b33661bf",
   "metadata": {},
   "outputs": [],
   "source": [
    "# Drop rows with missing (NaN) question or answer, in place\n",
    "counsel_chat_df.dropna(subset=[\"questionText\", \"answerText\"], inplace=True)\n",
    "\n",
    "# Remove rows where either column is empty, whitespace, or answer is just <p><br></p>\n",
    "counsel_chat_df = counsel_chat_df[\n",
    "    (counsel_chat_df[\"questionText\"].str.strip() != \"\") &\n",
    "    (counsel_chat_df[\"answerText\"].str.strip() != \"\") &\n",
    "    (counsel_chat_df[\"answerText\"].str.strip() != \"<p><br></p>\")\n",
    "]"
   ]
  },
  {
   "cell_type": "code",
   "execution_count": 29,
   "id": "712c4000",
   "metadata": {},
   "outputs": [
    {
     "name": "stdout",
     "output_type": "stream",
     "text": [
      "<class 'pandas.core.frame.DataFrame'>\n",
      "Index: 1379 entries, 0 to 1481\n",
      "Data columns (total 2 columns):\n",
      " #   Column        Non-Null Count  Dtype \n",
      "---  ------        --------------  ----- \n",
      " 0   questionText  1379 non-null   object\n",
      " 1   answerText    1379 non-null   object\n",
      "dtypes: object(2)\n",
      "memory usage: 32.3+ KB\n"
     ]
    }
   ],
   "source": [
    "\n",
    "counsel_chat_df.info()\n"
   ]
  },
  {
   "cell_type": "code",
   "execution_count": 30,
   "id": "bf8b872e",
   "metadata": {},
   "outputs": [
    {
     "data": {
      "application/vnd.microsoft.datawrangler.viewer.v0+json": {
       "columns": [
        {
         "name": "index",
         "rawType": "object",
         "type": "string"
        },
        {
         "name": "questionText",
         "rawType": "object",
         "type": "unknown"
        },
        {
         "name": "answerText",
         "rawType": "object",
         "type": "unknown"
        }
       ],
       "ref": "9d15d03c-2bf2-4d7c-a06f-07f7ebae35b1",
       "rows": [
        [
         "count",
         "1379",
         "1379"
        ],
        [
         "unique",
         "718",
         "1379"
        ],
        [
         "top",
         "I've gone to a couple therapy sessions so far and still everytime I walk in I get nervous and shaky.  Is this normal? Should I still be feeling like this?",
         "<p>What you are describing is something psychologists have termed &#34;triangulation&#34; which is what happens when one family member will not talk to the one they have a problem with and goes to a third member of the family to complain instead. You have been &#34;triangulated&#34; by your wife and mother.</p><p>This is often seen in families. It's seen everywhere. How many times have you had a problem with someone but you didn't go to them to tell them, you went to someone else to complain? It is usually difficult for a person to confront another, especially in relationships where there is a power differential. For example, I bet it's easier to complain to a coworker about your boss rather than go to the boss with your complaint.</p><p>I'm not saying triangulation is always a bad thing. Sometimes a third party mediator is needed to help solve problems between two people who disagree. That's what therapists do every day! Sometimes just getting someone else's perspective can help you see the issue clearer. However, in your situation it sounds like this is becoming a problem. You are stuck in the middle between two people that love you and that you love.</p><p>If you want to put a stop to this triangulation, you will need to encourage the two of them to talk to each other and work out their differences. Perhaps it was a simple misunderstanding that some open communication can clear up. Even if they really don't like each other and can't get along, your relationship with the both of them is going to continue to deteriorate the longer you are stuck in the middle. </p><p>Try to understand what might be the feelings behind their behavior. It is possible that they may both feel threatened by the other. These are the two most important women in your life and they both know it. Your mother may be afraid that she will lose you if she confronts your wife. I heard one mother-in-law describe her son's wife as the gateway to her son. The wife has the power to dictate when and how often the mother gets to see her son. The wife also is the gateway to the grandchildren. If your wife doesn't like her mother-in-law she can severely hamper or damage her mother-in-law's relationship with you and any children you two may have. From your wife's viewpoint, this is the woman that she may feel like she can never live up to. If you regularly praise your mom's cooking, her housework, gardening, or anything else your wife may feel that you are putting down her own efforts in these areas and can feel unappreciated. This can be especially difficult if your wife and mother are nothing alike. I am not saying that this is the case with your family's situation. These are just a few examples from other families in a similar situation as yours. </p><p>Regardless of what the cause is, if this dysfunctional pattern is allowed to continue, your mom and your wife will begin to get upset with you when you don't agree with them. They will get upset if you don't align yourself with them against the other. They will be offended when it seems like you are choosing the other one's side or that you are not standing up for them like they think you should. In worst cases, if it continues to escalate you may even find yourself in the impossible position of having to choose between your wife and your mother which may mean cutting off contact with the other, ending that relationship. Change the dynamics before it spirals even further.</p>"
        ],
        [
         "freq",
         "22",
         "1"
        ]
       ],
       "shape": {
        "columns": 2,
        "rows": 4
       }
      },
      "text/html": [
       "<div>\n",
       "<style scoped>\n",
       "    .dataframe tbody tr th:only-of-type {\n",
       "        vertical-align: middle;\n",
       "    }\n",
       "\n",
       "    .dataframe tbody tr th {\n",
       "        vertical-align: top;\n",
       "    }\n",
       "\n",
       "    .dataframe thead th {\n",
       "        text-align: right;\n",
       "    }\n",
       "</style>\n",
       "<table border=\"1\" class=\"dataframe\">\n",
       "  <thead>\n",
       "    <tr style=\"text-align: right;\">\n",
       "      <th></th>\n",
       "      <th>questionText</th>\n",
       "      <th>answerText</th>\n",
       "    </tr>\n",
       "  </thead>\n",
       "  <tbody>\n",
       "    <tr>\n",
       "      <th>count</th>\n",
       "      <td>1379</td>\n",
       "      <td>1379</td>\n",
       "    </tr>\n",
       "    <tr>\n",
       "      <th>unique</th>\n",
       "      <td>718</td>\n",
       "      <td>1379</td>\n",
       "    </tr>\n",
       "    <tr>\n",
       "      <th>top</th>\n",
       "      <td>I've gone to a couple therapy sessions so far ...</td>\n",
       "      <td>&lt;p&gt;What you are describing is something psycho...</td>\n",
       "    </tr>\n",
       "    <tr>\n",
       "      <th>freq</th>\n",
       "      <td>22</td>\n",
       "      <td>1</td>\n",
       "    </tr>\n",
       "  </tbody>\n",
       "</table>\n",
       "</div>"
      ],
      "text/plain": [
       "                                             questionText  \\\n",
       "count                                                1379   \n",
       "unique                                                718   \n",
       "top     I've gone to a couple therapy sessions so far ...   \n",
       "freq                                                   22   \n",
       "\n",
       "                                               answerText  \n",
       "count                                                1379  \n",
       "unique                                               1379  \n",
       "top     <p>What you are describing is something psycho...  \n",
       "freq                                                    1  "
      ]
     },
     "execution_count": 30,
     "metadata": {},
     "output_type": "execute_result"
    }
   ],
   "source": [
    "counsel_chat_df.describe()\n"
   ]
  },
  {
   "cell_type": "markdown",
   "id": "5acfd5e6",
   "metadata": {},
   "source": [
    "### Clean HTML"
   ]
  },
  {
   "cell_type": "code",
   "execution_count": 31,
   "id": "dd06a8b1",
   "metadata": {},
   "outputs": [],
   "source": [
    "import re\n",
    "import html\n",
    "\n",
    "def clean_html(text):\n",
    "    \"\"\"\n",
    "    Cleans HTML tags and entities from the input, then fixes spacing between sentences.\n",
    "\n",
    "    Parameters\n",
    "    ----------\n",
    "    - text: str or None\n",
    "        Raw string possibly containing HTML and HTML entities.\n",
    "\n",
    "    Returns\n",
    "    -------\n",
    "    - cleaned_text: str\n",
    "        Cleaned string, with HTML removed and sentence spacing fixed.\n",
    "    \"\"\"\n",
    "    if pd.isna(text):\n",
    "        return \"\"\n",
    "    # Remove HTML tags\n",
    "    text = re.sub(r'<.*?>', '', text)\n",
    "    # Convert HTML entities to unicode\n",
    "    text = html.unescape(text)\n",
    "    # Fix missing space between sentences (e.g., \"word.Something\" → \"word. Something\")\n",
    "    text = re.sub(r'([.!?])([A-Z0-9])', r'\\1 \\2', text)\n",
    "    # Strip leading/trailing whitespace\n",
    "    return text.strip()\n",
    "\n",
    "# Clean answerText column in-place\n",
    "counsel_chat_df['answerText'] = counsel_chat_df['answerText'].apply(clean_html)\n"
   ]
  },
  {
   "cell_type": "code",
   "execution_count": 32,
   "id": "5969d684",
   "metadata": {},
   "outputs": [
    {
     "name": "stdout",
     "output_type": "stream",
     "text": [
      "<class 'pandas.core.frame.DataFrame'>\n",
      "Index: 1379 entries, 0 to 1481\n",
      "Data columns (total 2 columns):\n",
      " #   Column        Non-Null Count  Dtype \n",
      "---  ------        --------------  ----- \n",
      " 0   questionText  1379 non-null   object\n",
      " 1   answerText    1379 non-null   object\n",
      "dtypes: object(2)\n",
      "memory usage: 32.3+ KB\n"
     ]
    }
   ],
   "source": [
    "counsel_chat_df.info()"
   ]
  },
  {
   "cell_type": "code",
   "execution_count": 33,
   "id": "a58be1b1",
   "metadata": {},
   "outputs": [
    {
     "data": {
      "application/vnd.microsoft.datawrangler.viewer.v0+json": {
       "columns": [
        {
         "name": "index",
         "rawType": "object",
         "type": "string"
        },
        {
         "name": "questionText",
         "rawType": "object",
         "type": "unknown"
        },
        {
         "name": "answerText",
         "rawType": "object",
         "type": "unknown"
        }
       ],
       "ref": "31b05761-b2d9-4168-85ad-c79f014541bc",
       "rows": [
        [
         "count",
         "1379",
         "1379"
        ],
        [
         "unique",
         "718",
         "1379"
        ],
        [
         "top",
         "I've gone to a couple therapy sessions so far and still everytime I walk in I get nervous and shaky.  Is this normal? Should I still be feeling like this?",
         "What you are describing is something psychologists have termed \"triangulation\" which is what happens when one family member will not talk to the one they have a problem with and goes to a third member of the family to complain instead. You have been \"triangulated\" by your wife and mother. This is often seen in families. It's seen everywhere. How many times have you had a problem with someone but you didn't go to them to tell them, you went to someone else to complain? It is usually difficult for a person to confront another, especially in relationships where there is a power differential. For example, I bet it's easier to complain to a coworker about your boss rather than go to the boss with your complaint. I'm not saying triangulation is always a bad thing. Sometimes a third party mediator is needed to help solve problems between two people who disagree. That's what therapists do every day! Sometimes just getting someone else's perspective can help you see the issue clearer. However, in your situation it sounds like this is becoming a problem. You are stuck in the middle between two people that love you and that you love. If you want to put a stop to this triangulation, you will need to encourage the two of them to talk to each other and work out their differences. Perhaps it was a simple misunderstanding that some open communication can clear up. Even if they really don't like each other and can't get along, your relationship with the both of them is going to continue to deteriorate the longer you are stuck in the middle. Try to understand what might be the feelings behind their behavior. It is possible that they may both feel threatened by the other. These are the two most important women in your life and they both know it. Your mother may be afraid that she will lose you if she confronts your wife. I heard one mother-in-law describe her son's wife as the gateway to her son. The wife has the power to dictate when and how often the mother gets to see her son. The wife also is the gateway to the grandchildren. If your wife doesn't like her mother-in-law she can severely hamper or damage her mother-in-law's relationship with you and any children you two may have. From your wife's viewpoint, this is the woman that she may feel like she can never live up to. If you regularly praise your mom's cooking, her housework, gardening, or anything else your wife may feel that you are putting down her own efforts in these areas and can feel unappreciated. This can be especially difficult if your wife and mother are nothing alike. I am not saying that this is the case with your family's situation. These are just a few examples from other families in a similar situation as yours. Regardless of what the cause is, if this dysfunctional pattern is allowed to continue, your mom and your wife will begin to get upset with you when you don't agree with them. They will get upset if you don't align yourself with them against the other. They will be offended when it seems like you are choosing the other one's side or that you are not standing up for them like they think you should. In worst cases, if it continues to escalate you may even find yourself in the impossible position of having to choose between your wife and your mother which may mean cutting off contact with the other, ending that relationship. Change the dynamics before it spirals even further."
        ],
        [
         "freq",
         "22",
         "1"
        ]
       ],
       "shape": {
        "columns": 2,
        "rows": 4
       }
      },
      "text/html": [
       "<div>\n",
       "<style scoped>\n",
       "    .dataframe tbody tr th:only-of-type {\n",
       "        vertical-align: middle;\n",
       "    }\n",
       "\n",
       "    .dataframe tbody tr th {\n",
       "        vertical-align: top;\n",
       "    }\n",
       "\n",
       "    .dataframe thead th {\n",
       "        text-align: right;\n",
       "    }\n",
       "</style>\n",
       "<table border=\"1\" class=\"dataframe\">\n",
       "  <thead>\n",
       "    <tr style=\"text-align: right;\">\n",
       "      <th></th>\n",
       "      <th>questionText</th>\n",
       "      <th>answerText</th>\n",
       "    </tr>\n",
       "  </thead>\n",
       "  <tbody>\n",
       "    <tr>\n",
       "      <th>count</th>\n",
       "      <td>1379</td>\n",
       "      <td>1379</td>\n",
       "    </tr>\n",
       "    <tr>\n",
       "      <th>unique</th>\n",
       "      <td>718</td>\n",
       "      <td>1379</td>\n",
       "    </tr>\n",
       "    <tr>\n",
       "      <th>top</th>\n",
       "      <td>I've gone to a couple therapy sessions so far ...</td>\n",
       "      <td>What you are describing is something psycholog...</td>\n",
       "    </tr>\n",
       "    <tr>\n",
       "      <th>freq</th>\n",
       "      <td>22</td>\n",
       "      <td>1</td>\n",
       "    </tr>\n",
       "  </tbody>\n",
       "</table>\n",
       "</div>"
      ],
      "text/plain": [
       "                                             questionText  \\\n",
       "count                                                1379   \n",
       "unique                                                718   \n",
       "top     I've gone to a couple therapy sessions so far ...   \n",
       "freq                                                   22   \n",
       "\n",
       "                                               answerText  \n",
       "count                                                1379  \n",
       "unique                                               1379  \n",
       "top     What you are describing is something psycholog...  \n",
       "freq                                                    1  "
      ]
     },
     "execution_count": 33,
     "metadata": {},
     "output_type": "execute_result"
    }
   ],
   "source": [
    "counsel_chat_df.describe()"
   ]
  },
  {
   "cell_type": "markdown",
   "id": "3743f30b",
   "metadata": {},
   "source": [
    "# Final Counsel Chat"
   ]
  },
  {
   "cell_type": "code",
   "execution_count": 34,
   "id": "39f7f4d1",
   "metadata": {},
   "outputs": [
    {
     "name": "stdout",
     "output_type": "stream",
     "text": [
      "Counsel Chat: (1379, 2)\n"
     ]
    }
   ],
   "source": [
    "# Reset index in place (overwrite the DataFrame with the re-indexed one)\n",
    "counsel_chat_df.reset_index(drop=True, inplace=True)\n",
    "\n",
    "print(f\"Counsel Chat: {counsel_chat_df.shape}\")"
   ]
  },
  {
   "cell_type": "code",
   "execution_count": 38,
   "id": "1f8a5617",
   "metadata": {},
   "outputs": [
    {
     "data": {
      "application/vnd.microsoft.datawrangler.viewer.v0+json": {
       "columns": [
        {
         "name": "index",
         "rawType": "int64",
         "type": "integer"
        },
        {
         "name": "questionText",
         "rawType": "object",
         "type": "string"
        },
        {
         "name": "answerText",
         "rawType": "object",
         "type": "string"
        }
       ],
       "ref": "51bad6e8-dc8d-4195-b64e-7c330d94b168",
       "rows": [
        [
         "334",
         "My boyfriend recently got a kitty. I hate cats in general, and he knows it. It grosses me out and makes me very upset when he pets his cat. I want to throw out the cat. I feel very jealous.",
         "Sorry for you and sorry for the cat because you're each in a tense position. What was the context of your boyfriend adopting a cat since he was aware that this would likely cause problems in the relationship with you? If you don't already know his answer, then find out.  Doing so will tell you a lot about your boyfriend's expectations about you.  Does he expect you to accept without question, whatever he does?  Does he care about your views?  Does a cat have some deep meaning for him that having one is essential to his life and he never told you so? Please don't be mean to the cat.  Its not the cat's fault for being in your boyfriend's care. There are plenty of other cats on this earth so throwing out the cat will not solve anything between you and your boyfriend. Who knows, your boyfriend may come back home with three more cats! Start with a conversation about your feelings and his interest in your feelings."
        ],
        [
         "8",
         "What do you do when a therapist and a parent drugs a child and makes up lies in order to stop the other parent's custody visitation?",
         "I will admit I am confused about this question.  Are you the other parent in question or a concerned coworker of this therapist? Therapists do not prescribe or have access to medication.  Most therapists won't even get involved in a custody battle.  They know there is a good chance of their records ending up in court and that they themselves will have to testify in court.  Of course, therapists are human and can make mistakes, but I find it highly unlikely that a therapist would knowingly and willingly do something like this that is such a major ethical violation.  Not only are they losing their license to practice by doing this, they are going to face criminal charges and jail time.  If their clinical judgment is that the other parent is a danger to the child, they don't have to resort to illegal means to try to prove this. If you have concrete proof that this has happened then there is a process in which you can file a report against the therapist with their licensure board.  Every therapist is licensed in their state.  There are different types of licensures so you would need to know this therapist's licensure. Most accusations from the other parent are expected in a custody situation because people do tend to get quite ugly.  Don't accuse the therapist or the parent of anything just to try to make yourself look better and them look bad.  Have evidence of wrongdoing before accusing them of this.  If this has really happened then of course it needs to be reported, but don't try to ruin someone's career unless you are sure this occurred."
        ],
        [
         "713",
         "Nothing we've tried has worked so far.",
         "Sexual attraction is often discussed on a continuum. If you are saying that you are not attracted to your girlfriend, you could try changing what you do during sexual intimacy. You could also try slowly using nonsexual touch and discussing what you each like and would prefer to do more of compared to what is not as desirable. After doing this for nonsexual touching, it can also be used with sexual touching. Looking at more of what you like or would like to feel may be of help."
        ],
        [
         "885",
         "I found the guy I’m dating on dating websites. He was telling women that they were beautiful. He said it wasn’t him and that the phone was hacked. It has since happened two other times. He says he loves me and I’m the only girl he wants to be with, but I feel he is not telling me the truth.",
         "I would suggest possibly talking about the type of relationship that both of you want to create. For example, you may want a relationship where honesty, listening, compassion, and romanticism are major parts. You could also see what your boyfriend wants. You may also consider taking five minutes to see if he will listen to your feelings about him being on the dating site and whether he can work to learn more about what you are experiencing with asking open-ended questions (not being answered with yes or no) and restating what you are saying to see if he has it right. After that, perhaps you could switch so that you can listen to his perspective for five minutes and learn more about what he is doing by asking open-ended questions. Remember that it takes two people to have  a relationship, so the choice is yours as to whether you choose to stay in the relationship and what kind of relationship you would like to have."
        ],
        [
         "549",
         "i was addicted to porn since the second grade. I'm in my early 40s and overcame my addiction during my separation from my wife of 15 years.",
         "The person who can answer this question is the person you want to rebuild that trust with.  They are the only one who can tell you what it will take for them to trust you again.  What they tell you may seem hard or impossible but unfortunately that is what THEY need.  It is up to you if you feel and know you can provide what they request."
        ],
        [
         "225",
         "I'm a male in my 20s. My girlfriend is in her late 30s. She's great. She's funny and smart, she has a big heart, and we have an excellent sex life. She recently moved in with me partially because she wanted to and partially because she had no place to go. We fight a lot. It’s mostly my fault, I must admit. She doesn't like my insecurity and lack of trust I have for her. I have trust issues. Also, I can't fathom why a woman like her is with me, so I'm always dreading when a better dude will come along. I don't think she's happy. She's very submissive and she loves me very much, but also the fact that she has nowhere to go must be influencing her decision to stay. I love her so much, but my jealousy is not likely to diminish. I never believed in the whole \"If you love them, let them go,\" but I do now. I really want her to be happy. Should I end it with her? She has no place to go so I feel like I can’t break up with her. I’m literally trapped.",
         "It sounds like there are assumptions being made regarding how she feels about you and why she is with you. I would not suggest breaking up with her without first attempting to resolve your own issues. You may not only regret your decision, but might find that the exact same problem arises in future relationships. I would recommend seeing a therapist who can help you figure out what is at the root of all of this. By learning about your own insecurities and where they come from, you can expect to discover new ways of responding and relating to others, which will likely impact your relationship in a positive manner."
        ],
        [
         "864",
         "I want a secure relationship with someone that wants to be with me and who will actually put effort into it.\r\nI seem to gravitate toward unavailable men and those that want intimacy and no relationship. I let men dictate and control me because they accuse me of being controlling. I let men emotionally abuse me and I am at their beck and call.\r\nI am not comfortable being alone or doing anything by myself. I feel I need the security of someone being around just to survive. I know what I'm doing wrong and I do it anyway just hoping things will change. How do I stop this behavior and thought process?",
         "Here are some things I'm wondering:Do you have close friends that you can talk to, trust, and who can be around sometimes when you're in between relationships? What do you like about yourself? What are your strongest points? Do you think you have been in relationships with controlling than in the past because it makes you feel as though you are worth something to them? What kind of relationship you want to be in? What are the top three or four attributes of the type of partner you want? What can you do to make yourself emotionally safe during your typical daily activities? Can you notice a list of things that you can control throughout a typical day? For example, you probably choose what to wear, what to eat, how to talk to others, how committed you are to school or work, etc. It also sounds as if it may be helpful to discover more about yourself in addition to what you look for in a partner. As far as emotional abuse, it may be useful to develop communication skills that you could use prior to their relationship progressing to the point that it is emotional abuse. Thank you for reaching out to ask questions. If the questions that I've asked here are difficult for you to answer or are overwhelming, talking with a local therapist would probably be something I would suggest."
        ],
        [
         "223",
         "I'm applying to private high schools. I'm playing basketball on my school team currently, and I love it. I also play on a team that I've hated since the beginning, and I finally want to quit before the season gets started. However, my parents say I can play on either both teams or neither. I think it's unfair because it's up to me if I want to play for a certain team. I was planning on playing basketball for the high school I get into, but if that means continuing to play for the team I hate, then I wouldn't want to play in high school. Now I don't know what to do! My parents are threatening to send me off to a different home if I don't play. I just want to run away.",
         "The situation in your family seems to place unnecessary pressure on you. Are you and your parents able to talk together about their reason for their standard? Are your parents willing to listen to your reasons to not play on the team you hate? If yes, then maybe some type of compromise is possible for all of you to negotiate. If none of the above is possible, then you may want to get specific and direct advice from a professional, such as the school guidance counselor or psychologist, whom you'd trust and feel safe in talking. I hope you and your parents will find an answer that all of you are happy to accept."
        ],
        [
         "1281",
         "Does counseling really do anything that can help people?",
         "Yes, counseling can help people. How this happens is bc the counselor can guide the person or couple into deeper areas of their thoughts and emotions than the person or partners would typically avoid or not even realize they are avoiding. Also, a counseling session offers emotional safety because the therapist will intervene with thoughtful questions if someone's strong emotions overwhelm them. This is different than in everyday circumstances.  When someone feels overwhelmed by their own or someone else's feelings, there is no one who asks reflective questions. Last, people get better in therapy because often therapy is the first time the person has a chance to trust someone with their confidential information and know this information will always be protected."
        ],
        [
         "1247",
         "How does a person start the counseling process?",
         "Hi! Great question! My suggestion would be to google therapists in your area.  One great website is called Psychology Today, which is a National site.  You can search for therapists in your zip code and search more specifically for the issue you are seeking support about.  It's a great way to find out if they therapist has a speciality, accepts insurance and whether they offer a free phone consultation. I would then make a list of the ones that may be a good fit and then give them a call!  :)  Hope this helps. Remember you get to ask anything you need to, to determine if someone is a good fit.  Don't be afraid to ask anything!  :)  Best of luck!"
        ]
       ],
       "shape": {
        "columns": 2,
        "rows": 10
       }
      },
      "text/html": [
       "<div>\n",
       "<style scoped>\n",
       "    .dataframe tbody tr th:only-of-type {\n",
       "        vertical-align: middle;\n",
       "    }\n",
       "\n",
       "    .dataframe tbody tr th {\n",
       "        vertical-align: top;\n",
       "    }\n",
       "\n",
       "    .dataframe thead th {\n",
       "        text-align: right;\n",
       "    }\n",
       "</style>\n",
       "<table border=\"1\" class=\"dataframe\">\n",
       "  <thead>\n",
       "    <tr style=\"text-align: right;\">\n",
       "      <th></th>\n",
       "      <th>questionText</th>\n",
       "      <th>answerText</th>\n",
       "    </tr>\n",
       "  </thead>\n",
       "  <tbody>\n",
       "    <tr>\n",
       "      <th>334</th>\n",
       "      <td>My boyfriend recently got a kitty. I hate cats...</td>\n",
       "      <td>Sorry for you and sorry for the cat because yo...</td>\n",
       "    </tr>\n",
       "    <tr>\n",
       "      <th>8</th>\n",
       "      <td>What do you do when a therapist and a parent d...</td>\n",
       "      <td>I will admit I am confused about this question...</td>\n",
       "    </tr>\n",
       "    <tr>\n",
       "      <th>713</th>\n",
       "      <td>Nothing we've tried has worked so far.</td>\n",
       "      <td>Sexual attraction is often discussed on a cont...</td>\n",
       "    </tr>\n",
       "    <tr>\n",
       "      <th>885</th>\n",
       "      <td>I found the guy I’m dating on dating websites....</td>\n",
       "      <td>I would suggest possibly talking about the typ...</td>\n",
       "    </tr>\n",
       "    <tr>\n",
       "      <th>549</th>\n",
       "      <td>i was addicted to porn since the second grade....</td>\n",
       "      <td>The person who can answer this question is the...</td>\n",
       "    </tr>\n",
       "    <tr>\n",
       "      <th>225</th>\n",
       "      <td>I'm a male in my 20s. My girlfriend is in her ...</td>\n",
       "      <td>It sounds like there are assumptions being mad...</td>\n",
       "    </tr>\n",
       "    <tr>\n",
       "      <th>864</th>\n",
       "      <td>I want a secure relationship with someone that...</td>\n",
       "      <td>Here are some things I'm wondering:Do you have...</td>\n",
       "    </tr>\n",
       "    <tr>\n",
       "      <th>223</th>\n",
       "      <td>I'm applying to private high schools. I'm play...</td>\n",
       "      <td>The situation in your family seems to place un...</td>\n",
       "    </tr>\n",
       "    <tr>\n",
       "      <th>1281</th>\n",
       "      <td>Does counseling really do anything that can he...</td>\n",
       "      <td>Yes, counseling can help people. How this happ...</td>\n",
       "    </tr>\n",
       "    <tr>\n",
       "      <th>1247</th>\n",
       "      <td>How does a person start the counseling process?</td>\n",
       "      <td>Hi! Great question! My suggestion would be to ...</td>\n",
       "    </tr>\n",
       "  </tbody>\n",
       "</table>\n",
       "</div>"
      ],
      "text/plain": [
       "                                           questionText  \\\n",
       "334   My boyfriend recently got a kitty. I hate cats...   \n",
       "8     What do you do when a therapist and a parent d...   \n",
       "713              Nothing we've tried has worked so far.   \n",
       "885   I found the guy I’m dating on dating websites....   \n",
       "549   i was addicted to porn since the second grade....   \n",
       "225   I'm a male in my 20s. My girlfriend is in her ...   \n",
       "864   I want a secure relationship with someone that...   \n",
       "223   I'm applying to private high schools. I'm play...   \n",
       "1281  Does counseling really do anything that can he...   \n",
       "1247    How does a person start the counseling process?   \n",
       "\n",
       "                                             answerText  \n",
       "334   Sorry for you and sorry for the cat because yo...  \n",
       "8     I will admit I am confused about this question...  \n",
       "713   Sexual attraction is often discussed on a cont...  \n",
       "885   I would suggest possibly talking about the typ...  \n",
       "549   The person who can answer this question is the...  \n",
       "225   It sounds like there are assumptions being mad...  \n",
       "864   Here are some things I'm wondering:Do you have...  \n",
       "223   The situation in your family seems to place un...  \n",
       "1281  Yes, counseling can help people. How this happ...  \n",
       "1247  Hi! Great question! My suggestion would be to ...  "
      ]
     },
     "execution_count": 38,
     "metadata": {},
     "output_type": "execute_result"
    }
   ],
   "source": [
    "counsel_chat_df.sample(10)"
   ]
  },
  {
   "cell_type": "markdown",
   "id": "5c857794",
   "metadata": {},
   "source": [
    "# Normalize Column Names Across All 3 Mental Health Datasets"
   ]
  },
  {
   "cell_type": "code",
   "execution_count": 39,
   "id": "471ebf44",
   "metadata": {},
   "outputs": [],
   "source": [
    "# Normalize column names across all datasets for consistency\n",
    "interview_df.rename(columns={'input': 'Context', 'output': 'Response'}, inplace=True)\n",
    "counsel_chat_df.rename(columns={'questionText': 'Context', 'answerText': 'Response'}, inplace=True)\n"
   ]
  },
  {
   "cell_type": "code",
   "execution_count": 40,
   "id": "d9bf0da7",
   "metadata": {},
   "outputs": [
    {
     "name": "stdout",
     "output_type": "stream",
     "text": [
      "<class 'pandas.core.frame.DataFrame'>\n",
      "RangeIndex: 2740 entries, 0 to 2739\n",
      "Data columns (total 2 columns):\n",
      " #   Column    Non-Null Count  Dtype \n",
      "---  ------    --------------  ----- \n",
      " 0   Context   2740 non-null   object\n",
      " 1   Response  2740 non-null   object\n",
      "dtypes: object(2)\n",
      "memory usage: 42.9+ KB\n"
     ]
    },
    {
     "data": {
      "text/plain": [
       "None"
      ]
     },
     "metadata": {},
     "output_type": "display_data"
    },
    {
     "name": "stdout",
     "output_type": "stream",
     "text": [
      "<class 'pandas.core.frame.DataFrame'>\n",
      "RangeIndex: 6233 entries, 0 to 6232\n",
      "Data columns (total 2 columns):\n",
      " #   Column    Non-Null Count  Dtype \n",
      "---  ------    --------------  ----- \n",
      " 0   Context   6233 non-null   object\n",
      " 1   Response  6233 non-null   object\n",
      "dtypes: object(2)\n",
      "memory usage: 97.5+ KB\n"
     ]
    },
    {
     "data": {
      "text/plain": [
       "None"
      ]
     },
     "metadata": {},
     "output_type": "display_data"
    },
    {
     "name": "stdout",
     "output_type": "stream",
     "text": [
      "<class 'pandas.core.frame.DataFrame'>\n",
      "RangeIndex: 1379 entries, 0 to 1378\n",
      "Data columns (total 2 columns):\n",
      " #   Column    Non-Null Count  Dtype \n",
      "---  ------    --------------  ----- \n",
      " 0   Context   1379 non-null   object\n",
      " 1   Response  1379 non-null   object\n",
      "dtypes: object(2)\n",
      "memory usage: 21.7+ KB\n"
     ]
    },
    {
     "data": {
      "text/plain": [
       "None"
      ]
     },
     "metadata": {},
     "output_type": "display_data"
    }
   ],
   "source": [
    "display(nlp_convos_df.info())\n",
    "display(interview_df.info())\n",
    "display(counsel_chat_df.info())"
   ]
  },
  {
   "cell_type": "code",
   "execution_count": null,
   "id": "0d649136",
   "metadata": {},
   "outputs": [],
   "source": []
  }
 ],
 "metadata": {
  "kernelspec": {
   "display_name": "Python 3",
   "language": "python",
   "name": "python3"
  },
  "language_info": {
   "codemirror_mode": {
    "name": "ipython",
    "version": 3
   },
   "file_extension": ".py",
   "mimetype": "text/x-python",
   "name": "python",
   "nbconvert_exporter": "python",
   "pygments_lexer": "ipython3",
   "version": "3.9.9"
  }
 },
 "nbformat": 4,
 "nbformat_minor": 5
}
