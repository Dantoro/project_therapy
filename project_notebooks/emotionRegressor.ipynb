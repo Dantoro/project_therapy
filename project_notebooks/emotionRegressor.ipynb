{
 "cells": [
  {
   "cell_type": "markdown",
   "id": "33e89953",
   "metadata": {},
   "source": [
    "# Load the transformers"
   ]
  },
  {
   "cell_type": "code",
   "execution_count": 1,
   "id": "cb0b4f99",
   "metadata": {},
   "outputs": [
    {
     "name": "stderr",
     "output_type": "stream",
     "text": [
      "Xformers is not installed correctly. If you want to use memory_efficient_attention to accelerate training use the following command to install Xformers\n",
      "pip install xformers.\n"
     ]
    }
   ],
   "source": [
    "from transformers import pipeline\n",
    "\n",
    "# 28d GoEmotions regressor\n",
    "samlowe_regressor = pipeline(\n",
    "    \"text-classification\", \n",
    "    model=\"SamLowe/roberta-base-go_emotions\", \n",
    "    return_all_scores=True,\n",
    "    top_k=None\n",
    ")\n",
    "\n",
    "# 7d Ekman (Hartmann) regressor\n",
    "hartmann_regressor = pipeline(\n",
    "    \"text-classification\",\n",
    "    model=\"j-hartmann/emotion-english-roberta-large\",\n",
    "    return_all_scores=True,\n",
    "    top_k=None\n",
    ")\n"
   ]
  },
  {
   "cell_type": "markdown",
   "id": "8961d79d",
   "metadata": {},
   "source": [
    "# Use the models"
   ]
  },
  {
   "cell_type": "code",
   "execution_count": 2,
   "id": "0d718526",
   "metadata": {},
   "outputs": [
    {
     "data": {
      "text/plain": [
       "[[{'label': 'admiration', 'score': 0.5340681076049805},\n",
       "  {'label': 'joy', 'score': 0.5234852433204651},\n",
       "  {'label': 'excitement', 'score': 0.1605016589164734},\n",
       "  {'label': 'approval', 'score': 0.03543562442064285},\n",
       "  {'label': 'gratitude', 'score': 0.024757612496614456},\n",
       "  {'label': 'pride', 'score': 0.024559471756219864},\n",
       "  {'label': 'neutral', 'score': 0.02268294245004654},\n",
       "  {'label': 'love', 'score': 0.01571383886039257},\n",
       "  {'label': 'relief', 'score': 0.012101366184651852},\n",
       "  {'label': 'surprise', 'score': 0.006507024634629488},\n",
       "  {'label': 'optimism', 'score': 0.005907667800784111},\n",
       "  {'label': 'realization', 'score': 0.0056152925826609135},\n",
       "  {'label': 'caring', 'score': 0.005565214902162552},\n",
       "  {'label': 'amusement', 'score': 0.00353152584284544},\n",
       "  {'label': 'annoyance', 'score': 0.0030624966602772474},\n",
       "  {'label': 'desire', 'score': 0.002635490382090211},\n",
       "  {'label': 'disapproval', 'score': 0.002331526018679142},\n",
       "  {'label': 'sadness', 'score': 0.001621025032363832},\n",
       "  {'label': 'curiosity', 'score': 0.0016097173793241382},\n",
       "  {'label': 'anger', 'score': 0.0015072821406647563},\n",
       "  {'label': 'disappointment', 'score': 0.0014622282469645143},\n",
       "  {'label': 'confusion', 'score': 0.0012622849317267537},\n",
       "  {'label': 'grief', 'score': 0.001139877480454743},\n",
       "  {'label': 'nervousness', 'score': 0.0010296901455149055},\n",
       "  {'label': 'fear', 'score': 0.0008598885615356266},\n",
       "  {'label': 'disgust', 'score': 0.0006064079352654517},\n",
       "  {'label': 'embarrassment', 'score': 0.0005067361635155976},\n",
       "  {'label': 'remorse', 'score': 0.00036097440170124173}]]"
      ]
     },
     "metadata": {},
     "output_type": "display_data"
    }
   ],
   "source": [
    "emotion_results = samlowe_regressor(\"I feel great today!\")\n",
    "display(emotion_results)\n"
   ]
  },
  {
   "cell_type": "code",
   "execution_count": 3,
   "id": "cd457797",
   "metadata": {},
   "outputs": [
    {
     "data": {
      "text/plain": [
       "[[{'label': 'joy', 'score': 0.9856604337692261},\n",
       "  {'label': 'surprise', 'score': 0.004315737634897232},\n",
       "  {'label': 'neutral', 'score': 0.003911155741661787},\n",
       "  {'label': 'disgust', 'score': 0.0021506566554307938},\n",
       "  {'label': 'sadness', 'score': 0.001883048564195633},\n",
       "  {'label': 'anger', 'score': 0.001455119694583118},\n",
       "  {'label': 'fear', 'score': 0.0006238756468519568}]]"
      ]
     },
     "metadata": {},
     "output_type": "display_data"
    }
   ],
   "source": [
    "ekman_results = hartmann_regressor(\"I feel great today!\")\n",
    "display(ekman_results)\n"
   ]
  },
  {
   "cell_type": "code",
   "execution_count": 4,
   "id": "0860a7fa",
   "metadata": {},
   "outputs": [
    {
     "name": "stdout",
     "output_type": "stream",
     "text": [
      "GoEmotions model predictions:\n",
      "annoyance    : 0.629\n",
      "disappointment : 0.387\n",
      "neutral      : 0.155\n",
      "disapproval  : 0.068\n",
      "sadness      : 0.035\n",
      "realization  : 0.032\n",
      "anger        : 0.031\n",
      "disgust      : 0.025\n",
      "approval     : 0.017\n",
      "embarrassment : 0.010\n",
      "desire       : 0.006\n",
      "confusion    : 0.005\n",
      "amusement    : 0.004\n",
      "nervousness  : 0.004\n",
      "optimism     : 0.004\n",
      "surprise     : 0.003\n",
      "curiosity    : 0.002\n",
      "admiration   : 0.002\n",
      "excitement   : 0.002\n",
      "joy          : 0.002\n",
      "remorse      : 0.001\n",
      "caring       : 0.001\n",
      "fear         : 0.001\n",
      "grief        : 0.001\n",
      "relief       : 0.001\n",
      "love         : 0.001\n",
      "pride        : 0.001\n",
      "gratitude    : 0.000\n",
      "\n",
      "Ekman model predictions:\n",
      "sadness      : 0.797\n",
      "neutral      : 0.050\n",
      "disgust      : 0.043\n",
      "fear         : 0.038\n",
      "surprise     : 0.034\n",
      "anger        : 0.034\n",
      "joy          : 0.004\n"
     ]
    }
   ],
   "source": [
    "text = \"\"\"ugh. like, im just so OVER everything right now.\n",
    "    i have like, three midterms next week and a huge group project that my group members rNT even helping with.\n",
    "    i stayed up till 4 am trying to finISH something for it but like, im just SO tired all the time. and my brain feels like mush.\n",
    "    😵‍💫 i just cant focus on anythinG. i keep staring at my textbook but the words just blur together.\"\"\"\n",
    "\n",
    "# Get scores from both models\n",
    "go_emotions_results = samlowe_regressor(text)[0]  # [0] to get the list of dicts\n",
    "ekman_results = hartmann_regressor(text)[0]\n",
    "\n",
    "# Print nicely formatted\n",
    "print(\"GoEmotions model predictions:\")\n",
    "for item in go_emotions_results:\n",
    "    print(f\"{item['label']:12} : {item['score']:.3f}\")\n",
    "\n",
    "print(\"\\nEkman model predictions:\")\n",
    "for item in ekman_results:\n",
    "    print(f\"{item['label']:12} : {item['score']:.3f}\")\n"
   ]
  }
 ],
 "metadata": {
  "kernelspec": {
   "display_name": "Python 3",
   "language": "python",
   "name": "python3"
  },
  "language_info": {
   "codemirror_mode": {
    "name": "ipython",
    "version": 3
   },
   "file_extension": ".py",
   "mimetype": "text/x-python",
   "name": "python",
   "nbconvert_exporter": "python",
   "pygments_lexer": "ipython3",
   "version": "3.9.9"
  }
 },
 "nbformat": 4,
 "nbformat_minor": 5
}
