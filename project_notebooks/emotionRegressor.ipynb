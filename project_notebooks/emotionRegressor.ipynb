{
 "cells": [
  {
   "cell_type": "markdown",
   "id": "33e89953",
   "metadata": {},
   "source": [
    "# Load the transformers"
   ]
  },
  {
   "cell_type": "code",
   "execution_count": null,
   "id": "cb0b4f99",
   "metadata": {},
   "outputs": [],
   "source": [
    "from transformers import pipeline\n",
    "\n",
    "# 28d GoEmotions regressor\n",
    "samlowe_classifier = pipeline(\n",
    "    \"text-classification\", \n",
    "    model=\"SamLowe/roberta-base-go_emotions\", \n",
    "    return_all_scores=True,\n",
    "    top_k=None  # so you get the full 28d output\n",
    ")\n",
    "\n",
    "# 7d Ekman (Hartmann) regressor\n",
    "hartmann_classifier = pipeline(\n",
    "    \"text-classification\",\n",
    "    model=\"j-hartmann/emotion-english-roberta-large\",\n",
    "    return_all_scores=True,\n",
    "    top_k=None  # get all 7 scores\n",
    ")\n"
   ]
  },
  {
   "cell_type": "code",
   "execution_count": null,
   "id": "81933af5",
   "metadata": {},
   "outputs": [],
   "source": []
  }
 ],
 "metadata": {
  "kernelspec": {
   "display_name": "Python 3",
   "language": "python",
   "name": "python3"
  },
  "language_info": {
   "codemirror_mode": {
    "name": "ipython",
    "version": 3
   },
   "file_extension": ".py",
   "mimetype": "text/x-python",
   "name": "python",
   "nbconvert_exporter": "python",
   "pygments_lexer": "ipython3",
   "version": "3.9.9"
  }
 },
 "nbformat": 4,
 "nbformat_minor": 5
}
