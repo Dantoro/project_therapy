{
 "cells": [
  {
   "cell_type": "markdown",
   "id": "69daef2c",
   "metadata": {},
   "source": [
    "# Read in the datasets"
   ]
  },
  {
   "cell_type": "code",
   "execution_count": 1,
   "id": "3cebe590",
   "metadata": {},
   "outputs": [
    {
     "name": "stdout",
     "output_type": "stream",
     "text": [
      "NLP Mental Health Convos: (3512, 2)\n",
      "Interview 6k: (6310, 3)\n",
      "Counsel Chat: (1482, 9)\n"
     ]
    }
   ],
   "source": [
    "import pandas as pd\n",
    "\n",
    "# Load NLP Mental Health Conversations\n",
    "nlp_convos_df = pd.read_csv(\n",
    "    \"../datasets/custom_corpus/NLP_mental_health_convos/nlp_convos.csv\"\n",
    ")\n",
    "\n",
    "# Load Mental Chat 16k (Interview 6k subset)\n",
    "interview_df = pd.read_csv(\n",
    "    \"../datasets/custom_corpus/mental_chat16k/interview_data_6k.csv\"\n",
    ")\n",
    "\n",
    "# Load counsel_chat (clean version)\n",
    "counsel_chat_df = pd.read_csv(\n",
    "    \"../datasets/custom_corpus/counsel_chat/counsel_chat-data.csv\"\n",
    ")\n",
    "\n",
    "print(f\"NLP Mental Health Convos: {nlp_convos_df.shape}\")\n",
    "print(f\"Interview 6k: {interview_df.shape}\")\n",
    "print(f\"Counsel Chat: {counsel_chat_df.shape}\")\n"
   ]
  },
  {
   "cell_type": "markdown",
   "id": "28b2db5f",
   "metadata": {},
   "source": [
    "## Explore NLP Mental Health Convos"
   ]
  },
  {
   "cell_type": "markdown",
   "id": "9c908dcf",
   "metadata": {},
   "source": [
    "### Intro to NLP Convos"
   ]
  },
  {
   "cell_type": "code",
   "execution_count": 2,
   "id": "43a9a3b7",
   "metadata": {},
   "outputs": [
    {
     "data": {
      "application/vnd.microsoft.datawrangler.viewer.v0+json": {
       "columns": [
        {
         "name": "index",
         "rawType": "int64",
         "type": "integer"
        },
        {
         "name": "Context",
         "rawType": "object",
         "type": "string"
        },
        {
         "name": "Response",
         "rawType": "object",
         "type": "string"
        }
       ],
       "ref": "cfbe61a6-c32e-4f1c-b419-c89e57c9d201",
       "rows": [
        [
         "0",
         "I'm going through some things with my feelings and myself. I barely sleep and I do nothing but think about how I'm worthless and how I shouldn't be here.\r\n   I've never tried or contemplated suicide. I've always wanted to fix my issues, but I never get around to it.\r\n   How can I change my feeling of being worthless to everyone?",
         "If everyone thinks you're worthless, then maybe you need to find new people to hang out with.Seriously, the social context in which a person lives is a big influence in self-esteem.Otherwise, you can go round and round trying to understand why you're not worthless, then go back to the same crowd and be knocked down again.There are many inspirational messages you can find in social media.  Maybe read some of the ones which state that no person is worthless, and that everyone has a good purpose to their life.Also, since our culture is so saturated with the belief that if someone doesn't feel good about themselves that this is somehow terrible.Bad feelings are part of living.  They are the motivation to remove ourselves from situations and relationships which do us more harm than good.Bad feelings do feel terrible.   Your feeling of worthlessness may be good in the sense of motivating you to find out that you are much better than your feelings today."
        ],
        [
         "1",
         "I'm going through some things with my feelings and myself. I barely sleep and I do nothing but think about how I'm worthless and how I shouldn't be here.\r\n   I've never tried or contemplated suicide. I've always wanted to fix my issues, but I never get around to it.\r\n   How can I change my feeling of being worthless to everyone?",
         "Hello, and thank you for your question and seeking advice on this. Feelings of worthlessness is unfortunately common. In fact, most people, if not all, have felt this to some degree at some point in their life. You are not alone. Changing our feelings is like changing our thoughts - it's hard to do. Our minds are so amazing that the minute you change your thought another one can be right there to take it's place. Without your permission, another thought can just pop in there. The new thought may feel worse than the last one! My guess is that you have tried several things to improve this on your own even before reaching out on here. People often try thinking positive thoughts, debating with their thoughts, or simply telling themselves that they need to \"snap out of it\" - which is also a thought that carries some self-criticism. Some people try a different approach, and there are counselors out there that can help you with this. The idea is that instead of trying to change the thoughts, you change how you respond to them. You learn skills that allow you to manage difficult thoughts and feelings differently so they don't have the same impact on you that they do right now. For some people, they actually DO begin to experience less hurtful thoughts once they learn how to manage the ones they have differently. Acceptance and Commitment Therapy may be a good choice for you. There is information online and even self-help books that you can use to teach you the skills that I mentioned. Because they are skills, they require practice, but many people have found great relief and an enriched life by learning them. As for suicidal thoughts, I am very glad to read that this has not happened to you. Still, you should watch out for this because it can be a sign of a worsening depression. If you begin to think about this, it is important to reach out to a support system right away. The National Suicide Prevention Lifeline is 1-800-273-8255. The text line is #741741. I hope some other colleagues will provide you more suggestions. Be well...Robin Landwehr, DBH, LPCC"
        ],
        [
         "2",
         "I'm going through some things with my feelings and myself. I barely sleep and I do nothing but think about how I'm worthless and how I shouldn't be here.\r\n   I've never tried or contemplated suicide. I've always wanted to fix my issues, but I never get around to it.\r\n   How can I change my feeling of being worthless to everyone?",
         "First thing I'd suggest is getting the sleep you need or it will impact how you think and feel. I'd look at finding what is going well in your life and what you can be grateful for. I believe everyone has talents and wants to find their purpose in life. I think you can figure it out with some help."
        ],
        [
         "3",
         "I'm going through some things with my feelings and myself. I barely sleep and I do nothing but think about how I'm worthless and how I shouldn't be here.\r\n   I've never tried or contemplated suicide. I've always wanted to fix my issues, but I never get around to it.\r\n   How can I change my feeling of being worthless to everyone?",
         "Therapy is essential for those that are feeling depressed and worthless. When I work with those that are experiencing concerns related to feeling of depression and issues with self esteem. I generally work with my client to help build coping skills to reduce level of depression and to assist with strengthening  self esteem, by guiding my client with CBT practices. CBT helps with gaining a better awareness of how your thought process influences your belief system, and how your beliefs impact your actions and the outcome of your behaviors.  This process isn’t easy but it helps teach an individual that we don’t always have control over what happens in our lives but we can control how we interpret, feel, and behave. CBT is good for individuals dealing with depression, anxiety, toxic relationships, stress, self esteem, codependency, etc."
        ],
        [
         "4",
         "I'm going through some things with my feelings and myself. I barely sleep and I do nothing but think about how I'm worthless and how I shouldn't be here.\r\n   I've never tried or contemplated suicide. I've always wanted to fix my issues, but I never get around to it.\r\n   How can I change my feeling of being worthless to everyone?",
         "I first want to let you know that you are not alone in your feelings and there is always someone there to help. You can always change your feelings and change your way of thinking by being open to trying to change. You can always make yourself available to learning new things or volunteering so that you can make a purpose for yourself."
        ]
       ],
       "shape": {
        "columns": 2,
        "rows": 5
       }
      },
      "text/html": [
       "<div>\n",
       "<style scoped>\n",
       "    .dataframe tbody tr th:only-of-type {\n",
       "        vertical-align: middle;\n",
       "    }\n",
       "\n",
       "    .dataframe tbody tr th {\n",
       "        vertical-align: top;\n",
       "    }\n",
       "\n",
       "    .dataframe thead th {\n",
       "        text-align: right;\n",
       "    }\n",
       "</style>\n",
       "<table border=\"1\" class=\"dataframe\">\n",
       "  <thead>\n",
       "    <tr style=\"text-align: right;\">\n",
       "      <th></th>\n",
       "      <th>Context</th>\n",
       "      <th>Response</th>\n",
       "    </tr>\n",
       "  </thead>\n",
       "  <tbody>\n",
       "    <tr>\n",
       "      <th>0</th>\n",
       "      <td>I'm going through some things with my feelings...</td>\n",
       "      <td>If everyone thinks you're worthless, then mayb...</td>\n",
       "    </tr>\n",
       "    <tr>\n",
       "      <th>1</th>\n",
       "      <td>I'm going through some things with my feelings...</td>\n",
       "      <td>Hello, and thank you for your question and see...</td>\n",
       "    </tr>\n",
       "    <tr>\n",
       "      <th>2</th>\n",
       "      <td>I'm going through some things with my feelings...</td>\n",
       "      <td>First thing I'd suggest is getting the sleep y...</td>\n",
       "    </tr>\n",
       "    <tr>\n",
       "      <th>3</th>\n",
       "      <td>I'm going through some things with my feelings...</td>\n",
       "      <td>Therapy is essential for those that are feelin...</td>\n",
       "    </tr>\n",
       "    <tr>\n",
       "      <th>4</th>\n",
       "      <td>I'm going through some things with my feelings...</td>\n",
       "      <td>I first want to let you know that you are not ...</td>\n",
       "    </tr>\n",
       "  </tbody>\n",
       "</table>\n",
       "</div>"
      ],
      "text/plain": [
       "                                             Context  \\\n",
       "0  I'm going through some things with my feelings...   \n",
       "1  I'm going through some things with my feelings...   \n",
       "2  I'm going through some things with my feelings...   \n",
       "3  I'm going through some things with my feelings...   \n",
       "4  I'm going through some things with my feelings...   \n",
       "\n",
       "                                            Response  \n",
       "0  If everyone thinks you're worthless, then mayb...  \n",
       "1  Hello, and thank you for your question and see...  \n",
       "2  First thing I'd suggest is getting the sleep y...  \n",
       "3  Therapy is essential for those that are feelin...  \n",
       "4  I first want to let you know that you are not ...  "
      ]
     },
     "metadata": {},
     "output_type": "display_data"
    },
    {
     "data": {
      "application/vnd.microsoft.datawrangler.viewer.v0+json": {
       "columns": [
        {
         "name": "index",
         "rawType": "int64",
         "type": "integer"
        },
        {
         "name": "Context",
         "rawType": "object",
         "type": "string"
        },
        {
         "name": "Response",
         "rawType": "object",
         "type": "string"
        }
       ],
       "ref": "4dd0d75e-c2d5-4c60-b8b1-70533000995d",
       "rows": [
        [
         "3507",
         "My grandson's step-mother sends him to school with a pink Barbie backpack as a form of punishment.",
         "Absolutely not! It is never in a child's best interest to use humiliation as punishment. This can lead to issues in the relationship between parent and child as well as the child's social relationships. Kids have a hard enough time. To then go and cause them embarrassment is unconscionable. The entire job of a parent is to prepare their child to become a successful, healthy adult. You do this by using healthy ways to teach a child when they make a mistake. Discipline shouldn't be seen as punishment. It should be seen as a way to teach a lesson. What lesson could this possibility be teaching him? Absolutely nothing. Meanwhile, she is most likely damaging her relationship with him and causing great distress in his school day and peer interactions. She should be one of the people he can come to when he's hurting; not someone who causes him pain."
        ],
        [
         "3508",
         "My boyfriend is in recovery from drug addiction. We recently got into a fight and he has become very distant.  I don't know what to do to fix the relationship.",
         "I'm sorry you have tension between you and your bf.A relationship means two people who relate, right?!   If only one person does all the work to change their approach, what they expect, what they offer the other, then this becomes the new problem to solve.If you've already done a significant amount of reflection and change in the way you relate to him, then the next step may be to be patient as long as possible while he decides what to change about his part in the relationship toward you.Substance abuse recovery requires profound effort and reflection.  If it is successful then the result will show very different qualities in your bf than the ones you know currently.He may be so absorbed in the recovery that he can only concentrate on this.   Of course if the fights persist and you have been patient for what feels too long, then there are different questions to address."
        ],
        [
         "3509",
         "The birth mother attempted suicide several times while pregnant. The adopted mother was terminally ill upon adopting the baby and died when  the child was just over one year old.  The adopted father then remarried to a physically, psychologically, and emotionally abusive woman.  The child was placed in foster care at 11 years old. \r\n\r\nWhat might be the long term effects on an adult with this childhood history?",
         "The true answer is, \"no one can really say with certainty\".The variables are the way this child absorbs and adjusts to these significant changes in their life.  All anyone can do is guess at this point and there's no good reason to guess.The only general certainty is that the adult whom this child becomes will have had a profound encounter with the biggest types of human losses a child can go through.Some people become great teachers, therapists and philosophers who have this background.  Some give up on life and hide away from others.The best anyone could do who knows this child is to offer love bc this is the greatest guarantee to show there are good people on this earth."
        ],
        [
         "3510",
         "I think adult life is making him depressed and we often sleep in on weekends untill 1 or 2 pm. We just eat, smoke weed, watch movies, and he'll go on his phone all day. He doesn't seem motivated to do much and he's often angry.\r\n\r\n I have no clue how to help him take his mind off the negative, or to distract him into a different light. How do I help him?",
         "How do you help yourself to believe you require more than what he offers to you?What do you get from this relationship which feels satisfying?To answer this question may in the longterm be the best way to help your bf."
        ],
        [
         "3511",
         "I just took a job that requires me to travel far away from home. My family and I really need this job.\r\n\r\nPeople keep telling me I have \"anxiety\" and I'm terrified of having an anxiety attack on the road. This is all new to me. What can I do?",
         "hmm this is a tough one!"
        ]
       ],
       "shape": {
        "columns": 2,
        "rows": 5
       }
      },
      "text/html": [
       "<div>\n",
       "<style scoped>\n",
       "    .dataframe tbody tr th:only-of-type {\n",
       "        vertical-align: middle;\n",
       "    }\n",
       "\n",
       "    .dataframe tbody tr th {\n",
       "        vertical-align: top;\n",
       "    }\n",
       "\n",
       "    .dataframe thead th {\n",
       "        text-align: right;\n",
       "    }\n",
       "</style>\n",
       "<table border=\"1\" class=\"dataframe\">\n",
       "  <thead>\n",
       "    <tr style=\"text-align: right;\">\n",
       "      <th></th>\n",
       "      <th>Context</th>\n",
       "      <th>Response</th>\n",
       "    </tr>\n",
       "  </thead>\n",
       "  <tbody>\n",
       "    <tr>\n",
       "      <th>3507</th>\n",
       "      <td>My grandson's step-mother sends him to school ...</td>\n",
       "      <td>Absolutely not! It is never in a child's best ...</td>\n",
       "    </tr>\n",
       "    <tr>\n",
       "      <th>3508</th>\n",
       "      <td>My boyfriend is in recovery from drug addictio...</td>\n",
       "      <td>I'm sorry you have tension between you and you...</td>\n",
       "    </tr>\n",
       "    <tr>\n",
       "      <th>3509</th>\n",
       "      <td>The birth mother attempted suicide several tim...</td>\n",
       "      <td>The true answer is, \"no one can really say wit...</td>\n",
       "    </tr>\n",
       "    <tr>\n",
       "      <th>3510</th>\n",
       "      <td>I think adult life is making him depressed and...</td>\n",
       "      <td>How do you help yourself to believe you requir...</td>\n",
       "    </tr>\n",
       "    <tr>\n",
       "      <th>3511</th>\n",
       "      <td>I just took a job that requires me to travel f...</td>\n",
       "      <td>hmm this is a tough one!</td>\n",
       "    </tr>\n",
       "  </tbody>\n",
       "</table>\n",
       "</div>"
      ],
      "text/plain": [
       "                                                Context  \\\n",
       "3507  My grandson's step-mother sends him to school ...   \n",
       "3508  My boyfriend is in recovery from drug addictio...   \n",
       "3509  The birth mother attempted suicide several tim...   \n",
       "3510  I think adult life is making him depressed and...   \n",
       "3511  I just took a job that requires me to travel f...   \n",
       "\n",
       "                                               Response  \n",
       "3507  Absolutely not! It is never in a child's best ...  \n",
       "3508  I'm sorry you have tension between you and you...  \n",
       "3509  The true answer is, \"no one can really say wit...  \n",
       "3510  How do you help yourself to believe you requir...  \n",
       "3511                           hmm this is a tough one!  "
      ]
     },
     "metadata": {},
     "output_type": "display_data"
    }
   ],
   "source": [
    "display(nlp_convos_df.head())\n",
    "display(nlp_convos_df.tail())"
   ]
  },
  {
   "cell_type": "code",
   "execution_count": 3,
   "id": "68b1e6da",
   "metadata": {},
   "outputs": [
    {
     "name": "stdout",
     "output_type": "stream",
     "text": [
      "<class 'pandas.core.frame.DataFrame'>\n",
      "RangeIndex: 3512 entries, 0 to 3511\n",
      "Data columns (total 2 columns):\n",
      " #   Column    Non-Null Count  Dtype \n",
      "---  ------    --------------  ----- \n",
      " 0   Context   3512 non-null   object\n",
      " 1   Response  3508 non-null   object\n",
      "dtypes: object(2)\n",
      "memory usage: 55.0+ KB\n"
     ]
    }
   ],
   "source": [
    "nlp_convos_df.info()"
   ]
  },
  {
   "cell_type": "code",
   "execution_count": 4,
   "id": "9076d9f1",
   "metadata": {},
   "outputs": [
    {
     "data": {
      "application/vnd.microsoft.datawrangler.viewer.v0+json": {
       "columns": [
        {
         "name": "index",
         "rawType": "object",
         "type": "string"
        },
        {
         "name": "Context",
         "rawType": "object",
         "type": "unknown"
        },
        {
         "name": "Response",
         "rawType": "object",
         "type": "unknown"
        }
       ],
       "ref": "138a2065-0f36-4c92-9de2-c715d4fcb712",
       "rows": [
        [
         "count",
         "3512",
         "3508"
        ],
        [
         "unique",
         "995",
         "2471"
        ],
        [
         "top",
         "I have so many issues to address. I have a history of sexual abuse, I’m a breast cancer survivor and I am a lifetime insomniac.    I have a long history of depression and I’m beginning to have anxiety. I have low self esteem but I’ve been happily married for almost 35 years.\r\n   I’ve never had counseling about any of this. Do I have too many issues to address in counseling?",
         "Counseling ends when the client has received the maximum benefit from the therapist. Even if the therapist believes the client is not making progress, the client may feel they are improving and receiving a benefit. And the therapist may see a benefit and the client does not. It is best to have ongoing dialogue with the client to determine when termination is appropriate."
        ],
        [
         "freq",
         "94",
         "3"
        ]
       ],
       "shape": {
        "columns": 2,
        "rows": 4
       }
      },
      "text/html": [
       "<div>\n",
       "<style scoped>\n",
       "    .dataframe tbody tr th:only-of-type {\n",
       "        vertical-align: middle;\n",
       "    }\n",
       "\n",
       "    .dataframe tbody tr th {\n",
       "        vertical-align: top;\n",
       "    }\n",
       "\n",
       "    .dataframe thead th {\n",
       "        text-align: right;\n",
       "    }\n",
       "</style>\n",
       "<table border=\"1\" class=\"dataframe\">\n",
       "  <thead>\n",
       "    <tr style=\"text-align: right;\">\n",
       "      <th></th>\n",
       "      <th>Context</th>\n",
       "      <th>Response</th>\n",
       "    </tr>\n",
       "  </thead>\n",
       "  <tbody>\n",
       "    <tr>\n",
       "      <th>count</th>\n",
       "      <td>3512</td>\n",
       "      <td>3508</td>\n",
       "    </tr>\n",
       "    <tr>\n",
       "      <th>unique</th>\n",
       "      <td>995</td>\n",
       "      <td>2471</td>\n",
       "    </tr>\n",
       "    <tr>\n",
       "      <th>top</th>\n",
       "      <td>I have so many issues to address. I have a his...</td>\n",
       "      <td>Counseling ends when the client has received t...</td>\n",
       "    </tr>\n",
       "    <tr>\n",
       "      <th>freq</th>\n",
       "      <td>94</td>\n",
       "      <td>3</td>\n",
       "    </tr>\n",
       "  </tbody>\n",
       "</table>\n",
       "</div>"
      ],
      "text/plain": [
       "                                                  Context  \\\n",
       "count                                                3512   \n",
       "unique                                                995   \n",
       "top     I have so many issues to address. I have a his...   \n",
       "freq                                                   94   \n",
       "\n",
       "                                                 Response  \n",
       "count                                                3508  \n",
       "unique                                               2471  \n",
       "top     Counseling ends when the client has received t...  \n",
       "freq                                                    3  "
      ]
     },
     "execution_count": 4,
     "metadata": {},
     "output_type": "execute_result"
    }
   ],
   "source": [
    "nlp_convos_df.describe()"
   ]
  },
  {
   "cell_type": "markdown",
   "id": "1da4959b",
   "metadata": {},
   "source": [
    "## Cleaning NLP Convos"
   ]
  },
  {
   "cell_type": "markdown",
   "id": "55f5aa44",
   "metadata": {},
   "source": [
    "### Remove rows with missing values"
   ]
  },
  {
   "cell_type": "code",
   "execution_count": 5,
   "id": "852db07e",
   "metadata": {},
   "outputs": [],
   "source": [
    "# Remove rows where 'Response' is null or empty\n",
    "nlp_convos_df = nlp_convos_df.dropna(subset=[\"Response\"])\n",
    "nlp_convos_df = nlp_convos_df[nlp_convos_df[\"Response\"].str.strip().astype(bool)]\n"
   ]
  },
  {
   "cell_type": "code",
   "execution_count": 6,
   "id": "6d362550",
   "metadata": {},
   "outputs": [
    {
     "name": "stdout",
     "output_type": "stream",
     "text": [
      "<class 'pandas.core.frame.DataFrame'>\n",
      "Index: 3508 entries, 0 to 3511\n",
      "Data columns (total 2 columns):\n",
      " #   Column    Non-Null Count  Dtype \n",
      "---  ------    --------------  ----- \n",
      " 0   Context   3508 non-null   object\n",
      " 1   Response  3508 non-null   object\n",
      "dtypes: object(2)\n",
      "memory usage: 82.2+ KB\n"
     ]
    }
   ],
   "source": [
    "nlp_convos_df.info()"
   ]
  },
  {
   "cell_type": "code",
   "execution_count": 7,
   "id": "58031c96",
   "metadata": {},
   "outputs": [
    {
     "data": {
      "application/vnd.microsoft.datawrangler.viewer.v0+json": {
       "columns": [
        {
         "name": "index",
         "rawType": "object",
         "type": "string"
        },
        {
         "name": "Context",
         "rawType": "object",
         "type": "unknown"
        },
        {
         "name": "Response",
         "rawType": "object",
         "type": "unknown"
        }
       ],
       "ref": "01bedf82-02df-4f47-afa5-b2875c80ad43",
       "rows": [
        [
         "count",
         "3508",
         "3508"
        ],
        [
         "unique",
         "995",
         "2471"
        ],
        [
         "top",
         "I have so many issues to address. I have a history of sexual abuse, I’m a breast cancer survivor and I am a lifetime insomniac.    I have a long history of depression and I’m beginning to have anxiety. I have low self esteem but I’ve been happily married for almost 35 years.\r\n   I’ve never had counseling about any of this. Do I have too many issues to address in counseling?",
         "Counseling ends when the client has received the maximum benefit from the therapist. Even if the therapist believes the client is not making progress, the client may feel they are improving and receiving a benefit. And the therapist may see a benefit and the client does not. It is best to have ongoing dialogue with the client to determine when termination is appropriate."
        ],
        [
         "freq",
         "94",
         "3"
        ]
       ],
       "shape": {
        "columns": 2,
        "rows": 4
       }
      },
      "text/html": [
       "<div>\n",
       "<style scoped>\n",
       "    .dataframe tbody tr th:only-of-type {\n",
       "        vertical-align: middle;\n",
       "    }\n",
       "\n",
       "    .dataframe tbody tr th {\n",
       "        vertical-align: top;\n",
       "    }\n",
       "\n",
       "    .dataframe thead th {\n",
       "        text-align: right;\n",
       "    }\n",
       "</style>\n",
       "<table border=\"1\" class=\"dataframe\">\n",
       "  <thead>\n",
       "    <tr style=\"text-align: right;\">\n",
       "      <th></th>\n",
       "      <th>Context</th>\n",
       "      <th>Response</th>\n",
       "    </tr>\n",
       "  </thead>\n",
       "  <tbody>\n",
       "    <tr>\n",
       "      <th>count</th>\n",
       "      <td>3508</td>\n",
       "      <td>3508</td>\n",
       "    </tr>\n",
       "    <tr>\n",
       "      <th>unique</th>\n",
       "      <td>995</td>\n",
       "      <td>2471</td>\n",
       "    </tr>\n",
       "    <tr>\n",
       "      <th>top</th>\n",
       "      <td>I have so many issues to address. I have a his...</td>\n",
       "      <td>Counseling ends when the client has received t...</td>\n",
       "    </tr>\n",
       "    <tr>\n",
       "      <th>freq</th>\n",
       "      <td>94</td>\n",
       "      <td>3</td>\n",
       "    </tr>\n",
       "  </tbody>\n",
       "</table>\n",
       "</div>"
      ],
      "text/plain": [
       "                                                  Context  \\\n",
       "count                                                3508   \n",
       "unique                                                995   \n",
       "top     I have so many issues to address. I have a his...   \n",
       "freq                                                   94   \n",
       "\n",
       "                                                 Response  \n",
       "count                                                3508  \n",
       "unique                                               2471  \n",
       "top     Counseling ends when the client has received t...  \n",
       "freq                                                    3  "
      ]
     },
     "execution_count": 7,
     "metadata": {},
     "output_type": "execute_result"
    }
   ],
   "source": [
    "nlp_convos_df.describe()"
   ]
  },
  {
   "cell_type": "markdown",
   "id": "340e311a",
   "metadata": {},
   "source": [
    "### Remove Complete Duplicates (rows where both Context AND Response are repeats)"
   ]
  },
  {
   "cell_type": "code",
   "execution_count": 8,
   "id": "1f073774",
   "metadata": {},
   "outputs": [],
   "source": [
    "# Remove exact duplicate prompt/response pairs\n",
    "nlp_convos_df = nlp_convos_df.drop_duplicates(subset=[\"Context\", \"Response\"])\n"
   ]
  },
  {
   "cell_type": "code",
   "execution_count": 9,
   "id": "9a0f9344",
   "metadata": {},
   "outputs": [
    {
     "name": "stdout",
     "output_type": "stream",
     "text": [
      "<class 'pandas.core.frame.DataFrame'>\n",
      "Index: 2740 entries, 0 to 3511\n",
      "Data columns (total 2 columns):\n",
      " #   Column    Non-Null Count  Dtype \n",
      "---  ------    --------------  ----- \n",
      " 0   Context   2740 non-null   object\n",
      " 1   Response  2740 non-null   object\n",
      "dtypes: object(2)\n",
      "memory usage: 64.2+ KB\n"
     ]
    }
   ],
   "source": [
    "nlp_convos_df.info()"
   ]
  },
  {
   "cell_type": "code",
   "execution_count": 10,
   "id": "a3e9d057",
   "metadata": {},
   "outputs": [
    {
     "data": {
      "application/vnd.microsoft.datawrangler.viewer.v0+json": {
       "columns": [
        {
         "name": "index",
         "rawType": "object",
         "type": "string"
        },
        {
         "name": "Context",
         "rawType": "object",
         "type": "unknown"
        },
        {
         "name": "Response",
         "rawType": "object",
         "type": "unknown"
        }
       ],
       "ref": "97b756bc-0d15-4751-8eb9-eac9e491fe97",
       "rows": [
        [
         "count",
         "2740",
         "2740"
        ],
        [
         "unique",
         "995",
         "2471"
        ],
        [
         "top",
         "I have so many issues to address. I have a history of sexual abuse, I’m a breast cancer survivor and I am a lifetime insomniac.    I have a long history of depression and I’m beginning to have anxiety. I have low self esteem but I’ve been happily married for almost 35 years.\r\n   I’ve never had counseling about any of this. Do I have too many issues to address in counseling?",
         "I'm sorry to hear that your brother has been having such a rough time. He's lucky to have you on his side (although he may not always see it that way).As far as whether you can sign him in, that depends on a lot of different things.I would suggest that you Google the state and county that you live in as well as some phrase similar to \"crisis hotline.\" They can tell you how it works in that county. My guess is that you could sign him in as long as he met the criteria for admission at that moment, but I can't  be entirely sure. You could also ask the person on the phone about financial responsibility. I have not heard of that being a problem, but I guess it would depend on insurance.If you have trouble finding a local  hotline, consider calling the national crisis number (800-273-8255) and ask them to help you find someone local."
        ],
        [
         "freq",
         "47",
         "2"
        ]
       ],
       "shape": {
        "columns": 2,
        "rows": 4
       }
      },
      "text/html": [
       "<div>\n",
       "<style scoped>\n",
       "    .dataframe tbody tr th:only-of-type {\n",
       "        vertical-align: middle;\n",
       "    }\n",
       "\n",
       "    .dataframe tbody tr th {\n",
       "        vertical-align: top;\n",
       "    }\n",
       "\n",
       "    .dataframe thead th {\n",
       "        text-align: right;\n",
       "    }\n",
       "</style>\n",
       "<table border=\"1\" class=\"dataframe\">\n",
       "  <thead>\n",
       "    <tr style=\"text-align: right;\">\n",
       "      <th></th>\n",
       "      <th>Context</th>\n",
       "      <th>Response</th>\n",
       "    </tr>\n",
       "  </thead>\n",
       "  <tbody>\n",
       "    <tr>\n",
       "      <th>count</th>\n",
       "      <td>2740</td>\n",
       "      <td>2740</td>\n",
       "    </tr>\n",
       "    <tr>\n",
       "      <th>unique</th>\n",
       "      <td>995</td>\n",
       "      <td>2471</td>\n",
       "    </tr>\n",
       "    <tr>\n",
       "      <th>top</th>\n",
       "      <td>I have so many issues to address. I have a his...</td>\n",
       "      <td>I'm sorry to hear that your brother has been h...</td>\n",
       "    </tr>\n",
       "    <tr>\n",
       "      <th>freq</th>\n",
       "      <td>47</td>\n",
       "      <td>2</td>\n",
       "    </tr>\n",
       "  </tbody>\n",
       "</table>\n",
       "</div>"
      ],
      "text/plain": [
       "                                                  Context  \\\n",
       "count                                                2740   \n",
       "unique                                                995   \n",
       "top     I have so many issues to address. I have a his...   \n",
       "freq                                                   47   \n",
       "\n",
       "                                                 Response  \n",
       "count                                                2740  \n",
       "unique                                               2471  \n",
       "top     I'm sorry to hear that your brother has been h...  \n",
       "freq                                                    2  "
      ]
     },
     "execution_count": 10,
     "metadata": {},
     "output_type": "execute_result"
    }
   ],
   "source": [
    "nlp_convos_df.describe()"
   ]
  },
  {
   "cell_type": "markdown",
   "id": "f5c9ee8b",
   "metadata": {},
   "source": [
    "## Final NLP Convo set"
   ]
  },
  {
   "cell_type": "code",
   "execution_count": 11,
   "id": "0538456a",
   "metadata": {},
   "outputs": [
    {
     "name": "stdout",
     "output_type": "stream",
     "text": [
      "NLP Mental Health Convos: (2740, 2)\n"
     ]
    }
   ],
   "source": [
    "nlp_convos_df = nlp_convos_df.reset_index(drop=True)\n",
    "\n",
    "print(f\"NLP Mental Health Convos: {nlp_convos_df.shape}\")\n"
   ]
  },
  {
   "cell_type": "code",
   "execution_count": 12,
   "id": "8f8ed89d",
   "metadata": {},
   "outputs": [
    {
     "data": {
      "application/vnd.microsoft.datawrangler.viewer.v0+json": {
       "columns": [
        {
         "name": "index",
         "rawType": "int64",
         "type": "integer"
        },
        {
         "name": "Context",
         "rawType": "object",
         "type": "string"
        },
        {
         "name": "Response",
         "rawType": "object",
         "type": "string"
        }
       ],
       "ref": "b423ed7b-45b9-4b52-8da7-5200186f3058",
       "rows": [
        [
         "1646",
         "My ex-boyfriend and I met over a year ago. We hit it off and fell in love pretty quick. However, he has trust issues and assumed I was cheating. When I found out I was pregnant, we had just broken up. Five months later, I lost the baby, and we did not speak for a few weeks. Now we are talking, and he says he loves me but is afraid I will hurt him \"again.\" I just want to know where to go with this because I love him so much, and I want to get back to us being happy and a family.",
         "I'm truly sorry to hear that your relationship is causing you such distress at this time. When we are in relationships, trust is so integral to our satisfaction within the relationship.  Often, when we feel we are required to prove ourselves, feelings of resentment can replace those feelings of wanting to be supportive.  In situations like this, I often recommend being open and honest in your communication with your partner.  Your fears about his response are valid, as he made an assumption which you cannot disprove because you cannot battle against a shadow fact. If you feel comfortable doing so, you can always ask him why he is so concerned you are unable to remain faithful and challenge those beliefs with the facts that disclaim them.  You can also ask your partner what it is that he needs from you to help you to help him trust in your responses.  In the end, these are issues that you cannot conquer for him - you can only guide him and show him the path towards trust.  You may suggest couples counselling or that he seek out a professional to talk to, as well.  But in terms of your question, only you can decide whether you feel you can remain in a relationship in which you defend yourself against an uncommitted offense."
        ],
        [
         "1595",
         "My boyfriend and I have a toxic relationship due to his emotional and verbal abuse but he makes me feel like I could never find someone better, and that I can't be happy without him.\r\n   How do I get away from this relationship?",
         "I'm glad you recognize your own best interest and that your life will be much better without verbal and emotional abuse.One of the terrible results of being abused in a relationship which is expected to be loving, safe and supportive, is that the one who is being abused, starts to question their own judgement, rights, opinions, overall way of thinking.This happens because partners who are intimately involved with one another are very meaningful.  Regardless of how irrational, wrong, mean, selfish, intimidating, thoughtless, a partner is to the other, the person on the receiving side gradually starts questioning whether they are wrong for not accepting these sorts of interactions.Stick with what your own intuition tells you.There is a part within each of us which knows the truth of what is going on.Leaving a relationship is always difficult to some degree.  People are in familiar patterns of daily behavior, no one wants to suddenly \"be alone\", even if this only means showing up as a physical body, not as a truly loving partner, no one wants to start telling others about a breakup, answer questions about it, feel blamed, worry what others think.These are secondary matters to following the truth in your own heart.Listen to yourself about leaving this guy. Your inner self does not lie to you."
        ],
        [
         "1464",
         "I'm always listening to my husband, but it feels like he never listens to me.    How do I get my husband to listen to me instead of me listening to him all the time?",
         "Thanks for reaching out. This is a great question. Communication is definitely a 2-way street. One person cannot participate in a discussion. It takes a talker and a listener. Furthermore, communication will breakdown if each party is only focusing on his or her agenda and is not open to what the other person is saying.  since I can't ask you questions about what is going on, I am going to make a guess at one situation that comes up a lot when I work with couples. One person focuses more on solving the issue, than listening to their partner.  This can be frustrating for the partner who wants to just be \"heard.\"I understand that you are working really hard to listen to him and he might not be putting as much effort into listening to you. That can be really frustrating and difficult and I want to acknowledge you for wanting to improve your relationship.One of the best strategies to gettting heard, is actually to BE A GOOD LISTENER to someone else. I know you are probably already a good listener and for you to work on listening skills may seem counterintuitive, right? You want to get heard and now you are the one doing the listening. But this can really create more effective communication if you invest time working on doing some active listening in your relationship because then you get to model those skills for your husband and allow him to see what it feels like to be listened to and then you can even teach him some of those skills. In other words, you practice specific techniques that you can use and then teach later on. Here are some skills for you to use consciously and then you can teach:Pay attention and use your body language to convey that you are in the conversation. No texting or distractions. Lean in. Focus.Listen for content and for emotion. Clarify what you don't understand. Try to understand the person's underlying emotions. Don't rush to judgement or to changing what is going on with the person. Sit in a place where you are really curious and want to understand what is going on. Encourage the other person to continue speaking, Nod and vocalize that you hear what they are saying.Ask questions to get to understand the other person's point of view.I believe when we can model these kinds of listening skills, and the other person feels heard, they will be more likely to listen to us. If you don't find that this doesn't spill over in that way, then have a discussion about what you are practicing and that you are learning these skills to be a better listener so you can understand him better. Then explain how it might be helpful if you both tried it. If there is push back from him, set up a trial period to just try the skill, perhaps for 2 weeks and see if it helps. If communication is really breaking down, then it might be time to work with a counselor who can help with these skills.Best of luck to you!"
        ],
        [
         "1166",
         "My boyfriend won't touch me intimately, he won't kiss me while we are having sex and he won't have oral sex with me. I know he has done this things with other women in the past. I don't know why he won't do them with me. What should I do?",
         "Ask him!Having a conversation about sexual satisfaction increases emotional intimacy.Not only will you potentially feel more deeply connected from a sincere conversation about your sexual questions, maybe this increased emotional closeness will inspire the sexual closeness you wish to receive."
        ],
        [
         "156",
         "I am a teenager. I have been experiencing major episodes of depression (if that's even what it is) for several years. It’s always getting worse. I have been having panic attacks, feeling like I can't control my fears, and I can't even bring myself to care if I live or die anymore. The problem is that I don't know who to ask for help. When I try to talk to my parents, I freeze completely and can't do anything but make a joke because never once in my life have we talked about our feelings.",
         "I understand that talking about our feelings can be awkward and using jokes is a way to relieve that awkwardness, but there is a right or wrong way to talk about your feelings. The important part is to recognize that you need help addressing those feelings and reaching out, which you are doing already.  Having small conversations with your family is helpful, you can explain to them that you have been experiencing emotional discomfort and would like to talk to them about it.   Since you been experiencing anxiety, panic attacks, and have thought about dying,  It is VERY important that you ask them to help you make an appointment with a mental health professional.  Those symptoms indicate that your body is having a hard time managing intense feelings and it will be helpful if you understand why they occur and how to cope with them. You may contact your school counselor or you may schedule an appointment with a local therapist.  You may contact the Texas Crisis Hotline 800-989-6884 where you can talk or chat with mental health professionals or schedule a teletherapy session.   The National Crisis Hotline is also available for calling and texting 1-800-273-8255.I am a Licensed Professional Counselor in Texas, currently providing services in West Houston.  You may reach me at 787-466-5478 to schedule an appointment.   ------------------------------------------------------------------------------------------------------------------------------------------¿Cómo hablo de mis sentimientos de depresión y con quién hablo?Soy un adolecente.  He estado experimentando episodios de depresión severa (si es lo que creo) por muchos años.  Siempre se pone peor.  He estado teniendo ataques de pánico, sintiendo que no puedo controlar mis miedos y sintiendo que ya no importa si quiero vivir o morir.  El problema es que ya no sé a quién pedirle ayuda.  Cuando intento hablar con mis padres, Me congelo y solo puedo hacer bromas porque nunca en mi vida hemos hablado de nuestros sentimientos. Entiendo que hablar de tus emociones puede hacernos sentir inadecuados, y bromear es una manera de manejar ese sentimiento incómodo, pero no hay forma correcta o incorrecta de hablar sobre tus sentimientos.  Lo importante es reconocer que necesitas ayuda para manejarlos, y ya tu estas en ese proceso.  Tener pequeñas conversaciones con tu familia te ayudara a explicarles los sentimientos que estas experimentando.  Es importante que les pidas hacer una cita con un profesional de la salud mental, ya que has estado experimentando síntomas que indican que tu cuerpo ya no puede manejar tus sentimientos y necesita nuevas herramientas.  Puedes contactar a tu consejero escolar, o a un proveedor de salud mental cerca de ti o por teléfono.  Mientras tanto, puedes llamar a la línea de crisis de Texas 800-989-6884 para hablar con un profesional de salud mental.  La línea nacional de crisis también esta disponible en todos los Estados Unidos y proveen servicios en español 1-800-273-8255\r\nYo soy una Consejera Profesional Licenciada en Texas y Puerto Rico, veo clientes en el este de Houston y proveo servicios de tele terapia.  Para una cita puedes llamar al 787-466-5478."
        ],
        [
         "2306",
         "It's been like a couple of years that I've been feeling like this. I don't want to self-diagnose, but I get so sad and cry and then I feel better. But then I get upset with people so quickly, and I hurt their feelings. It's this constant rollercoaster, and it's hard.",
         "Hello, and thank you for your question. Bipolar disorder is generally characterized by extreme changes in mood, ranging from mania (highs) to depression (lows). There are different types; however, so here is a website that gives you a list of symptoms for mania and depression in bipolar disorder: http://www.webmd.com/depression/guide/bipolar-disorder-manic-depression?page=2After reviewing these symptoms, if you believe you may have bipolar disorder, then you may want to see your primary care provider or a counselor. Bipolar disorder is treatable, but for many people it requires the right medication and sometimes counseling to help people make behavior changes that are important for bipolar management. For example, some people may not get regular sleep, but proper rest is important for bipolar management. A counselor may talk to you about this and other lifestyle changes that you may need to make. The good news is that many people live happy, healthy, and productive lives with bipolar disorder. So, if it turns out that you do have bipolar disorder, it doesn't mean that things can't get better. There is currently no \"cure\" for bipolar disorder, but with proper medication and lifestyle management, people can do quite well.Hope this was helpful. Be well.Robin J. Landwehr, DBH, LPC, NCC "
        ],
        [
         "1134",
         "My boyfriend has this close female friend. It always bothered me because of how close they are, so I decided to meet her. That made the situation worse because they were even closer than what I thought. They acted like a couple rather than friends with each other. There was no physical interaction, but he talks to this girl a lot. What can I do? Leaving him isn't an option.",
         "Well, as hurtful as witnessing your boyfriend's closeness with his female friend, I\"m glad you saw firsthand the dynamic of your concern.There isn't anything you can directly do to stop his relationship with this lady.It is possible to influence his side of their relationship.Directly telling him your discomfort with how close the two are, may make him pause before engaging with her in a discussion.  This is nothing to count on since the control is in his hands and not yours.I'm sorry to read that the option to leave this relationship is out of the question.The only way left is to get used to the fact that you don't like this aspect of your boyfriend, and this is a disheartening outlook overall to you and to your relationship overall.If after repeated effort to influence him by your opinions, your effort to adjust to a situation you don't like, if at all possible, consider a longterm plan to discontinue this relationship because by that time it may feel very oppressive in your life."
        ],
        [
         "706",
         "I am divorced and happily remarried. Our blended family of children are in their 20s. My youngest, age 20, continues to call me crazy and favors her dad. He was abusive to me, and I left with injuries. He never wanted kids, and I did. He paid child support only through forced wage earners. Now my daughters favor him after all the sacrifices I made for them the past 15 years as a single mom. I don’t deny them a relationship with their dad, but to be called crazy and then watch them hang out with him hurts me to the very core. I’m not sure how to handle this.",
         "Hi, I understand what you're going through. Your daughters favor him because he has done no wrong in their eyes. Im guessing they lived with you? Growing up I was the same way.. I favoured my dad, thinking he has done no wrong. He also abused my mother multiple times, and that never came to mind. kids like their other parent more mainly because they don't see them everyday, and they usually buy them everything they want, because all he does it pay child support (by force) and then spoil their kids to make them happy. You seem like a great mom, don't doubt yourself."
        ],
        [
         "1299",
         "I loved him more than anything. He passed away on our anniversary which was also the day I was going to apply for our apartment. I'm not handling it well. I moved to a new town and started a new life but nothing helps.",
         "I am so sorry to hear of your boyfriend's passing. Grief is something that can take a long time to recover from. Have you considered speaking with a grief counselor? Being able to speak with someone that specializes in grief would be very beneficial. Do not get down on yourself for not recovering quickly. This is one of the hardest aspects to deal with in life but eventually you will be able to move forward. In the mean time, immerse yourself with positivity (i.e. Good friends, hobbies, exercise) and try to schedule a time with a counselor. Perhaps there will be a support group you could also join. Oftentimes, it is comforting to meet others who share the same experience as you.Good luck to you. I hope you will find peace and comfort soon."
        ],
        [
         "1011",
         "Every time my partner gets angry for anything, she takes it out on me. Nothing I do is right, and once she's mad, she calls me all kinds of names and is verbally abusive. She says it isn’t abuse, it’s just angry verbal bashing, and that it’s different. It gets worse each time. The names are very vulgar now.",
         "One thing you could try is to talk to your partner when she's not angry about the following:If she's angry, maybe she can talk with you about what she is angry about rather than calling you names.If she gets angry and then calms down a little while later, maybe one of you can take a timeout in the discussion and set a time when you will come back to it.Discuss what it is that you find acceptable for you to do during an argumentDiscuss what it is that you find unacceptable for you to do during an argumentDiscuss what is acceptable for her to do during an argumentDiscuss what is on acceptable for her to do during an argumentYour partner can answer the same questions related to herself and you.I can't emphasize enough how important it is to have this discussion when there is not an argument going on. Perhaps you could mention that you would like to talk about something that is really important and see if the current time is a good time. If not, consider when in the next 24 to 48 hours would be a good time.It may also be helpful to discuss these ideas with a local therapist. The therapist may also be able to help both of you figure out where the anger is coming from and where she has learned to react this way.If it is abuse, it may be even more difficult to have these important discussions. It may be helpful for you to see a local therapist by yourself to assess things like physical and emotional safety."
        ]
       ],
       "shape": {
        "columns": 2,
        "rows": 10
       }
      },
      "text/html": [
       "<div>\n",
       "<style scoped>\n",
       "    .dataframe tbody tr th:only-of-type {\n",
       "        vertical-align: middle;\n",
       "    }\n",
       "\n",
       "    .dataframe tbody tr th {\n",
       "        vertical-align: top;\n",
       "    }\n",
       "\n",
       "    .dataframe thead th {\n",
       "        text-align: right;\n",
       "    }\n",
       "</style>\n",
       "<table border=\"1\" class=\"dataframe\">\n",
       "  <thead>\n",
       "    <tr style=\"text-align: right;\">\n",
       "      <th></th>\n",
       "      <th>Context</th>\n",
       "      <th>Response</th>\n",
       "    </tr>\n",
       "  </thead>\n",
       "  <tbody>\n",
       "    <tr>\n",
       "      <th>1646</th>\n",
       "      <td>My ex-boyfriend and I met over a year ago. We ...</td>\n",
       "      <td>I'm truly sorry to hear that your relationship...</td>\n",
       "    </tr>\n",
       "    <tr>\n",
       "      <th>1595</th>\n",
       "      <td>My boyfriend and I have a toxic relationship d...</td>\n",
       "      <td>I'm glad you recognize your own best interest ...</td>\n",
       "    </tr>\n",
       "    <tr>\n",
       "      <th>1464</th>\n",
       "      <td>I'm always listening to my husband, but it fee...</td>\n",
       "      <td>Thanks for reaching out. This is a great quest...</td>\n",
       "    </tr>\n",
       "    <tr>\n",
       "      <th>1166</th>\n",
       "      <td>My boyfriend won't touch me intimately, he won...</td>\n",
       "      <td>Ask him!Having a conversation about sexual sat...</td>\n",
       "    </tr>\n",
       "    <tr>\n",
       "      <th>156</th>\n",
       "      <td>I am a teenager. I have been experiencing majo...</td>\n",
       "      <td>I understand that talking about our feelings c...</td>\n",
       "    </tr>\n",
       "    <tr>\n",
       "      <th>2306</th>\n",
       "      <td>It's been like a couple of years that I've bee...</td>\n",
       "      <td>Hello, and thank you for your question. Bipola...</td>\n",
       "    </tr>\n",
       "    <tr>\n",
       "      <th>1134</th>\n",
       "      <td>My boyfriend has this close female friend. It ...</td>\n",
       "      <td>Well, as hurtful as witnessing your boyfriend'...</td>\n",
       "    </tr>\n",
       "    <tr>\n",
       "      <th>706</th>\n",
       "      <td>I am divorced and happily remarried. Our blend...</td>\n",
       "      <td>Hi, I understand what you're going through. Yo...</td>\n",
       "    </tr>\n",
       "    <tr>\n",
       "      <th>1299</th>\n",
       "      <td>I loved him more than anything. He passed away...</td>\n",
       "      <td>I am so sorry to hear of your boyfriend's pass...</td>\n",
       "    </tr>\n",
       "    <tr>\n",
       "      <th>1011</th>\n",
       "      <td>Every time my partner gets angry for anything,...</td>\n",
       "      <td>One thing you could try is to talk to your par...</td>\n",
       "    </tr>\n",
       "  </tbody>\n",
       "</table>\n",
       "</div>"
      ],
      "text/plain": [
       "                                                Context  \\\n",
       "1646  My ex-boyfriend and I met over a year ago. We ...   \n",
       "1595  My boyfriend and I have a toxic relationship d...   \n",
       "1464  I'm always listening to my husband, but it fee...   \n",
       "1166  My boyfriend won't touch me intimately, he won...   \n",
       "156   I am a teenager. I have been experiencing majo...   \n",
       "2306  It's been like a couple of years that I've bee...   \n",
       "1134  My boyfriend has this close female friend. It ...   \n",
       "706   I am divorced and happily remarried. Our blend...   \n",
       "1299  I loved him more than anything. He passed away...   \n",
       "1011  Every time my partner gets angry for anything,...   \n",
       "\n",
       "                                               Response  \n",
       "1646  I'm truly sorry to hear that your relationship...  \n",
       "1595  I'm glad you recognize your own best interest ...  \n",
       "1464  Thanks for reaching out. This is a great quest...  \n",
       "1166  Ask him!Having a conversation about sexual sat...  \n",
       "156   I understand that talking about our feelings c...  \n",
       "2306  Hello, and thank you for your question. Bipola...  \n",
       "1134  Well, as hurtful as witnessing your boyfriend'...  \n",
       "706   Hi, I understand what you're going through. Yo...  \n",
       "1299  I am so sorry to hear of your boyfriend's pass...  \n",
       "1011  One thing you could try is to talk to your par...  "
      ]
     },
     "execution_count": 12,
     "metadata": {},
     "output_type": "execute_result"
    }
   ],
   "source": [
    "nlp_convos_df.sample(10)"
   ]
  },
  {
   "cell_type": "markdown",
   "id": "cdab659d",
   "metadata": {},
   "source": [
    "## Explore Interview 6K"
   ]
  },
  {
   "cell_type": "markdown",
   "id": "c07c4258",
   "metadata": {},
   "source": [
    "## Intro to Interview 6k"
   ]
  },
  {
   "cell_type": "code",
   "execution_count": 13,
   "id": "f6d86e1a",
   "metadata": {},
   "outputs": [
    {
     "data": {
      "application/vnd.microsoft.datawrangler.viewer.v0+json": {
       "columns": [
        {
         "name": "index",
         "rawType": "int64",
         "type": "integer"
        },
        {
         "name": "instruction",
         "rawType": "object",
         "type": "string"
        },
        {
         "name": "input",
         "rawType": "object",
         "type": "string"
        },
        {
         "name": "output",
         "rawType": "object",
         "type": "string"
        }
       ],
       "ref": "94563eab-fce0-4c6b-afef-70fbb451ff0e",
       "rows": [
        [
         "0",
         "You are a helpful mental health counselling assistant, please answer the mental health questions based on the patient's description. \r\nThe assistant gives helpful, comprehensive, and appropriate answers to the user's questions. ",
         "I've been struggling with my mental health for a while now, and I can't seem to find a way to cope with it. I've tried visualization, positive thinking, and even medication, but nothing seems to work. I've been feeling lost and helpless, and I don't know what to do next. My mind is a whirlwind of thoughts and emotions, and I can't seem to make sense of it all. I feel like I'm drowning in a sea of confusion, and I can't seem to find my way out.",
         "I understand that you've been dealing with a sense of confusion and chaos in your thoughts and emotions for some time now. It's been a challenging journey, and it's commendable that you've tried various approaches like visualization, positive thinking, and medication to manage your symptoms. However, it's clear that these methods haven't been effective for you. It's essential to acknowledge that mental health issues can be complex and multifaceted, and what works for one person might not work for another. Today, we're going to approach this differently. We're going to identify a specific concern related to your mental health that you'd like to work on, and we'll break it down into manageable steps. We'll define the problem as a feeling of being overwhelmed by your thoughts and emotions, and we'll set realistic goals for managing this feeling. We'll explore the root causes of this confusion, such as past traumas, current stressors, and any underlying psychological conditions. We'll also examine your thought patterns and emotional responses to these triggers, and we'll develop strategies to challenge and reframe negative thoughts. This process is called Cognitive Behavioral Therapy (CBT), and it's designed to help you face your challenges more effectively by changing the way you think and feel about them. Let's begin by discussing the specific incidents or concerns that have been contributing to your feelings of confusion and chaos. We can explore these further and come up with strategies to help you manage them."
        ],
        [
         "1",
         "You are a helpful mental health counselling assistant, please answer the mental health questions based on the patient's description. \r\nThe assistant gives helpful, comprehensive, and appropriate answers to the user's questions. ",
         "I've been feeling overwhelmed with my caregiving responsibilities, and it's been a struggle to balance these duties with my personal relationships. I've tried to communicate my limitations to my friends and church members, but they don't seem to understand or respect my boundaries. I've been dealing with high anxiety levels, which makes it even harder for me to focus on my own needs. I've tried to take care of myself, but it feels like an insurmountable task.",
         "Your situation is complex, and it's important to acknowledge the challenges you're facing. Balancing caregiving responsibilities with personal relationships can be a delicate dance, and it's common to encounter resistance when setting boundaries. I want to help you explore strategies for communicating your needs more effectively and setting clearer boundaries. Additionally, I see that your anxiety levels are significantly impacting your ability to focus on self-care. We can work together to identify the root causes of your anxiety and develop a plan to manage it more effectively. Let's begin by exploring the specific challenges you've encountered when setting boundaries and communicating your needs. We'll also discuss potential strategies for managing your anxiety and prioritizing self-care in your life.\r\n\r\nCounselor (continued):\r\n"
        ],
        [
         "2",
         "You are a helpful mental health counselling assistant, please answer the mental health questions based on the patient's description. \r\nThe assistant gives helpful, comprehensive, and appropriate answers to the user's questions. ",
         "I've been feeling constantly anxious and unable to focus on anything for more than a few minutes at a time. I can't seem to get anything done, and I'm starting to feel like I'm failing everyone who's relying on me.",
         "I can see that you're dealing with a great deal of anxiety and that it's impacting your ability to focus and be productive. It's important to remember that anxiety is a normal response to stress, but when it becomes chronic and interferes with your daily life, it can be debilitating.\r\n\r\nOne approach to managing anxiety is through cognitive-behavioral techniques. This involves identifying and challenging negative thought patterns, or cognitive distortions, that contribute to your anxiety. For example, you might be thinking things like \"I can't do this,\" or \"I'll never be able to handle this situation.\" These thoughts can create a cycle of anxiety and make it even harder to focus and be productive.\r\n\r\nAnother approach is through relaxation techniques, such as deep breathing, progressive muscle relaxation, or mindfulness meditation. These techniques can help you manage your physical symptoms of anxiety, such as a racing heart or tense muscles, and can help you feel more calm and focused.\r\n\r\nIt's also important to prioritize self-care and make time for activities that bring you joy and help you relax. This might include things like reading, taking a walk, or practicing a hobby. By taking care of yourself, you'll be better equipped to manage your anxiety and be more effective in your role as a helper to others.\r\n\r\nLastly, it's crucial to set realistic and attainable goals for yourself. This means identifying what you can realistically accomplish, given the resources and constraints you have. And remember, it's essential to distinguish between facts and assumptions when setting these goals. For example, instead of assuming that you can't do anything about the situation, focus on what you can do and set goals based on that.\r\n\r\nIt's also important to acknowledge and address any obstacles that might be preventing you from achieving these goals. By identifying and addressing these obstacles, you'll be better equipped to make progress and feel more in control of the situation."
        ],
        [
         "3",
         "You are a helpful mental health counselling assistant, please answer the mental health questions based on the patient's description. \r\nThe assistant gives helpful, comprehensive, and appropriate answers to the user's questions. ",
         "My mom has Alzheimer's, and I've been her primary caregiver for the past few years. I've been trying to maintain a routine for her, but my siblings keep calling me for favors or emergencies, which disrupts my schedule and leaves me feeling drained. I've tried setting boundaries, but they don't seem to respect my time or my mom's needs.",
         "I'm sorry to hear that your siblings' demands are causing you such distress. It's not uncommon for caregivers to face these challenges, and it's essential to establish clear communication with your family members about your responsibilities and limitations. You might consider setting specific times for responding to their requests or delegating tasks to others. It's also essential to remember that you're not alone in this situation and that seeking additional support, such as respite care or community resources, can be beneficial for both you and your mom.\r\n\r\nResponse:"
        ],
        [
         "4",
         "You are a helpful mental health counselling assistant, please answer the mental health questions based on the patient's description. \r\nThe assistant gives helpful, comprehensive, and appropriate answers to the user's questions. ",
         "I've tried setting boundaries, but it feels like I'm constantly being pulled in different directions. I feel guilty for not being able to help my siblings, but I also know that I can't continue to neglect my mom's needs. I'm worried that if I don't find a way to manage these demands, I'll burn out and won't be able to care for her effectively.",
         "Your concerns are valid, and it's crucial to prioritize your mom's care while also addressing your own well-being. One approach that might be helpful is practicing self-care and stress management techniques, such as mindfulness meditation, deep breathing exercises, or engaging in enjoyable activities. Additionally, you could consider reaching out to local support groups or organizations that offer resources and guidance for caregivers in similar situations. Remember, it's essential to advocate for yourself and your mom's needs, and to seek help when needed. The goal is to create a sustainable caregiving situation that benefits everyone involved.\r\n\r\nResponse:"
        ]
       ],
       "shape": {
        "columns": 3,
        "rows": 5
       }
      },
      "text/html": [
       "<div>\n",
       "<style scoped>\n",
       "    .dataframe tbody tr th:only-of-type {\n",
       "        vertical-align: middle;\n",
       "    }\n",
       "\n",
       "    .dataframe tbody tr th {\n",
       "        vertical-align: top;\n",
       "    }\n",
       "\n",
       "    .dataframe thead th {\n",
       "        text-align: right;\n",
       "    }\n",
       "</style>\n",
       "<table border=\"1\" class=\"dataframe\">\n",
       "  <thead>\n",
       "    <tr style=\"text-align: right;\">\n",
       "      <th></th>\n",
       "      <th>instruction</th>\n",
       "      <th>input</th>\n",
       "      <th>output</th>\n",
       "    </tr>\n",
       "  </thead>\n",
       "  <tbody>\n",
       "    <tr>\n",
       "      <th>0</th>\n",
       "      <td>You are a helpful mental health counselling as...</td>\n",
       "      <td>I've been struggling with my mental health for...</td>\n",
       "      <td>I understand that you've been dealing with a s...</td>\n",
       "    </tr>\n",
       "    <tr>\n",
       "      <th>1</th>\n",
       "      <td>You are a helpful mental health counselling as...</td>\n",
       "      <td>I've been feeling overwhelmed with my caregivi...</td>\n",
       "      <td>Your situation is complex, and it's important ...</td>\n",
       "    </tr>\n",
       "    <tr>\n",
       "      <th>2</th>\n",
       "      <td>You are a helpful mental health counselling as...</td>\n",
       "      <td>I've been feeling constantly anxious and unabl...</td>\n",
       "      <td>I can see that you're dealing with a great dea...</td>\n",
       "    </tr>\n",
       "    <tr>\n",
       "      <th>3</th>\n",
       "      <td>You are a helpful mental health counselling as...</td>\n",
       "      <td>My mom has Alzheimer's, and I've been her prim...</td>\n",
       "      <td>I'm sorry to hear that your siblings' demands ...</td>\n",
       "    </tr>\n",
       "    <tr>\n",
       "      <th>4</th>\n",
       "      <td>You are a helpful mental health counselling as...</td>\n",
       "      <td>I've tried setting boundaries, but it feels li...</td>\n",
       "      <td>Your concerns are valid, and it's crucial to p...</td>\n",
       "    </tr>\n",
       "  </tbody>\n",
       "</table>\n",
       "</div>"
      ],
      "text/plain": [
       "                                         instruction  \\\n",
       "0  You are a helpful mental health counselling as...   \n",
       "1  You are a helpful mental health counselling as...   \n",
       "2  You are a helpful mental health counselling as...   \n",
       "3  You are a helpful mental health counselling as...   \n",
       "4  You are a helpful mental health counselling as...   \n",
       "\n",
       "                                               input  \\\n",
       "0  I've been struggling with my mental health for...   \n",
       "1  I've been feeling overwhelmed with my caregivi...   \n",
       "2  I've been feeling constantly anxious and unabl...   \n",
       "3  My mom has Alzheimer's, and I've been her prim...   \n",
       "4  I've tried setting boundaries, but it feels li...   \n",
       "\n",
       "                                              output  \n",
       "0  I understand that you've been dealing with a s...  \n",
       "1  Your situation is complex, and it's important ...  \n",
       "2  I can see that you're dealing with a great dea...  \n",
       "3  I'm sorry to hear that your siblings' demands ...  \n",
       "4  Your concerns are valid, and it's crucial to p...  "
      ]
     },
     "metadata": {},
     "output_type": "display_data"
    },
    {
     "data": {
      "application/vnd.microsoft.datawrangler.viewer.v0+json": {
       "columns": [
        {
         "name": "index",
         "rawType": "int64",
         "type": "integer"
        },
        {
         "name": "instruction",
         "rawType": "object",
         "type": "string"
        },
        {
         "name": "input",
         "rawType": "object",
         "type": "string"
        },
        {
         "name": "output",
         "rawType": "object",
         "type": "string"
        }
       ],
       "ref": "8b721277-0936-4f0d-ac24-1ce52a5119c4",
       "rows": [
        [
         "6305",
         "You are a helpful mental health counselling assistant, please answer the mental health questions based on the patient's description. \r\nThe assistant gives helpful, comprehensive, and appropriate answers to the user's questions. ",
         "I'm feeling overwhelmed and guilty about my uncle's death. I feel like I should have been able to do more for him, even though I was there with him when he passed. I'm also worried about the financial burden of his care and the potential impact on my own finances. I've been trying to process these feelings, but I can't seem to shake them.",
         "It's understandable that you're feeling a range of emotions, including guilt and worry, in the aftermath of your uncle's passing. Grief is a complex and multifaceted experience, and it's common to feel a sense of responsibility or regret when a loved one passes away. Your concern about the financial burden of your uncle's care is also a valid one, as caregiving can be a significant financial strain. It's important to acknowledge and validate these feelings, while also exploring ways to manage them effectively.\r\n\r\nOne approach we could consider is mindfulness meditation, which can help you become more aware of your thoughts and emotions without judgment. This can help you develop a greater sense of self-compassion and acceptance, which can be beneficial in managing feelings of guilt and regret. Additionally, we could explore strategies for managing the financial burden of your uncle's care, such as researching available resources, creating a budget, and seeking out financial assistance programs.\r\n\r\nAnother approach we could consider is cognitive-behavioral therapy, which can help you challenge and reframe negative thoughts and beliefs that contribute to feelings of guilt and worry. For example, you might be able to reframe your thoughts about your role in your uncle's care to focus on the things you were able to do for him, rather than the things you couldn't. We could also explore ways to challenge the belief that you're solely responsible for your uncle's financial care, and explore alternative sources of support and resources.\r\n\r\nUltimately, the goal of our sessions would be to help you develop a more comprehensive understanding of your emotions and experiences, and to explore strategies for managing them effectively. This would involve a collaborative and empathetic approach, grounded in professional ethical standards and informed by key concepts in counseling psychology, such as mindfulness, cognitive-behavioral therapy, and self-compassion. I'm here to support you in any way I can, and I believe that with a thoughtful and compassionate approach, we can help you navigate this challenging time."
        ],
        [
         "6306",
         "You are a helpful mental health counselling assistant, please answer the mental health questions based on the patient's description. \r\nThe assistant gives helpful, comprehensive, and appropriate answers to the user's questions. ",
         "I've been feeling overwhelmed lately, and I've been turning to [Name] and gambling as a way to cope. I know it's not healthy, but it's become a comforting distraction from my stressors. I've been struggling with anxiety and depression for years, and it feels like I'm back at square one. I've tried therapy before, but it didn't seem to help. I don't know if I can handle all of this again.",
         "I understand that you've been feeling overwhelmed and that you've been turning to [Name] and gambling as a way to cope. It's important to acknowledge that these behaviors might provide temporary relief, but they can ultimately contribute to increased stress and negative emotions. It's essential to recognize that these patterns are not sustainable and that they can negatively impact your overall well-being. I want to assure you that you're not alone in feeling this way, and that seeking help is a courageous step towards healing.\r\n\r\nYour history of anxiety and depression is significant, and it's essential to address these underlying issues to prevent a relapse. In the past, you've tried therapy, and it didn't seem to help. However, it's essential to remember that every person's therapeutic journey is unique, and what worked for others might not work for you. It's crucial to find a therapeutic approach that resonates with you and that addresses your specific needs.\r\n\r\nOne approach that might be helpful is Cognitive Behavioral Therapy (CBT), which focuses on identifying and challenging negative thought patterns and behaviors. Another approach is Mindfulness-Based Stress Reduction (MBSR), which can help you develop skills to manage stress and anxiety through mindfulness practices. It's essential to work with a mental health professional to determine which approach is best for you and to develop a personalized treatment plan.\r\n\r\nRemember, healing is a process, and it's essential to be patient and compassionate with yourself. It's okay to ask for help, and it's essential to prioritize your mental and emotional well-being. Together, we can explore the root causes of your anxiety and depression and develop strategies to manage your symptoms and improve your overall quality of life."
        ],
        [
         "6307",
         "You are a helpful mental health counselling assistant, please answer the mental health questions based on the patient's description. \r\nThe assistant gives helpful, comprehensive, and appropriate answers to the user's questions. ",
         "I understand what you're saying, but I can't shake off this feeling that I've failed her in some way. I was so consumed by my own grief that I couldn't be there for her as I should have. I feel like I've let her down, and it's been eating away at me ever since.",
         "Your feelings of guilt and neglect are understandable given the circumstances. It's common for individuals to experience complex emotions during times of loss, especially when it comes to our relationships with loved ones. However, it's essential to recognize that these feelings don't define your role as a parent. Instead, let's explore ways to reconnect with your daughter and repair any perceived damage.\r\n\r\nFirst, we can practice self-compassion and acknowledge that everyone experiences grief differently. It's essential to recognize that your focus on your own feelings doesn't diminish the importance of your role as a parent. Second, we can work on open and honest communication with your daughter, expressing your feelings and concerns while also listening to hers. This can help you both better understand each other's perspectives and begin the healing process.\r\n\r\nLastly, consider engaging in activities that strengthen your bond with your daughter. This can be as simple as sharing a meal, watching a movie, or even just having a heart-to-heart conversation. By focusing on the positive aspects of your relationship and taking steps to repair any perceived damage, you can begin to move past these feelings of guilt and neglect.\r\n\r\nIn this therapeutic approach, the counselor acknowledges the patient's feelings while also offering practical steps to address the underlying issues. The counselor's response is grounded in the principles of counseling psychology, including self-compassion, open communication, and the importance of repairing relationships. By offering a compassionate yet strategic response, the counselor helps the patient begin the process of healing and moving forward."
        ],
        [
         "6308",
         "You are a helpful mental health counselling assistant, please answer the mental health questions based on the patient's description. \r\nThe assistant gives helpful, comprehensive, and appropriate answers to the user's questions. ",
         "I've been thinking about my relationship with my dad. I've always felt like I had to be the one to keep things together. He was never there for me emotionally, and I felt like I had to fill that void. I've been carrying this burden for years, and it's starting to feel unbearable.",
         "It's important to acknowledge the emotional labor you've been carrying for your father. It's not uncommon for children to take on this role, especially when they don't receive the emotional support they need from their parents. This can lead to feelings of resentment and exhaustion. In our sessions, we can explore how this dynamic has impacted your life and relationships. We can also work on developing healthier communication skills and setting boundaries to help you manage your emotional energy more effectively. Additionally, we can explore the concept of forgiveness and how it might apply to your relationship with your father. This doesn't mean excusing his past behavior, but rather finding a way to release the emotional burden that comes with carrying these feelings. This process can be challenging, but it's an essential part of healing and moving forward."
        ],
        [
         "6309",
         "You are a helpful mental health counselling assistant, please answer the mental health questions based on the patient's description. \r\nThe assistant gives helpful, comprehensive, and appropriate answers to the user's questions. ",
         "I've been feeling stressed out lately because my mother, who lives with me during the summer, has been under a lot of stress due to various reasons. Last time she stayed with me, it was a much nicer experience as there were fewer stressors. But this time, with the death of my grandpa and other changes, she's been more stressed and it's affecting me negatively. I'm finding it hard to enjoy her company and I just want some space.",
         "Your words paint a vivid picture of the complex emotional landscape you're navigating right now. The stress that your mother is experiencing is palpable, and it's understandable that her distress is spilling over into your living space and affecting your relationship with her. It's important to recognize that the circumstances surrounding her stress are beyond her control, but it's also crucial to acknowledge the impact it's having on you. The memory of a more peaceful time when she stayed with you serves as a poignant contrast to the present situation. It's natural to crave that sense of tranquility and to feel frustrated when it's elusive.\r\n\r\nIn response to your concerns, I'd like to propose a few potential strategies for managing the current situation. First, let's explore the possibility of creating routines and structures that can help reduce stressors for both you and your mother. This might involve setting aside specific times for quiet activities, establishing clear boundaries around communication and personal space, and prioritizing self-care practices like exercise, meditation, or hobbies.\r\n\r\nAnother approach could be to focus on effective communication. It's essential to express your feelings to your mother in a compassionate and understanding way, while also being open to her perspective and needs. This might involve having a heartfelt conversation about the impact of her stress on your relationship and finding ways to support each other through this difficult time.\r\n\r\nLastly, it's worth considering the possibility of seeking external support for your mother. The loss of a loved one and other life changes can be incredibly challenging, and professional counseling or therapy can provide valuable tools and resources for managing stress and grief. By offering your support in this way, you might find that the overall living arrangement becomes more enjoyable and beneficial for both of you.\r\n\r\nUltimately, it's important to remember that everyone deserves compassion and understanding, especially during difficult times. Let's work together to find ways to navigate this complex emotional terrain and create a more peaceful and supportive living environment for both of you."
        ]
       ],
       "shape": {
        "columns": 3,
        "rows": 5
       }
      },
      "text/html": [
       "<div>\n",
       "<style scoped>\n",
       "    .dataframe tbody tr th:only-of-type {\n",
       "        vertical-align: middle;\n",
       "    }\n",
       "\n",
       "    .dataframe tbody tr th {\n",
       "        vertical-align: top;\n",
       "    }\n",
       "\n",
       "    .dataframe thead th {\n",
       "        text-align: right;\n",
       "    }\n",
       "</style>\n",
       "<table border=\"1\" class=\"dataframe\">\n",
       "  <thead>\n",
       "    <tr style=\"text-align: right;\">\n",
       "      <th></th>\n",
       "      <th>instruction</th>\n",
       "      <th>input</th>\n",
       "      <th>output</th>\n",
       "    </tr>\n",
       "  </thead>\n",
       "  <tbody>\n",
       "    <tr>\n",
       "      <th>6305</th>\n",
       "      <td>You are a helpful mental health counselling as...</td>\n",
       "      <td>I'm feeling overwhelmed and guilty about my un...</td>\n",
       "      <td>It's understandable that you're feeling a rang...</td>\n",
       "    </tr>\n",
       "    <tr>\n",
       "      <th>6306</th>\n",
       "      <td>You are a helpful mental health counselling as...</td>\n",
       "      <td>I've been feeling overwhelmed lately, and I've...</td>\n",
       "      <td>I understand that you've been feeling overwhel...</td>\n",
       "    </tr>\n",
       "    <tr>\n",
       "      <th>6307</th>\n",
       "      <td>You are a helpful mental health counselling as...</td>\n",
       "      <td>I understand what you're saying, but I can't s...</td>\n",
       "      <td>Your feelings of guilt and neglect are underst...</td>\n",
       "    </tr>\n",
       "    <tr>\n",
       "      <th>6308</th>\n",
       "      <td>You are a helpful mental health counselling as...</td>\n",
       "      <td>I've been thinking about my relationship with ...</td>\n",
       "      <td>It's important to acknowledge the emotional la...</td>\n",
       "    </tr>\n",
       "    <tr>\n",
       "      <th>6309</th>\n",
       "      <td>You are a helpful mental health counselling as...</td>\n",
       "      <td>I've been feeling stressed out lately because ...</td>\n",
       "      <td>Your words paint a vivid picture of the comple...</td>\n",
       "    </tr>\n",
       "  </tbody>\n",
       "</table>\n",
       "</div>"
      ],
      "text/plain": [
       "                                            instruction  \\\n",
       "6305  You are a helpful mental health counselling as...   \n",
       "6306  You are a helpful mental health counselling as...   \n",
       "6307  You are a helpful mental health counselling as...   \n",
       "6308  You are a helpful mental health counselling as...   \n",
       "6309  You are a helpful mental health counselling as...   \n",
       "\n",
       "                                                  input  \\\n",
       "6305  I'm feeling overwhelmed and guilty about my un...   \n",
       "6306  I've been feeling overwhelmed lately, and I've...   \n",
       "6307  I understand what you're saying, but I can't s...   \n",
       "6308  I've been thinking about my relationship with ...   \n",
       "6309  I've been feeling stressed out lately because ...   \n",
       "\n",
       "                                                 output  \n",
       "6305  It's understandable that you're feeling a rang...  \n",
       "6306  I understand that you've been feeling overwhel...  \n",
       "6307  Your feelings of guilt and neglect are underst...  \n",
       "6308  It's important to acknowledge the emotional la...  \n",
       "6309  Your words paint a vivid picture of the comple...  "
      ]
     },
     "metadata": {},
     "output_type": "display_data"
    }
   ],
   "source": [
    "display(interview_df.head())\n",
    "display(interview_df.tail())"
   ]
  },
  {
   "cell_type": "code",
   "execution_count": 14,
   "id": "629645e0",
   "metadata": {},
   "outputs": [
    {
     "name": "stdout",
     "output_type": "stream",
     "text": [
      "<class 'pandas.core.frame.DataFrame'>\n",
      "RangeIndex: 6310 entries, 0 to 6309\n",
      "Data columns (total 3 columns):\n",
      " #   Column       Non-Null Count  Dtype \n",
      "---  ------       --------------  ----- \n",
      " 0   instruction  6310 non-null   object\n",
      " 1   input        6310 non-null   object\n",
      " 2   output       6310 non-null   object\n",
      "dtypes: object(3)\n",
      "memory usage: 148.0+ KB\n"
     ]
    }
   ],
   "source": [
    "interview_df.info()"
   ]
  },
  {
   "cell_type": "code",
   "execution_count": 15,
   "id": "c5509cb4",
   "metadata": {},
   "outputs": [
    {
     "data": {
      "application/vnd.microsoft.datawrangler.viewer.v0+json": {
       "columns": [
        {
         "name": "index",
         "rawType": "object",
         "type": "string"
        },
        {
         "name": "instruction",
         "rawType": "object",
         "type": "unknown"
        },
        {
         "name": "input",
         "rawType": "object",
         "type": "unknown"
        },
        {
         "name": "output",
         "rawType": "object",
         "type": "unknown"
        }
       ],
       "ref": "55815a5e-9b02-4037-ad52-62f747d2cee6",
       "rows": [
        [
         "count",
         "6310",
         "6310",
         "6310"
        ],
        [
         "unique",
         "1",
         "6111",
         "6210"
        ],
        [
         "top",
         "You are a helpful mental health counselling assistant, please answer the mental health questions based on the patient's description. \r\nThe assistant gives helpful, comprehensive, and appropriate answers to the user's questions. ",
         "I've been dealing with a lot of logistical tasks since my wife passed away. I've had to fill out paperwork for her memorial service, manage her financial affairs, and even help arrange for her grave. It's all been very overwhelming.",
         "It's essential to recognize that caring for a loved one can be emotionally and physically demanding. Your current situation might be a result of a combination of factors, including your emotional state, your problem-solving style, and the demands of caregiving. Let's explore how your problem-solving style, specifically your attitude towards problems, might be contributing to your current situation. We'll also examine your emotional state and the potential impact it has on your ability to effectively manage your caregiving responsibilities."
        ],
        [
         "freq",
         "6310",
         "16",
         "9"
        ]
       ],
       "shape": {
        "columns": 3,
        "rows": 4
       }
      },
      "text/html": [
       "<div>\n",
       "<style scoped>\n",
       "    .dataframe tbody tr th:only-of-type {\n",
       "        vertical-align: middle;\n",
       "    }\n",
       "\n",
       "    .dataframe tbody tr th {\n",
       "        vertical-align: top;\n",
       "    }\n",
       "\n",
       "    .dataframe thead th {\n",
       "        text-align: right;\n",
       "    }\n",
       "</style>\n",
       "<table border=\"1\" class=\"dataframe\">\n",
       "  <thead>\n",
       "    <tr style=\"text-align: right;\">\n",
       "      <th></th>\n",
       "      <th>instruction</th>\n",
       "      <th>input</th>\n",
       "      <th>output</th>\n",
       "    </tr>\n",
       "  </thead>\n",
       "  <tbody>\n",
       "    <tr>\n",
       "      <th>count</th>\n",
       "      <td>6310</td>\n",
       "      <td>6310</td>\n",
       "      <td>6310</td>\n",
       "    </tr>\n",
       "    <tr>\n",
       "      <th>unique</th>\n",
       "      <td>1</td>\n",
       "      <td>6111</td>\n",
       "      <td>6210</td>\n",
       "    </tr>\n",
       "    <tr>\n",
       "      <th>top</th>\n",
       "      <td>You are a helpful mental health counselling as...</td>\n",
       "      <td>I've been dealing with a lot of logistical tas...</td>\n",
       "      <td>It's essential to recognize that caring for a ...</td>\n",
       "    </tr>\n",
       "    <tr>\n",
       "      <th>freq</th>\n",
       "      <td>6310</td>\n",
       "      <td>16</td>\n",
       "      <td>9</td>\n",
       "    </tr>\n",
       "  </tbody>\n",
       "</table>\n",
       "</div>"
      ],
      "text/plain": [
       "                                              instruction  \\\n",
       "count                                                6310   \n",
       "unique                                                  1   \n",
       "top     You are a helpful mental health counselling as...   \n",
       "freq                                                 6310   \n",
       "\n",
       "                                                    input  \\\n",
       "count                                                6310   \n",
       "unique                                               6111   \n",
       "top     I've been dealing with a lot of logistical tas...   \n",
       "freq                                                   16   \n",
       "\n",
       "                                                   output  \n",
       "count                                                6310  \n",
       "unique                                               6210  \n",
       "top     It's essential to recognize that caring for a ...  \n",
       "freq                                                    9  "
      ]
     },
     "execution_count": 15,
     "metadata": {},
     "output_type": "execute_result"
    }
   ],
   "source": [
    "interview_df.describe()"
   ]
  },
  {
   "cell_type": "markdown",
   "id": "33f9da48",
   "metadata": {},
   "source": [
    "## Cleaning Interview Data"
   ]
  },
  {
   "cell_type": "code",
   "execution_count": 16,
   "id": "9ef25080",
   "metadata": {},
   "outputs": [],
   "source": [
    "# Remove \"Instruction\" column\n",
    "interview_df = interview_df.drop(columns=['instruction'])\n",
    "\n",
    "# Remove exact duplicate prompt/response pairs\n",
    "interview_df = interview_df.drop_duplicates(subset=['input', 'output'])\n",
    "\n"
   ]
  },
  {
   "cell_type": "code",
   "execution_count": 17,
   "id": "5d7b66a4",
   "metadata": {},
   "outputs": [
    {
     "name": "stdout",
     "output_type": "stream",
     "text": [
      "<class 'pandas.core.frame.DataFrame'>\n",
      "Index: 6233 entries, 0 to 6309\n",
      "Data columns (total 2 columns):\n",
      " #   Column  Non-Null Count  Dtype \n",
      "---  ------  --------------  ----- \n",
      " 0   input   6233 non-null   object\n",
      " 1   output  6233 non-null   object\n",
      "dtypes: object(2)\n",
      "memory usage: 146.1+ KB\n"
     ]
    }
   ],
   "source": [
    "interview_df.info()\n"
   ]
  },
  {
   "cell_type": "code",
   "execution_count": 18,
   "id": "e1a12d8d",
   "metadata": {},
   "outputs": [
    {
     "data": {
      "application/vnd.microsoft.datawrangler.viewer.v0+json": {
       "columns": [
        {
         "name": "index",
         "rawType": "object",
         "type": "string"
        },
        {
         "name": "input",
         "rawType": "object",
         "type": "unknown"
        },
        {
         "name": "output",
         "rawType": "object",
         "type": "unknown"
        }
       ],
       "ref": "1d8b6d7a-5f8d-4bf5-ae07-0869f02401c9",
       "rows": [
        [
         "count",
         "6233",
         "6233"
        ],
        [
         "unique",
         "6111",
         "6210"
        ],
        [
         "top",
         "I've been feeling hopeless and suicidal lately, and the thought of spiritual support from the hospital chaplain makes me uneasy. I'm an agnostic, and I don't believe in God or the soul. I find their visits awkward and feel obligated to be polite.",
         "Your concern for your mother's wellbeing is a natural response to her current situation. It's understandable that you'd want to ensure she's receiving the best possible care given the high-risk environment of the hospital. However, it's essential to remember that healthcare professionals, including nurses, often face immense stress and emotional burden in their work. Their reactions, such as laughter, might not always be a reflection of their feelings towards your concerns but rather a coping mechanism to manage their emotions. I encourage you to continue advocating for your mother's care while keeping an open mind about the nurse's intentions. It might also be helpful to gather more information about the hospital's policies and resources regarding patient care and infection control. This will not only help you feel more informed and empowered but also provide you with valuable knowledge to share with the nurse. Remember, clear and respectful communication is key to ensuring your mother receives the best possible care."
        ],
        [
         "freq",
         "8",
         "6"
        ]
       ],
       "shape": {
        "columns": 2,
        "rows": 4
       }
      },
      "text/html": [
       "<div>\n",
       "<style scoped>\n",
       "    .dataframe tbody tr th:only-of-type {\n",
       "        vertical-align: middle;\n",
       "    }\n",
       "\n",
       "    .dataframe tbody tr th {\n",
       "        vertical-align: top;\n",
       "    }\n",
       "\n",
       "    .dataframe thead th {\n",
       "        text-align: right;\n",
       "    }\n",
       "</style>\n",
       "<table border=\"1\" class=\"dataframe\">\n",
       "  <thead>\n",
       "    <tr style=\"text-align: right;\">\n",
       "      <th></th>\n",
       "      <th>input</th>\n",
       "      <th>output</th>\n",
       "    </tr>\n",
       "  </thead>\n",
       "  <tbody>\n",
       "    <tr>\n",
       "      <th>count</th>\n",
       "      <td>6233</td>\n",
       "      <td>6233</td>\n",
       "    </tr>\n",
       "    <tr>\n",
       "      <th>unique</th>\n",
       "      <td>6111</td>\n",
       "      <td>6210</td>\n",
       "    </tr>\n",
       "    <tr>\n",
       "      <th>top</th>\n",
       "      <td>I've been feeling hopeless and suicidal lately...</td>\n",
       "      <td>Your concern for your mother's wellbeing is a ...</td>\n",
       "    </tr>\n",
       "    <tr>\n",
       "      <th>freq</th>\n",
       "      <td>8</td>\n",
       "      <td>6</td>\n",
       "    </tr>\n",
       "  </tbody>\n",
       "</table>\n",
       "</div>"
      ],
      "text/plain": [
       "                                                    input  \\\n",
       "count                                                6233   \n",
       "unique                                               6111   \n",
       "top     I've been feeling hopeless and suicidal lately...   \n",
       "freq                                                    8   \n",
       "\n",
       "                                                   output  \n",
       "count                                                6233  \n",
       "unique                                               6210  \n",
       "top     Your concern for your mother's wellbeing is a ...  \n",
       "freq                                                    6  "
      ]
     },
     "execution_count": 18,
     "metadata": {},
     "output_type": "execute_result"
    }
   ],
   "source": [
    "interview_df.describe()\n"
   ]
  },
  {
   "cell_type": "markdown",
   "id": "ab704680",
   "metadata": {},
   "source": [
    "## Final Interview 6k"
   ]
  },
  {
   "cell_type": "code",
   "execution_count": 19,
   "id": "954de83e",
   "metadata": {},
   "outputs": [
    {
     "name": "stdout",
     "output_type": "stream",
     "text": [
      "Interview 6k: (6233, 2)\n"
     ]
    }
   ],
   "source": [
    "interview_df = interview_df.reset_index(drop=True)\n",
    "print(f\"Interview 6k: {interview_df.shape}\")\n"
   ]
  },
  {
   "cell_type": "code",
   "execution_count": 20,
   "id": "4a9020e2",
   "metadata": {},
   "outputs": [
    {
     "data": {
      "application/vnd.microsoft.datawrangler.viewer.v0+json": {
       "columns": [
        {
         "name": "index",
         "rawType": "int64",
         "type": "integer"
        },
        {
         "name": "input",
         "rawType": "object",
         "type": "string"
        },
        {
         "name": "output",
         "rawType": "object",
         "type": "string"
        }
       ],
       "ref": "f2efbc4d-9fba-4f86-ab1d-da2b6f03f30e",
       "rows": [
        [
         "827",
         "I've been struggling with strong emotions and impulsive actions, especially when it comes to food. I've heard that I should stop and think before I act, but it's hard for me to determine the underlying issues of my emotions. Sometimes, I feel like I'm on an emotional rollercoaster, and I don't know what's causing these intense feelings. I've tried to keep a journal to track my emotions and triggers, but it feels like I'm just documenting the chaos rather than making sense of it.",
         "Your struggle is understandable, and it's important to remember that emotions are a natural part of being human. The ADAPT model, which stands for Acknowledge, Define, Adjust, and Practice, can be a helpful framework for managing emotions and impulsive actions. Let's start by acknowledging your emotions and impulses. This means accepting that they are a part of you and recognizing that they are valid. It's essential to understand that emotions are not good or bad, they just are. Now, let's move on to defining the problem. This involves identifying the specific emotions and triggers that are causing your impulsive actions. We can use a problem checklist to help us with this. This checklist includes identifying the problem, understanding the problem, determining the cause of the problem, and setting specific, measurable, achievable, relevant, and time-bound (SMART) goals.\r\n\r\nFor example, if your emotional rollercoaster is often triggered by feelings of sadness or loneliness, we can explore the underlying causes of these emotions. Perhaps there's a specific relationship or situation that's causing you to feel this way. Or maybe there's a deeper emotional wound that's being reopened. By gaining a clearer understanding of the underlying causes of your emotions, we can begin to address them in a healthy and productive way.\r\n\r\nAdditionally, it's important to recognize that emotions are complex and multifaceted. They can be influenced by a variety of factors, including biological, psychological, and environmental factors. For instance, hormonal imbalances, trauma, or stress can all contribute to intense emotions and impulsive actions. By taking a holistic approach to understanding your emotions, we can develop a more comprehensive and effective approach to managing them.\r\n\r\nOnce we've identified the underlying causes of your emotions and triggers, we can begin to adjust your thoughts and behaviors to better manage them. This might involve learning new coping skills, such as mindfulness meditation or cognitive restructuring. It could also involve making lifestyle changes, such as getting regular exercise or improving your diet. By taking a proactive and compassionate approach to managing your emotions, you can begin to break free from the cycle of impulsive actions and develop a greater sense of emotional resilience.\r\n\r\nI encourage you to practice this exercise regularly, as it can help you develop a deeper understanding of your emotions and triggers, and ultimately, lead to healthier and more productive ways of coping with them. Today, we've discussed the first two steps of the ADAPT model, which are acknowledging your emotions and defining the problem. Next time, we'll explore how to adjust your thoughts and behaviors to better manage your emotions and impulses.\r\n\r\nExplanation:\r\n"
        ],
        [
         "346",
         "I've been struggling with feelings of guilt and inadequacy since my husband passed away last year. I've tried to throw myself into my work as a grief counselor, but I can't seem to shake these emotions. I feel like I'm failing both my clients and my late husband.",
         "I'm sorry for your loss, and I can see how deeply you're affected by it. It's important to acknowledge that grief is a complex and multifaceted emotion. Your feelings of guilt and inadequacy are not uncommon among grieving individuals. In fact, they're a natural response to the loss of a loved one. However, it's crucial to remember that you can't control how you feel, but you can control how you respond to these feelings.\r\n\r\nYour dedication to your work as a grief counselor is a testament to your strength and resilience. It's essential to recognize that your personal experience doesn't make you any less capable of helping others. In fact, it may even make you more effective, as you can offer a unique perspective based on your own experiences. Let's explore ways to channel your emotions into your work and find meaning in your grief."
        ],
        [
         "4539",
         "Thank you for your guidance, counselor. I feel a little more at ease knowing that I'm not alone in this and that there are strategies to help manage my husband's condition. I'll do my best to create a familiar environment and engage him in activities that bring him joy. I'll also try to be more patient and understanding, even when it's difficult. I appreciate your support and understanding.",
         "You're very welcome, patient. I'm here to help you navigate this challenging journey, and I'm glad that my suggestions have provided some relief and direction. Remember, it's essential to take care of yourself as well, so don't hesitate to reach out if you need additional support or resources. Together, we can help make this journey a little easier for both you and your husband."
        ],
        [
         "500",
         "I've been feeling overwhelmed with my workload and the constant pressure to meet deadlines. I've been sacrificing my sleep to meet these demands, but I'm starting to see the toll it's taking on my health. Last night, I managed to get a decent amount of sleep, but I'm still worried about the long-term effects of my inconsistent sleep patterns.",
         "Your concerns about the impact of your workload and sleep deprivation on your health are valid. It's essential to acknowledge that while it may be challenging to balance your work demands and sleep needs, neglecting your sleep can lead to a range of health issues, including decreased cognitive function, mood disturbances, and weakened immune system. I'd like to help you explore some strategies to manage your workload more effectively and prioritize your sleep. One approach could be to establish a daily routine that includes regular breaks, setting realistic deadlines, and delegating tasks when possible. Additionally, it's crucial to practice good sleep hygiene, such as maintaining a consistent sleep schedule, creating a sleep-conducive environment, and avoiding caffeine and alcohol close to bedtime. Would you be open to discussing these strategies further and considering how they might be implemented in your daily life?"
        ],
        [
         "3275",
         "I've been feeling like I'm constantly failing as a mother, a daughter, and a wife. I can't seem to keep up with the demands of my family and my own personal goals, leaving me feeling like I'm drowning in responsibilities. I feel like I'm letting everyone down, and I can't shake this feeling of guilt and inadequacy. I've tried setting goals and prioritizing tasks, but I still feel like I'm not doing enough. I'm starting to feel like I'm not cut out for this life, and I don't know how to make it better.",
         "Your feelings of guilt, inadequacy, and hopelessness are understandable given the multifaceted nature of your role as a mother, daughter, and wife. It's essential to recognize that you're not alone in this struggle and that your situation is complex. You're dealing with the demands of your family, as well as your own personal goals and societal expectations, which can be overwhelming. To help you manage these demands, we can explore various strategies, such as setting realistic goals, prioritizing tasks, and learning to delegate responsibilities when possible. We can also work on developing a more compassionate and understanding perspective towards yourself, focusing on self-care and self-compassion. Additionally, we can explore the role of societal expectations and how they contribute to your feelings of guilt, inadequacy, and hopelessness. Through this process, we can work towards finding a balance between your various roles and responsibilities, and ultimately, help you find contentment and fulfillment in your everyday life. It's important to remember that everyone faces challenges in life, and it's not uncommon to feel overwhelmed at times. However, with the right tools and support, it's possible to find a way forward and make positive changes in your life. Let's work together to explore these strategies and help you find a path towards greater balance, contentment, and fulfillment."
        ],
        [
         "4428",
         "I've always had a complicated relationship with my extended family. They're not always supportive, and I've been trying to avoid conflict by keeping things simple. But now, with this family event, I feel like I can't do that anymore. I'm worried that if I don't involve everyone, I'll be seen as excluding them, but if I do involve them, I fear the potential for arguments and hurt feelings.",
         "Your concerns are valid, and it's clear that this event holds significant emotional weight for you. The fear of exclusion and the potential for conflict can be overwhelming, especially when dealing with a family dynamic that's historically challenging. It's important to remember that the act of planning an event doesn't have to be a source of stress or conflict. Instead, it can be an opportunity to practice effective communication, problem-solving, and conflict resolution skills. One approach could be to establish clear guidelines for decision-making, such as setting deadlines for responses, establishing a budget, and establishing a process for addressing disagreements. Additionally, considering involving a neutral third party, like a family mediator or a trusted friend, might help facilitate productive discussions and minimize the potential for conflict. It's essential to approach this process with a growth mindset, focusing on the potential for positive outcomes rather than the potential for negative ones."
        ],
        [
         "4418",
         "I've been feeling lost and alone since my wife passed away. I've been going through her things, and I've found a collection of items she had, including healing stones, angel figurines, and jewelry. I want to take some of these items to the memorial service, but I'm worried about what others might say or think. I feel like I'm betraying her memory by not following the traditional funeral practices.",
         "I can imagine how difficult it is for you to navigate this complex emotional terrain. Your wife's passing has left you feeling lost and alone, and now you're faced with the challenge of planning a memorial service that honors her memory while also addressing your own emotional needs. The items you've discovered are meaningful to you, and it's natural to want to incorporate them into the memorial service.\r\n\r\nThe traditional funeral practices may not resonate with you, and that's okay. It's essential to remember that a memorial service is a personal event, and it should reflect the unique nature of your relationship with your wife. You're not betraying her memory by making choices that honor her in a way that feels authentic to you.\r\n\r\nOne approach we could take is focusing on the practical steps to ensure that the people who matter to you have a say or are satisfied with the decisions made. You could involve her friends and family in the planning process, discussing your ideas and concerns with them. Their support and understanding can help alleviate any fears or doubts you might have.\r\n\r\nAnother approach would be working to build your confidence in the decisions you make. It's important to recognize that your feelings and needs are valid, and that you have the right to make choices that honor your wife's memory in a way that feels authentic to you. This process may involve exploring your emotions surrounding loss, grief, and the unique bond you shared with your wife.\r\n\r\nIn counseling, we can work together to develop strategies for managing your emotions and building your confidence in your decisions. We can also explore ways to communicate effectively with your loved ones about your plans for the memorial service. Through this process, you'll gain a deeper understanding of your grief and the unique ways in which you can honor your wife's memory.\r\n\r\nAs a counselor, I acknowledge your desire to be a benevolent dictator, but I also recognize the fear and anxiety that comes with the potential for negative backlash. To help you navigate this complex emotional landscape, I'd like to explore the origins of your fear. When have you encountered negative feedback in the past, and how did it make you feel? Understanding the specifics of these situations will provide valuable insights into your current predicament.\r\n\r\nMoreover, it's essential to recognize that the fear of negative feedback is a common human experience. Many people struggle with this issue, and it's a natural response to the inherent uncertainty and vulnerability that comes with making decisions and taking risks. However, it's important to remember that not all negative feedback is destructive or unhelpful. Some feedback can be constructive and provide valuable insights for personal growth and development.\r\n\r\nTo help you manage your fear of negative backlash, I'd like to suggest a few strategies. First, it's crucial to focus on your intentions and motivations. When making decisions, try to approach situations from a place of compassion, empathy, and understanding. This mindset can help you feel more confident and grounded, even when faced with potential criticism.\r\n\r\nSecond, it's essential to practice self-compassion and self-care. Remember that making mistakes and experiencing setbacks is a natural part of life. Instead of dwelling on negative feedback, try to learn from it and focus on your strengths and accomplishments.\r\n\r\nLastly, it may be helpful to seek support from trusted friends, family members, or a mental health professional. Sharing your concerns and feelings with others can provide valuable perspective and help you gain a new perspective on your situation.\r\n\r\nIn summary, while the fear of negative backlash can be a challenging emotion to navigate, it's essential to remember that it's a common experience. By focusing on your intentions, practicing self-compassion, and seeking support from others, you can develop effective strategies to manage this emotion and grow from the experience."
        ],
        [
         "1963",
         "Yes, it does. I appreciate your perspective, and I'd like to explore the idea of revisiting past strategies. I remember that listening to music she enjoys helped her relax during a previous hospital stay. I could ask the hospital staff if they could play her favorite tunes. I also recall that having familiar items from home, like her favorite blanket, brought her comfort. Perhaps I could arrange for her to have some of her belongings with her. These ideas might not be new, but they could potentially be effective.",
         "Absolutely, those are excellent ideas. Revisiting past strategies can be a powerful tool in our therapeutic toolbox. It's essential to remember that even if something has been tried before, it doesn't make it any less valuable. In fact, the familiarity of these strategies might provide even more comfort and relief for your mother in her current situation. It's also essential to consider the potential benefits of combining old and new strategies. For example, playing her favorite music while she uses her favorite blanket could create a more immersive and calming experience."
        ],
        [
         "5677",
         "I've been having trouble keeping track of my appointments and deadlines. I've missed a few important ones lately, and I'm feeling overwhelmed and anxious about it. The thought of communicating with my healthcare providers and employers about my schedule feels daunting, and I'm not sure where to start. I've tried using a planner and setting aside time for self-care, but I still feel like I'm drowning in responsibilities.",
         "I understand that managing your schedule and responsibilities can be a complex and overwhelming task, especially when dealing with mental health challenges. It's important to remember that taking care of your mental health is a priority, and that asking for help and support is a crucial part of that process. One approach we could explore is breaking down your responsibilities into smaller, manageable tasks. We could also discuss strategies for communicating with your healthcare providers and employers about your needs and scheduling accommodations. It's essential to approach these conversations with confidence and assertiveness, while also being mindful of their perspectives and the potential impact on your relationships. We could also explore the use of a planner or digital calendar to help you stay organized and on track. Additionally, we could discuss the potential benefits of practicing mindfulness meditation or other relaxation techniques to help manage your anxiety and stress levels. Remember, it's okay to ask for help and to take things one step at a time."
        ],
        [
         "4202",
         "I've been dealing with feelings of isolation and loneliness for months now, ever since my partner left me unexpectedly. I've tried reaching out to friends and family, but it feels like no one truly understands what I'm going through. I've been struggling to find meaning in my daily routine and have even started avoiding social situations altogether. I've tried distraction techniques like reading, watching TV, and even exercise, but nothing seems to help me feel better.",
         "Your situation is undoubtedly challenging, and it's natural to feel isolated and disconnected after a breakup. It's important to remember that healing from a relationship loss takes time and that it's okay to lean on others for support. While it's understandable that you've felt like no one truly understands, it might be helpful to consider reaching out to a trusted friend or family member. They may not have experienced exactly what you're going through, but their presence and empathy can help you feel less alone.\r\n\r\nAdditionally, it's essential to explore other resources that can help you cope with your feelings. This could include joining a support group, engaging in therapy, or practicing self-care activities like meditation, journaling, or engaging in creative pursuits. These methods can help you develop a deeper understanding of your emotions and provide you with the tools to manage your feelings more effectively.\r\n\r\nIt's crucial to remember that healing is a process, and it's essential to be patient with yourself as you navigate this challenging time. I encourage you to consider reaching out to a trusted friend for support, while also exploring other resources that can help you cope with your feelings and move forward in a positive direction."
        ]
       ],
       "shape": {
        "columns": 2,
        "rows": 10
       }
      },
      "text/html": [
       "<div>\n",
       "<style scoped>\n",
       "    .dataframe tbody tr th:only-of-type {\n",
       "        vertical-align: middle;\n",
       "    }\n",
       "\n",
       "    .dataframe tbody tr th {\n",
       "        vertical-align: top;\n",
       "    }\n",
       "\n",
       "    .dataframe thead th {\n",
       "        text-align: right;\n",
       "    }\n",
       "</style>\n",
       "<table border=\"1\" class=\"dataframe\">\n",
       "  <thead>\n",
       "    <tr style=\"text-align: right;\">\n",
       "      <th></th>\n",
       "      <th>input</th>\n",
       "      <th>output</th>\n",
       "    </tr>\n",
       "  </thead>\n",
       "  <tbody>\n",
       "    <tr>\n",
       "      <th>827</th>\n",
       "      <td>I've been struggling with strong emotions and ...</td>\n",
       "      <td>Your struggle is understandable, and it's impo...</td>\n",
       "    </tr>\n",
       "    <tr>\n",
       "      <th>346</th>\n",
       "      <td>I've been struggling with feelings of guilt an...</td>\n",
       "      <td>I'm sorry for your loss, and I can see how dee...</td>\n",
       "    </tr>\n",
       "    <tr>\n",
       "      <th>4539</th>\n",
       "      <td>Thank you for your guidance, counselor. I feel...</td>\n",
       "      <td>You're very welcome, patient. I'm here to help...</td>\n",
       "    </tr>\n",
       "    <tr>\n",
       "      <th>500</th>\n",
       "      <td>I've been feeling overwhelmed with my workload...</td>\n",
       "      <td>Your concerns about the impact of your workloa...</td>\n",
       "    </tr>\n",
       "    <tr>\n",
       "      <th>3275</th>\n",
       "      <td>I've been feeling like I'm constantly failing ...</td>\n",
       "      <td>Your feelings of guilt, inadequacy, and hopele...</td>\n",
       "    </tr>\n",
       "    <tr>\n",
       "      <th>4428</th>\n",
       "      <td>I've always had a complicated relationship wit...</td>\n",
       "      <td>Your concerns are valid, and it's clear that t...</td>\n",
       "    </tr>\n",
       "    <tr>\n",
       "      <th>4418</th>\n",
       "      <td>I've been feeling lost and alone since my wife...</td>\n",
       "      <td>I can imagine how difficult it is for you to n...</td>\n",
       "    </tr>\n",
       "    <tr>\n",
       "      <th>1963</th>\n",
       "      <td>Yes, it does. I appreciate your perspective, a...</td>\n",
       "      <td>Absolutely, those are excellent ideas. Revisit...</td>\n",
       "    </tr>\n",
       "    <tr>\n",
       "      <th>5677</th>\n",
       "      <td>I've been having trouble keeping track of my a...</td>\n",
       "      <td>I understand that managing your schedule and r...</td>\n",
       "    </tr>\n",
       "    <tr>\n",
       "      <th>4202</th>\n",
       "      <td>I've been dealing with feelings of isolation a...</td>\n",
       "      <td>Your situation is undoubtedly challenging, and...</td>\n",
       "    </tr>\n",
       "  </tbody>\n",
       "</table>\n",
       "</div>"
      ],
      "text/plain": [
       "                                                  input  \\\n",
       "827   I've been struggling with strong emotions and ...   \n",
       "346   I've been struggling with feelings of guilt an...   \n",
       "4539  Thank you for your guidance, counselor. I feel...   \n",
       "500   I've been feeling overwhelmed with my workload...   \n",
       "3275  I've been feeling like I'm constantly failing ...   \n",
       "4428  I've always had a complicated relationship wit...   \n",
       "4418  I've been feeling lost and alone since my wife...   \n",
       "1963  Yes, it does. I appreciate your perspective, a...   \n",
       "5677  I've been having trouble keeping track of my a...   \n",
       "4202  I've been dealing with feelings of isolation a...   \n",
       "\n",
       "                                                 output  \n",
       "827   Your struggle is understandable, and it's impo...  \n",
       "346   I'm sorry for your loss, and I can see how dee...  \n",
       "4539  You're very welcome, patient. I'm here to help...  \n",
       "500   Your concerns about the impact of your workloa...  \n",
       "3275  Your feelings of guilt, inadequacy, and hopele...  \n",
       "4428  Your concerns are valid, and it's clear that t...  \n",
       "4418  I can imagine how difficult it is for you to n...  \n",
       "1963  Absolutely, those are excellent ideas. Revisit...  \n",
       "5677  I understand that managing your schedule and r...  \n",
       "4202  Your situation is undoubtedly challenging, and...  "
      ]
     },
     "execution_count": 20,
     "metadata": {},
     "output_type": "execute_result"
    }
   ],
   "source": [
    "interview_df.sample(10)"
   ]
  },
  {
   "cell_type": "markdown",
   "id": "b17bdeec",
   "metadata": {},
   "source": [
    "### Explore Counsel Chat"
   ]
  },
  {
   "cell_type": "markdown",
   "id": "e3f42316",
   "metadata": {},
   "source": [
    "### Intro to Counsel Chat"
   ]
  },
  {
   "cell_type": "code",
   "execution_count": 21,
   "id": "9151e354",
   "metadata": {},
   "outputs": [
    {
     "data": {
      "application/vnd.microsoft.datawrangler.viewer.v0+json": {
       "columns": [
        {
         "name": "index",
         "rawType": "int64",
         "type": "integer"
        },
        {
         "name": "questionID",
         "rawType": "object",
         "type": "string"
        },
        {
         "name": "questionTitle",
         "rawType": "object",
         "type": "string"
        },
        {
         "name": "questionText",
         "rawType": "object",
         "type": "string"
        },
        {
         "name": "questionUrl",
         "rawType": "object",
         "type": "string"
        },
        {
         "name": "topics",
         "rawType": "object",
         "type": "string"
        },
        {
         "name": "therapistName",
         "rawType": "object",
         "type": "string"
        },
        {
         "name": "therapistUrl",
         "rawType": "object",
         "type": "string"
        },
        {
         "name": "answerText",
         "rawType": "object",
         "type": "string"
        },
        {
         "name": "upvotes",
         "rawType": "int64",
         "type": "integer"
        }
       ],
       "ref": "e5195485-7d8b-4e48-919c-df6ac8a552f1",
       "rows": [
        [
         "0",
         "5566fab2a64752d71ec3ca69",
         "Escalating disagreements between mother and wife",
         "My wife and mother are having tense disagreements. In the past, they’ve had minor differences. For example, my wife would complain to me my mother is too overbearing; my mother would complain my wife is lazy.\r\nHowever, it’s intensified lately. I think the cause is my wife talked back to her once. Now, any little disagreement is magnified, leading to major disagreements. What can I do?",
         "https://counselchat.com/questions/escalating-disagreements-between-mother-and-wife",
         "Family Conflict",
         "Kristi King-Morgan, LMSW",
         "https://counselchat.com/therapists/kristi-king-morgan-lmsw",
         "<p>What you are describing is something psychologists have termed &#34;triangulation&#34; which is what happens when one family member will not talk to the one they have a problem with and goes to a third member of the family to complain instead. You have been &#34;triangulated&#34; by your wife and mother.</p><p>This is often seen in families. It's seen everywhere. How many times have you had a problem with someone but you didn't go to them to tell them, you went to someone else to complain? It is usually difficult for a person to confront another, especially in relationships where there is a power differential. For example, I bet it's easier to complain to a coworker about your boss rather than go to the boss with your complaint.</p><p>I'm not saying triangulation is always a bad thing. Sometimes a third party mediator is needed to help solve problems between two people who disagree. That's what therapists do every day! Sometimes just getting someone else's perspective can help you see the issue clearer. However, in your situation it sounds like this is becoming a problem. You are stuck in the middle between two people that love you and that you love.</p><p>If you want to put a stop to this triangulation, you will need to encourage the two of them to talk to each other and work out their differences. Perhaps it was a simple misunderstanding that some open communication can clear up. Even if they really don't like each other and can't get along, your relationship with the both of them is going to continue to deteriorate the longer you are stuck in the middle. </p><p>Try to understand what might be the feelings behind their behavior. It is possible that they may both feel threatened by the other. These are the two most important women in your life and they both know it. Your mother may be afraid that she will lose you if she confronts your wife. I heard one mother-in-law describe her son's wife as the gateway to her son. The wife has the power to dictate when and how often the mother gets to see her son. The wife also is the gateway to the grandchildren. If your wife doesn't like her mother-in-law she can severely hamper or damage her mother-in-law's relationship with you and any children you two may have. From your wife's viewpoint, this is the woman that she may feel like she can never live up to. If you regularly praise your mom's cooking, her housework, gardening, or anything else your wife may feel that you are putting down her own efforts in these areas and can feel unappreciated. This can be especially difficult if your wife and mother are nothing alike. I am not saying that this is the case with your family's situation. These are just a few examples from other families in a similar situation as yours. </p><p>Regardless of what the cause is, if this dysfunctional pattern is allowed to continue, your mom and your wife will begin to get upset with you when you don't agree with them. They will get upset if you don't align yourself with them against the other. They will be offended when it seems like you are choosing the other one's side or that you are not standing up for them like they think you should. In worst cases, if it continues to escalate you may even find yourself in the impossible position of having to choose between your wife and your mother which may mean cutting off contact with the other, ending that relationship. Change the dynamics before it spirals even further.</p>",
         "0"
        ],
        [
         "1",
         "5566f94fa64752d71ec3ca64",
         "I'm addicted to smoking. How can I stop?",
         "I'm planning to have baby, so I have to quit smoking - but it's hard. Sometimes it's not a physical need, it's mental.\r\n\r\nI cannot help myself from thinking about smoking. What can I do to get rid of this addiction?",
         "https://counselchat.com/questions/i-m-addicted-to-smoking-how-can-i-stop",
         "Substance Abuse,Addiction",
         "Rebecca Duellman",
         "https://counselchat.com/therapists/rebecca-duellman",
         "<p>Hi. Good for you in planning ahead to do what's healthiest for your baby (and yourself). That's a great first step! It's also good that you are able to identify that it's not always a physical need that's driving the addiction.</p><p>For the next steps, I would suggest trying to figure out when the psychological cravings for a cigarette occur. The psychological (or mental) cravings are usually based out of habit, such as having a cigarette after a meal. And if you're consciously trying to quit, you'll find the craving starts with simply thinking about having a cigarette, then usually moves on to thinking about how good it made you feel, etc., etc. Well, if I'm on a diet and I continue to let myself think about the ice cream sitting in the freezer, eventually I'll give in and eat it.</p><p>You're going to have thoughts about smoking a cigarette. That's normal and, for the most part, out of your control. But you choose whether or not to CONTINUE thinking and dwelling about it after that initial thought. That's what you would have to work on changing. When you have that initial thought, acknowledge it (&#34;Ok, I kind of want a cigarette now.&#34;), but then change the thoughts that typically follow. Distract yourself, think about something else, do something else, whatever it takes to get your mind off of that cigarette.</p><p>I've suggested to clients before that they should plan these scenarios out ahead of time so they already know what they're going to do when the time comes. Write down when you usually have the craving for a cigarette and then write down new thoughts or things to do to get your mind off of it. Eventually, it will become easier and easier to brush off that initial thought until you no longer have it.</p><p>Best of luck, and you have a really great motivator to quit - your baby!</p>",
         "0"
        ],
        [
         "2",
         "5567d26887a1cc0c3f3d8f46",
         "Keeping secrets from my family",
         "I have secrets in my mind, and I don't know what to do with them. I don't want to tell my wife and mom because I don't want to hurt them. But I'm not sure how long that I can keep the secret to myself.\r\n\r\nWhat should I do? It's becoming annoying and making me anxious. Help me out",
         "https://counselchat.com/questions/keeping-secrets-from-my-family",
         "Family Conflict",
         "Jeevna Bajaj",
         "https://counselchat.com/therapists/jeevna-bajaj",
         "<p>It sounds like keeping the secrets has become a problem for you now. There are several things to consider before you make a decision.</p><p>- You mentioned that you don't want your wife and mom to know because you don't want to hurt them – why would it hurt them? </p><p>- Is it necessary for them to know this information?</p><p>- What are the consequences of either telling them the truth or not telling them? (for you and for your wife and mom).</p><p>- Once you have considered these, think of what you would tell your friend if they were in your exact situation?</p><p>- Also, if your wife or mom were in your situation right now, what do you think they would do themselves?</p><p>- If your wife and mom were in this situation, how would you feel? Would you want to know the secrets?</p><p>- How has keeping these secrets affected your own mental and physical health?</p><p>Once you have looked at the problem from all angles, you will be able to better make a decision on whether it is right to tell them or not.</p>",
         "0"
        ],
        [
         "3",
         "556bed15c969ba5861709df5",
         "The Underlying Causes of Being Possessive",
         "I am extremely possessive in my relationships and this is hurting my friendships. How can I fix my underlying issues?",
         "https://counselchat.com/questions/the-underlying-causes-of-being-possessive",
         "Behavioral Change,Social Relationships",
         "Rebecca Duellman",
         "https://counselchat.com/therapists/rebecca-duellman",
         "<p>Hi there. It's great you are able to realize there are other issues going on with someone who feels possessive. At the root of it is fear. Fear of losing someone, fear of being alone, fear of not being good enough. All those fears can lead to low self-esteem and feeling like you have to control other people so you don't lose them. The thing is, controlling other people only pushes them away. Vicious circle, right? </p><p>What I would suggest is some cognitive therapy to change those underlying ways of thinking. You can start with this assignment. Write down all the things you think about yourself, positive and not-so-positive. Then rewrite those not-so-positive things so they are positive. For example, thinking something like, &#34;I'm too pushy&#34;, can be rewritten as, &#34;I'm assertive and I go after what I want.&#34; It can be hard to do since we tend to get &#34;stuck&#34; in our negative ways of thinking about ourselves. If you have someone you trust, you can ask for their help as well since most likely they see you differently than you see yourself.</p><p>Finding a good cognitive therapist can help you further, but if that's not an option for you right now, there are lots of self-help books and websites that are out there. You've already taken the first step, so keep moving forward.</p>",
         "0"
        ],
        [
         "4",
         "556ba115c969ba5861709de6",
         "Can I control anxiety without medication?",
         "I had a head injury a few years ago and my mind races all the time. I have trouble sleeping and have a lot of anxiety. Every medicine I have been on my body rejects; I get sick to my stomach and get blisters in my mouth. How can I calm my self down? I'm a wreck.",
         "https://counselchat.com/questions/can-i-control-anxiety-without-medication",
         "Anxiety",
         "Rebecca Duellman",
         "https://counselchat.com/therapists/rebecca-duellman",
         "<p>You didn't say what or how many medications you've tried. Certain anxiety medications can make you feel nauseous, but I haven't heard of any that cause mouth blisters, so there may be some other underlying medical issue there. I would definitely talk to your primary care physician and whoever has prescribed the medication as well as a neurologist if you've suffered a severe head injury. There are so many medications available for anxiety or insomnia or even depression that there may be others with lesser side effects.</p><p>But beyond that, have you tried any other treatments such as deep breathing or meditation? Meditation can be very effective, but it takes practice and you don't have to sit cross-legged for hours chanting &#34;Ohm&#34; to meditate. It's about focusing on your breath, rather than all the thoughts that are racing through your head. And when they do take your mind off your breath, simply refocus (and refocus and refocus). Like I said, it takes practice, so don't give up. You can find many sites offering different ways to meditate, so look around and see what works best for you. Like medication, you just have to find the one that works best and that might take some experimentation.</p><p>I hope this helps and best of luck to you.</p>",
         "0"
        ]
       ],
       "shape": {
        "columns": 9,
        "rows": 5
       }
      },
      "text/html": [
       "<div>\n",
       "<style scoped>\n",
       "    .dataframe tbody tr th:only-of-type {\n",
       "        vertical-align: middle;\n",
       "    }\n",
       "\n",
       "    .dataframe tbody tr th {\n",
       "        vertical-align: top;\n",
       "    }\n",
       "\n",
       "    .dataframe thead th {\n",
       "        text-align: right;\n",
       "    }\n",
       "</style>\n",
       "<table border=\"1\" class=\"dataframe\">\n",
       "  <thead>\n",
       "    <tr style=\"text-align: right;\">\n",
       "      <th></th>\n",
       "      <th>questionID</th>\n",
       "      <th>questionTitle</th>\n",
       "      <th>questionText</th>\n",
       "      <th>questionUrl</th>\n",
       "      <th>topics</th>\n",
       "      <th>therapistName</th>\n",
       "      <th>therapistUrl</th>\n",
       "      <th>answerText</th>\n",
       "      <th>upvotes</th>\n",
       "    </tr>\n",
       "  </thead>\n",
       "  <tbody>\n",
       "    <tr>\n",
       "      <th>0</th>\n",
       "      <td>5566fab2a64752d71ec3ca69</td>\n",
       "      <td>Escalating disagreements between mother and wife</td>\n",
       "      <td>My wife and mother are having tense disagreeme...</td>\n",
       "      <td>https://counselchat.com/questions/escalating-d...</td>\n",
       "      <td>Family Conflict</td>\n",
       "      <td>Kristi King-Morgan, LMSW</td>\n",
       "      <td>https://counselchat.com/therapists/kristi-king...</td>\n",
       "      <td>&lt;p&gt;What you are describing is something psycho...</td>\n",
       "      <td>0</td>\n",
       "    </tr>\n",
       "    <tr>\n",
       "      <th>1</th>\n",
       "      <td>5566f94fa64752d71ec3ca64</td>\n",
       "      <td>I'm addicted to smoking. How can I stop?</td>\n",
       "      <td>I'm planning to have baby, so I have to quit s...</td>\n",
       "      <td>https://counselchat.com/questions/i-m-addicted...</td>\n",
       "      <td>Substance Abuse,Addiction</td>\n",
       "      <td>Rebecca Duellman</td>\n",
       "      <td>https://counselchat.com/therapists/rebecca-due...</td>\n",
       "      <td>&lt;p&gt;Hi. Good for you in planning ahead to do wh...</td>\n",
       "      <td>0</td>\n",
       "    </tr>\n",
       "    <tr>\n",
       "      <th>2</th>\n",
       "      <td>5567d26887a1cc0c3f3d8f46</td>\n",
       "      <td>Keeping secrets from my family</td>\n",
       "      <td>I have secrets in my mind, and I don't know wh...</td>\n",
       "      <td>https://counselchat.com/questions/keeping-secr...</td>\n",
       "      <td>Family Conflict</td>\n",
       "      <td>Jeevna Bajaj</td>\n",
       "      <td>https://counselchat.com/therapists/jeevna-bajaj</td>\n",
       "      <td>&lt;p&gt;It sounds like keeping the secrets has beco...</td>\n",
       "      <td>0</td>\n",
       "    </tr>\n",
       "    <tr>\n",
       "      <th>3</th>\n",
       "      <td>556bed15c969ba5861709df5</td>\n",
       "      <td>The Underlying Causes of Being Possessive</td>\n",
       "      <td>I am extremely possessive in my relationships ...</td>\n",
       "      <td>https://counselchat.com/questions/the-underlyi...</td>\n",
       "      <td>Behavioral Change,Social Relationships</td>\n",
       "      <td>Rebecca Duellman</td>\n",
       "      <td>https://counselchat.com/therapists/rebecca-due...</td>\n",
       "      <td>&lt;p&gt;Hi there. It's great you are able to realiz...</td>\n",
       "      <td>0</td>\n",
       "    </tr>\n",
       "    <tr>\n",
       "      <th>4</th>\n",
       "      <td>556ba115c969ba5861709de6</td>\n",
       "      <td>Can I control anxiety without medication?</td>\n",
       "      <td>I had a head injury a few years ago and my min...</td>\n",
       "      <td>https://counselchat.com/questions/can-i-contro...</td>\n",
       "      <td>Anxiety</td>\n",
       "      <td>Rebecca Duellman</td>\n",
       "      <td>https://counselchat.com/therapists/rebecca-due...</td>\n",
       "      <td>&lt;p&gt;You didn't say what or how many medications...</td>\n",
       "      <td>0</td>\n",
       "    </tr>\n",
       "  </tbody>\n",
       "</table>\n",
       "</div>"
      ],
      "text/plain": [
       "                 questionID                                     questionTitle  \\\n",
       "0  5566fab2a64752d71ec3ca69  Escalating disagreements between mother and wife   \n",
       "1  5566f94fa64752d71ec3ca64          I'm addicted to smoking. How can I stop?   \n",
       "2  5567d26887a1cc0c3f3d8f46                    Keeping secrets from my family   \n",
       "3  556bed15c969ba5861709df5         The Underlying Causes of Being Possessive   \n",
       "4  556ba115c969ba5861709de6         Can I control anxiety without medication?   \n",
       "\n",
       "                                        questionText  \\\n",
       "0  My wife and mother are having tense disagreeme...   \n",
       "1  I'm planning to have baby, so I have to quit s...   \n",
       "2  I have secrets in my mind, and I don't know wh...   \n",
       "3  I am extremely possessive in my relationships ...   \n",
       "4  I had a head injury a few years ago and my min...   \n",
       "\n",
       "                                         questionUrl  \\\n",
       "0  https://counselchat.com/questions/escalating-d...   \n",
       "1  https://counselchat.com/questions/i-m-addicted...   \n",
       "2  https://counselchat.com/questions/keeping-secr...   \n",
       "3  https://counselchat.com/questions/the-underlyi...   \n",
       "4  https://counselchat.com/questions/can-i-contro...   \n",
       "\n",
       "                                   topics             therapistName  \\\n",
       "0                         Family Conflict  Kristi King-Morgan, LMSW   \n",
       "1               Substance Abuse,Addiction          Rebecca Duellman   \n",
       "2                         Family Conflict              Jeevna Bajaj   \n",
       "3  Behavioral Change,Social Relationships          Rebecca Duellman   \n",
       "4                                 Anxiety          Rebecca Duellman   \n",
       "\n",
       "                                        therapistUrl  \\\n",
       "0  https://counselchat.com/therapists/kristi-king...   \n",
       "1  https://counselchat.com/therapists/rebecca-due...   \n",
       "2    https://counselchat.com/therapists/jeevna-bajaj   \n",
       "3  https://counselchat.com/therapists/rebecca-due...   \n",
       "4  https://counselchat.com/therapists/rebecca-due...   \n",
       "\n",
       "                                          answerText  upvotes  \n",
       "0  <p>What you are describing is something psycho...        0  \n",
       "1  <p>Hi. Good for you in planning ahead to do wh...        0  \n",
       "2  <p>It sounds like keeping the secrets has beco...        0  \n",
       "3  <p>Hi there. It's great you are able to realiz...        0  \n",
       "4  <p>You didn't say what or how many medications...        0  "
      ]
     },
     "metadata": {},
     "output_type": "display_data"
    },
    {
     "data": {
      "application/vnd.microsoft.datawrangler.viewer.v0+json": {
       "columns": [
        {
         "name": "index",
         "rawType": "int64",
         "type": "integer"
        },
        {
         "name": "questionID",
         "rawType": "object",
         "type": "string"
        },
        {
         "name": "questionTitle",
         "rawType": "object",
         "type": "string"
        },
        {
         "name": "questionText",
         "rawType": "object",
         "type": "string"
        },
        {
         "name": "questionUrl",
         "rawType": "object",
         "type": "string"
        },
        {
         "name": "topics",
         "rawType": "object",
         "type": "string"
        },
        {
         "name": "therapistName",
         "rawType": "object",
         "type": "string"
        },
        {
         "name": "therapistUrl",
         "rawType": "object",
         "type": "string"
        },
        {
         "name": "answerText",
         "rawType": "object",
         "type": "string"
        },
        {
         "name": "upvotes",
         "rawType": "int64",
         "type": "integer"
        }
       ],
       "ref": "84471023-75b3-4f2e-a750-9a51e7964732",
       "rows": [
        [
         "1477",
         "56d2f2aa9471b0b41ec68e4d",
         "Is it healthy to embarrass a child as punishment?",
         "My grandson's step-mother sends him to school with a pink Barbie backpack as a form of punishment.",
         "https://counselchat.com/questions/is-it-healthy-to-embarrass-a-child-as-punishment",
         "Parenting,Family Conflict",
         "Candice Lawhorn",
         "https://counselchat.com/therapists/candice-lawhorn",
         "<p>Absolutely not!&nbsp;</p><p>It is never in a child's best interest to use humiliation as punishment. This can lead to issues in the relationship between parent and child as well as the child's social relationships. Kids have a hard enough time. To then go and cause them embarrassment is unconscionable.&nbsp;</p><p>The entire job of a parent is to prepare their child to become a successful, healthy adult. You do this by using healthy ways to teach a child when they make a mistake. Discipline shouldn't be seen as punishment. It should be seen as a way to teach a lesson. What lesson could this possibility be teaching him? Absolutely nothing.&nbsp;</p><p>Meanwhile, she is most likely damaging her relationship with him and causing great distress in his school day and peer interactions.&nbsp;</p><p>She should be one of the people he can come to when he's hurting; not someone who causes him pain.</p>",
         "0"
        ],
        [
         "1478",
         "5797a411b43cd7825e26e246",
         "How do I fix my relationship?",
         "My boyfriend is in recovery from drug addiction. We recently got into a fight and he has become very distant.  I don't know what to do to fix the relationship.",
         "https://counselchat.com/questions/how-do-i-fix-my-relationship-3",
         "Relationships,Addiction",
         "Sherry Katz, LCSW",
         "https://counselchat.com/therapists/sherry-katz-lcsw",
         "<p>I'm sorry you have tension between you and your bf.</p><p>A relationship means two people who relate, right?! &nbsp; If only one person does all the work to change their approach, what they expect, what they offer the other, then this becomes the new problem to solve.</p><p>If you've already done a significant amount of reflection and change in the way you relate to him, then the next step may be to be patient as long as possible while he decides what to change about his part in the relationship toward you.</p><p>Substance abuse recovery requires profound effort and reflection. &nbsp;If it is successful then the result will show very different qualities in your bf than the ones you know currently.</p><p>He may be so absorbed in the recovery that he can only concentrate on this. &nbsp;&nbsp;</p><p>Of course if the fights persist and you have been patient for what feels too long, then there are different questions to address.</p>",
         "0"
        ],
        [
         "1479",
         "5796a111bc069dff6a5339ca",
         "What are the long term effects of losing one's adopted mother?",
         "The birth mother attempted suicide several times while pregnant. The adopted mother was terminally ill upon adopting the baby and died when  the child was just over one year old.  The adopted father then remarried to a physically, psychologically, and emotionally abusive woman.  The child was placed in foster care at 11 years old. \r\n\r\nWhat might be the long term effects on an adult with this childhood history?",
         "https://counselchat.com/questions/what-are-the-long-term-effects-of-losing-one-s-adopted-mother",
         "Family Conflict,Parenting,Children & Adolescents",
         "Sherry Katz, LCSW",
         "https://counselchat.com/therapists/sherry-katz-lcsw",
         "<p>The true answer is, \"no one can really say with certainty\".</p><p>The variables are the way this child absorbs and adjusts to these significant changes in their life. &nbsp;All anyone can do is guess at this point and there's no good reason to guess.</p><p>The only general certainty is that the adult whom this child becomes will have had a profound encounter with the biggest types of human losses a child can go through.</p><p>Some people become great teachers, therapists and philosophers who have this background. &nbsp;Some give up on life and hide away from others.</p><p>The best anyone could do who knows this child is to offer love bc this is the greatest guarantee to show there are good people on this earth.</p>",
         "0"
        ],
        [
         "1480",
         "5795952cbc069dff6a5339aa",
         "How do I help my 20 year old boyfriend who says he hates his life?",
         "I think adult life is making him depressed and we often sleep in on weekends untill 1 or 2 pm. We just eat, smoke weed, watch movies, and he'll go on his phone all day. He doesn't seem motivated to do much and he's often angry.\r\n\r\n I have no clue how to help him take his mind off the negative, or to distract him into a different light. How do I help him?",
         "https://counselchat.com/questions/how-do-i-help-my-20-year-old-boyfriend-who-says-he-hates-his-life",
         "Relationships,Depression,Substance Abuse",
         "Sherry Katz, LCSW",
         "https://counselchat.com/therapists/sherry-katz-lcsw",
         "<p>How do you help yourself to believe you require more than what he offers to you?</p><p>What do you get from this relationship which feels satisfying?</p><p>To answer this question may in the longterm be the best way to help your bf.</p>",
         "0"
        ],
        [
         "1481",
         "5773e438b9ff751f196e8df0",
         "I'm worried about my new job.",
         "I just took a job that requires me to travel far away from home. My family and I really need this job.\r\n\r\nPeople keep telling me I have \"anxiety\" and I'm terrified of having an anxiety attack on the road. This is all new to me. What can I do?",
         "https://counselchat.com/questions/i-m-worried-about-my-new-job",
         "Anxiety,Career Counseling",
         "Philip Kolba",
         "https://counselchat.com/therapists/philip-kolba",
         "<p>hmm this is a tough one!</p>",
         "0"
        ]
       ],
       "shape": {
        "columns": 9,
        "rows": 5
       }
      },
      "text/html": [
       "<div>\n",
       "<style scoped>\n",
       "    .dataframe tbody tr th:only-of-type {\n",
       "        vertical-align: middle;\n",
       "    }\n",
       "\n",
       "    .dataframe tbody tr th {\n",
       "        vertical-align: top;\n",
       "    }\n",
       "\n",
       "    .dataframe thead th {\n",
       "        text-align: right;\n",
       "    }\n",
       "</style>\n",
       "<table border=\"1\" class=\"dataframe\">\n",
       "  <thead>\n",
       "    <tr style=\"text-align: right;\">\n",
       "      <th></th>\n",
       "      <th>questionID</th>\n",
       "      <th>questionTitle</th>\n",
       "      <th>questionText</th>\n",
       "      <th>questionUrl</th>\n",
       "      <th>topics</th>\n",
       "      <th>therapistName</th>\n",
       "      <th>therapistUrl</th>\n",
       "      <th>answerText</th>\n",
       "      <th>upvotes</th>\n",
       "    </tr>\n",
       "  </thead>\n",
       "  <tbody>\n",
       "    <tr>\n",
       "      <th>1477</th>\n",
       "      <td>56d2f2aa9471b0b41ec68e4d</td>\n",
       "      <td>Is it healthy to embarrass a child as punishment?</td>\n",
       "      <td>My grandson's step-mother sends him to school ...</td>\n",
       "      <td>https://counselchat.com/questions/is-it-health...</td>\n",
       "      <td>Parenting,Family Conflict</td>\n",
       "      <td>Candice Lawhorn</td>\n",
       "      <td>https://counselchat.com/therapists/candice-law...</td>\n",
       "      <td>&lt;p&gt;Absolutely not!&amp;nbsp;&lt;/p&gt;&lt;p&gt;It is never in ...</td>\n",
       "      <td>0</td>\n",
       "    </tr>\n",
       "    <tr>\n",
       "      <th>1478</th>\n",
       "      <td>5797a411b43cd7825e26e246</td>\n",
       "      <td>How do I fix my relationship?</td>\n",
       "      <td>My boyfriend is in recovery from drug addictio...</td>\n",
       "      <td>https://counselchat.com/questions/how-do-i-fix...</td>\n",
       "      <td>Relationships,Addiction</td>\n",
       "      <td>Sherry Katz, LCSW</td>\n",
       "      <td>https://counselchat.com/therapists/sherry-katz...</td>\n",
       "      <td>&lt;p&gt;I'm sorry you have tension between you and ...</td>\n",
       "      <td>0</td>\n",
       "    </tr>\n",
       "    <tr>\n",
       "      <th>1479</th>\n",
       "      <td>5796a111bc069dff6a5339ca</td>\n",
       "      <td>What are the long term effects of losing one's...</td>\n",
       "      <td>The birth mother attempted suicide several tim...</td>\n",
       "      <td>https://counselchat.com/questions/what-are-the...</td>\n",
       "      <td>Family Conflict,Parenting,Children &amp; Adolescents</td>\n",
       "      <td>Sherry Katz, LCSW</td>\n",
       "      <td>https://counselchat.com/therapists/sherry-katz...</td>\n",
       "      <td>&lt;p&gt;The true answer is, \"no one can really say ...</td>\n",
       "      <td>0</td>\n",
       "    </tr>\n",
       "    <tr>\n",
       "      <th>1480</th>\n",
       "      <td>5795952cbc069dff6a5339aa</td>\n",
       "      <td>How do I help my 20 year old boyfriend who say...</td>\n",
       "      <td>I think adult life is making him depressed and...</td>\n",
       "      <td>https://counselchat.com/questions/how-do-i-hel...</td>\n",
       "      <td>Relationships,Depression,Substance Abuse</td>\n",
       "      <td>Sherry Katz, LCSW</td>\n",
       "      <td>https://counselchat.com/therapists/sherry-katz...</td>\n",
       "      <td>&lt;p&gt;How do you help yourself to believe you req...</td>\n",
       "      <td>0</td>\n",
       "    </tr>\n",
       "    <tr>\n",
       "      <th>1481</th>\n",
       "      <td>5773e438b9ff751f196e8df0</td>\n",
       "      <td>I'm worried about my new job.</td>\n",
       "      <td>I just took a job that requires me to travel f...</td>\n",
       "      <td>https://counselchat.com/questions/i-m-worried-...</td>\n",
       "      <td>Anxiety,Career Counseling</td>\n",
       "      <td>Philip Kolba</td>\n",
       "      <td>https://counselchat.com/therapists/philip-kolba</td>\n",
       "      <td>&lt;p&gt;hmm this is a tough one!&lt;/p&gt;</td>\n",
       "      <td>0</td>\n",
       "    </tr>\n",
       "  </tbody>\n",
       "</table>\n",
       "</div>"
      ],
      "text/plain": [
       "                    questionID  \\\n",
       "1477  56d2f2aa9471b0b41ec68e4d   \n",
       "1478  5797a411b43cd7825e26e246   \n",
       "1479  5796a111bc069dff6a5339ca   \n",
       "1480  5795952cbc069dff6a5339aa   \n",
       "1481  5773e438b9ff751f196e8df0   \n",
       "\n",
       "                                          questionTitle  \\\n",
       "1477  Is it healthy to embarrass a child as punishment?   \n",
       "1478                      How do I fix my relationship?   \n",
       "1479  What are the long term effects of losing one's...   \n",
       "1480  How do I help my 20 year old boyfriend who say...   \n",
       "1481                      I'm worried about my new job.   \n",
       "\n",
       "                                           questionText  \\\n",
       "1477  My grandson's step-mother sends him to school ...   \n",
       "1478  My boyfriend is in recovery from drug addictio...   \n",
       "1479  The birth mother attempted suicide several tim...   \n",
       "1480  I think adult life is making him depressed and...   \n",
       "1481  I just took a job that requires me to travel f...   \n",
       "\n",
       "                                            questionUrl  \\\n",
       "1477  https://counselchat.com/questions/is-it-health...   \n",
       "1478  https://counselchat.com/questions/how-do-i-fix...   \n",
       "1479  https://counselchat.com/questions/what-are-the...   \n",
       "1480  https://counselchat.com/questions/how-do-i-hel...   \n",
       "1481  https://counselchat.com/questions/i-m-worried-...   \n",
       "\n",
       "                                                topics      therapistName  \\\n",
       "1477                         Parenting,Family Conflict    Candice Lawhorn   \n",
       "1478                           Relationships,Addiction  Sherry Katz, LCSW   \n",
       "1479  Family Conflict,Parenting,Children & Adolescents  Sherry Katz, LCSW   \n",
       "1480          Relationships,Depression,Substance Abuse  Sherry Katz, LCSW   \n",
       "1481                         Anxiety,Career Counseling       Philip Kolba   \n",
       "\n",
       "                                           therapistUrl  \\\n",
       "1477  https://counselchat.com/therapists/candice-law...   \n",
       "1478  https://counselchat.com/therapists/sherry-katz...   \n",
       "1479  https://counselchat.com/therapists/sherry-katz...   \n",
       "1480  https://counselchat.com/therapists/sherry-katz...   \n",
       "1481    https://counselchat.com/therapists/philip-kolba   \n",
       "\n",
       "                                             answerText  upvotes  \n",
       "1477  <p>Absolutely not!&nbsp;</p><p>It is never in ...        0  \n",
       "1478  <p>I'm sorry you have tension between you and ...        0  \n",
       "1479  <p>The true answer is, \"no one can really say ...        0  \n",
       "1480  <p>How do you help yourself to believe you req...        0  \n",
       "1481                    <p>hmm this is a tough one!</p>        0  "
      ]
     },
     "metadata": {},
     "output_type": "display_data"
    }
   ],
   "source": [
    "display(counsel_chat_df.head())\n",
    "display(counsel_chat_df.tail())"
   ]
  },
  {
   "cell_type": "code",
   "execution_count": 22,
   "id": "3248c363",
   "metadata": {},
   "outputs": [
    {
     "name": "stdout",
     "output_type": "stream",
     "text": [
      "<class 'pandas.core.frame.DataFrame'>\n",
      "RangeIndex: 1482 entries, 0 to 1481\n",
      "Data columns (total 9 columns):\n",
      " #   Column         Non-Null Count  Dtype \n",
      "---  ------         --------------  ----- \n",
      " 0   questionID     1482 non-null   object\n",
      " 1   questionTitle  1480 non-null   object\n",
      " 2   questionText   1383 non-null   object\n",
      " 3   questionUrl    1482 non-null   object\n",
      " 4   topics         1472 non-null   object\n",
      " 5   therapistName  1482 non-null   object\n",
      " 6   therapistUrl   1482 non-null   object\n",
      " 7   answerText     1482 non-null   object\n",
      " 8   upvotes        1482 non-null   int64 \n",
      "dtypes: int64(1), object(8)\n",
      "memory usage: 104.3+ KB\n"
     ]
    }
   ],
   "source": [
    "counsel_chat_df.info()"
   ]
  },
  {
   "cell_type": "code",
   "execution_count": 23,
   "id": "97350058",
   "metadata": {},
   "outputs": [
    {
     "data": {
      "application/vnd.microsoft.datawrangler.viewer.v0+json": {
       "columns": [
        {
         "name": "index",
         "rawType": "object",
         "type": "string"
        },
        {
         "name": "upvotes",
         "rawType": "float64",
         "type": "float"
        }
       ],
       "ref": "1f9c191e-8c6f-46f8-89d0-0375edd383ea",
       "rows": [
        [
         "count",
         "1482.0"
        ],
        [
         "mean",
         "0.0"
        ],
        [
         "std",
         "0.0"
        ],
        [
         "min",
         "0.0"
        ],
        [
         "25%",
         "0.0"
        ],
        [
         "50%",
         "0.0"
        ],
        [
         "75%",
         "0.0"
        ],
        [
         "max",
         "0.0"
        ]
       ],
       "shape": {
        "columns": 1,
        "rows": 8
       }
      },
      "text/html": [
       "<div>\n",
       "<style scoped>\n",
       "    .dataframe tbody tr th:only-of-type {\n",
       "        vertical-align: middle;\n",
       "    }\n",
       "\n",
       "    .dataframe tbody tr th {\n",
       "        vertical-align: top;\n",
       "    }\n",
       "\n",
       "    .dataframe thead th {\n",
       "        text-align: right;\n",
       "    }\n",
       "</style>\n",
       "<table border=\"1\" class=\"dataframe\">\n",
       "  <thead>\n",
       "    <tr style=\"text-align: right;\">\n",
       "      <th></th>\n",
       "      <th>upvotes</th>\n",
       "    </tr>\n",
       "  </thead>\n",
       "  <tbody>\n",
       "    <tr>\n",
       "      <th>count</th>\n",
       "      <td>1482.0</td>\n",
       "    </tr>\n",
       "    <tr>\n",
       "      <th>mean</th>\n",
       "      <td>0.0</td>\n",
       "    </tr>\n",
       "    <tr>\n",
       "      <th>std</th>\n",
       "      <td>0.0</td>\n",
       "    </tr>\n",
       "    <tr>\n",
       "      <th>min</th>\n",
       "      <td>0.0</td>\n",
       "    </tr>\n",
       "    <tr>\n",
       "      <th>25%</th>\n",
       "      <td>0.0</td>\n",
       "    </tr>\n",
       "    <tr>\n",
       "      <th>50%</th>\n",
       "      <td>0.0</td>\n",
       "    </tr>\n",
       "    <tr>\n",
       "      <th>75%</th>\n",
       "      <td>0.0</td>\n",
       "    </tr>\n",
       "    <tr>\n",
       "      <th>max</th>\n",
       "      <td>0.0</td>\n",
       "    </tr>\n",
       "  </tbody>\n",
       "</table>\n",
       "</div>"
      ],
      "text/plain": [
       "       upvotes\n",
       "count   1482.0\n",
       "mean       0.0\n",
       "std        0.0\n",
       "min        0.0\n",
       "25%        0.0\n",
       "50%        0.0\n",
       "75%        0.0\n",
       "max        0.0"
      ]
     },
     "execution_count": 23,
     "metadata": {},
     "output_type": "execute_result"
    }
   ],
   "source": [
    "counsel_chat_df.describe()"
   ]
  },
  {
   "cell_type": "markdown",
   "id": "6a82fdaa",
   "metadata": {},
   "source": [
    "### Cleaning Counsel Chat Data"
   ]
  },
  {
   "cell_type": "code",
   "execution_count": 24,
   "id": "682e3844",
   "metadata": {},
   "outputs": [],
   "source": [
    "counsel_chat_df = counsel_chat_df.drop(columns=['questionID', 'questionTitle', 'questionUrl', 'topics', 'therapistName', 'therapistUrl', 'upvotes'])\n"
   ]
  },
  {
   "cell_type": "code",
   "execution_count": 25,
   "id": "21c2c486",
   "metadata": {},
   "outputs": [
    {
     "name": "stdout",
     "output_type": "stream",
     "text": [
      "<class 'pandas.core.frame.DataFrame'>\n",
      "RangeIndex: 1482 entries, 0 to 1481\n",
      "Data columns (total 2 columns):\n",
      " #   Column        Non-Null Count  Dtype \n",
      "---  ------        --------------  ----- \n",
      " 0   questionText  1383 non-null   object\n",
      " 1   answerText    1482 non-null   object\n",
      "dtypes: object(2)\n",
      "memory usage: 23.3+ KB\n"
     ]
    }
   ],
   "source": [
    "counsel_chat_df.info()"
   ]
  },
  {
   "cell_type": "code",
   "execution_count": 26,
   "id": "210c0ac9",
   "metadata": {},
   "outputs": [
    {
     "data": {
      "application/vnd.microsoft.datawrangler.viewer.v0+json": {
       "columns": [
        {
         "name": "index",
         "rawType": "object",
         "type": "string"
        },
        {
         "name": "questionText",
         "rawType": "object",
         "type": "unknown"
        },
        {
         "name": "answerText",
         "rawType": "object",
         "type": "unknown"
        }
       ],
       "ref": "0d46ea09-93e1-4742-bab7-dba3baec0f6c",
       "rows": [
        [
         "count",
         "1383",
         "1482"
        ],
        [
         "unique",
         "718",
         "1478"
        ],
        [
         "top",
         "I've gone to a couple therapy sessions so far and still everytime I walk in I get nervous and shaky.  Is this normal? Should I still be feeling like this?",
         "<p><br></p>"
        ],
        [
         "freq",
         "22",
         "5"
        ]
       ],
       "shape": {
        "columns": 2,
        "rows": 4
       }
      },
      "text/html": [
       "<div>\n",
       "<style scoped>\n",
       "    .dataframe tbody tr th:only-of-type {\n",
       "        vertical-align: middle;\n",
       "    }\n",
       "\n",
       "    .dataframe tbody tr th {\n",
       "        vertical-align: top;\n",
       "    }\n",
       "\n",
       "    .dataframe thead th {\n",
       "        text-align: right;\n",
       "    }\n",
       "</style>\n",
       "<table border=\"1\" class=\"dataframe\">\n",
       "  <thead>\n",
       "    <tr style=\"text-align: right;\">\n",
       "      <th></th>\n",
       "      <th>questionText</th>\n",
       "      <th>answerText</th>\n",
       "    </tr>\n",
       "  </thead>\n",
       "  <tbody>\n",
       "    <tr>\n",
       "      <th>count</th>\n",
       "      <td>1383</td>\n",
       "      <td>1482</td>\n",
       "    </tr>\n",
       "    <tr>\n",
       "      <th>unique</th>\n",
       "      <td>718</td>\n",
       "      <td>1478</td>\n",
       "    </tr>\n",
       "    <tr>\n",
       "      <th>top</th>\n",
       "      <td>I've gone to a couple therapy sessions so far ...</td>\n",
       "      <td>&lt;p&gt;&lt;br&gt;&lt;/p&gt;</td>\n",
       "    </tr>\n",
       "    <tr>\n",
       "      <th>freq</th>\n",
       "      <td>22</td>\n",
       "      <td>5</td>\n",
       "    </tr>\n",
       "  </tbody>\n",
       "</table>\n",
       "</div>"
      ],
      "text/plain": [
       "                                             questionText   answerText\n",
       "count                                                1383         1482\n",
       "unique                                                718         1478\n",
       "top     I've gone to a couple therapy sessions so far ...  <p><br></p>\n",
       "freq                                                   22            5"
      ]
     },
     "execution_count": 26,
     "metadata": {},
     "output_type": "execute_result"
    }
   ],
   "source": [
    "(counsel_chat_df.describe())"
   ]
  },
  {
   "cell_type": "code",
   "execution_count": 27,
   "id": "cb96965d",
   "metadata": {},
   "outputs": [
    {
     "data": {
      "application/vnd.microsoft.datawrangler.viewer.v0+json": {
       "columns": [
        {
         "name": "index",
         "rawType": "int64",
         "type": "integer"
        },
        {
         "name": "questionText",
         "rawType": "object",
         "type": "string"
        },
        {
         "name": "answerText",
         "rawType": "object",
         "type": "string"
        }
       ],
       "ref": "251a9df5-f125-46b3-a498-755222d2c7c7",
       "rows": [
        [
         "1087",
         "I was raped a couple months ago, Since then, along with other unfortunately events that have occurred, I have been having trouble feeling emotions. It's almost as if I'm a sociopath lacking any feeling. What can I do to change this?",
         "<p>I am so sorry to hear about what happened to you! What you are describing is being in a state of shock. You haven't suddenly become a sociopath - this is a normal reaction to an event that is completely overwhelming. There are most likely too many feelings to feel right now, so your body in its wisdom is shutting them down. You absolutely can recover, and it would be really important to get some trauma counseling with a counselor who feels safe for you to talk with. This is not the kind of situation to try and handle totally on your own.&nbsp;</p>"
        ],
        [
         "216",
         "Back in high school, my friend and I used to masturbate around each other. I hate even talking about it now because it's so weird. We didn't even realize how messed up it was at the time. One time, it escalated and we ended up doing it for each other. It wasn't supposed to be a gay thing, but it sure sounds like it now that I talk about it. I pushed this away until it recently came up in my head again. I'm having a lot of trouble.",
         "<p>Writing about your high school masturbation times with your friend, is itself a form of acknowledging the full picture of who you are. &nbsp;&nbsp;</p><p>You are doing well to reflect on your actions in the truthful way you are doing.</p><p>Also positive is that you have perspective, that at your age and social maturity, you were innocently doing something that in adult terms, would be considered in a negative way.</p><p>Maybe through your more mature mind's eye of today, you can feel some compassion and understanding for your high school self. &nbsp;This way your sense of self-judgment may start to dissolve a little bit more.</p>"
        ],
        [
         "1396",
         "I feel like I am internally screaming all the time. Externally, I am calm, but I have this intense, unidentifiable emotion constantly. I don't feel sad. I don't cry a lot. I feel rather emotionally distant other than the internal screaming. It kind of feels like I'm a caged animal.",
         "<p>It sounds like you are trying to find a label to help you to understand why you are feeling the way you are feeling. &nbsp;Sometimes there are no labels for how we feel. &nbsp;Sometimes there is no name for the emotions that we are experiencing. Regardless, you do not have to continue to feel this way, no matter what you call it. &nbsp;If you are seeking to experience an internal calmness such as your external calmness, you may want to try some mindfulness practices or meditation. &nbsp;However, being able to get at the root cause of what you are feeling may be what you need to help you release this feeling for the long term. &nbsp;I recommend seeking support for this to allow this internal screaming to get some air and begin to breathe.&nbsp;</p>"
        ],
        [
         "357",
         "I have been diagnosed with posttraumatic stress disorder due to my military experiences. Not a year ago, I had a car accident. Could this experience add more problems?",
         "<p>You are right on to recognize that the effects of trauma can be cumulative. &nbsp;It is very possible that a car accident could lead to an increase in PTSD symptoms that were related to other traumatic experiences.</p><p>If you have been deployed to a combat area, you are most likely eligible for free counseling services through the VA Vet Centers. &nbsp;The Vet Center clinicians typically have a lot of experience working with military trauma. Here's a link to a directory of Vet Centers:</p><p>http://www.va.gov/directory/guide/vetcenter.asp<br></p><p>Your service and sacrifice is greatly appreciated.&nbsp;</p>"
        ],
        [
         "1033",
         "I have been married for 11 years. Within the past 2 years we have drifted far apart. We coexist together but there is very little personal interest in each other. I often feel that my husband has \"friends\" at work that he is more emotional invested in than me. I feel very alone and just uncared for.  Is there anything I can do to feel reconnected?",
         "<p>Piggybacking on the other respondent's suggestions, I also agree that most couples could use more frequent and more bonding communication in their relationships, and this is a GREAT place to get the ball rolling towards reconnecting.</p><p>Surveying the demographical data on long-term relationships, it's pretty common for couples to start to struggle around the 7-10 year mark and in fact, that's often when first time divorces happen. And for lots of reasons...most of them having something to do with beginning to take one another for granted and no longer doing the little things that nourish the relationship and light our partners up. &nbsp;Seems like you've encountered this in your own relationship...where he appears to be neglecting your need for emotional connection with him.</p><p>Doesn't have to be this way though. And from my own personal clinical experience, I can tell you that when even ONE partner is willing to make some small but powerful changes, they can often ripple outward to the other partner and bring about miraculous outcomes!&nbsp;</p><p>So my encouragement to you is this - if you're still in love with him...even a little bit...and you're down to try something new, there's hope! &nbsp;As hard as it may be, I would ask you to try and focus on YOUR own side of the street when approaching him. Use an open and curious approach with him.&nbsp;</p><p>Ask him what he thinks he needs in a marriage.&nbsp;</p><ul><li><span style=\"font-style: italic;\">What is it about you he fell in love with?&nbsp;</span></li><li><span style=\"font-style: italic;\">What helps him feel more fulfilled as a man and as a husband?&nbsp;</span></li><li><span style=\"font-style: italic;\">What little things that you have done over the years does he appreciate?&nbsp;</span></li></ul><div>Like Sherry said, if you can get him talking, there'll be plenty to work with. We only need a spark to kindle a fire. If he can give you a list, you'll have a blueprint for getting him to reconnect with you and it opens the door for you to offer him little suggestions as well.</div><div><br></div><div>By the time a couple reaches the point where you're at, there's usually very little fun going on. We've stopped enjoying one another's company. Try and think creatively about some shared experiences he might be willing to do. A picnic? Happy hour? Concerts, museums, cooking class, new sexual behaviors...the list is as infinite as you want it to be!&nbsp;<br><br></div><div>Some of my favorite suggestions for couples looking to understand how they got here and how to build their way out are:</div><ul><li>\"<a href=\"https://youtu.be/_8kVg1aGz_M\" target=\"_blank\">The Secret to Desire in a Long-Term Relationship</a>\" (Ted Talk) by Esther Perel</li><li>\"<a href=\"http://amzn.to/2aSu68j\" target=\"_blank\">Getting Together &amp; Staying Together: Solving the Mystery of Marriage</a>\" by William &amp; Carleen Glasser</li><li>\"<a href=\"http://amzn.to/2aPD0xJ\" target=\"_blank\">Divorce Busting - A Step By Step Approach to Making Your Marriage Loving Again</a>\" by Michelle Weiner-Davis</li><li>\"<a href=\"http://amzn.to/2b1viUg\" target=\"_blank\">The Relationship Cure: a 5 step Guide to Strengthening your Marriage, Family, and Friendships</a>\" by John Gottman &amp; Joan DeClaire</li><li>\"T<a href=\"http://amzn.to/2aPDdAT\" target=\"_blank\">he Seven Principles for Making Marriage Work</a>\" by John Gottman &amp; Nan Silver</li><li>\"<a href=\"http://amzn.to/2aSuK2z\" target=\"_blank\">The Five Love Languages</a>\" by Gary Chapman</li></ul><div>And of course, I'd be remiss if I didn't suggest that if you're open to the idea, maybe some individual and/ or couples counseling could be helpful too.</div><div><br></div><div>My very warmest regards to you,</div><div>Tamara Powell, LMHC</div>"
        ],
        [
         "1266",
         "My fiancé and I come from a strong Christian background but both went off the \"straight and narrow\" once before. He is having a hard time accepting my past, especially  that I'm not a virgin. He has a hard time in general accepting himself and others. \r\n\r\nHis insecurities are hurting our relationship. How can I help him let go of my past and decide to live in the present?",
         "<p>One of the sometimes difficult things about being in a relationship is the fact that you can make goals for yourself, but you can't make goals for your partner. If your fiancé wants to learn to live more in the present and learn to let go of the past or move in a different direction, you can certainly assist him, but you can't independently make it happen.</p><p>I wonder if both of you would be willing to have a discussion where he is able to explain to you what he is experiencing and you are able to listen for five, 10, 15 minutes in a way that is not blaming or pointing fingers or asking him to change, but just listening (kind of like an investigative reporter) so you can have more details and ask questions that you may have about what certain things mean, when it feels like to to him when this is discussed, etc. At that point, maybe he would willing to listen to your thoughts on the subject as well.</p><p>Also, if he wants to make a change, it may be helpful to see a therapist who specializes in working with couples. Sometimes changes such as these require a great deal of personal awareness and there can be quite a bit of emotions attached, so it is often helpful to have someone there to assist.</p><p>It may also be nice to have a discussion where you consider what makes you feel valued, appreciated, special, or loved, and also consider what makes your fiancé feel that way.</p>"
        ],
        [
         "1348",
         "How does a person start the counseling process?",
         "<p>Hi! Great question! My suggestion would be to google therapists in your area. &nbsp;One great website is called Psychology Today, which is a National site. &nbsp;You can search for therapists in your zip code and search more specifically for the issue you are seeking support about. &nbsp;It's a great way to find out if they therapist has a speciality, accepts insurance and whether they offer a free phone consultation. I would then make a list of the ones that may be a good fit and then give them a call! &nbsp;:) &nbsp;Hope this helps. Remember you get to ask anything you need to, to determine if someone is a good fit. &nbsp;Don't be afraid to ask anything! &nbsp;:) &nbsp;Best of luck!</p>"
        ],
        [
         "419",
         "My husband has had issues with alcohol addiction in the past (he'd never admit to this). A while back (3 years ago), I asked him to stop drinking so much, and he agreed. I caught him one night drinking behind my back. I confronted him and he lied, but I told him I knew he was lying because I counted the beers in the fridge and four of them were missing. He admitted and apologized and promised he wouldn't do it again. Lately, my husband has been drinking on and off, but I noticed it was every single night. I didn't like this. For our New Year’s resolution, we decided we were going to limit our alcohol consumption. He was on board—no more drinking every night.\r\nThe other night, I counted the beers in the fridge just to see if some were missing. It took a couple of days, but tonight, I discovered a few were missing along with a shot of vodka. He was passed out on the couch when I decided to wake him up and confront him (poor timing, but I couldn't wait). I asked him if he'd come to bed with me (when he drinks, he snores and I cannot sleep—it's a dead giveaway he's been drinking). He slurred a bit and said no. I asked if he had been drinking, but he snapped and said no. I went into our room to sleep, leaving him on the couch. \r\nI'm not sure if I'm overreacting or not. I just feel like I'm so honest with him about everything, and I expect the same honesty. He is a good husband in every other regard.",
         "<p>As exasperated as you feel, and as obvious it is to you that your husband cares more about drinking than being honest with you, changing this is up to him.</p><p>Does he care that you're upset with him for drinking more than he can handle?</p><p>Does he care about you more than drinking?</p><p>Living with an alcoholic, which is how his behavior sounds, is lonely and frustrating.</p><p>Concentrate on what you like about him as he is now with his drinking.</p><p>Your happiness matters. &nbsp;His ignoring of what you're talking about, doesn't mean your requests are unreasonable.</p><p><span style=\"-webkit-text-size-adjust: 100%;\">Be prepared to learn to live with and accept how he behaves, or not.</span><br></p><p><span style=\"-webkit-text-size-adjust: 100%;\">Avoid the expectation that you can convince him to change.</span></p><p><span style=\"-webkit-text-size-adjust: 100%;\">People change only when they realize their life can improve by changing. &nbsp;He doesn't sound like this, at least now.</span></p><p><br></p>"
        ],
        [
         "209",
         "My husband always works. He does work from home, but his hours are from morning until night, and he neglects his family. If I have anything I want to do, I have to find a babysitter, but he does what he wants. He rarely comes to bed when I do, and we never have date nights.",
         "<p>I'm glad you're aware to expect more satisfaction from being part of a couple, than you currently describe yourself as having.</p><p>Are you and your husband able to talk about any or all of what you've written here?</p><p>His answers would be a starting point for knowing how he understands his share of your relationship and whether and how he would like making any changes.</p><p>If the two of you feel too much tension in the relationship to bring up any of the topics you write about here, then ask yourself the reason for this.</p><p>Very commonly, people are afraid to ask questions of their partner, even when feeling unhappy and that they'd like changes to the relationship.</p><p>Often, people are fearful of harsh criticism by the partner and worry that by simply stating the reasons for feeling unhappy, will mean hearing judgments against them, spoken by the partner.</p><p>It is always a good idea to utilize the services of a professional, credentialed and licensed therapist, if after trying to start a conversation on the topics you bring up here, does not go well or very far.</p><p>For all of us, the emotions in our intimate relationships are deep and powerful. &nbsp;They are not easy to handle, especially under tension and frustration.</p><p>Sending lots of good wishes for future happiness!</p>"
        ],
        [
         "450",
         "I got involved with my best friend who is married but has been very unhappy for the last five years. We both fell in love and have been together for eight months. He left the house and filed for divorce. He decided to tell her about our relationship, and she is willing to forgive and work on things. This shook him. They have two kids together. He decided to put the divorce on hold. He left town for a month to get clarity on the situation and see a therapist.",
         "<p>Hi Miami, I feel your sadness; you might have planned a future with your best friend. We live in a world where we are constantly exposed and connected to people who intrigue us and to whom we might feel a connection. I believe that our ability to protect our relationships from the risks involved here has not developed fast enough.&nbsp;</p><p>Your friend came face to face with what leaving the marriage meant...huge changes and many intense emotions. He is wise to consider his choices carefully; especially if you have children, there is good reason to work at a relationship that is less than fulfilling. Therapy can help.</p><p>So you fell in love with a man who was in an unstable place. He's taking the steps to create some stability for himself and that leaves you \"on hold\", not knowing what his decision will be. I love that you seem willing to give him the space he needs to figure it all out. This decision is his.&nbsp;</p><p>For yourself, you can accept that being \"best friends\" with a man might not be a wise thing. Many marriages don't fair well when friendships like that exist. You flirted with danger; both of you. You fell in love but he wasn't free, really. I'm sure his love for you is real and powerful, but it's not a competition. It's one man choosing his life path. You can focus on thoughts like this:</p><ul><li>He has the right to choose his life.</li><li>We flirted with danger by being best friends.</li><li>I know he does love me; this is not a reflection on my worth.</li><li>I can feel really good about giving him patience and the space he needs.</li><li>I feel proud of his honesty.</li><li>I feel proud if he's willing to fight for his marriage; lucky her...lucky kids.</li><li>Acknowledge and allow yourself to feel that sadness, that grief. It's real.</li></ul><p>If you have told anyone about the affair, seek the support of that trusted person and know you have to grieve this in silence because it was born in silence. I wish you well, and for the record, I'm proud of the maturity you show in this situation. :)</p>"
        ]
       ],
       "shape": {
        "columns": 2,
        "rows": 10
       }
      },
      "text/html": [
       "<div>\n",
       "<style scoped>\n",
       "    .dataframe tbody tr th:only-of-type {\n",
       "        vertical-align: middle;\n",
       "    }\n",
       "\n",
       "    .dataframe tbody tr th {\n",
       "        vertical-align: top;\n",
       "    }\n",
       "\n",
       "    .dataframe thead th {\n",
       "        text-align: right;\n",
       "    }\n",
       "</style>\n",
       "<table border=\"1\" class=\"dataframe\">\n",
       "  <thead>\n",
       "    <tr style=\"text-align: right;\">\n",
       "      <th></th>\n",
       "      <th>questionText</th>\n",
       "      <th>answerText</th>\n",
       "    </tr>\n",
       "  </thead>\n",
       "  <tbody>\n",
       "    <tr>\n",
       "      <th>1087</th>\n",
       "      <td>I was raped a couple months ago, Since then, a...</td>\n",
       "      <td>&lt;p&gt;I am so sorry to hear about what happened t...</td>\n",
       "    </tr>\n",
       "    <tr>\n",
       "      <th>216</th>\n",
       "      <td>Back in high school, my friend and I used to m...</td>\n",
       "      <td>&lt;p&gt;Writing about your high school masturbation...</td>\n",
       "    </tr>\n",
       "    <tr>\n",
       "      <th>1396</th>\n",
       "      <td>I feel like I am internally screaming all the ...</td>\n",
       "      <td>&lt;p&gt;It sounds like you are trying to find a lab...</td>\n",
       "    </tr>\n",
       "    <tr>\n",
       "      <th>357</th>\n",
       "      <td>I have been diagnosed with posttraumatic stres...</td>\n",
       "      <td>&lt;p&gt;You are right on to recognize that the effe...</td>\n",
       "    </tr>\n",
       "    <tr>\n",
       "      <th>1033</th>\n",
       "      <td>I have been married for 11 years. Within the p...</td>\n",
       "      <td>&lt;p&gt;Piggybacking on the other respondent's sugg...</td>\n",
       "    </tr>\n",
       "    <tr>\n",
       "      <th>1266</th>\n",
       "      <td>My fiancé and I come from a strong Christian b...</td>\n",
       "      <td>&lt;p&gt;One of the sometimes difficult things about...</td>\n",
       "    </tr>\n",
       "    <tr>\n",
       "      <th>1348</th>\n",
       "      <td>How does a person start the counseling process?</td>\n",
       "      <td>&lt;p&gt;Hi! Great question! My suggestion would be ...</td>\n",
       "    </tr>\n",
       "    <tr>\n",
       "      <th>419</th>\n",
       "      <td>My husband has had issues with alcohol addicti...</td>\n",
       "      <td>&lt;p&gt;As exasperated as you feel, and as obvious ...</td>\n",
       "    </tr>\n",
       "    <tr>\n",
       "      <th>209</th>\n",
       "      <td>My husband always works. He does work from hom...</td>\n",
       "      <td>&lt;p&gt;I'm glad you're aware to expect more satisf...</td>\n",
       "    </tr>\n",
       "    <tr>\n",
       "      <th>450</th>\n",
       "      <td>I got involved with my best friend who is marr...</td>\n",
       "      <td>&lt;p&gt;Hi Miami, I feel your sadness; you might ha...</td>\n",
       "    </tr>\n",
       "  </tbody>\n",
       "</table>\n",
       "</div>"
      ],
      "text/plain": [
       "                                           questionText  \\\n",
       "1087  I was raped a couple months ago, Since then, a...   \n",
       "216   Back in high school, my friend and I used to m...   \n",
       "1396  I feel like I am internally screaming all the ...   \n",
       "357   I have been diagnosed with posttraumatic stres...   \n",
       "1033  I have been married for 11 years. Within the p...   \n",
       "1266  My fiancé and I come from a strong Christian b...   \n",
       "1348    How does a person start the counseling process?   \n",
       "419   My husband has had issues with alcohol addicti...   \n",
       "209   My husband always works. He does work from hom...   \n",
       "450   I got involved with my best friend who is marr...   \n",
       "\n",
       "                                             answerText  \n",
       "1087  <p>I am so sorry to hear about what happened t...  \n",
       "216   <p>Writing about your high school masturbation...  \n",
       "1396  <p>It sounds like you are trying to find a lab...  \n",
       "357   <p>You are right on to recognize that the effe...  \n",
       "1033  <p>Piggybacking on the other respondent's sugg...  \n",
       "1266  <p>One of the sometimes difficult things about...  \n",
       "1348  <p>Hi! Great question! My suggestion would be ...  \n",
       "419   <p>As exasperated as you feel, and as obvious ...  \n",
       "209   <p>I'm glad you're aware to expect more satisf...  \n",
       "450   <p>Hi Miami, I feel your sadness; you might ha...  "
      ]
     },
     "metadata": {},
     "output_type": "display_data"
    }
   ],
   "source": [
    "display(counsel_chat_df.sample(10))"
   ]
  },
  {
   "cell_type": "markdown",
   "id": "d9b3941e",
   "metadata": {},
   "source": [
    "### Drop Empty Rows"
   ]
  },
  {
   "cell_type": "code",
   "execution_count": 28,
   "id": "b33661bf",
   "metadata": {},
   "outputs": [],
   "source": [
    "# Drop rows with missing (NaN) question or answer, in place\n",
    "counsel_chat_df.dropna(subset=[\"questionText\", \"answerText\"], inplace=True)\n",
    "\n",
    "# Remove rows where either column is empty, whitespace, or answer is just <p><br></p>\n",
    "counsel_chat_df = counsel_chat_df[\n",
    "    (counsel_chat_df[\"questionText\"].str.strip() != \"\") &\n",
    "    (counsel_chat_df[\"answerText\"].str.strip() != \"\") &\n",
    "    (counsel_chat_df[\"answerText\"].str.strip() != \"<p><br></p>\")\n",
    "]"
   ]
  },
  {
   "cell_type": "code",
   "execution_count": 29,
   "id": "712c4000",
   "metadata": {},
   "outputs": [
    {
     "name": "stdout",
     "output_type": "stream",
     "text": [
      "<class 'pandas.core.frame.DataFrame'>\n",
      "Index: 1379 entries, 0 to 1481\n",
      "Data columns (total 2 columns):\n",
      " #   Column        Non-Null Count  Dtype \n",
      "---  ------        --------------  ----- \n",
      " 0   questionText  1379 non-null   object\n",
      " 1   answerText    1379 non-null   object\n",
      "dtypes: object(2)\n",
      "memory usage: 32.3+ KB\n"
     ]
    }
   ],
   "source": [
    "\n",
    "counsel_chat_df.info()\n"
   ]
  },
  {
   "cell_type": "code",
   "execution_count": 30,
   "id": "bf8b872e",
   "metadata": {},
   "outputs": [
    {
     "data": {
      "application/vnd.microsoft.datawrangler.viewer.v0+json": {
       "columns": [
        {
         "name": "index",
         "rawType": "object",
         "type": "string"
        },
        {
         "name": "questionText",
         "rawType": "object",
         "type": "unknown"
        },
        {
         "name": "answerText",
         "rawType": "object",
         "type": "unknown"
        }
       ],
       "ref": "f68fd8f6-3b31-402f-af0f-607b6941275f",
       "rows": [
        [
         "count",
         "1379",
         "1379"
        ],
        [
         "unique",
         "718",
         "1379"
        ],
        [
         "top",
         "I've gone to a couple therapy sessions so far and still everytime I walk in I get nervous and shaky.  Is this normal? Should I still be feeling like this?",
         "<p>What you are describing is something psychologists have termed &#34;triangulation&#34; which is what happens when one family member will not talk to the one they have a problem with and goes to a third member of the family to complain instead. You have been &#34;triangulated&#34; by your wife and mother.</p><p>This is often seen in families. It's seen everywhere. How many times have you had a problem with someone but you didn't go to them to tell them, you went to someone else to complain? It is usually difficult for a person to confront another, especially in relationships where there is a power differential. For example, I bet it's easier to complain to a coworker about your boss rather than go to the boss with your complaint.</p><p>I'm not saying triangulation is always a bad thing. Sometimes a third party mediator is needed to help solve problems between two people who disagree. That's what therapists do every day! Sometimes just getting someone else's perspective can help you see the issue clearer. However, in your situation it sounds like this is becoming a problem. You are stuck in the middle between two people that love you and that you love.</p><p>If you want to put a stop to this triangulation, you will need to encourage the two of them to talk to each other and work out their differences. Perhaps it was a simple misunderstanding that some open communication can clear up. Even if they really don't like each other and can't get along, your relationship with the both of them is going to continue to deteriorate the longer you are stuck in the middle. </p><p>Try to understand what might be the feelings behind their behavior. It is possible that they may both feel threatened by the other. These are the two most important women in your life and they both know it. Your mother may be afraid that she will lose you if she confronts your wife. I heard one mother-in-law describe her son's wife as the gateway to her son. The wife has the power to dictate when and how often the mother gets to see her son. The wife also is the gateway to the grandchildren. If your wife doesn't like her mother-in-law she can severely hamper or damage her mother-in-law's relationship with you and any children you two may have. From your wife's viewpoint, this is the woman that she may feel like she can never live up to. If you regularly praise your mom's cooking, her housework, gardening, or anything else your wife may feel that you are putting down her own efforts in these areas and can feel unappreciated. This can be especially difficult if your wife and mother are nothing alike. I am not saying that this is the case with your family's situation. These are just a few examples from other families in a similar situation as yours. </p><p>Regardless of what the cause is, if this dysfunctional pattern is allowed to continue, your mom and your wife will begin to get upset with you when you don't agree with them. They will get upset if you don't align yourself with them against the other. They will be offended when it seems like you are choosing the other one's side or that you are not standing up for them like they think you should. In worst cases, if it continues to escalate you may even find yourself in the impossible position of having to choose between your wife and your mother which may mean cutting off contact with the other, ending that relationship. Change the dynamics before it spirals even further.</p>"
        ],
        [
         "freq",
         "22",
         "1"
        ]
       ],
       "shape": {
        "columns": 2,
        "rows": 4
       }
      },
      "text/html": [
       "<div>\n",
       "<style scoped>\n",
       "    .dataframe tbody tr th:only-of-type {\n",
       "        vertical-align: middle;\n",
       "    }\n",
       "\n",
       "    .dataframe tbody tr th {\n",
       "        vertical-align: top;\n",
       "    }\n",
       "\n",
       "    .dataframe thead th {\n",
       "        text-align: right;\n",
       "    }\n",
       "</style>\n",
       "<table border=\"1\" class=\"dataframe\">\n",
       "  <thead>\n",
       "    <tr style=\"text-align: right;\">\n",
       "      <th></th>\n",
       "      <th>questionText</th>\n",
       "      <th>answerText</th>\n",
       "    </tr>\n",
       "  </thead>\n",
       "  <tbody>\n",
       "    <tr>\n",
       "      <th>count</th>\n",
       "      <td>1379</td>\n",
       "      <td>1379</td>\n",
       "    </tr>\n",
       "    <tr>\n",
       "      <th>unique</th>\n",
       "      <td>718</td>\n",
       "      <td>1379</td>\n",
       "    </tr>\n",
       "    <tr>\n",
       "      <th>top</th>\n",
       "      <td>I've gone to a couple therapy sessions so far ...</td>\n",
       "      <td>&lt;p&gt;What you are describing is something psycho...</td>\n",
       "    </tr>\n",
       "    <tr>\n",
       "      <th>freq</th>\n",
       "      <td>22</td>\n",
       "      <td>1</td>\n",
       "    </tr>\n",
       "  </tbody>\n",
       "</table>\n",
       "</div>"
      ],
      "text/plain": [
       "                                             questionText  \\\n",
       "count                                                1379   \n",
       "unique                                                718   \n",
       "top     I've gone to a couple therapy sessions so far ...   \n",
       "freq                                                   22   \n",
       "\n",
       "                                               answerText  \n",
       "count                                                1379  \n",
       "unique                                               1379  \n",
       "top     <p>What you are describing is something psycho...  \n",
       "freq                                                    1  "
      ]
     },
     "execution_count": 30,
     "metadata": {},
     "output_type": "execute_result"
    }
   ],
   "source": [
    "counsel_chat_df.describe()\n"
   ]
  },
  {
   "cell_type": "markdown",
   "id": "5acfd5e6",
   "metadata": {},
   "source": [
    "### Clean HTML"
   ]
  },
  {
   "cell_type": "code",
   "execution_count": 31,
   "id": "dd06a8b1",
   "metadata": {},
   "outputs": [],
   "source": [
    "import re\n",
    "import html\n",
    "\n",
    "def clean_html(text):\n",
    "    \"\"\"\n",
    "    Cleans HTML tags and entities from the input, then fixes spacing between sentences.\n",
    "\n",
    "    Parameters\n",
    "    ----------\n",
    "    - text: str or None\n",
    "        Raw string possibly containing HTML and HTML entities.\n",
    "\n",
    "    Returns\n",
    "    -------\n",
    "    - cleaned_text: str\n",
    "        Cleaned string, with HTML removed and sentence spacing fixed.\n",
    "    \"\"\"\n",
    "    if pd.isna(text):\n",
    "        return \"\"\n",
    "    # Remove HTML tags\n",
    "    text = re.sub(r'<.*?>', '', text)\n",
    "    # Convert HTML entities to unicode\n",
    "    text = html.unescape(text)\n",
    "    # Fix missing space between sentences (e.g., \"word.Something\" → \"word. Something\")\n",
    "    text = re.sub(r'([.!?])([A-Z0-9])', r'\\1 \\2', text)\n",
    "    # Strip leading/trailing whitespace\n",
    "    return text.strip()\n",
    "\n",
    "# Clean answerText column in-place\n",
    "counsel_chat_df['answerText'] = counsel_chat_df['answerText'].apply(clean_html)\n"
   ]
  },
  {
   "cell_type": "code",
   "execution_count": 32,
   "id": "5969d684",
   "metadata": {},
   "outputs": [
    {
     "name": "stdout",
     "output_type": "stream",
     "text": [
      "<class 'pandas.core.frame.DataFrame'>\n",
      "Index: 1379 entries, 0 to 1481\n",
      "Data columns (total 2 columns):\n",
      " #   Column        Non-Null Count  Dtype \n",
      "---  ------        --------------  ----- \n",
      " 0   questionText  1379 non-null   object\n",
      " 1   answerText    1379 non-null   object\n",
      "dtypes: object(2)\n",
      "memory usage: 32.3+ KB\n"
     ]
    }
   ],
   "source": [
    "counsel_chat_df.info()"
   ]
  },
  {
   "cell_type": "code",
   "execution_count": 33,
   "id": "a58be1b1",
   "metadata": {},
   "outputs": [
    {
     "data": {
      "application/vnd.microsoft.datawrangler.viewer.v0+json": {
       "columns": [
        {
         "name": "index",
         "rawType": "object",
         "type": "string"
        },
        {
         "name": "questionText",
         "rawType": "object",
         "type": "unknown"
        },
        {
         "name": "answerText",
         "rawType": "object",
         "type": "unknown"
        }
       ],
       "ref": "02db19e1-7624-4b87-8bc5-72ab6864b528",
       "rows": [
        [
         "count",
         "1379",
         "1379"
        ],
        [
         "unique",
         "718",
         "1379"
        ],
        [
         "top",
         "I've gone to a couple therapy sessions so far and still everytime I walk in I get nervous and shaky.  Is this normal? Should I still be feeling like this?",
         "What you are describing is something psychologists have termed \"triangulation\" which is what happens when one family member will not talk to the one they have a problem with and goes to a third member of the family to complain instead. You have been \"triangulated\" by your wife and mother. This is often seen in families. It's seen everywhere. How many times have you had a problem with someone but you didn't go to them to tell them, you went to someone else to complain? It is usually difficult for a person to confront another, especially in relationships where there is a power differential. For example, I bet it's easier to complain to a coworker about your boss rather than go to the boss with your complaint. I'm not saying triangulation is always a bad thing. Sometimes a third party mediator is needed to help solve problems between two people who disagree. That's what therapists do every day! Sometimes just getting someone else's perspective can help you see the issue clearer. However, in your situation it sounds like this is becoming a problem. You are stuck in the middle between two people that love you and that you love. If you want to put a stop to this triangulation, you will need to encourage the two of them to talk to each other and work out their differences. Perhaps it was a simple misunderstanding that some open communication can clear up. Even if they really don't like each other and can't get along, your relationship with the both of them is going to continue to deteriorate the longer you are stuck in the middle. Try to understand what might be the feelings behind their behavior. It is possible that they may both feel threatened by the other. These are the two most important women in your life and they both know it. Your mother may be afraid that she will lose you if she confronts your wife. I heard one mother-in-law describe her son's wife as the gateway to her son. The wife has the power to dictate when and how often the mother gets to see her son. The wife also is the gateway to the grandchildren. If your wife doesn't like her mother-in-law she can severely hamper or damage her mother-in-law's relationship with you and any children you two may have. From your wife's viewpoint, this is the woman that she may feel like she can never live up to. If you regularly praise your mom's cooking, her housework, gardening, or anything else your wife may feel that you are putting down her own efforts in these areas and can feel unappreciated. This can be especially difficult if your wife and mother are nothing alike. I am not saying that this is the case with your family's situation. These are just a few examples from other families in a similar situation as yours. Regardless of what the cause is, if this dysfunctional pattern is allowed to continue, your mom and your wife will begin to get upset with you when you don't agree with them. They will get upset if you don't align yourself with them against the other. They will be offended when it seems like you are choosing the other one's side or that you are not standing up for them like they think you should. In worst cases, if it continues to escalate you may even find yourself in the impossible position of having to choose between your wife and your mother which may mean cutting off contact with the other, ending that relationship. Change the dynamics before it spirals even further."
        ],
        [
         "freq",
         "22",
         "1"
        ]
       ],
       "shape": {
        "columns": 2,
        "rows": 4
       }
      },
      "text/html": [
       "<div>\n",
       "<style scoped>\n",
       "    .dataframe tbody tr th:only-of-type {\n",
       "        vertical-align: middle;\n",
       "    }\n",
       "\n",
       "    .dataframe tbody tr th {\n",
       "        vertical-align: top;\n",
       "    }\n",
       "\n",
       "    .dataframe thead th {\n",
       "        text-align: right;\n",
       "    }\n",
       "</style>\n",
       "<table border=\"1\" class=\"dataframe\">\n",
       "  <thead>\n",
       "    <tr style=\"text-align: right;\">\n",
       "      <th></th>\n",
       "      <th>questionText</th>\n",
       "      <th>answerText</th>\n",
       "    </tr>\n",
       "  </thead>\n",
       "  <tbody>\n",
       "    <tr>\n",
       "      <th>count</th>\n",
       "      <td>1379</td>\n",
       "      <td>1379</td>\n",
       "    </tr>\n",
       "    <tr>\n",
       "      <th>unique</th>\n",
       "      <td>718</td>\n",
       "      <td>1379</td>\n",
       "    </tr>\n",
       "    <tr>\n",
       "      <th>top</th>\n",
       "      <td>I've gone to a couple therapy sessions so far ...</td>\n",
       "      <td>What you are describing is something psycholog...</td>\n",
       "    </tr>\n",
       "    <tr>\n",
       "      <th>freq</th>\n",
       "      <td>22</td>\n",
       "      <td>1</td>\n",
       "    </tr>\n",
       "  </tbody>\n",
       "</table>\n",
       "</div>"
      ],
      "text/plain": [
       "                                             questionText  \\\n",
       "count                                                1379   \n",
       "unique                                                718   \n",
       "top     I've gone to a couple therapy sessions so far ...   \n",
       "freq                                                   22   \n",
       "\n",
       "                                               answerText  \n",
       "count                                                1379  \n",
       "unique                                               1379  \n",
       "top     What you are describing is something psycholog...  \n",
       "freq                                                    1  "
      ]
     },
     "execution_count": 33,
     "metadata": {},
     "output_type": "execute_result"
    }
   ],
   "source": [
    "counsel_chat_df.describe()"
   ]
  },
  {
   "cell_type": "markdown",
   "id": "3743f30b",
   "metadata": {},
   "source": [
    "## Final Counsel Chat"
   ]
  },
  {
   "cell_type": "code",
   "execution_count": 34,
   "id": "39f7f4d1",
   "metadata": {},
   "outputs": [
    {
     "name": "stdout",
     "output_type": "stream",
     "text": [
      "Counsel Chat: (1379, 2)\n"
     ]
    }
   ],
   "source": [
    "# Reset index in place (overwrite the DataFrame with the re-indexed one)\n",
    "counsel_chat_df.reset_index(drop=True, inplace=True)\n",
    "\n",
    "print(f\"Counsel Chat: {counsel_chat_df.shape}\")"
   ]
  },
  {
   "cell_type": "code",
   "execution_count": 35,
   "id": "1f8a5617",
   "metadata": {},
   "outputs": [
    {
     "data": {
      "application/vnd.microsoft.datawrangler.viewer.v0+json": {
       "columns": [
        {
         "name": "index",
         "rawType": "int64",
         "type": "integer"
        },
        {
         "name": "questionText",
         "rawType": "object",
         "type": "string"
        },
        {
         "name": "answerText",
         "rawType": "object",
         "type": "string"
        }
       ],
       "ref": "c91950db-843c-407f-bf4e-704bb1535e83",
       "rows": [
        [
         "836",
         "I believe my partner has a masturbation and porn problem. He masturbates daily, even when I am lying in bed sleeping beside him. We have sex once a week. He is rough and worries about his needs. He never touches me, and treats me like a porn star, wanting to finish on my face or chest.",
         "The comments here from the other therapists are \"spot on\". As a Certified Sex Addiction Therapist-Candidate I'm convinced your partner's acting out creates trauma for you. Your partner's addiction is NOT your fault and his recovery IS his responsibility. What's paramount is for you to get immediate help from an experienced therapist who understands trauma as result of the partner's/spouse's problematic sexual behaviors. Your needs, safety, and the establishment of reasonable boundaries is vital to your well-being. I wish you the very best. Resources for Your Consideration: 1) https://www.iitap.com/, 2) https://www.sanon.org/, 3) http://www.cosa-recovery.org/"
        ],
        [
         "3",
         "I am extremely possessive in my relationships and this is hurting my friendships. How can I fix my underlying issues?",
         "Hi there. It's great you are able to realize there are other issues going on with someone who feels possessive. At the root of it is fear. Fear of losing someone, fear of being alone, fear of not being good enough. All those fears can lead to low self-esteem and feeling like you have to control other people so you don't lose them. The thing is, controlling other people only pushes them away. Vicious circle, right? What I would suggest is some cognitive therapy to change those underlying ways of thinking. You can start with this assignment. Write down all the things you think about yourself, positive and not-so-positive. Then rewrite those not-so-positive things so they are positive. For example, thinking something like, \"I'm too pushy\", can be rewritten as, \"I'm assertive and I go after what I want.\" It can be hard to do since we tend to get \"stuck\" in our negative ways of thinking about ourselves. If you have someone you trust, you can ask for their help as well since most likely they see you differently than you see yourself. Finding a good cognitive therapist can help you further, but if that's not an option for you right now, there are lots of self-help books and websites that are out there. You've already taken the first step, so keep moving forward."
        ],
        [
         "524",
         "He isn't violent, but he has anger issues and deep insecurities. He's working on them and has improved. We started counseling, and he participated in one or two individual sessions, but we broke up again shortly thereafter. Now his constant questions and accusations are getting really draining.",
         "Sometimes relationships just do not work.  Don't feel that the first, second, or even third relationship is the relationship you are suppose to be in for life.   The one that is meant for you will require work but should be be draining and a constant roller coaster of breaking up.  It is good you all went to counseling, but one or two sessions may not be enough to make and see a change in behavior.  It takes times and it takes both working toward the same goal.  I would suggest doing you...meaning focusing on your own growth at the time.  If he wants to grow with you, he will make the necessary steps.  If he doesn't...wish him well."
        ],
        [
         "166",
         "I was raped by multiple men, and now I can't stand the sight of myself. I wear lingerie to get my self excited enough to have sex with my wife.",
         "I am very sorry to hear about your rapes.  Traumatic events, such as rape, can have some lasting effects.  Issues with sex drive are one of these effects.  Therapy can help to decrease the impact that traumatic events have upon our lives as we process through some of our experiences.   EMDR can be a particularly effective modality of treatment to address this issues.  I would also encourage you to have an honest conversation with your wife about this concern.  Sometimes it is helpful to have that conversation with a therapist so that the therapist can help educate  your wife in regards to effects of trauma.  This may help her understand that your feelings are more about the trauma and less about her as a person.  Best of luck to you!"
        ],
        [
         "1305",
         "My friend is abusing her prescription medicine. Even though she told me she didn't have any more pills, I found she has prescriptions for anxiety medications.",
         "Your friend needs to admit they have a problem.  If not no matter how many pills you take they will find a way to get more.  It is also a federal offense to take someone else's medication so if you did take it she could have you arrested.  In other instances it can be more dangerous to take medication away than slowly tapering off of them.  Like anything we put into our system our tolerance builds up and can effect us in different ways.  I would listen to her and discuss why she feels that she needs to be on the medications rather than playing bad cop in this situation.  Encourage her to get help and let her know you re there for her."
        ],
        [
         "281",
         "My mom made a lot of mistakes a couple years back, and I can't seem to forgive her. I want to say that it's okay, but I can't. I feel like even if I did forgive her, I wouldn't be able to say it to her face.",
         "Hi Cleveland, I think I get what you're feeling. You're scared that if you forgive your mom, that would mean it wasn't so bad, or she'll think it's okay to do it again, or she won't realize how hurt you are. I invite you to look at forgiveness in a different way. Forgiveness doesn't have to mean what she did was okay. Not at all. Forgiveness can mean \"I accept what she did, and I don't want to live in her worst moments constantly. I want to put it down and move past it because I want her in my life, because fear and resentment interfere with my relationship with her, and mostly because I'm tired of carrying them (fear and resentment) around constantly.\"You can forgive your mom for yourself, not for her.  If there is evidence that your mom wants to respect you moving forward, then it might be worth it to risk putting down the resentment and the grudge that you think you need to protect yourself.  Your ability to draw boundaries with her in the present is your biggest protector; let her know in the present what hurts you, and notice her responses. You don't have to say it to her face. Saying it to yourself is more important. Again, forgiving your mom helps you...it reduces your own burden of fear and resentment, leaving space for better things."
        ],
        [
         "680",
         "We have been together over a year. We spend time together every day no matter how busy. He started to be unusually fatigued and losing weight. He also began to be distant and sexually selfish. We had a argument, and he confided he has late stage stomach cancer. He wont treat it.",
         "Hello, and thank you for your question. I am very sorry about this life-altering situation that both you and your boyfriend are going through. To be sure, this is a devastating and lonely road for both of you. I say lonely because when things like this happen we often don't know what to say to each other, and so we suffer in silence with little support. Here are a few thoughts that I am having, and perhaps others will add things, too:1. By the sound of your main question, it seems like you have every intention to be there for your boyfriend during this difficult time. I am not sure if he is willing to talk about his health situation, but letting him know that you want to support him and also need his support may be helpful. 2. If it is possible, see if he would be willing to go to a counselor with you. There are many things that a counselor could focus on that may help your relationship, but also help you both cope with what is happening. 3. If he refuses to seek support, you may want to consider going on your own. If you can't afford it, sometimes hospice organizations offer support groups and other services. It is very important not to neglect yourself. Be well,Robin J. Landwehr, DBH, LPC, NCC"
        ],
        [
         "594",
         "It's been like a couple of years that I've been feeling like this. I don't want to self-diagnose, but I get so sad and cry and then I feel better. But then I get upset with people so quickly, and I hurt their feelings. It's this constant rollercoaster, and it's hard.",
         "Hello, and thank you for your question. Bipolar disorder is generally characterized by extreme changes in mood, ranging from mania (highs) to depression (lows). There are different types; however, so here is a website that gives you a list of symptoms for mania and depression in bipolar disorder: http://www.webmd.com/depression/guide/bipolar-disorder-manic-depression?page=2After reviewing these symptoms, if you believe you may have bipolar disorder, then you may want to see your primary care provider or a counselor. Bipolar disorder is treatable, but for many people it requires the right medication and sometimes counseling to help people make behavior changes that are important for bipolar management. For example, some people may not get regular sleep, but proper rest is important for bipolar management. A counselor may talk to you about this and other lifestyle changes that you may need to make. The good news is that many people live happy, healthy, and productive lives with bipolar disorder. So, if it turns out that you do have bipolar disorder, it doesn't mean that things can't get better. There is currently no \"cure\" for bipolar disorder, but with proper medication and lifestyle management, people can do quite well. Hope this was helpful. Be well. Robin J. Landwehr, DBH, LPC, NCC"
        ],
        [
         "1188",
         "My fiancé and I come from a strong Christian background but both went off the \"straight and narrow\" once before. He is having a hard time accepting my past, especially  that I'm not a virgin. He has a hard time in general accepting himself and others. \r\n\r\nHis insecurities are hurting our relationship. How can I help him let go of my past and decide to live in the present?",
         "This suffering and clinging to the past, especially a troubled past or a past that we dont like, may be  amplified due to the Christian framework that may be built into your life. I am not averse to religion, i just think that many times it puts unreasonable expectations on us and helps us to form a guilt complex or perhaps even insecurities, we are humans and humans make mistakes. you mention the straight and narrow, this is a notion that you must give up on and let go, humans can never travel the straight and narrow for their whole lives there are bounds to be mistakes, we are the most fallible species on the planet and please tell your fiance to have some mercy on himself, he is not perfect. Here is a story about clinging on to things you may find useful to mediate on:Once\r\nthere lived a village of creatures along the bottom of a great crystal\r\nriver. The current of the river swept silently over them all -- young and\r\nold, rich and poor, good and evil -- the current going its own way, knowing\r\nonly its own crystal self.\r\nEach creature in its own\r\nmanner clung tightly to the twigs and rocks of the river bottom, for clinging\r\nwas their way of life, and resisting the current was what each had learned\r\nfrom birth.\r\nBut one creature said\r\nat last, \"I am tired of clinging. Though I cannot see it with my eyes,\r\nI trust that the current knows where it is going. I shall let go, and let\r\nit take me where it will. Clinging, I shall die of boredom.\"\r\nThe other creatures laughed\r\nand said, \"Fool! Let go, and that current you worship will throw you tumbled\r\nand smashed against the rocks, and you will die quicker than boredom!\"\r\nBut the one heeded them\r\nnot, and taking a breath did let go, and at once was tumbled and smashed\r\nby the current across the rocks.\r\nYet in time, as the creature\r\nrefused to cling again, the current lifted him free from the bottom, and\r\nhe was bruised and hurt no more.\r\nAnd the creatures downstream,\r\nto whom he was a stranger, cried, \"See a miracle! A creature like ourselves,\r\nyet he flies! See the messiah, come to save us all!\"\r\nAnd the one carried in\r\nthe current said, \"I am no more messiah than you. The river delights to\r\nlift us free, if only we dare let go. Our true work is this voyage, this\r\nadventure.\"\r\nBut they cried the more,\r\n\"Savior!\" all the while clinging to the rocks, and when they looked again\r\nhe was gone, and they were left alone making legends of a savior."
        ],
        [
         "481",
         "Sometimes I can't stop thinking about life after death. I was raised in a religion that teaches that we will live on forever either in hell or in heaven. \r\nWhen I think of living forever (even if it is in heaven which should be good), I feel overwhelmed. I don't like the thought of living forever and ever and ever. Sometimes I just can't get the thought out of my mind and the thoughts lead to panic and anxiety. \r\nAm I crazy? I don't think these thoughts are normal.",
         "You need to find an outlet. Someone to talk to. Your dad or someone who loves your mother as well is someone ideal. But anyone could help. Just look to someone for help. If you can't find anyone who you think will listen, talk to your mom. It can help greatly just to get the words out. Tell her how you feel about her passing, but then also about everything else. Talk to her about your day. Tell her about happy things. I don't know if you're a religious person, or where you believe she is now, but no matter what you can talk to her."
        ]
       ],
       "shape": {
        "columns": 2,
        "rows": 10
       }
      },
      "text/html": [
       "<div>\n",
       "<style scoped>\n",
       "    .dataframe tbody tr th:only-of-type {\n",
       "        vertical-align: middle;\n",
       "    }\n",
       "\n",
       "    .dataframe tbody tr th {\n",
       "        vertical-align: top;\n",
       "    }\n",
       "\n",
       "    .dataframe thead th {\n",
       "        text-align: right;\n",
       "    }\n",
       "</style>\n",
       "<table border=\"1\" class=\"dataframe\">\n",
       "  <thead>\n",
       "    <tr style=\"text-align: right;\">\n",
       "      <th></th>\n",
       "      <th>questionText</th>\n",
       "      <th>answerText</th>\n",
       "    </tr>\n",
       "  </thead>\n",
       "  <tbody>\n",
       "    <tr>\n",
       "      <th>836</th>\n",
       "      <td>I believe my partner has a masturbation and po...</td>\n",
       "      <td>The comments here from the other therapists ar...</td>\n",
       "    </tr>\n",
       "    <tr>\n",
       "      <th>3</th>\n",
       "      <td>I am extremely possessive in my relationships ...</td>\n",
       "      <td>Hi there. It's great you are able to realize t...</td>\n",
       "    </tr>\n",
       "    <tr>\n",
       "      <th>524</th>\n",
       "      <td>He isn't violent, but he has anger issues and ...</td>\n",
       "      <td>Sometimes relationships just do not work.  Don...</td>\n",
       "    </tr>\n",
       "    <tr>\n",
       "      <th>166</th>\n",
       "      <td>I was raped by multiple men, and now I can't s...</td>\n",
       "      <td>I am very sorry to hear about your rapes.  Tra...</td>\n",
       "    </tr>\n",
       "    <tr>\n",
       "      <th>1305</th>\n",
       "      <td>My friend is abusing her prescription medicine...</td>\n",
       "      <td>Your friend needs to admit they have a problem...</td>\n",
       "    </tr>\n",
       "    <tr>\n",
       "      <th>281</th>\n",
       "      <td>My mom made a lot of mistakes a couple years b...</td>\n",
       "      <td>Hi Cleveland, I think I get what you're feelin...</td>\n",
       "    </tr>\n",
       "    <tr>\n",
       "      <th>680</th>\n",
       "      <td>We have been together over a year. We spend ti...</td>\n",
       "      <td>Hello, and thank you for your question. I am v...</td>\n",
       "    </tr>\n",
       "    <tr>\n",
       "      <th>594</th>\n",
       "      <td>It's been like a couple of years that I've bee...</td>\n",
       "      <td>Hello, and thank you for your question. Bipola...</td>\n",
       "    </tr>\n",
       "    <tr>\n",
       "      <th>1188</th>\n",
       "      <td>My fiancé and I come from a strong Christian b...</td>\n",
       "      <td>This suffering and clinging to the past, espec...</td>\n",
       "    </tr>\n",
       "    <tr>\n",
       "      <th>481</th>\n",
       "      <td>Sometimes I can't stop thinking about life aft...</td>\n",
       "      <td>You need to find an outlet. Someone to talk to...</td>\n",
       "    </tr>\n",
       "  </tbody>\n",
       "</table>\n",
       "</div>"
      ],
      "text/plain": [
       "                                           questionText  \\\n",
       "836   I believe my partner has a masturbation and po...   \n",
       "3     I am extremely possessive in my relationships ...   \n",
       "524   He isn't violent, but he has anger issues and ...   \n",
       "166   I was raped by multiple men, and now I can't s...   \n",
       "1305  My friend is abusing her prescription medicine...   \n",
       "281   My mom made a lot of mistakes a couple years b...   \n",
       "680   We have been together over a year. We spend ti...   \n",
       "594   It's been like a couple of years that I've bee...   \n",
       "1188  My fiancé and I come from a strong Christian b...   \n",
       "481   Sometimes I can't stop thinking about life aft...   \n",
       "\n",
       "                                             answerText  \n",
       "836   The comments here from the other therapists ar...  \n",
       "3     Hi there. It's great you are able to realize t...  \n",
       "524   Sometimes relationships just do not work.  Don...  \n",
       "166   I am very sorry to hear about your rapes.  Tra...  \n",
       "1305  Your friend needs to admit they have a problem...  \n",
       "281   Hi Cleveland, I think I get what you're feelin...  \n",
       "680   Hello, and thank you for your question. I am v...  \n",
       "594   Hello, and thank you for your question. Bipola...  \n",
       "1188  This suffering and clinging to the past, espec...  \n",
       "481   You need to find an outlet. Someone to talk to...  "
      ]
     },
     "execution_count": 35,
     "metadata": {},
     "output_type": "execute_result"
    }
   ],
   "source": [
    "counsel_chat_df.sample(10)"
   ]
  },
  {
   "cell_type": "markdown",
   "id": "5c857794",
   "metadata": {},
   "source": [
    "# Normalize Column Names Across All 3 Mental Health Datasets"
   ]
  },
  {
   "cell_type": "code",
   "execution_count": 36,
   "id": "471ebf44",
   "metadata": {},
   "outputs": [],
   "source": [
    "# Normalize column names across all datasets for consistency\n",
    "interview_df.rename(columns={'input': 'Context', 'output': 'Response'}, inplace=True)\n",
    "counsel_chat_df.rename(columns={'questionText': 'Context', 'answerText': 'Response'}, inplace=True)\n"
   ]
  },
  {
   "cell_type": "code",
   "execution_count": 37,
   "id": "d9bf0da7",
   "metadata": {},
   "outputs": [
    {
     "name": "stdout",
     "output_type": "stream",
     "text": [
      "<class 'pandas.core.frame.DataFrame'>\n",
      "RangeIndex: 2740 entries, 0 to 2739\n",
      "Data columns (total 2 columns):\n",
      " #   Column    Non-Null Count  Dtype \n",
      "---  ------    --------------  ----- \n",
      " 0   Context   2740 non-null   object\n",
      " 1   Response  2740 non-null   object\n",
      "dtypes: object(2)\n",
      "memory usage: 42.9+ KB\n"
     ]
    },
    {
     "data": {
      "text/plain": [
       "None"
      ]
     },
     "metadata": {},
     "output_type": "display_data"
    },
    {
     "name": "stdout",
     "output_type": "stream",
     "text": [
      "<class 'pandas.core.frame.DataFrame'>\n",
      "RangeIndex: 6233 entries, 0 to 6232\n",
      "Data columns (total 2 columns):\n",
      " #   Column    Non-Null Count  Dtype \n",
      "---  ------    --------------  ----- \n",
      " 0   Context   6233 non-null   object\n",
      " 1   Response  6233 non-null   object\n",
      "dtypes: object(2)\n",
      "memory usage: 97.5+ KB\n"
     ]
    },
    {
     "data": {
      "text/plain": [
       "None"
      ]
     },
     "metadata": {},
     "output_type": "display_data"
    },
    {
     "name": "stdout",
     "output_type": "stream",
     "text": [
      "<class 'pandas.core.frame.DataFrame'>\n",
      "RangeIndex: 1379 entries, 0 to 1378\n",
      "Data columns (total 2 columns):\n",
      " #   Column    Non-Null Count  Dtype \n",
      "---  ------    --------------  ----- \n",
      " 0   Context   1379 non-null   object\n",
      " 1   Response  1379 non-null   object\n",
      "dtypes: object(2)\n",
      "memory usage: 21.7+ KB\n"
     ]
    },
    {
     "data": {
      "text/plain": [
       "None"
      ]
     },
     "metadata": {},
     "output_type": "display_data"
    }
   ],
   "source": [
    "display(nlp_convos_df.info())\n",
    "display(interview_df.info())\n",
    "display(counsel_chat_df.info())"
   ]
  },
  {
   "cell_type": "code",
   "execution_count": 38,
   "id": "0d649136",
   "metadata": {},
   "outputs": [
    {
     "name": "stdout",
     "output_type": "stream",
     "text": [
      "Currently have 10352 out of the desired 17500.\n",
      "We still need 7148 more conversations to reach our goal.\n"
     ]
    }
   ],
   "source": [
    "total = len(nlp_convos_df) + len(interview_df) + len(counsel_chat_df)\n",
    "goal = 17500\n",
    "print(f\"Currently have {total} out of the desired {goal}.\\nWe still need {goal - total} more conversations to reach our goal.\")"
   ]
  },
  {
   "cell_type": "markdown",
   "id": "6530063b",
   "metadata": {},
   "source": [
    "# Reading in the Pair Dataset"
   ]
  },
  {
   "cell_type": "markdown",
   "id": "a11fb7c6",
   "metadata": {},
   "source": [
    "## exploring pair_df"
   ]
  },
  {
   "cell_type": "code",
   "execution_count": 39,
   "id": "7f30a857",
   "metadata": {},
   "outputs": [
    {
     "data": {
      "application/vnd.microsoft.datawrangler.viewer.v0+json": {
       "columns": [
        {
         "name": "index",
         "rawType": "int64",
         "type": "integer"
        },
        {
         "name": "prompt",
         "rawType": "object",
         "type": "string"
        },
        {
         "name": "hq1",
         "rawType": "object",
         "type": "string"
        },
        {
         "name": "hq2",
         "rawType": "object",
         "type": "string"
        },
        {
         "name": "mq1",
         "rawType": "object",
         "type": "string"
        },
        {
         "name": "lq1",
         "rawType": "object",
         "type": "string"
        },
        {
         "name": "lq2",
         "rawType": "object",
         "type": "string"
        },
        {
         "name": "lq3",
         "rawType": "object",
         "type": "string"
        },
        {
         "name": "lq4",
         "rawType": "object",
         "type": "string"
        },
        {
         "name": "lq5",
         "rawType": "object",
         "type": "string"
        }
       ],
       "ref": "0f3def91-1f22-456d-99cb-9ad0bb8ee2f7",
       "rows": [
        [
         "80",
         "I know my son might have FAP, but I can’t take him to have that colonoscopy that is out of the question.",
         "You know that the colonoscopy is really important but you're unsure how you can get him to the appointment. Part of you might be concerned about what the results might tell you so it feels easier to just avoid it.",
         "You really don’t want to play a role in getting your son to his appointments.",
         "You're not taking your son for a colonoscopy.",
         "You need to know if your son has FAP. You must schedule the colonoscopy for him.",
         "Don't you care if your son has FAP?",
         "Do what is best indicated by an expert in the field.",
         "I think he needs to have the medical attention he needs.",
         "Everything will be fine soon. Consult a doctor to confirm it and then decide further procedures."
        ],
        [
         "14",
         "I have tried every diet under the sun. To be honest Doc, I would love to lose weight but at this point I don't think I can do it. Maybe I need one of those stomach staples.",
         "You’ve put a lot of effort into trying to lose weight. You’d really like to lose weight but haven’t found the right program that works for you quite yet.",
         "None of the diets you've tried have worked for you. You're starting to think that surgery might be helpful.",
         "You don't think you can lose weight on your own.",
         "You won't lose weight with that attitude. Looking at your food recall, I see several areas you can make changes without resorting to major surgery. ",
         "Have you tried counting calories and weighing your food?",
         "What if we get you a dietitian that way you can speak to? They’re going to be able to come up with a plan that fits you specifically. Woukd you be interested in that?",
         "No, you can do it, but this is something you might want.",
         "You must first change your mindset, diet is not enough either, there must be physical exercises"
        ],
        [
         "162",
         "It does waste a lot of money and my friends keep bugging me to quit.",
         "You’re starting to see some of the reasons why quitting might be a good idea.",
         "You realize that smoking is pretty expensive and you've started thinking about how else you could spend that money.",
         "You know that smoking is a waste of money.",
         "Saving money and your health while pleasing your friends are all excellent reasons to quit. Sounds like you have a lot of support for quitting.",
         "Could you find something you want to buy with all the money you'll save by quitting?",
         "Wasting money is a point of view for each person, but always do what is good for you and for everyone.",
         "Listen to your friends and try to save that money.",
         "I think quitting would be best for your health, try small steps toward your goal."
        ],
        [
         "241",
         "They tell us that we have to be loyal to them you know, Corp, God, Country…blah blah…but where is the loyalty to us? They won’t pay for my college, I have to drive two hours to get medical care, they promise us a lot but they don’t deliver.",
         "You feel like you put everything on the line and now that you’re back, it doesn’t feel like that is being reciprocated.",
         "You're angry that the military isn't living up to their part of the bargain. You gave them years and your loyalty and now you can't even get them to pay for some college classes or your medical care.",
         "The military is letting you down.",
         "You did lose a lot of time and energy. Maybe you can consider a scholarship, or moving closer to a VA to access medical care.",
         "Could you move closer to the VA?",
         "Why won't they pay for your education? You should try publicizing their behavior on social media.",
         "Feeling as is if they failed you and you owe them no loyalty is completely valid. However does it change the circumstances?",
         "I i derstand your frustration, maybe we can find some programs that are helpful for you."
        ],
        [
         "205",
         "If I sign up to be an organ donor and I’m in a life-threatening situation, doctors won’t give me the best care. They won’t try as hard to save my life.",
         "You're worried that doctors won't do everything they can to save you in a life threatening situation if you're an organ donor.",
         "You're considering organ donation but you have a couple concerns you'd like to talk through first.",
         "You're unsure about organ donation.",
         "Your doctor is legally obligated to save your life.",
         "Do you know how many people could be saved by one person's death if most organs can be used?",
         "Why do you think that? Don't be so pessimistic.",
         "That's absolutely not true! when you are in dagner you will always be the priority. But think how good it is to have the chance to save another life!",
         "That's a lie, because that's something that doesn't work that way, life always comes first."
        ]
       ],
       "shape": {
        "columns": 9,
        "rows": 5
       }
      },
      "text/html": [
       "<div>\n",
       "<style scoped>\n",
       "    .dataframe tbody tr th:only-of-type {\n",
       "        vertical-align: middle;\n",
       "    }\n",
       "\n",
       "    .dataframe tbody tr th {\n",
       "        vertical-align: top;\n",
       "    }\n",
       "\n",
       "    .dataframe thead th {\n",
       "        text-align: right;\n",
       "    }\n",
       "</style>\n",
       "<table border=\"1\" class=\"dataframe\">\n",
       "  <thead>\n",
       "    <tr style=\"text-align: right;\">\n",
       "      <th></th>\n",
       "      <th>prompt</th>\n",
       "      <th>hq1</th>\n",
       "      <th>hq2</th>\n",
       "      <th>mq1</th>\n",
       "      <th>lq1</th>\n",
       "      <th>lq2</th>\n",
       "      <th>lq3</th>\n",
       "      <th>lq4</th>\n",
       "      <th>lq5</th>\n",
       "    </tr>\n",
       "  </thead>\n",
       "  <tbody>\n",
       "    <tr>\n",
       "      <th>80</th>\n",
       "      <td>I know my son might have FAP, but I can’t take...</td>\n",
       "      <td>You know that the colonoscopy is really import...</td>\n",
       "      <td>You really don’t want to play a role in gettin...</td>\n",
       "      <td>You're not taking your son for a colonoscopy.</td>\n",
       "      <td>You need to know if your son has FAP. You must...</td>\n",
       "      <td>Don't you care if your son has FAP?</td>\n",
       "      <td>Do what is best indicated by an expert in the ...</td>\n",
       "      <td>I think he needs to have the medical attention...</td>\n",
       "      <td>Everything will be fine soon. Consult a doctor...</td>\n",
       "    </tr>\n",
       "    <tr>\n",
       "      <th>14</th>\n",
       "      <td>I have tried every diet under the sun. To be h...</td>\n",
       "      <td>You’ve put a lot of effort into trying to lose...</td>\n",
       "      <td>None of the diets you've tried have worked for...</td>\n",
       "      <td>You don't think you can lose weight on your own.</td>\n",
       "      <td>You won't lose weight with that attitude. Look...</td>\n",
       "      <td>Have you tried counting calories and weighing ...</td>\n",
       "      <td>What if we get you a dietitian that way you ca...</td>\n",
       "      <td>No, you can do it, but this is something you m...</td>\n",
       "      <td>You must first change your mindset, diet is no...</td>\n",
       "    </tr>\n",
       "    <tr>\n",
       "      <th>162</th>\n",
       "      <td>It does waste a lot of money and my friends ke...</td>\n",
       "      <td>You’re starting to see some of the reasons why...</td>\n",
       "      <td>You realize that smoking is pretty expensive a...</td>\n",
       "      <td>You know that smoking is a waste of money.</td>\n",
       "      <td>Saving money and your health while pleasing yo...</td>\n",
       "      <td>Could you find something you want to buy with ...</td>\n",
       "      <td>Wasting money is a point of view for each pers...</td>\n",
       "      <td>Listen to your friends and try to save that mo...</td>\n",
       "      <td>I think quitting would be best for your health...</td>\n",
       "    </tr>\n",
       "    <tr>\n",
       "      <th>241</th>\n",
       "      <td>They tell us that we have to be loyal to them ...</td>\n",
       "      <td>You feel like you put everything on the line a...</td>\n",
       "      <td>You're angry that the military isn't living up...</td>\n",
       "      <td>The military is letting you down.</td>\n",
       "      <td>You did lose a lot of time and energy. Maybe y...</td>\n",
       "      <td>Could you move closer to the VA?</td>\n",
       "      <td>Why won't they pay for your education? You sho...</td>\n",
       "      <td>Feeling as is if they failed you and you owe t...</td>\n",
       "      <td>I i derstand your frustration, maybe we can fi...</td>\n",
       "    </tr>\n",
       "    <tr>\n",
       "      <th>205</th>\n",
       "      <td>If I sign up to be an organ donor and I’m in a...</td>\n",
       "      <td>You're worried that doctors won't do everythin...</td>\n",
       "      <td>You're considering organ donation but you have...</td>\n",
       "      <td>You're unsure about organ donation.</td>\n",
       "      <td>Your doctor is legally obligated to save your ...</td>\n",
       "      <td>Do you know how many people could be saved by ...</td>\n",
       "      <td>Why do you think that? Don't be so pessimistic.</td>\n",
       "      <td>That's absolutely not true! when you are in da...</td>\n",
       "      <td>That's a lie, because that's something that do...</td>\n",
       "    </tr>\n",
       "  </tbody>\n",
       "</table>\n",
       "</div>"
      ],
      "text/plain": [
       "                                                prompt  \\\n",
       "80   I know my son might have FAP, but I can’t take...   \n",
       "14   I have tried every diet under the sun. To be h...   \n",
       "162  It does waste a lot of money and my friends ke...   \n",
       "241  They tell us that we have to be loyal to them ...   \n",
       "205  If I sign up to be an organ donor and I’m in a...   \n",
       "\n",
       "                                                   hq1  \\\n",
       "80   You know that the colonoscopy is really import...   \n",
       "14   You’ve put a lot of effort into trying to lose...   \n",
       "162  You’re starting to see some of the reasons why...   \n",
       "241  You feel like you put everything on the line a...   \n",
       "205  You're worried that doctors won't do everythin...   \n",
       "\n",
       "                                                   hq2  \\\n",
       "80   You really don’t want to play a role in gettin...   \n",
       "14   None of the diets you've tried have worked for...   \n",
       "162  You realize that smoking is pretty expensive a...   \n",
       "241  You're angry that the military isn't living up...   \n",
       "205  You're considering organ donation but you have...   \n",
       "\n",
       "                                                  mq1  \\\n",
       "80      You're not taking your son for a colonoscopy.   \n",
       "14   You don't think you can lose weight on your own.   \n",
       "162        You know that smoking is a waste of money.   \n",
       "241                 The military is letting you down.   \n",
       "205               You're unsure about organ donation.   \n",
       "\n",
       "                                                   lq1  \\\n",
       "80   You need to know if your son has FAP. You must...   \n",
       "14   You won't lose weight with that attitude. Look...   \n",
       "162  Saving money and your health while pleasing yo...   \n",
       "241  You did lose a lot of time and energy. Maybe y...   \n",
       "205  Your doctor is legally obligated to save your ...   \n",
       "\n",
       "                                                   lq2  \\\n",
       "80                 Don't you care if your son has FAP?   \n",
       "14   Have you tried counting calories and weighing ...   \n",
       "162  Could you find something you want to buy with ...   \n",
       "241                   Could you move closer to the VA?   \n",
       "205  Do you know how many people could be saved by ...   \n",
       "\n",
       "                                                   lq3  \\\n",
       "80   Do what is best indicated by an expert in the ...   \n",
       "14   What if we get you a dietitian that way you ca...   \n",
       "162  Wasting money is a point of view for each pers...   \n",
       "241  Why won't they pay for your education? You sho...   \n",
       "205    Why do you think that? Don't be so pessimistic.   \n",
       "\n",
       "                                                   lq4  \\\n",
       "80   I think he needs to have the medical attention...   \n",
       "14   No, you can do it, but this is something you m...   \n",
       "162  Listen to your friends and try to save that mo...   \n",
       "241  Feeling as is if they failed you and you owe t...   \n",
       "205  That's absolutely not true! when you are in da...   \n",
       "\n",
       "                                                   lq5  \n",
       "80   Everything will be fine soon. Consult a doctor...  \n",
       "14   You must first change your mindset, diet is no...  \n",
       "162  I think quitting would be best for your health...  \n",
       "241  I i derstand your frustration, maybe we can fi...  \n",
       "205  That's a lie, because that's something that do...  "
      ]
     },
     "metadata": {},
     "output_type": "display_data"
    }
   ],
   "source": [
    "import pandas as pd\n",
    "\n",
    "# Read CSV\n",
    "pair_path = '../datasets/custom_corpus/pair_dataset/pair_data.csv'\n",
    "pair_df = pd.read_csv(pair_path)\n",
    "\n",
    "# Quick check\n",
    "display(pair_df.sample(5))"
   ]
  },
  {
   "cell_type": "code",
   "execution_count": 40,
   "id": "5ae4e9b0",
   "metadata": {},
   "outputs": [
    {
     "name": "stdout",
     "output_type": "stream",
     "text": [
      "<class 'pandas.core.frame.DataFrame'>\n",
      "RangeIndex: 318 entries, 0 to 317\n",
      "Data columns (total 9 columns):\n",
      " #   Column  Non-Null Count  Dtype \n",
      "---  ------  --------------  ----- \n",
      " 0   prompt  318 non-null    object\n",
      " 1   hq1     318 non-null    object\n",
      " 2   hq2     318 non-null    object\n",
      " 3   mq1     318 non-null    object\n",
      " 4   lq1     318 non-null    object\n",
      " 5   lq2     318 non-null    object\n",
      " 6   lq3     318 non-null    object\n",
      " 7   lq4     318 non-null    object\n",
      " 8   lq5     318 non-null    object\n",
      "dtypes: object(9)\n",
      "memory usage: 22.5+ KB\n"
     ]
    }
   ],
   "source": [
    "pair_df.info()"
   ]
  },
  {
   "cell_type": "code",
   "execution_count": 41,
   "id": "ccaa8c51",
   "metadata": {},
   "outputs": [],
   "source": [
    "# Drop unwanted columns in-place\n",
    "pair_df.drop(columns=['mq1', 'lq1', 'lq2', 'lq3', 'lq4', 'lq5'], inplace=True)"
   ]
  },
  {
   "cell_type": "code",
   "execution_count": 42,
   "id": "786ed4d4",
   "metadata": {},
   "outputs": [
    {
     "data": {
      "application/vnd.microsoft.datawrangler.viewer.v0+json": {
       "columns": [
        {
         "name": "index",
         "rawType": "int64",
         "type": "integer"
        },
        {
         "name": "prompt",
         "rawType": "object",
         "type": "string"
        },
        {
         "name": "hq1",
         "rawType": "object",
         "type": "string"
        },
        {
         "name": "hq2",
         "rawType": "object",
         "type": "string"
        }
       ],
       "ref": "f0af58e5-bc66-44d1-8dc1-100501c9593b",
       "rows": [
        [
         "0",
         "I know I am too big, and I probably should exercise more and eat better, but I am so busy. I’ve got school, homework, and my job at the mall, so I don’t see anywhere to fit it in. Plus, I can’t afford any of those gyms. And none of my friends want to exercise with me. They’re lazier than I am.  ",
         "You are starting to think it’s time to do something about your weight, and you know exercise and eating a little better would help. But fitting it in, between school and work, seems almost impossible. The gym isn’t an option, and you can’t think of any friends who would work out with you. But it is something you are starting to think about.",
         "You have put a lot of effort into losing weight but it has not paid off. You are starting to feel a bit desperate. Diets don’t seem to work for you. You are looking for something different that might last.\r\n"
        ],
        [
         "1",
         "I don’t trust doctors.  I don’t trust the CDC.  God gave us an immune system and as a healthy persons that is all I need to protect myself from getting COVID.   I think this is all a bunch of hysteria and profiteering by the Pharm industry",
         "You feel that your immune systems is strong enough to protect you from getting covid-19 and you don’t trust the motives of the health system and pharmaceutical industry. You don’t think they are telling us the truth about COVID-19.  They have ulterior motives.",
         "Putting your trust in others is hard for you. It scares you that a company or entity potentially could be experimenting on you with their treatments."
        ],
        [
         "2",
         "Doctor x, I don’t want the Covid vaccine for me or my kids. They don’t know enough about how safe it is and what long term side effects it causes. It is not for me or my family. ",
         "You are worried about long term effects from the vaccine that might not have been found, and don’t want to take that risk for you or your family.  You are trying to do the right thing and for now not getting vaccinated feels like the best thing for you and your family. ",
         "You're concerned that not enough research has been done on the vaccine."
        ],
        [
         "3",
         "I know I should probably get the vaccine. I have my mother living with me and she has type-2 diabetes. I would hate to bring it home to her. But I just don’t know about those side effects. I heard it changes your DNA and the vaccine can give you the virus.",
         "While you have some concerns about the vaccine, part of you feels it would  protect your mother and you don’t want to be responsible for her getting sick.  Sounds like finding answers to your questions about the safety of the vaccine might help you decide.    ",
         "You want to protect your mom, but you're worried about the side effects of being vaccinated."
        ],
        [
         "4",
         "I know because I am so heavy and have diabetes I probably should exercise more, but I am so busy. With the three kids and my new job I don’t see anywhere to fit it in. Plus, I hate the gym.  I can’t stand being around all that Lycra. My husband is useless because he already plays basketball four times a week.  ",
         "Although part of you knows exercise might help you get control of your weight and your blood sugar, fitting it in seems almost impossible given how busy you are at home and at work. The gym turns you off and your husband doesn’t seem like he can be much help either.  But it is something you think could be good for you. ",
         "because of your crazy schedule with the kids and your job, you just can't see how to make regular physical activity fit into your schedule right now."
        ]
       ],
       "shape": {
        "columns": 3,
        "rows": 5
       }
      },
      "text/html": [
       "<div>\n",
       "<style scoped>\n",
       "    .dataframe tbody tr th:only-of-type {\n",
       "        vertical-align: middle;\n",
       "    }\n",
       "\n",
       "    .dataframe tbody tr th {\n",
       "        vertical-align: top;\n",
       "    }\n",
       "\n",
       "    .dataframe thead th {\n",
       "        text-align: right;\n",
       "    }\n",
       "</style>\n",
       "<table border=\"1\" class=\"dataframe\">\n",
       "  <thead>\n",
       "    <tr style=\"text-align: right;\">\n",
       "      <th></th>\n",
       "      <th>prompt</th>\n",
       "      <th>hq1</th>\n",
       "      <th>hq2</th>\n",
       "    </tr>\n",
       "  </thead>\n",
       "  <tbody>\n",
       "    <tr>\n",
       "      <th>0</th>\n",
       "      <td>I know I am too big, and I probably should exe...</td>\n",
       "      <td>You are starting to think it’s time to do some...</td>\n",
       "      <td>You have put a lot of effort into losing weigh...</td>\n",
       "    </tr>\n",
       "    <tr>\n",
       "      <th>1</th>\n",
       "      <td>I don’t trust doctors.  I don’t trust the CDC....</td>\n",
       "      <td>You feel that your immune systems is strong en...</td>\n",
       "      <td>Putting your trust in others is hard for you. ...</td>\n",
       "    </tr>\n",
       "    <tr>\n",
       "      <th>2</th>\n",
       "      <td>Doctor x, I don’t want the Covid vaccine for m...</td>\n",
       "      <td>You are worried about long term effects from t...</td>\n",
       "      <td>You're concerned that not enough research has ...</td>\n",
       "    </tr>\n",
       "    <tr>\n",
       "      <th>3</th>\n",
       "      <td>I know I should probably get the vaccine. I ha...</td>\n",
       "      <td>While you have some concerns about the vaccine...</td>\n",
       "      <td>You want to protect your mom, but you're worri...</td>\n",
       "    </tr>\n",
       "    <tr>\n",
       "      <th>4</th>\n",
       "      <td>I know because I am so heavy and have diabetes...</td>\n",
       "      <td>Although part of you knows exercise might help...</td>\n",
       "      <td>because of your crazy schedule with the kids a...</td>\n",
       "    </tr>\n",
       "  </tbody>\n",
       "</table>\n",
       "</div>"
      ],
      "text/plain": [
       "                                              prompt  \\\n",
       "0  I know I am too big, and I probably should exe...   \n",
       "1  I don’t trust doctors.  I don’t trust the CDC....   \n",
       "2  Doctor x, I don’t want the Covid vaccine for m...   \n",
       "3  I know I should probably get the vaccine. I ha...   \n",
       "4  I know because I am so heavy and have diabetes...   \n",
       "\n",
       "                                                 hq1  \\\n",
       "0  You are starting to think it’s time to do some...   \n",
       "1  You feel that your immune systems is strong en...   \n",
       "2  You are worried about long term effects from t...   \n",
       "3  While you have some concerns about the vaccine...   \n",
       "4  Although part of you knows exercise might help...   \n",
       "\n",
       "                                                 hq2  \n",
       "0  You have put a lot of effort into losing weigh...  \n",
       "1  Putting your trust in others is hard for you. ...  \n",
       "2  You're concerned that not enough research has ...  \n",
       "3  You want to protect your mom, but you're worri...  \n",
       "4  because of your crazy schedule with the kids a...  "
      ]
     },
     "metadata": {},
     "output_type": "display_data"
    },
    {
     "data": {
      "application/vnd.microsoft.datawrangler.viewer.v0+json": {
       "columns": [
        {
         "name": "index",
         "rawType": "int64",
         "type": "integer"
        },
        {
         "name": "prompt",
         "rawType": "object",
         "type": "string"
        },
        {
         "name": "hq1",
         "rawType": "object",
         "type": "string"
        },
        {
         "name": "hq2",
         "rawType": "object",
         "type": "string"
        }
       ],
       "ref": "5b6f35f6-504e-42fd-a3ce-a390e0c5714d",
       "rows": [
        [
         "313",
         "I don’t eat any lunchmeat anymore, bread hardly ever, I don’t hardly use salt anymore",
         "You've really tried to change your diet in hopes of being healthier.",
         "You've putting a lot of effort into eating healthier and you're trying to find the right substitutions for your diet."
        ],
        [
         "314",
         "Well, I read canned vegetables are better than the fresh stuff.",
         "You've done research to try to figure out what's healthire -- fresh or canned. If it's ok with you, I can share a little more....",
         "Learning about what you put in your body is important to you."
        ],
        [
         "315",
         "I can do that when I’m at the store.",
         "You're committed to doing it the next time you head to the store.",
         "You're starting to think of how you can put this plan in motion. You're thinking that you'll be able to get started the next time you head to the store."
        ],
        [
         "316",
         "I’d like to eat less processed foods, but I guess I’m not sure what those are. ",
         "While you are ready to start eating fewer processed foods, you're going to need some information before you're ready to get started. If it's ok with you, I can share...",
         "You'd really like to learn more about processed foods."
        ],
        [
         "317",
         "I like going to the gym, I like exercising; I exercise a couple hours a week. But I’m not sure what to do when the gym is closed.",
         "You know that exericse is good for you and you enjoy going to the gym. Right now you're looking for ideas of things you can do to get physical activity on the days the gym is closed.",
         "You're already exercising a couple hours a week. Now it's just a matter of figuring out what to do for physical activity on the days you can't make it to the gym."
        ]
       ],
       "shape": {
        "columns": 3,
        "rows": 5
       }
      },
      "text/html": [
       "<div>\n",
       "<style scoped>\n",
       "    .dataframe tbody tr th:only-of-type {\n",
       "        vertical-align: middle;\n",
       "    }\n",
       "\n",
       "    .dataframe tbody tr th {\n",
       "        vertical-align: top;\n",
       "    }\n",
       "\n",
       "    .dataframe thead th {\n",
       "        text-align: right;\n",
       "    }\n",
       "</style>\n",
       "<table border=\"1\" class=\"dataframe\">\n",
       "  <thead>\n",
       "    <tr style=\"text-align: right;\">\n",
       "      <th></th>\n",
       "      <th>prompt</th>\n",
       "      <th>hq1</th>\n",
       "      <th>hq2</th>\n",
       "    </tr>\n",
       "  </thead>\n",
       "  <tbody>\n",
       "    <tr>\n",
       "      <th>313</th>\n",
       "      <td>I don’t eat any lunchmeat anymore, bread hardl...</td>\n",
       "      <td>You've really tried to change your diet in hop...</td>\n",
       "      <td>You've putting a lot of effort into eating hea...</td>\n",
       "    </tr>\n",
       "    <tr>\n",
       "      <th>314</th>\n",
       "      <td>Well, I read canned vegetables are better than...</td>\n",
       "      <td>You've done research to try to figure out what...</td>\n",
       "      <td>Learning about what you put in your body is im...</td>\n",
       "    </tr>\n",
       "    <tr>\n",
       "      <th>315</th>\n",
       "      <td>I can do that when I’m at the store.</td>\n",
       "      <td>You're committed to doing it the next time you...</td>\n",
       "      <td>You're starting to think of how you can put th...</td>\n",
       "    </tr>\n",
       "    <tr>\n",
       "      <th>316</th>\n",
       "      <td>I’d like to eat less processed foods, but I gu...</td>\n",
       "      <td>While you are ready to start eating fewer proc...</td>\n",
       "      <td>You'd really like to learn more about processe...</td>\n",
       "    </tr>\n",
       "    <tr>\n",
       "      <th>317</th>\n",
       "      <td>I like going to the gym, I like exercising; I ...</td>\n",
       "      <td>You know that exericse is good for you and you...</td>\n",
       "      <td>You're already exercising a couple hours a wee...</td>\n",
       "    </tr>\n",
       "  </tbody>\n",
       "</table>\n",
       "</div>"
      ],
      "text/plain": [
       "                                                prompt  \\\n",
       "313  I don’t eat any lunchmeat anymore, bread hardl...   \n",
       "314  Well, I read canned vegetables are better than...   \n",
       "315               I can do that when I’m at the store.   \n",
       "316  I’d like to eat less processed foods, but I gu...   \n",
       "317  I like going to the gym, I like exercising; I ...   \n",
       "\n",
       "                                                   hq1  \\\n",
       "313  You've really tried to change your diet in hop...   \n",
       "314  You've done research to try to figure out what...   \n",
       "315  You're committed to doing it the next time you...   \n",
       "316  While you are ready to start eating fewer proc...   \n",
       "317  You know that exericse is good for you and you...   \n",
       "\n",
       "                                                   hq2  \n",
       "313  You've putting a lot of effort into eating hea...  \n",
       "314  Learning about what you put in your body is im...  \n",
       "315  You're starting to think of how you can put th...  \n",
       "316  You'd really like to learn more about processe...  \n",
       "317  You're already exercising a couple hours a wee...  "
      ]
     },
     "metadata": {},
     "output_type": "display_data"
    }
   ],
   "source": [
    "display(pair_df.head())   \n",
    "display(pair_df.tail())"
   ]
  },
  {
   "cell_type": "code",
   "execution_count": 43,
   "id": "1a5be170",
   "metadata": {},
   "outputs": [
    {
     "name": "stdout",
     "output_type": "stream",
     "text": [
      "<class 'pandas.core.frame.DataFrame'>\n",
      "RangeIndex: 318 entries, 0 to 317\n",
      "Data columns (total 3 columns):\n",
      " #   Column  Non-Null Count  Dtype \n",
      "---  ------  --------------  ----- \n",
      " 0   prompt  318 non-null    object\n",
      " 1   hq1     318 non-null    object\n",
      " 2   hq2     318 non-null    object\n",
      "dtypes: object(3)\n",
      "memory usage: 7.6+ KB\n"
     ]
    }
   ],
   "source": [
    "pair_df.info()"
   ]
  },
  {
   "cell_type": "code",
   "execution_count": 44,
   "id": "aa6bb970",
   "metadata": {},
   "outputs": [
    {
     "data": {
      "application/vnd.microsoft.datawrangler.viewer.v0+json": {
       "columns": [
        {
         "name": "index",
         "rawType": "object",
         "type": "string"
        },
        {
         "name": "prompt",
         "rawType": "object",
         "type": "unknown"
        },
        {
         "name": "hq1",
         "rawType": "object",
         "type": "unknown"
        },
        {
         "name": "hq2",
         "rawType": "object",
         "type": "unknown"
        }
       ],
       "ref": "994160ca-89e9-4bbc-a1fe-53151678945e",
       "rows": [
        [
         "count",
         "318",
         "318",
         "318"
        ],
        [
         "unique",
         "318",
         "317",
         "317"
        ],
        [
         "top",
         "I know I am too big, and I probably should exercise more and eat better, but I am so busy. I’ve got school, homework, and my job at the mall, so I don’t see anywhere to fit it in. Plus, I can’t afford any of those gyms. And none of my friends want to exercise with me. They’re lazier than I am.  ",
         "It is difficult for you to take the medications when they don’t agree with you. So, if a different medication tasted better, you might be able to take it.",
         "After a busy week, you really need an outlet -- something to help you unwind. "
        ],
        [
         "freq",
         "1",
         "2",
         "2"
        ]
       ],
       "shape": {
        "columns": 3,
        "rows": 4
       }
      },
      "text/html": [
       "<div>\n",
       "<style scoped>\n",
       "    .dataframe tbody tr th:only-of-type {\n",
       "        vertical-align: middle;\n",
       "    }\n",
       "\n",
       "    .dataframe tbody tr th {\n",
       "        vertical-align: top;\n",
       "    }\n",
       "\n",
       "    .dataframe thead th {\n",
       "        text-align: right;\n",
       "    }\n",
       "</style>\n",
       "<table border=\"1\" class=\"dataframe\">\n",
       "  <thead>\n",
       "    <tr style=\"text-align: right;\">\n",
       "      <th></th>\n",
       "      <th>prompt</th>\n",
       "      <th>hq1</th>\n",
       "      <th>hq2</th>\n",
       "    </tr>\n",
       "  </thead>\n",
       "  <tbody>\n",
       "    <tr>\n",
       "      <th>count</th>\n",
       "      <td>318</td>\n",
       "      <td>318</td>\n",
       "      <td>318</td>\n",
       "    </tr>\n",
       "    <tr>\n",
       "      <th>unique</th>\n",
       "      <td>318</td>\n",
       "      <td>317</td>\n",
       "      <td>317</td>\n",
       "    </tr>\n",
       "    <tr>\n",
       "      <th>top</th>\n",
       "      <td>I know I am too big, and I probably should exe...</td>\n",
       "      <td>It is difficult for you to take the medication...</td>\n",
       "      <td>After a busy week, you really need an outlet -...</td>\n",
       "    </tr>\n",
       "    <tr>\n",
       "      <th>freq</th>\n",
       "      <td>1</td>\n",
       "      <td>2</td>\n",
       "      <td>2</td>\n",
       "    </tr>\n",
       "  </tbody>\n",
       "</table>\n",
       "</div>"
      ],
      "text/plain": [
       "                                                   prompt  \\\n",
       "count                                                 318   \n",
       "unique                                                318   \n",
       "top     I know I am too big, and I probably should exe...   \n",
       "freq                                                    1   \n",
       "\n",
       "                                                      hq1  \\\n",
       "count                                                 318   \n",
       "unique                                                317   \n",
       "top     It is difficult for you to take the medication...   \n",
       "freq                                                    2   \n",
       "\n",
       "                                                      hq2  \n",
       "count                                                 318  \n",
       "unique                                                317  \n",
       "top     After a busy week, you really need an outlet -...  \n",
       "freq                                                    2  "
      ]
     },
     "execution_count": 44,
     "metadata": {},
     "output_type": "execute_result"
    }
   ],
   "source": [
    "pair_df.describe()"
   ]
  },
  {
   "cell_type": "markdown",
   "id": "50a7cc1d",
   "metadata": {},
   "source": [
    "### Restructure Pair dataset into two columns"
   ]
  },
  {
   "cell_type": "code",
   "execution_count": 45,
   "id": "7d3fc26f",
   "metadata": {},
   "outputs": [],
   "source": [
    "# Prepare first part: prompt + hq1 renamed to Response\n",
    "pair_hq1 = pair_df[['prompt', 'hq1']].rename(columns={'hq1': 'Response'})\n",
    "\n",
    "# Prepare second part: prompt + hq2 renamed to Response\n",
    "pair_hq2 = pair_df[['prompt', 'hq2']].rename(columns={'hq2': 'Response'})\n",
    "\n",
    "# Concatenate the two datasets (this creates a new DataFrame, so assign back to df)\n",
    "pair_df = pd.concat([pair_hq1, pair_hq2], ignore_index=True)\n",
    "\n",
    "# Rename 'prompt' column to 'Context'\n",
    "pair_df.rename(columns={'prompt': 'Context'}, inplace=True)\n"
   ]
  },
  {
   "cell_type": "code",
   "execution_count": 46,
   "id": "f2d32b00",
   "metadata": {},
   "outputs": [
    {
     "data": {
      "application/vnd.microsoft.datawrangler.viewer.v0+json": {
       "columns": [
        {
         "name": "index",
         "rawType": "int64",
         "type": "integer"
        },
        {
         "name": "Context",
         "rawType": "object",
         "type": "string"
        },
        {
         "name": "Response",
         "rawType": "object",
         "type": "string"
        }
       ],
       "ref": "c7cc0d95-75de-484a-8d94-f01534f8d4ed",
       "rows": [
        [
         "0",
         "I know I am too big, and I probably should exercise more and eat better, but I am so busy. I’ve got school, homework, and my job at the mall, so I don’t see anywhere to fit it in. Plus, I can’t afford any of those gyms. And none of my friends want to exercise with me. They’re lazier than I am.  ",
         "You are starting to think it’s time to do something about your weight, and you know exercise and eating a little better would help. But fitting it in, between school and work, seems almost impossible. The gym isn’t an option, and you can’t think of any friends who would work out with you. But it is something you are starting to think about."
        ],
        [
         "1",
         "I don’t trust doctors.  I don’t trust the CDC.  God gave us an immune system and as a healthy persons that is all I need to protect myself from getting COVID.   I think this is all a bunch of hysteria and profiteering by the Pharm industry",
         "You feel that your immune systems is strong enough to protect you from getting covid-19 and you don’t trust the motives of the health system and pharmaceutical industry. You don’t think they are telling us the truth about COVID-19.  They have ulterior motives."
        ],
        [
         "2",
         "Doctor x, I don’t want the Covid vaccine for me or my kids. They don’t know enough about how safe it is and what long term side effects it causes. It is not for me or my family. ",
         "You are worried about long term effects from the vaccine that might not have been found, and don’t want to take that risk for you or your family.  You are trying to do the right thing and for now not getting vaccinated feels like the best thing for you and your family. "
        ],
        [
         "3",
         "I know I should probably get the vaccine. I have my mother living with me and she has type-2 diabetes. I would hate to bring it home to her. But I just don’t know about those side effects. I heard it changes your DNA and the vaccine can give you the virus.",
         "While you have some concerns about the vaccine, part of you feels it would  protect your mother and you don’t want to be responsible for her getting sick.  Sounds like finding answers to your questions about the safety of the vaccine might help you decide.    "
        ],
        [
         "4",
         "I know because I am so heavy and have diabetes I probably should exercise more, but I am so busy. With the three kids and my new job I don’t see anywhere to fit it in. Plus, I hate the gym.  I can’t stand being around all that Lycra. My husband is useless because he already plays basketball four times a week.  ",
         "Although part of you knows exercise might help you get control of your weight and your blood sugar, fitting it in seems almost impossible given how busy you are at home and at work. The gym turns you off and your husband doesn’t seem like he can be much help either.  But it is something you think could be good for you. "
        ]
       ],
       "shape": {
        "columns": 2,
        "rows": 5
       }
      },
      "text/html": [
       "<div>\n",
       "<style scoped>\n",
       "    .dataframe tbody tr th:only-of-type {\n",
       "        vertical-align: middle;\n",
       "    }\n",
       "\n",
       "    .dataframe tbody tr th {\n",
       "        vertical-align: top;\n",
       "    }\n",
       "\n",
       "    .dataframe thead th {\n",
       "        text-align: right;\n",
       "    }\n",
       "</style>\n",
       "<table border=\"1\" class=\"dataframe\">\n",
       "  <thead>\n",
       "    <tr style=\"text-align: right;\">\n",
       "      <th></th>\n",
       "      <th>Context</th>\n",
       "      <th>Response</th>\n",
       "    </tr>\n",
       "  </thead>\n",
       "  <tbody>\n",
       "    <tr>\n",
       "      <th>0</th>\n",
       "      <td>I know I am too big, and I probably should exe...</td>\n",
       "      <td>You are starting to think it’s time to do some...</td>\n",
       "    </tr>\n",
       "    <tr>\n",
       "      <th>1</th>\n",
       "      <td>I don’t trust doctors.  I don’t trust the CDC....</td>\n",
       "      <td>You feel that your immune systems is strong en...</td>\n",
       "    </tr>\n",
       "    <tr>\n",
       "      <th>2</th>\n",
       "      <td>Doctor x, I don’t want the Covid vaccine for m...</td>\n",
       "      <td>You are worried about long term effects from t...</td>\n",
       "    </tr>\n",
       "    <tr>\n",
       "      <th>3</th>\n",
       "      <td>I know I should probably get the vaccine. I ha...</td>\n",
       "      <td>While you have some concerns about the vaccine...</td>\n",
       "    </tr>\n",
       "    <tr>\n",
       "      <th>4</th>\n",
       "      <td>I know because I am so heavy and have diabetes...</td>\n",
       "      <td>Although part of you knows exercise might help...</td>\n",
       "    </tr>\n",
       "  </tbody>\n",
       "</table>\n",
       "</div>"
      ],
      "text/plain": [
       "                                             Context  \\\n",
       "0  I know I am too big, and I probably should exe...   \n",
       "1  I don’t trust doctors.  I don’t trust the CDC....   \n",
       "2  Doctor x, I don’t want the Covid vaccine for m...   \n",
       "3  I know I should probably get the vaccine. I ha...   \n",
       "4  I know because I am so heavy and have diabetes...   \n",
       "\n",
       "                                            Response  \n",
       "0  You are starting to think it’s time to do some...  \n",
       "1  You feel that your immune systems is strong en...  \n",
       "2  You are worried about long term effects from t...  \n",
       "3  While you have some concerns about the vaccine...  \n",
       "4  Although part of you knows exercise might help...  "
      ]
     },
     "metadata": {},
     "output_type": "display_data"
    },
    {
     "data": {
      "application/vnd.microsoft.datawrangler.viewer.v0+json": {
       "columns": [
        {
         "name": "index",
         "rawType": "int64",
         "type": "integer"
        },
        {
         "name": "Context",
         "rawType": "object",
         "type": "string"
        },
        {
         "name": "Response",
         "rawType": "object",
         "type": "string"
        }
       ],
       "ref": "ed0d9cbb-771c-4ab1-b8b5-3f02612a81f5",
       "rows": [
        [
         "631",
         "I don’t eat any lunchmeat anymore, bread hardly ever, I don’t hardly use salt anymore",
         "You've putting a lot of effort into eating healthier and you're trying to find the right substitutions for your diet."
        ],
        [
         "632",
         "Well, I read canned vegetables are better than the fresh stuff.",
         "Learning about what you put in your body is important to you."
        ],
        [
         "633",
         "I can do that when I’m at the store.",
         "You're starting to think of how you can put this plan in motion. You're thinking that you'll be able to get started the next time you head to the store."
        ],
        [
         "634",
         "I’d like to eat less processed foods, but I guess I’m not sure what those are. ",
         "You'd really like to learn more about processed foods."
        ],
        [
         "635",
         "I like going to the gym, I like exercising; I exercise a couple hours a week. But I’m not sure what to do when the gym is closed.",
         "You're already exercising a couple hours a week. Now it's just a matter of figuring out what to do for physical activity on the days you can't make it to the gym."
        ]
       ],
       "shape": {
        "columns": 2,
        "rows": 5
       }
      },
      "text/html": [
       "<div>\n",
       "<style scoped>\n",
       "    .dataframe tbody tr th:only-of-type {\n",
       "        vertical-align: middle;\n",
       "    }\n",
       "\n",
       "    .dataframe tbody tr th {\n",
       "        vertical-align: top;\n",
       "    }\n",
       "\n",
       "    .dataframe thead th {\n",
       "        text-align: right;\n",
       "    }\n",
       "</style>\n",
       "<table border=\"1\" class=\"dataframe\">\n",
       "  <thead>\n",
       "    <tr style=\"text-align: right;\">\n",
       "      <th></th>\n",
       "      <th>Context</th>\n",
       "      <th>Response</th>\n",
       "    </tr>\n",
       "  </thead>\n",
       "  <tbody>\n",
       "    <tr>\n",
       "      <th>631</th>\n",
       "      <td>I don’t eat any lunchmeat anymore, bread hardl...</td>\n",
       "      <td>You've putting a lot of effort into eating hea...</td>\n",
       "    </tr>\n",
       "    <tr>\n",
       "      <th>632</th>\n",
       "      <td>Well, I read canned vegetables are better than...</td>\n",
       "      <td>Learning about what you put in your body is im...</td>\n",
       "    </tr>\n",
       "    <tr>\n",
       "      <th>633</th>\n",
       "      <td>I can do that when I’m at the store.</td>\n",
       "      <td>You're starting to think of how you can put th...</td>\n",
       "    </tr>\n",
       "    <tr>\n",
       "      <th>634</th>\n",
       "      <td>I’d like to eat less processed foods, but I gu...</td>\n",
       "      <td>You'd really like to learn more about processe...</td>\n",
       "    </tr>\n",
       "    <tr>\n",
       "      <th>635</th>\n",
       "      <td>I like going to the gym, I like exercising; I ...</td>\n",
       "      <td>You're already exercising a couple hours a wee...</td>\n",
       "    </tr>\n",
       "  </tbody>\n",
       "</table>\n",
       "</div>"
      ],
      "text/plain": [
       "                                               Context  \\\n",
       "631  I don’t eat any lunchmeat anymore, bread hardl...   \n",
       "632  Well, I read canned vegetables are better than...   \n",
       "633               I can do that when I’m at the store.   \n",
       "634  I’d like to eat less processed foods, but I gu...   \n",
       "635  I like going to the gym, I like exercising; I ...   \n",
       "\n",
       "                                              Response  \n",
       "631  You've putting a lot of effort into eating hea...  \n",
       "632  Learning about what you put in your body is im...  \n",
       "633  You're starting to think of how you can put th...  \n",
       "634  You'd really like to learn more about processe...  \n",
       "635  You're already exercising a couple hours a wee...  "
      ]
     },
     "metadata": {},
     "output_type": "display_data"
    }
   ],
   "source": [
    "# Check result\n",
    "display(pair_df.head(5))\n",
    "display(pair_df.tail(5))"
   ]
  },
  {
   "cell_type": "code",
   "execution_count": 47,
   "id": "5d6af174",
   "metadata": {},
   "outputs": [
    {
     "name": "stdout",
     "output_type": "stream",
     "text": [
      "<class 'pandas.core.frame.DataFrame'>\n",
      "RangeIndex: 636 entries, 0 to 635\n",
      "Data columns (total 2 columns):\n",
      " #   Column    Non-Null Count  Dtype \n",
      "---  ------    --------------  ----- \n",
      " 0   Context   636 non-null    object\n",
      " 1   Response  636 non-null    object\n",
      "dtypes: object(2)\n",
      "memory usage: 10.1+ KB\n"
     ]
    }
   ],
   "source": [
    "pair_df.info()"
   ]
  },
  {
   "cell_type": "code",
   "execution_count": 48,
   "id": "91dd46f2",
   "metadata": {},
   "outputs": [
    {
     "data": {
      "application/vnd.microsoft.datawrangler.viewer.v0+json": {
       "columns": [
        {
         "name": "index",
         "rawType": "object",
         "type": "string"
        },
        {
         "name": "Context",
         "rawType": "object",
         "type": "unknown"
        },
        {
         "name": "Response",
         "rawType": "object",
         "type": "unknown"
        }
       ],
       "ref": "9c6c9154-ad77-446f-a2fb-743057b96291",
       "rows": [
        [
         "count",
         "636",
         "636"
        ],
        [
         "unique",
         "318",
         "632"
        ],
        [
         "top",
         "I know I am too big, and I probably should exercise more and eat better, but I am so busy. I’ve got school, homework, and my job at the mall, so I don’t see anywhere to fit it in. Plus, I can’t afford any of those gyms. And none of my friends want to exercise with me. They’re lazier than I am.  ",
         "After a busy week, you really need an outlet -- something to help you unwind. "
        ],
        [
         "freq",
         "2",
         "2"
        ]
       ],
       "shape": {
        "columns": 2,
        "rows": 4
       }
      },
      "text/html": [
       "<div>\n",
       "<style scoped>\n",
       "    .dataframe tbody tr th:only-of-type {\n",
       "        vertical-align: middle;\n",
       "    }\n",
       "\n",
       "    .dataframe tbody tr th {\n",
       "        vertical-align: top;\n",
       "    }\n",
       "\n",
       "    .dataframe thead th {\n",
       "        text-align: right;\n",
       "    }\n",
       "</style>\n",
       "<table border=\"1\" class=\"dataframe\">\n",
       "  <thead>\n",
       "    <tr style=\"text-align: right;\">\n",
       "      <th></th>\n",
       "      <th>Context</th>\n",
       "      <th>Response</th>\n",
       "    </tr>\n",
       "  </thead>\n",
       "  <tbody>\n",
       "    <tr>\n",
       "      <th>count</th>\n",
       "      <td>636</td>\n",
       "      <td>636</td>\n",
       "    </tr>\n",
       "    <tr>\n",
       "      <th>unique</th>\n",
       "      <td>318</td>\n",
       "      <td>632</td>\n",
       "    </tr>\n",
       "    <tr>\n",
       "      <th>top</th>\n",
       "      <td>I know I am too big, and I probably should exe...</td>\n",
       "      <td>After a busy week, you really need an outlet -...</td>\n",
       "    </tr>\n",
       "    <tr>\n",
       "      <th>freq</th>\n",
       "      <td>2</td>\n",
       "      <td>2</td>\n",
       "    </tr>\n",
       "  </tbody>\n",
       "</table>\n",
       "</div>"
      ],
      "text/plain": [
       "                                                  Context  \\\n",
       "count                                                 636   \n",
       "unique                                                318   \n",
       "top     I know I am too big, and I probably should exe...   \n",
       "freq                                                    2   \n",
       "\n",
       "                                                 Response  \n",
       "count                                                 636  \n",
       "unique                                                632  \n",
       "top     After a busy week, you really need an outlet -...  \n",
       "freq                                                    2  "
      ]
     },
     "execution_count": 48,
     "metadata": {},
     "output_type": "execute_result"
    }
   ],
   "source": [
    "pair_df.describe()"
   ]
  },
  {
   "cell_type": "code",
   "execution_count": 49,
   "id": "af379a85",
   "metadata": {},
   "outputs": [
    {
     "data": {
      "application/vnd.microsoft.datawrangler.viewer.v0+json": {
       "columns": [
        {
         "name": "index",
         "rawType": "int64",
         "type": "integer"
        },
        {
         "name": "Context",
         "rawType": "object",
         "type": "string"
        },
        {
         "name": "Response",
         "rawType": "object",
         "type": "string"
        }
       ],
       "ref": "a4f98033-8e88-4f47-9b1d-bc4e048e9bbd",
       "rows": [
        [
         "328",
         "I know I need to eat better.   But I live alone, I’m a lousy cook, and I have no time or interest to learn how.  Sure, McDonalds is poison but it’s fast and cheap and I’m not embarrassed to eat there alone.",
         "You struggle finding meals for one. You'd like to eat healthier but since you don't have time to cook finding restaurants where you're comfortable eating alone is limiting."
        ],
        [
         "596",
         "I know I should quit, I know it’s bad for my baby, but everyone I know does it.",
         "In order to quit, it sounds like you'd need to think about who could be on your support team who doesn't smoke. "
        ],
        [
         "48",
         "I know that 2 cigarettes per day are not a problem to the health of the baby. I know that I cannot give them up completely (it would be stressful), so as long as I stay at 2 per day, it should be fine.",
         "Limiting the number of cigarettes you have each day to just two helps keep your baby healthy while also keeping your stress under control."
        ],
        [
         "445",
         "I simply forget. It’s not that I don’t want to take my metformin, it just slips my mind in the morning when I am in a rush.",
         "If you could find a way to remember to take your meds in the morning, this wouldn't be an issue.  "
        ],
        [
         "331",
         "I need to quit these damn cigarettes already. But I am so scared of the withdrawal, I am at a loss for what to do.",
         "You know that cigarettes aren't great for you and you've started to think about what life after cigarettes might look like. If you could prepare for the symptoms of withdrawal, you might be ready to give quitting a try. "
        ],
        [
         "261",
         "I know weed can turn you into a zombie and it ain’t good for me, but it really helps me when I am nervous, in social situations I feel more relaxed after I smoke. Takes the edge off.",
         "While you do think smoking helps you when you're feeling nervous, you are starting to feel it might not be that good for you and that you might be becoming too reliant on it."
        ],
        [
         "555",
         "Well, I went once, I had to wait for over an hour, and all I did was paperwork, we barely talked about anything important, and the social worker was not a vet.",
         "In the future, you might have a better experience if you were able to find someone who could relate to your military background."
        ],
        [
         "369",
         "We didn’t plan for this pregnancy, it was all unexpected. And I have been feeling fine, no morning sickness, no nothing. It feels like nothing changed in my life, except for this belly which keeps growing. So, I don’t feel I should change anything about my life. That’s why I don’t feel I need to stop smoking.",
         "Since you feel the same now as you did before getting pregnant, you don't really see a reason to quit. But, if you were feeling differently or not feeling that great during your first trimester, you might feel differently. "
        ],
        [
         "458",
         "You have to carry a knife or some protection when you live in a neighborhood like mine. What if sh*t starts to go down.  I don’t want to be the one without something.  The part of Flint where I hang ain’t Ann Arbor.",
         "You feel safer carrying protection on you. If you lived somewhere elset, like Ann Arbor, you might feel differently. "
        ],
        [
         "5",
         "Of course, I would like to lose weight and not feel gross all the time. But I hate all the diets my mom puts me on. I’ve tried them all. Every time I end up feeling deprived and hungry. Then I gain all the weight back. I’m getting ready to give up.",
         "You have tried a lot of things and put a lot of effort into this. But because the effects of these diets haven’t lasted and they just make you hungry, you are getting discouraged."
        ]
       ],
       "shape": {
        "columns": 2,
        "rows": 10
       }
      },
      "text/html": [
       "<div>\n",
       "<style scoped>\n",
       "    .dataframe tbody tr th:only-of-type {\n",
       "        vertical-align: middle;\n",
       "    }\n",
       "\n",
       "    .dataframe tbody tr th {\n",
       "        vertical-align: top;\n",
       "    }\n",
       "\n",
       "    .dataframe thead th {\n",
       "        text-align: right;\n",
       "    }\n",
       "</style>\n",
       "<table border=\"1\" class=\"dataframe\">\n",
       "  <thead>\n",
       "    <tr style=\"text-align: right;\">\n",
       "      <th></th>\n",
       "      <th>Context</th>\n",
       "      <th>Response</th>\n",
       "    </tr>\n",
       "  </thead>\n",
       "  <tbody>\n",
       "    <tr>\n",
       "      <th>328</th>\n",
       "      <td>I know I need to eat better.   But I live alon...</td>\n",
       "      <td>You struggle finding meals for one. You'd like...</td>\n",
       "    </tr>\n",
       "    <tr>\n",
       "      <th>596</th>\n",
       "      <td>I know I should quit, I know it’s bad for my b...</td>\n",
       "      <td>In order to quit, it sounds like you'd need to...</td>\n",
       "    </tr>\n",
       "    <tr>\n",
       "      <th>48</th>\n",
       "      <td>I know that 2 cigarettes per day are not a pro...</td>\n",
       "      <td>Limiting the number of cigarettes you have eac...</td>\n",
       "    </tr>\n",
       "    <tr>\n",
       "      <th>445</th>\n",
       "      <td>I simply forget. It’s not that I don’t want to...</td>\n",
       "      <td>If you could find a way to remember to take yo...</td>\n",
       "    </tr>\n",
       "    <tr>\n",
       "      <th>331</th>\n",
       "      <td>I need to quit these damn cigarettes already. ...</td>\n",
       "      <td>You know that cigarettes aren't great for you ...</td>\n",
       "    </tr>\n",
       "    <tr>\n",
       "      <th>261</th>\n",
       "      <td>I know weed can turn you into a zombie and it ...</td>\n",
       "      <td>While you do think smoking helps you when you'...</td>\n",
       "    </tr>\n",
       "    <tr>\n",
       "      <th>555</th>\n",
       "      <td>Well, I went once, I had to wait for over an h...</td>\n",
       "      <td>In the future, you might have a better experie...</td>\n",
       "    </tr>\n",
       "    <tr>\n",
       "      <th>369</th>\n",
       "      <td>We didn’t plan for this pregnancy, it was all ...</td>\n",
       "      <td>Since you feel the same now as you did before ...</td>\n",
       "    </tr>\n",
       "    <tr>\n",
       "      <th>458</th>\n",
       "      <td>You have to carry a knife or some protection w...</td>\n",
       "      <td>You feel safer carrying protection on you. If ...</td>\n",
       "    </tr>\n",
       "    <tr>\n",
       "      <th>5</th>\n",
       "      <td>Of course, I would like to lose weight and not...</td>\n",
       "      <td>You have tried a lot of things and put a lot o...</td>\n",
       "    </tr>\n",
       "  </tbody>\n",
       "</table>\n",
       "</div>"
      ],
      "text/plain": [
       "                                               Context  \\\n",
       "328  I know I need to eat better.   But I live alon...   \n",
       "596  I know I should quit, I know it’s bad for my b...   \n",
       "48   I know that 2 cigarettes per day are not a pro...   \n",
       "445  I simply forget. It’s not that I don’t want to...   \n",
       "331  I need to quit these damn cigarettes already. ...   \n",
       "261  I know weed can turn you into a zombie and it ...   \n",
       "555  Well, I went once, I had to wait for over an h...   \n",
       "369  We didn’t plan for this pregnancy, it was all ...   \n",
       "458  You have to carry a knife or some protection w...   \n",
       "5    Of course, I would like to lose weight and not...   \n",
       "\n",
       "                                              Response  \n",
       "328  You struggle finding meals for one. You'd like...  \n",
       "596  In order to quit, it sounds like you'd need to...  \n",
       "48   Limiting the number of cigarettes you have eac...  \n",
       "445  If you could find a way to remember to take yo...  \n",
       "331  You know that cigarettes aren't great for you ...  \n",
       "261  While you do think smoking helps you when you'...  \n",
       "555  In the future, you might have a better experie...  \n",
       "369  Since you feel the same now as you did before ...  \n",
       "458  You feel safer carrying protection on you. If ...  \n",
       "5    You have tried a lot of things and put a lot o...  "
      ]
     },
     "execution_count": 49,
     "metadata": {},
     "output_type": "execute_result"
    }
   ],
   "source": [
    "pair_df = pair_df.reset_index(drop=True)\n",
    "pair_df.sample(10)"
   ]
  },
  {
   "cell_type": "code",
   "execution_count": 50,
   "id": "4931cc02",
   "metadata": {},
   "outputs": [
    {
     "name": "stdout",
     "output_type": "stream",
     "text": [
      "Pair Dataset: (636, 2)\n"
     ]
    }
   ],
   "source": [
    "print(f\"Pair Dataset: {pair_df.shape}\")\n"
   ]
  },
  {
   "cell_type": "code",
   "execution_count": 51,
   "id": "a5ca5f55",
   "metadata": {},
   "outputs": [
    {
     "name": "stdout",
     "output_type": "stream",
     "text": [
      "Currently have 10988 out of the desired 17500.\n",
      "We still need 6512 more conversations to reach our goal.\n"
     ]
    }
   ],
   "source": [
    "total += len(pair_df)\n",
    "\n",
    "print(f\"Currently have {total} out of the desired {goal}.\\nWe still need {goal - total} more conversations to reach our goal.\")"
   ]
  },
  {
   "cell_type": "markdown",
   "id": "bd30dab4",
   "metadata": {},
   "source": [
    "# Time to read in the ZahrizhalAli"
   ]
  },
  {
   "cell_type": "code",
   "execution_count": 4,
   "id": "012bd68d",
   "metadata": {},
   "outputs": [
    {
     "data": {
      "application/vnd.microsoft.datawrangler.viewer.v0+json": {
       "columns": [
        {
         "name": "index",
         "rawType": "int64",
         "type": "integer"
        },
        {
         "name": "text",
         "rawType": "object",
         "type": "string"
        }
       ],
       "ref": "d1184256-d779-4d5e-9aa4-2da78605cec0",
       "rows": [
        [
         "0",
         "<HUMAN>: What is a panic attack?\n<ASSISTANT>: Panic attacks come on suddenly and involve intense and often overwhelming fear. They’re accompanied by very challenging physical symptoms, like a racing heartbeat, shortness of breath, or nausea. Unexpected panic attacks occur without an obvious cause. Expected panic attacks are cued by external stressors, like phobias. Panic attacks can happen to anyone, but having more than one may be a sign of panic disorder, a mental health condition characterized by sudden and repeated panic attacks."
        ],
        [
         "1",
         "<HUMAN>: What are symptoms of panic attack vs. anxiety attack?\n<ASSISTANT>: Panic attacks and anxiety attacks can share some similarities, but they also have distinct features. It's important to remember that I am not a medical professional, and if you or someone you know is experiencing these symptoms, seeking help from a qualified healthcare professional is essential.\n\nPanic Attack Symptoms:\nA panic attack is a sudden and intense surge of fear or discomfort that reaches its peak within minutes. Some common symptoms of a panic attack include:\n\n1. Heart palpitations, pounding heart, or accelerated heart rate.\n2. Sweating or trembling.\n3. Shortness of breath or feeling smothered.\n4. Feeling of choking or a lump in the throat.\n5. Chest pain or discomfort.\n6. Nausea or abdominal distress.\n7. Dizziness, lightheadedness, or feeling faint.\n8. Chills or hot flashes.\n9. Numbness or tingling sensations.\n10. Fear of losing control or going crazy.\n11. Fear of dying.\n12. A sense of detachment from reality or oneself (depersonalization).\n13. A feeling of being detached from the surroundings (derealization).\n\nIt's important to note that panic attacks are often unpredictable and can occur even in situations where there is no immediate danger.\n\nAnxiety Attack Symptoms:\nAnxiety attacks are different from panic attacks in terms of intensity and duration. While panic attacks are sudden and reach their peak rapidly, anxiety attacks are typically associated with prolonged feelings of worry, nervousness, and fear. Symptoms of an anxiety attack may include:\n\n1. Excessive worrying or fear about future events or situations.\n2. Restlessness or feeling on edge.\n3. Muscle tension or aches.\n4. Difficulty concentrating or mind going blank.\n5. Irritability.\n6. Fatigue or feeling easily fatigued.\n7. Sleep disturbances, such as difficulty falling asleep or staying asleep.\n8. Avoidance of triggers or situations that provoke anxiety.\n\nAnxiety attacks can be triggered by specific stressors or occur without an apparent cause. They might build up gradually and persist for an extended period.\n\nRemember, it's crucial to consult a qualified mental health professional to obtain an accurate diagnosis and receive personalized guidance and support. They can help develop a suitable treatment plan to manage panic attacks, anxiety attacks, or any other mental health concerns you may be facing."
        ],
        [
         "2",
         "<HUMAN>: What are the types of Mental Illness?\n<ASSISTANT>: There are many different conditions that are recognized as mental illnesses. The more common types include:\n\n1. Anxiety disorders: People with anxiety disorders respond to certain objects or situations with fear and dread, as well as with physical signs of anxiety or panic, such as a rapid heartbeat and sweating. An anxiety disorder is diagnosed if the person's response is not appropriate for the situation, if the person cannot control the response, or if the anxiety interferes with normal functioning. \n\n2. Mood disorders: These disorders, also called affective disorders, involve persistent feelings of sadness or periods of feeling overly happy, or fluctuations from extreme happiness to extreme sadness.\n\n3. Psychotic disorders: Psychotic disorders involve distorted awareness and thinking. Two of the most common symptoms of psychotic disorders are hallucinations and delusions. Schizophrenia is an example of a psychotic disorder.\n\n4. Eating disorders: Eating disorders involve extreme emotions, attitudes, and behaviors involving weight and food.\n\n5. Personality disorders: People with personality disorders have extreme and inflexible personality traits that are distressing to the person and/or cause problems in work, school, or social relationships.\n\n6. Obsessive-compulsive disorder (OCD): People with OCD are plagued by constant thoughts or fears that cause them to perform certain rituals or routines. An example is a person with an unreasonable fear of germs who constantly washes their hands.\n\n7. Post-traumatic stress disorder (PTSD): PTSD is a condition that can develop following a traumatic and/or terrifying event, such as a sexual or physical assault, the unexpected death of a loved one, or a natural disaster."
        ],
        [
         "3",
         "<HUMAN>: What does mental-illness mean?\n<ASSISTANT>: Mental illness is a group of biological brain disorders that affect a person’s thinking, mood, emotions, sense of reality, ability to relate and daily functioning. Common disorders are anxiety, depression, schizophrenia, bipolar disorder etc. People of all ages are susceptible but adolescents & young adults are especially vulnerable."
        ],
        [
         "4",
         "<HUMAN>: How can you treat mental illness?\n<ASSISTANT>: The treatment of mental illness is a multi-faceted approach that varies depending on the individual's specific condition and needs. Here are some general guidelines and options:\n\n1. Seek Professional Help: It's essential to consult a mental health professional, such as a psychiatrist, psychologist, or therapist. They can conduct a thorough evaluation, provide a proper diagnosis, and tailor a treatment plan to address your unique concerns.\n\n2. Therapy or Counseling: Different types of therapy, like cognitive-behavioral therapy (CBT), dialectical behavior therapy (DBT), or psychotherapy, can be effective in helping individuals cope with and overcome mental health challenges.\n\n3. Medication: In some cases, medication might be prescribed to alleviate symptoms and stabilize your mental health. This should always be done under the guidance of a qualified psychiatrist.\n\n4. Lifestyle Changes: Implementing healthy lifestyle choices can significantly impact mental well-being. Regular exercise, a balanced diet, sufficient sleep, and stress reduction techniques can all play a crucial role.\n\n5. Social Support: Connecting with friends, family, or support groups can provide a sense of belonging and understanding, which can be beneficial in the recovery process.\n\n6. Mindfulness and Relaxation Techniques: Practices like meditation, deep breathing exercises, or yoga can help manage stress and promote a sense of inner calm.\n\n7. Identify Triggers and Coping Strategies: Learning to identify triggers that worsen your condition and developing healthy coping mechanisms can empower you to better manage your symptoms.\n\n8. Education and Self-Help Resources: Educating yourself about your mental health condition and seeking self-help resources, such as books or online courses, can be empowering and enlightening.\n\nRemember, each person's journey to mental health is unique, so it's crucial to be patient with yourself and not compare your progress to others. Recovery is possible, and with the right support and dedication, you can lead a fulfilling life."
        ]
       ],
       "shape": {
        "columns": 1,
        "rows": 5
       }
      },
      "text/html": [
       "<div>\n",
       "<style scoped>\n",
       "    .dataframe tbody tr th:only-of-type {\n",
       "        vertical-align: middle;\n",
       "    }\n",
       "\n",
       "    .dataframe tbody tr th {\n",
       "        vertical-align: top;\n",
       "    }\n",
       "\n",
       "    .dataframe thead th {\n",
       "        text-align: right;\n",
       "    }\n",
       "</style>\n",
       "<table border=\"1\" class=\"dataframe\">\n",
       "  <thead>\n",
       "    <tr style=\"text-align: right;\">\n",
       "      <th></th>\n",
       "      <th>text</th>\n",
       "    </tr>\n",
       "  </thead>\n",
       "  <tbody>\n",
       "    <tr>\n",
       "      <th>0</th>\n",
       "      <td>&lt;HUMAN&gt;: What is a panic attack?\\n&lt;ASSISTANT&gt;:...</td>\n",
       "    </tr>\n",
       "    <tr>\n",
       "      <th>1</th>\n",
       "      <td>&lt;HUMAN&gt;: What are symptoms of panic attack vs....</td>\n",
       "    </tr>\n",
       "    <tr>\n",
       "      <th>2</th>\n",
       "      <td>&lt;HUMAN&gt;: What are the types of Mental Illness?...</td>\n",
       "    </tr>\n",
       "    <tr>\n",
       "      <th>3</th>\n",
       "      <td>&lt;HUMAN&gt;: What does mental-illness mean?\\n&lt;ASSI...</td>\n",
       "    </tr>\n",
       "    <tr>\n",
       "      <th>4</th>\n",
       "      <td>&lt;HUMAN&gt;: How can you treat mental illness?\\n&lt;A...</td>\n",
       "    </tr>\n",
       "  </tbody>\n",
       "</table>\n",
       "</div>"
      ],
      "text/plain": [
       "                                                text\n",
       "0  <HUMAN>: What is a panic attack?\\n<ASSISTANT>:...\n",
       "1  <HUMAN>: What are symptoms of panic attack vs....\n",
       "2  <HUMAN>: What are the types of Mental Illness?...\n",
       "3  <HUMAN>: What does mental-illness mean?\\n<ASSI...\n",
       "4  <HUMAN>: How can you treat mental illness?\\n<A..."
      ]
     },
     "metadata": {},
     "output_type": "display_data"
    }
   ],
   "source": [
    "import pandas as pd\n",
    "\n",
    "# Replace 'path/to/your_file.parquet' with the actual path to your Parquet file\n",
    "zahrizhalAli = pd.read_parquet('../datasets/custom_corpus/chatbot_sets/zahrizhalAli/zahrizhal_ali.parquet')\n",
    "\n",
    "# Display the first few rows of the DataFrame\n",
    "display(zahrizhalAli.head())\n"
   ]
  },
  {
   "cell_type": "code",
   "execution_count": null,
   "id": "e1ed126e",
   "metadata": {},
   "outputs": [],
   "source": []
  }
 ],
 "metadata": {
  "kernelspec": {
   "display_name": "Python 3",
   "language": "python",
   "name": "python3"
  },
  "language_info": {
   "codemirror_mode": {
    "name": "ipython",
    "version": 3
   },
   "file_extension": ".py",
   "mimetype": "text/x-python",
   "name": "python",
   "nbconvert_exporter": "python",
   "pygments_lexer": "ipython3",
   "version": "3.9.9"
  }
 },
 "nbformat": 4,
 "nbformat_minor": 5
}
