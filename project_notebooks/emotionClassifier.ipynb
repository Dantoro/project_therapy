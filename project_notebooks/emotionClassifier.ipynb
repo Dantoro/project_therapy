{
 "cells": [
  {
   "cell_type": "markdown",
   "id": "4b0a2d6a",
   "metadata": {},
   "source": [
    "Emotion Classifier"
   ]
  },
  {
   "cell_type": "markdown",
   "id": "e1b1db6f",
   "metadata": {},
   "source": [
    "# Setup"
   ]
  },
  {
   "cell_type": "code",
   "execution_count": 2,
   "id": "5eb14685",
   "metadata": {},
   "outputs": [],
   "source": [
    "import pandas as pd"
   ]
  },
  {
   "cell_type": "code",
   "execution_count": 6,
   "id": "2c0d43ae",
   "metadata": {},
   "outputs": [],
   "source": [
    "columns = ['text', 'emotion_labels', 'id']\n",
    "\n",
    "go_emotions_train = pd.read_csv('../datasets/GoEmotions/train.tsv', sep='\\t', header=None, names=columns)\n",
    "\n",
    "go_emotions_val = pd.read_csv('../datasets/GoEmotions/dev.tsv', sep='\\t', header=None, names=columns)\n",
    "\n",
    "go_emotions_test= pd.read_csv('../datasets/GoEmotions/test.tsv', sep='\\t', header=None, names=columns)\n"
   ]
  },
  {
   "cell_type": "markdown",
   "id": "9ae08ccf",
   "metadata": {},
   "source": [
    "## Exploring Training Set"
   ]
  },
  {
   "cell_type": "code",
   "execution_count": 10,
   "id": "25649bdd",
   "metadata": {},
   "outputs": [
    {
     "name": "stdout",
     "output_type": "stream",
     "text": [
      "First 5 rows of the training set:\n",
      "\n"
     ]
    },
    {
     "data": {
      "application/vnd.microsoft.datawrangler.viewer.v0+json": {
       "columns": [
        {
         "name": "index",
         "rawType": "int64",
         "type": "integer"
        },
        {
         "name": "text",
         "rawType": "object",
         "type": "string"
        },
        {
         "name": "emotion_labels",
         "rawType": "object",
         "type": "string"
        },
        {
         "name": "id",
         "rawType": "object",
         "type": "string"
        }
       ],
       "ref": "72298927-e5dc-4063-b001-c9e46cb91606",
       "rows": [
        [
         "0",
         "My favourite food is anything I didn't have to cook myself.",
         "27",
         "eebbqej"
        ],
        [
         "1",
         "Now if he does off himself, everyone will think hes having a laugh screwing with people instead of actually dead",
         "27",
         "ed00q6i"
        ],
        [
         "2",
         "WHY THE FUCK IS BAYLESS ISOING",
         "2",
         "eezlygj"
        ],
        [
         "3",
         "To make her feel threatened",
         "14",
         "ed7ypvh"
        ],
        [
         "4",
         "Dirty Southern Wankers",
         "3",
         "ed0bdzj"
        ]
       ],
       "shape": {
        "columns": 3,
        "rows": 5
       }
      },
      "text/html": [
       "<div>\n",
       "<style scoped>\n",
       "    .dataframe tbody tr th:only-of-type {\n",
       "        vertical-align: middle;\n",
       "    }\n",
       "\n",
       "    .dataframe tbody tr th {\n",
       "        vertical-align: top;\n",
       "    }\n",
       "\n",
       "    .dataframe thead th {\n",
       "        text-align: right;\n",
       "    }\n",
       "</style>\n",
       "<table border=\"1\" class=\"dataframe\">\n",
       "  <thead>\n",
       "    <tr style=\"text-align: right;\">\n",
       "      <th></th>\n",
       "      <th>text</th>\n",
       "      <th>emotion_labels</th>\n",
       "      <th>id</th>\n",
       "    </tr>\n",
       "  </thead>\n",
       "  <tbody>\n",
       "    <tr>\n",
       "      <th>0</th>\n",
       "      <td>My favourite food is anything I didn't have to...</td>\n",
       "      <td>27</td>\n",
       "      <td>eebbqej</td>\n",
       "    </tr>\n",
       "    <tr>\n",
       "      <th>1</th>\n",
       "      <td>Now if he does off himself, everyone will thin...</td>\n",
       "      <td>27</td>\n",
       "      <td>ed00q6i</td>\n",
       "    </tr>\n",
       "    <tr>\n",
       "      <th>2</th>\n",
       "      <td>WHY THE FUCK IS BAYLESS ISOING</td>\n",
       "      <td>2</td>\n",
       "      <td>eezlygj</td>\n",
       "    </tr>\n",
       "    <tr>\n",
       "      <th>3</th>\n",
       "      <td>To make her feel threatened</td>\n",
       "      <td>14</td>\n",
       "      <td>ed7ypvh</td>\n",
       "    </tr>\n",
       "    <tr>\n",
       "      <th>4</th>\n",
       "      <td>Dirty Southern Wankers</td>\n",
       "      <td>3</td>\n",
       "      <td>ed0bdzj</td>\n",
       "    </tr>\n",
       "  </tbody>\n",
       "</table>\n",
       "</div>"
      ],
      "text/plain": [
       "                                                text emotion_labels       id\n",
       "0  My favourite food is anything I didn't have to...             27  eebbqej\n",
       "1  Now if he does off himself, everyone will thin...             27  ed00q6i\n",
       "2                     WHY THE FUCK IS BAYLESS ISOING              2  eezlygj\n",
       "3                        To make her feel threatened             14  ed7ypvh\n",
       "4                             Dirty Southern Wankers              3  ed0bdzj"
      ]
     },
     "metadata": {},
     "output_type": "display_data"
    },
    {
     "name": "stdout",
     "output_type": "stream",
     "text": [
      "\n",
      "5 random rows from the training set:\n",
      "\n"
     ]
    },
    {
     "data": {
      "application/vnd.microsoft.datawrangler.viewer.v0+json": {
       "columns": [
        {
         "name": "index",
         "rawType": "int64",
         "type": "integer"
        },
        {
         "name": "text",
         "rawType": "object",
         "type": "string"
        },
        {
         "name": "emotion_labels",
         "rawType": "object",
         "type": "string"
        },
        {
         "name": "id",
         "rawType": "object",
         "type": "string"
        }
       ],
       "ref": "fc5e6526-e030-4d80-943e-4a18e367a5ec",
       "rows": [
        [
         "25191",
         "I wish I could give it to you. I've always had negative comments.",
         "8",
         "eesk255"
        ],
        [
         "16014",
         "Exactly! When the mom went to kekeing in [NAME] face to FaceTime with [NAME] in all of 10 minutes my jaw fell to the floor!",
         "4,26",
         "edd232r"
        ],
        [
         "13751",
         "You must!!",
         "27",
         "ed9znbz"
        ],
        [
         "26112",
         "yeh and the new ones just feel like reskin cod games sadly",
         "25",
         "eeds40y"
        ],
        [
         "29034",
         "Yeah ik that should be unacceptable too lmao",
         "1,4",
         "efbot3b"
        ]
       ],
       "shape": {
        "columns": 3,
        "rows": 5
       }
      },
      "text/html": [
       "<div>\n",
       "<style scoped>\n",
       "    .dataframe tbody tr th:only-of-type {\n",
       "        vertical-align: middle;\n",
       "    }\n",
       "\n",
       "    .dataframe tbody tr th {\n",
       "        vertical-align: top;\n",
       "    }\n",
       "\n",
       "    .dataframe thead th {\n",
       "        text-align: right;\n",
       "    }\n",
       "</style>\n",
       "<table border=\"1\" class=\"dataframe\">\n",
       "  <thead>\n",
       "    <tr style=\"text-align: right;\">\n",
       "      <th></th>\n",
       "      <th>text</th>\n",
       "      <th>emotion_labels</th>\n",
       "      <th>id</th>\n",
       "    </tr>\n",
       "  </thead>\n",
       "  <tbody>\n",
       "    <tr>\n",
       "      <th>25191</th>\n",
       "      <td>I wish I could give it to you. I've always had...</td>\n",
       "      <td>8</td>\n",
       "      <td>eesk255</td>\n",
       "    </tr>\n",
       "    <tr>\n",
       "      <th>16014</th>\n",
       "      <td>Exactly! When the mom went to kekeing in [NAME...</td>\n",
       "      <td>4,26</td>\n",
       "      <td>edd232r</td>\n",
       "    </tr>\n",
       "    <tr>\n",
       "      <th>13751</th>\n",
       "      <td>You must!!</td>\n",
       "      <td>27</td>\n",
       "      <td>ed9znbz</td>\n",
       "    </tr>\n",
       "    <tr>\n",
       "      <th>26112</th>\n",
       "      <td>yeh and the new ones just feel like reskin cod...</td>\n",
       "      <td>25</td>\n",
       "      <td>eeds40y</td>\n",
       "    </tr>\n",
       "    <tr>\n",
       "      <th>29034</th>\n",
       "      <td>Yeah ik that should be unacceptable too lmao</td>\n",
       "      <td>1,4</td>\n",
       "      <td>efbot3b</td>\n",
       "    </tr>\n",
       "  </tbody>\n",
       "</table>\n",
       "</div>"
      ],
      "text/plain": [
       "                                                    text emotion_labels  \\\n",
       "25191  I wish I could give it to you. I've always had...              8   \n",
       "16014  Exactly! When the mom went to kekeing in [NAME...           4,26   \n",
       "13751                                         You must!!             27   \n",
       "26112  yeh and the new ones just feel like reskin cod...             25   \n",
       "29034       Yeah ik that should be unacceptable too lmao            1,4   \n",
       "\n",
       "            id  \n",
       "25191  eesk255  \n",
       "16014  edd232r  \n",
       "13751  ed9znbz  \n",
       "26112  eeds40y  \n",
       "29034  efbot3b  "
      ]
     },
     "metadata": {},
     "output_type": "display_data"
    },
    {
     "name": "stdout",
     "output_type": "stream",
     "text": [
      "\n",
      "Last 5 rows from the training set:\n",
      "\n"
     ]
    },
    {
     "data": {
      "application/vnd.microsoft.datawrangler.viewer.v0+json": {
       "columns": [
        {
         "name": "index",
         "rawType": "int64",
         "type": "integer"
        },
        {
         "name": "text",
         "rawType": "object",
         "type": "string"
        },
        {
         "name": "emotion_labels",
         "rawType": "object",
         "type": "string"
        },
        {
         "name": "id",
         "rawType": "object",
         "type": "string"
        }
       ],
       "ref": "40c1071f-afd9-4e38-a69b-4ac3cb1c6f52",
       "rows": [
        [
         "43405",
         "Added you mate well I’ve just got the bow and I love the hunting aspect of the game so happily join you hunting and what not",
         "18",
         "edsb738"
        ],
        [
         "43406",
         "Always thought that was funny but is it a reference to anything?",
         "6",
         "ee7fdou"
        ],
        [
         "43407",
         "What are you talking about? Anything bad that happened was [NAME] fault - only good things were [NAME] doing!",
         "3",
         "efgbhks"
        ],
        [
         "43408",
         "More like a baptism, with sexy results!",
         "13",
         "ed1naf8"
        ],
        [
         "43409",
         "Enjoy the ride!",
         "17",
         "eecwmbq"
        ]
       ],
       "shape": {
        "columns": 3,
        "rows": 5
       }
      },
      "text/html": [
       "<div>\n",
       "<style scoped>\n",
       "    .dataframe tbody tr th:only-of-type {\n",
       "        vertical-align: middle;\n",
       "    }\n",
       "\n",
       "    .dataframe tbody tr th {\n",
       "        vertical-align: top;\n",
       "    }\n",
       "\n",
       "    .dataframe thead th {\n",
       "        text-align: right;\n",
       "    }\n",
       "</style>\n",
       "<table border=\"1\" class=\"dataframe\">\n",
       "  <thead>\n",
       "    <tr style=\"text-align: right;\">\n",
       "      <th></th>\n",
       "      <th>text</th>\n",
       "      <th>emotion_labels</th>\n",
       "      <th>id</th>\n",
       "    </tr>\n",
       "  </thead>\n",
       "  <tbody>\n",
       "    <tr>\n",
       "      <th>43405</th>\n",
       "      <td>Added you mate well I’ve just got the bow and ...</td>\n",
       "      <td>18</td>\n",
       "      <td>edsb738</td>\n",
       "    </tr>\n",
       "    <tr>\n",
       "      <th>43406</th>\n",
       "      <td>Always thought that was funny but is it a refe...</td>\n",
       "      <td>6</td>\n",
       "      <td>ee7fdou</td>\n",
       "    </tr>\n",
       "    <tr>\n",
       "      <th>43407</th>\n",
       "      <td>What are you talking about? Anything bad that ...</td>\n",
       "      <td>3</td>\n",
       "      <td>efgbhks</td>\n",
       "    </tr>\n",
       "    <tr>\n",
       "      <th>43408</th>\n",
       "      <td>More like a baptism, with sexy results!</td>\n",
       "      <td>13</td>\n",
       "      <td>ed1naf8</td>\n",
       "    </tr>\n",
       "    <tr>\n",
       "      <th>43409</th>\n",
       "      <td>Enjoy the ride!</td>\n",
       "      <td>17</td>\n",
       "      <td>eecwmbq</td>\n",
       "    </tr>\n",
       "  </tbody>\n",
       "</table>\n",
       "</div>"
      ],
      "text/plain": [
       "                                                    text emotion_labels  \\\n",
       "43405  Added you mate well I’ve just got the bow and ...             18   \n",
       "43406  Always thought that was funny but is it a refe...              6   \n",
       "43407  What are you talking about? Anything bad that ...              3   \n",
       "43408            More like a baptism, with sexy results!             13   \n",
       "43409                                    Enjoy the ride!             17   \n",
       "\n",
       "            id  \n",
       "43405  edsb738  \n",
       "43406  ee7fdou  \n",
       "43407  efgbhks  \n",
       "43408  ed1naf8  \n",
       "43409  eecwmbq  "
      ]
     },
     "metadata": {},
     "output_type": "display_data"
    }
   ],
   "source": [
    "print(\"First 5 rows of the training set:\\n\")\n",
    "display(go_emotions_train.head())\n",
    "\n",
    "print(\"\\n5 random rows from the training set:\\n\")\n",
    "display(go_emotions_train.sample(5))\n",
    "\n",
    "print(\"\\nLast 5 rows from the training set:\\n\")\n",
    "display(go_emotions_train.tail())\n",
    "\n"
   ]
  },
  {
   "cell_type": "code",
   "execution_count": 11,
   "id": "b64a1626",
   "metadata": {},
   "outputs": [
    {
     "name": "stdout",
     "output_type": "stream",
     "text": [
      "<class 'pandas.core.frame.DataFrame'>\n",
      "RangeIndex: 43410 entries, 0 to 43409\n",
      "Data columns (total 3 columns):\n",
      " #   Column          Non-Null Count  Dtype \n",
      "---  ------          --------------  ----- \n",
      " 0   text            43410 non-null  object\n",
      " 1   emotion_labels  43410 non-null  object\n",
      " 2   id              43410 non-null  object\n",
      "dtypes: object(3)\n",
      "memory usage: 1017.5+ KB\n"
     ]
    }
   ],
   "source": [
    "go_emotions_train.info()"
   ]
  },
  {
   "cell_type": "code",
   "execution_count": 17,
   "id": "e349d333",
   "metadata": {},
   "outputs": [
    {
     "name": "stdout",
     "output_type": "stream",
     "text": [
      "Number of emotion labels per row:\n",
      "emotion_labels\n",
      "1    36308\n",
      "2     6541\n",
      "3      532\n",
      "4       28\n",
      "5        1\n",
      "Name: count, dtype: int64\n"
     ]
    }
   ],
   "source": [
    "# Split the 'emotion_labels' string by commas and count how many labels each row has\n",
    "label_counts = go_emotions_train['emotion_labels'].str.split(',').apply(len)\n",
    "\n",
    "# Get frequency of each count (1 label, 2 labels, etc.)\n",
    "counts_distribution = label_counts.value_counts().sort_index()\n",
    "\n",
    "print(\"Number of emotion labels per row:\")\n",
    "print(counts_distribution)\n"
   ]
  },
  {
   "cell_type": "markdown",
   "id": "bd1aa122",
   "metadata": {},
   "source": []
  },
  {
   "cell_type": "code",
   "execution_count": 18,
   "id": "cdfb1ec6",
   "metadata": {},
   "outputs": [
    {
     "name": "stdout",
     "output_type": "stream",
     "text": [
      "Counts for each emotion label index:\n",
      "Label 0: 4130\n",
      "Label 1: 2328\n",
      "Label 10: 2022\n",
      "Label 11: 793\n",
      "Label 12: 303\n",
      "Label 13: 853\n",
      "Label 14: 596\n",
      "Label 15: 2662\n",
      "Label 16: 77\n",
      "Label 17: 1452\n",
      "Label 18: 2086\n",
      "Label 19: 164\n",
      "Label 2: 1567\n",
      "Label 20: 1581\n",
      "Label 21: 111\n",
      "Label 22: 1110\n",
      "Label 23: 153\n",
      "Label 24: 545\n",
      "Label 25: 1326\n",
      "Label 26: 1060\n",
      "Label 27: 14219\n",
      "Label 3: 2470\n",
      "Label 4: 2939\n",
      "Label 5: 1087\n",
      "Label 6: 1368\n",
      "Label 7: 2191\n",
      "Label 8: 641\n",
      "Label 9: 1269\n"
     ]
    }
   ],
   "source": [
    "from collections import Counter\n",
    "\n",
    "# Flatten all label indices into a single list\n",
    "all_labels = sum(go_emotions_train['emotion_labels'].str.split(',').tolist(), [])\n",
    "\n",
    "# Count occurrences of each label index\n",
    "label_freq = Counter(all_labels)\n",
    "\n",
    "print(\"Counts for each emotion label index:\")\n",
    "for label, count in sorted(label_freq.items()):\n",
    "    print(f\"Label {label}: {count}\")\n"
   ]
  },
  {
   "cell_type": "code",
   "execution_count": 19,
   "id": "bb4b3009",
   "metadata": {},
   "outputs": [
    {
     "name": "stdout",
     "output_type": "stream",
     "text": [
      "Top 10 most common emotion label combinations:\n",
      "emotion_labels\n",
      "27    12823\n",
      "0      2710\n",
      "4      1873\n",
      "15     1857\n",
      "1      1652\n",
      "3      1451\n",
      "18     1427\n",
      "10     1402\n",
      "7      1389\n",
      "2      1025\n",
      "Name: count, dtype: int64\n"
     ]
    }
   ],
   "source": [
    "# Normalize the label combinations by sorting them so '1,2' and '2,1' count as same combo\n",
    "normalized_combos = go_emotions_train['emotion_labels'].apply(lambda x: ','.join(sorted(x.split(','))))\n",
    "\n",
    "# Count occurrences of each unique combination\n",
    "combo_freq = normalized_combos.value_counts()\n",
    "\n",
    "print(\"Top 10 most common emotion label combinations:\")\n",
    "print(combo_freq.head(10))\n"
   ]
  },
  {
   "cell_type": "markdown",
   "id": "88fdfb9c",
   "metadata": {},
   "source": [
    "## Exploring Validation Set"
   ]
  },
  {
   "cell_type": "markdown",
   "id": "ae648d5d",
   "metadata": {},
   "source": [
    "## Exploring Test Set"
   ]
  },
  {
   "cell_type": "code",
   "execution_count": null,
   "id": "e886c3a3",
   "metadata": {},
   "outputs": [],
   "source": []
  }
 ],
 "metadata": {
  "kernelspec": {
   "display_name": "Python 3",
   "language": "python",
   "name": "python3"
  },
  "language_info": {
   "codemirror_mode": {
    "name": "ipython",
    "version": 3
   },
   "file_extension": ".py",
   "mimetype": "text/x-python",
   "name": "python",
   "nbconvert_exporter": "python",
   "pygments_lexer": "ipython3",
   "version": "3.9.9"
  }
 },
 "nbformat": 4,
 "nbformat_minor": 5
}
